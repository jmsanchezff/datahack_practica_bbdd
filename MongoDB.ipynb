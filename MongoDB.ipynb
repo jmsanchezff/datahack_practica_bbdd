{
 "cells": [
  {
   "cell_type": "markdown",
   "metadata": {},
   "source": [
    "# Base de datos MongoDB"
   ]
  },
  {
   "cell_type": "markdown",
   "metadata": {},
   "source": [
    "## Lectura de datos y desnormalizacion"
   ]
  },
  {
   "cell_type": "code",
   "execution_count": 1,
   "metadata": {
    "collapsed": false
   },
   "outputs": [],
   "source": [
    "import pandas as pd\n",
    "\n",
    "df_dificultades = pd.read_csv(\"./data/dificultades.csv\",encoding='utf-8');\n",
    "df_encadenamientos = pd.read_csv(\"./data/tipos_encadenamiento.csv\", encoding='utf-8');\n",
    "df_escaladores = pd.read_csv(\"./data/escaladores_lite_2017.csv\", encoding='utf-8');\n",
    "df_ascensos = pd.read_csv(\"./data/ascensos_lite_2017.csv\", encoding='utf-8');\n",
    "\n",
    "# 'merge' del tipo de encadenamiento en el data frame de ascensos\n",
    "df_ascensos = pd.merge(df_ascensos, df_encadenamientos, on = ['id_tipo_encadenamiento'], how = 'inner')\n",
    "df_ascensos = df_ascensos[['id_escalador','id_dificultad', 'tipo_encadenamiento', 'nombre_via', 'risco', 'sector', 'pais']];\n",
    "\n",
    "#df_ascensos = pd.merge(df_ascensos,df_escaladores, on = ['id_escalador'], how = 'inner');\n",
    "#df_ascensos = pd.merge(df_ascensos.df_dificultades, on = ['id_dificultad'], how = 'inner');\n",
    "#\n",
    "## Renombrar campos por claridad (el merge auto-asigna nombres a campos repetidos)\n",
    "#df_ascensos = df_ascensos.rename(\n",
    "#    columns={\n",
    "#        'nombre': 'nombre_escalador',\n",
    "#        'ciudad':'ciudad_escalador',\n",
    "#        'pais_y': 'pais_escalador',\n",
    "#        'comienzo': 'anio_comienzo',\n",
    "#        'pais_x': 'pais_risco'});\n",
    "#\n",
    "## Filtro las columnas de ascensos dejando solo aquellas que me interesan\n",
    "#columnas = ['id_escalador','nombre_escalador','pais_escalador',\n",
    "#            'id_dificultad', 'grado_frances', 'tipo_encadenamiento',\n",
    "#            'nombre_via', 'risco', 'pais_risco']\n",
    "#\n",
    "#df_ascensos = df_ascensos[columnas]"
   ]
  },
  {
   "cell_type": "markdown",
   "metadata": {},
   "source": [
    "## Conexión a Mongo"
   ]
  },
  {
   "cell_type": "code",
   "execution_count": 2,
   "metadata": {
    "collapsed": false
   },
   "outputs": [],
   "source": [
    "import pymongo\n",
    "from pymongo import MongoClient\n",
    "\n",
    "from pymongo import MongoClient\n",
    "client = MongoClient('localhost', 27017)\n",
    "\n",
    "client.drop_database(\"practica_8anu\")\n",
    "\n",
    "db = client.practica_8anu"
   ]
  },
  {
   "cell_type": "markdown",
   "metadata": {},
   "source": [
    "## Creacion de collecciones MongoDB"
   ]
  },
  {
   "cell_type": "markdown",
   "metadata": {},
   "source": [
    "Las preguntas planteadas van en dos direcciones:\n",
    "- Dados los escaladores, preguntas sobre sus ascensos.\n",
    "- Preguntas sobre los ascensos en si mismos.\n",
    "\n",
    "MongoDB no ofrece la posibilidad de hacer Joins de collecciones. Para resolver esas dos direcciones, me viene bien plantear dos colecciones con la siguiente información:\n",
    "\n",
    "** TO-DO **"
   ]
  },
  {
   "cell_type": "code",
   "execution_count": 3,
   "metadata": {
    "collapsed": false
   },
   "outputs": [
    {
     "data": {
      "text/html": [
       "<div>\n",
       "<style>\n",
       "    .dataframe thead tr:only-child th {\n",
       "        text-align: right;\n",
       "    }\n",
       "\n",
       "    .dataframe thead th {\n",
       "        text-align: left;\n",
       "    }\n",
       "\n",
       "    .dataframe tbody tr th {\n",
       "        vertical-align: top;\n",
       "    }\n",
       "</style>\n",
       "<table border=\"1\" class=\"dataframe\">\n",
       "  <thead>\n",
       "    <tr style=\"text-align: right;\">\n",
       "      <th></th>\n",
       "      <th>id_escalador</th>\n",
       "      <th>nombre</th>\n",
       "      <th>sexo</th>\n",
       "      <th>fecha_nacimiento</th>\n",
       "      <th>ciudad</th>\n",
       "      <th>pais</th>\n",
       "      <th>comienzo</th>\n",
       "    </tr>\n",
       "  </thead>\n",
       "  <tbody>\n",
       "    <tr>\n",
       "      <th>0</th>\n",
       "      <td>5</td>\n",
       "      <td>Joe McLoughlin</td>\n",
       "      <td>Hombre</td>\n",
       "      <td>1969-05-07</td>\n",
       "      <td>North Attleboro</td>\n",
       "      <td>USA</td>\n",
       "      <td>1991</td>\n",
       "    </tr>\n",
       "    <tr>\n",
       "      <th>1</th>\n",
       "      <td>10</td>\n",
       "      <td>Jens Larssen</td>\n",
       "      <td>Hombre</td>\n",
       "      <td>1965-06-22</td>\n",
       "      <td>Göteborg</td>\n",
       "      <td>SWE</td>\n",
       "      <td>1992</td>\n",
       "    </tr>\n",
       "    <tr>\n",
       "      <th>2</th>\n",
       "      <td>28</td>\n",
       "      <td>Knut Rokne</td>\n",
       "      <td>Hombre</td>\n",
       "      <td>1972-03-27</td>\n",
       "      <td>Calgary</td>\n",
       "      <td>CAN</td>\n",
       "      <td>1988</td>\n",
       "    </tr>\n",
       "    <tr>\n",
       "      <th>3</th>\n",
       "      <td>35</td>\n",
       "      <td>Jason Kester</td>\n",
       "      <td>Hombre</td>\n",
       "      <td>1971-08-12</td>\n",
       "      <td>portland</td>\n",
       "      <td>USA</td>\n",
       "      <td>1992</td>\n",
       "    </tr>\n",
       "    <tr>\n",
       "      <th>4</th>\n",
       "      <td>38</td>\n",
       "      <td>Alan Cassidy</td>\n",
       "      <td>Hombre</td>\n",
       "      <td>1982-12-10</td>\n",
       "      <td>Glasgow</td>\n",
       "      <td>GBR</td>\n",
       "      <td>1993</td>\n",
       "    </tr>\n",
       "  </tbody>\n",
       "</table>\n",
       "</div>"
      ],
      "text/plain": [
       "   id_escalador          nombre    sexo fecha_nacimiento           ciudad  \\\n",
       "0             5  Joe McLoughlin  Hombre       1969-05-07  North Attleboro   \n",
       "1            10    Jens Larssen  Hombre       1965-06-22         Göteborg   \n",
       "2            28      Knut Rokne  Hombre       1972-03-27          Calgary   \n",
       "3            35    Jason Kester  Hombre       1971-08-12         portland   \n",
       "4            38    Alan Cassidy  Hombre       1982-12-10          Glasgow   \n",
       "\n",
       "  pais  comienzo  \n",
       "0  USA      1991  \n",
       "1  SWE      1992  \n",
       "2  CAN      1988  \n",
       "3  USA      1992  \n",
       "4  GBR      1993  "
      ]
     },
     "execution_count": 3,
     "metadata": {},
     "output_type": "execute_result"
    }
   ],
   "source": [
    "df_escaladores.head()"
   ]
  },
  {
   "cell_type": "code",
   "execution_count": 4,
   "metadata": {
    "collapsed": false
   },
   "outputs": [],
   "source": [
    "import json\n",
    "\n",
    "def inserta_escalador(escalador_json):\n",
    "    escalador_json['_id']=escalador_json['id_escalador']\n",
    "    del escalador_json['id_escalador']\n",
    "    db.escaladores.insert_one(escalador_json)\n",
    "\n",
    "    \n",
    "json_string = df_escaladores.to_json(orient = 'records')\n",
    "lista_json = json.loads(json_string)\n",
    "\n",
    "# añade los escaladores a la colección    \n",
    "for escalador_json in lista_json :\n",
    "    inserta_escalador(escalador_json)"
   ]
  },
  {
   "cell_type": "code",
   "execution_count": 5,
   "metadata": {
    "collapsed": false
   },
   "outputs": [
    {
     "data": {
      "text/html": [
       "<div>\n",
       "<style>\n",
       "    .dataframe thead tr:only-child th {\n",
       "        text-align: right;\n",
       "    }\n",
       "\n",
       "    .dataframe thead th {\n",
       "        text-align: left;\n",
       "    }\n",
       "\n",
       "    .dataframe tbody tr th {\n",
       "        vertical-align: top;\n",
       "    }\n",
       "</style>\n",
       "<table border=\"1\" class=\"dataframe\">\n",
       "  <thead>\n",
       "    <tr style=\"text-align: right;\">\n",
       "      <th></th>\n",
       "      <th>id_escalador</th>\n",
       "      <th>id_dificultad</th>\n",
       "      <th>tipo_encadenamiento</th>\n",
       "      <th>nombre_via</th>\n",
       "      <th>risco</th>\n",
       "      <th>sector</th>\n",
       "      <th>pais</th>\n",
       "    </tr>\n",
       "  </thead>\n",
       "  <tbody>\n",
       "    <tr>\n",
       "      <th>0</th>\n",
       "      <td>21208</td>\n",
       "      <td>33</td>\n",
       "      <td>Onsight</td>\n",
       "      <td>B52</td>\n",
       "      <td>GöSSLERWAND</td>\n",
       "      <td>ZIG ZAG</td>\n",
       "      <td>AUT</td>\n",
       "    </tr>\n",
       "    <tr>\n",
       "      <th>1</th>\n",
       "      <td>58382</td>\n",
       "      <td>25</td>\n",
       "      <td>Onsight</td>\n",
       "      <td>EL CANTO DE LA HORMIGA</td>\n",
       "      <td>MALLORCA</td>\n",
       "      <td>CALA LLAMP</td>\n",
       "      <td>ESP</td>\n",
       "    </tr>\n",
       "  </tbody>\n",
       "</table>\n",
       "</div>"
      ],
      "text/plain": [
       "   id_escalador  id_dificultad tipo_encadenamiento              nombre_via  \\\n",
       "0         21208             33             Onsight                     B52   \n",
       "1         58382             25             Onsight  EL CANTO DE LA HORMIGA   \n",
       "\n",
       "         risco      sector pais  \n",
       "0  GöSSLERWAND     ZIG ZAG  AUT  \n",
       "1     MALLORCA  CALA LLAMP  ESP  "
      ]
     },
     "execution_count": 5,
     "metadata": {},
     "output_type": "execute_result"
    }
   ],
   "source": [
    "df_ascensos.head(2)"
   ]
  },
  {
   "cell_type": "code",
   "execution_count": 6,
   "metadata": {
    "collapsed": false
   },
   "outputs": [],
   "source": [
    "\n",
    "def inserta_ascenso(ascenso_json):\n",
    "    #registramos el ascenso en la collección de la bb.dd.\n",
    "    insert_result = db.ascensos.insert_one(ascenso_json)\n",
    "    \n",
    "    #suma uno al contador de ascensos del escalador y actualiza su coleccion de ascensos \n",
    "    db.escaladores.find_and_modify(query = {\"_id\" : ascenso_json['id_escalador']},\n",
    "                                   update ={ \"$inc\": { \"numero_ascensos\": 1 },\n",
    "                                             \"$push\": {'ascensos' : insert_result.inserted_id}\n",
    "                                           })\n",
    "    \n",
    "\n",
    "\n",
    "json_string = df_ascensos.to_json(orient = 'records')\n",
    "lista_json = json.loads(json_string)\n",
    "\n",
    "# añade los escaladores a la colección    \n",
    "for ascenso_json in lista_json :\n",
    "    inserta_ascenso(ascenso_json)"
   ]
  },
  {
   "cell_type": "code",
   "execution_count": null,
   "metadata": {
    "collapsed": true
   },
   "outputs": [],
   "source": []
  },
  {
   "cell_type": "markdown",
   "metadata": {},
   "source": [
    "## Respuestas a las preguntas\n",
    "\n",
    "### 1.a) Los 10 escaladores (hombres) más activos (orden auxiliar por Id)"
   ]
  },
  {
   "cell_type": "code",
   "execution_count": 7,
   "metadata": {
    "collapsed": false
   },
   "outputs": [
    {
     "data": {
      "text/html": [
       "<div>\n",
       "<style>\n",
       "    .dataframe thead tr:only-child th {\n",
       "        text-align: right;\n",
       "    }\n",
       "\n",
       "    .dataframe thead th {\n",
       "        text-align: left;\n",
       "    }\n",
       "\n",
       "    .dataframe tbody tr th {\n",
       "        vertical-align: top;\n",
       "    }\n",
       "</style>\n",
       "<table border=\"1\" class=\"dataframe\">\n",
       "  <thead>\n",
       "    <tr style=\"text-align: right;\">\n",
       "      <th></th>\n",
       "      <th>_id</th>\n",
       "      <th>nombre</th>\n",
       "      <th>numero_ascensos</th>\n",
       "      <th>pais</th>\n",
       "      <th>sexo</th>\n",
       "    </tr>\n",
       "  </thead>\n",
       "  <tbody>\n",
       "    <tr>\n",
       "      <th>0</th>\n",
       "      <td>50884</td>\n",
       "      <td>Christopher Leonetti</td>\n",
       "      <td>47</td>\n",
       "      <td>USA</td>\n",
       "      <td>Hombre</td>\n",
       "    </tr>\n",
       "    <tr>\n",
       "      <th>1</th>\n",
       "      <td>20095</td>\n",
       "      <td>Matthias Schuster</td>\n",
       "      <td>34</td>\n",
       "      <td>DEU</td>\n",
       "      <td>Hombre</td>\n",
       "    </tr>\n",
       "    <tr>\n",
       "      <th>2</th>\n",
       "      <td>66250</td>\n",
       "      <td>Kuba Kaminski</td>\n",
       "      <td>33</td>\n",
       "      <td>POL</td>\n",
       "      <td>Hombre</td>\n",
       "    </tr>\n",
       "    <tr>\n",
       "      <th>3</th>\n",
       "      <td>44646</td>\n",
       "      <td>Mateusz Mikosik</td>\n",
       "      <td>25</td>\n",
       "      <td>POL</td>\n",
       "      <td>Hombre</td>\n",
       "    </tr>\n",
       "    <tr>\n",
       "      <th>4</th>\n",
       "      <td>20384</td>\n",
       "      <td>Clemens Kurth</td>\n",
       "      <td>23</td>\n",
       "      <td>DEU</td>\n",
       "      <td>Hombre</td>\n",
       "    </tr>\n",
       "    <tr>\n",
       "      <th>5</th>\n",
       "      <td>9171</td>\n",
       "      <td>Laurenz Trawnicek</td>\n",
       "      <td>22</td>\n",
       "      <td>AUT</td>\n",
       "      <td>Hombre</td>\n",
       "    </tr>\n",
       "    <tr>\n",
       "      <th>6</th>\n",
       "      <td>46622</td>\n",
       "      <td>Raúl Crespo</td>\n",
       "      <td>20</td>\n",
       "      <td>ESP</td>\n",
       "      <td>Hombre</td>\n",
       "    </tr>\n",
       "    <tr>\n",
       "      <th>7</th>\n",
       "      <td>23550</td>\n",
       "      <td>Moritz Perwitzschky</td>\n",
       "      <td>20</td>\n",
       "      <td>DEU</td>\n",
       "      <td>Hombre</td>\n",
       "    </tr>\n",
       "    <tr>\n",
       "      <th>8</th>\n",
       "      <td>42086</td>\n",
       "      <td>Marcin Opozda</td>\n",
       "      <td>18</td>\n",
       "      <td>POL</td>\n",
       "      <td>Hombre</td>\n",
       "    </tr>\n",
       "    <tr>\n",
       "      <th>9</th>\n",
       "      <td>45854</td>\n",
       "      <td>Andrea Roasio</td>\n",
       "      <td>17</td>\n",
       "      <td>ITA</td>\n",
       "      <td>Hombre</td>\n",
       "    </tr>\n",
       "  </tbody>\n",
       "</table>\n",
       "</div>"
      ],
      "text/plain": [
       "     _id                nombre  numero_ascensos pais    sexo\n",
       "0  50884  Christopher Leonetti               47  USA  Hombre\n",
       "1  20095     Matthias Schuster               34  DEU  Hombre\n",
       "2  66250         Kuba Kaminski               33  POL  Hombre\n",
       "3  44646       Mateusz Mikosik               25  POL  Hombre\n",
       "4  20384         Clemens Kurth               23  DEU  Hombre\n",
       "5   9171     Laurenz Trawnicek               22  AUT  Hombre\n",
       "6  46622           Raúl Crespo               20  ESP  Hombre\n",
       "7  23550   Moritz Perwitzschky               20  DEU  Hombre\n",
       "8  42086         Marcin Opozda               18  POL  Hombre\n",
       "9  45854         Andrea Roasio               17  ITA  Hombre"
      ]
     },
     "execution_count": 7,
     "metadata": {},
     "output_type": "execute_result"
    }
   ],
   "source": [
    "result = db.escaladores.find(\n",
    "    { \"sexo\" : \"Hombre\" },\n",
    "    {\n",
    "    \"_id\": 1,\n",
    "    \"nombre\": 1,\n",
    "    \"sexo\": 1,\n",
    "    \"pais\": 1,\n",
    "    \"numero_ascensos\": 1}).limit(10).sort([(\"numero_ascensos\", -1), (\"_id\", -1)])\n",
    "\n",
    "pd.DataFrame(list(result))"
   ]
  },
  {
   "cell_type": "markdown",
   "metadata": {},
   "source": [
    "### 1.b) Los 10 escaladoras (mujeres) más activas (orden auxiliar por Id)"
   ]
  },
  {
   "cell_type": "code",
   "execution_count": 8,
   "metadata": {
    "collapsed": false
   },
   "outputs": [
    {
     "data": {
      "text/html": [
       "<div>\n",
       "<style>\n",
       "    .dataframe thead tr:only-child th {\n",
       "        text-align: right;\n",
       "    }\n",
       "\n",
       "    .dataframe thead th {\n",
       "        text-align: left;\n",
       "    }\n",
       "\n",
       "    .dataframe tbody tr th {\n",
       "        vertical-align: top;\n",
       "    }\n",
       "</style>\n",
       "<table border=\"1\" class=\"dataframe\">\n",
       "  <thead>\n",
       "    <tr style=\"text-align: right;\">\n",
       "      <th></th>\n",
       "      <th>_id</th>\n",
       "      <th>nombre</th>\n",
       "      <th>numero_ascensos</th>\n",
       "      <th>pais</th>\n",
       "      <th>sexo</th>\n",
       "    </tr>\n",
       "  </thead>\n",
       "  <tbody>\n",
       "    <tr>\n",
       "      <th>0</th>\n",
       "      <td>62807</td>\n",
       "      <td>Claudia Solis</td>\n",
       "      <td>16</td>\n",
       "      <td>MEX</td>\n",
       "      <td>Mujer</td>\n",
       "    </tr>\n",
       "    <tr>\n",
       "      <th>1</th>\n",
       "      <td>65502</td>\n",
       "      <td>Ksenia Targosz</td>\n",
       "      <td>15</td>\n",
       "      <td>POL</td>\n",
       "      <td>Mujer</td>\n",
       "    </tr>\n",
       "    <tr>\n",
       "      <th>2</th>\n",
       "      <td>53983</td>\n",
       "      <td>Daniela Bärtschi</td>\n",
       "      <td>15</td>\n",
       "      <td>CHE</td>\n",
       "      <td>Mujer</td>\n",
       "    </tr>\n",
       "    <tr>\n",
       "      <th>3</th>\n",
       "      <td>60268</td>\n",
       "      <td>Annemarie Van den Berg</td>\n",
       "      <td>12</td>\n",
       "      <td>NLD</td>\n",
       "      <td>Mujer</td>\n",
       "    </tr>\n",
       "    <tr>\n",
       "      <th>4</th>\n",
       "      <td>44050</td>\n",
       "      <td>Betka Galicic</td>\n",
       "      <td>11</td>\n",
       "      <td>SVN</td>\n",
       "      <td>Mujer</td>\n",
       "    </tr>\n",
       "    <tr>\n",
       "      <th>5</th>\n",
       "      <td>61473</td>\n",
       "      <td>Patricia Schanne</td>\n",
       "      <td>10</td>\n",
       "      <td>CHE</td>\n",
       "      <td>Mujer</td>\n",
       "    </tr>\n",
       "    <tr>\n",
       "      <th>6</th>\n",
       "      <td>54695</td>\n",
       "      <td>Elfi Hasler</td>\n",
       "      <td>10</td>\n",
       "      <td>AUT</td>\n",
       "      <td>Mujer</td>\n",
       "    </tr>\n",
       "    <tr>\n",
       "      <th>7</th>\n",
       "      <td>48798</td>\n",
       "      <td>Ba Lu</td>\n",
       "      <td>10</td>\n",
       "      <td>POL</td>\n",
       "      <td>Mujer</td>\n",
       "    </tr>\n",
       "    <tr>\n",
       "      <th>8</th>\n",
       "      <td>41419</td>\n",
       "      <td>Kasia Latuszek</td>\n",
       "      <td>10</td>\n",
       "      <td>POL</td>\n",
       "      <td>Mujer</td>\n",
       "    </tr>\n",
       "    <tr>\n",
       "      <th>9</th>\n",
       "      <td>37559</td>\n",
       "      <td>Magdalena Trzemzalska</td>\n",
       "      <td>10</td>\n",
       "      <td>POL</td>\n",
       "      <td>Mujer</td>\n",
       "    </tr>\n",
       "  </tbody>\n",
       "</table>\n",
       "</div>"
      ],
      "text/plain": [
       "     _id                  nombre  numero_ascensos pais   sexo\n",
       "0  62807           Claudia Solis               16  MEX  Mujer\n",
       "1  65502          Ksenia Targosz               15  POL  Mujer\n",
       "2  53983        Daniela Bärtschi               15  CHE  Mujer\n",
       "3  60268  Annemarie Van den Berg               12  NLD  Mujer\n",
       "4  44050           Betka Galicic               11  SVN  Mujer\n",
       "5  61473        Patricia Schanne               10  CHE  Mujer\n",
       "6  54695             Elfi Hasler               10  AUT  Mujer\n",
       "7  48798                   Ba Lu               10  POL  Mujer\n",
       "8  41419          Kasia Latuszek               10  POL  Mujer\n",
       "9  37559   Magdalena Trzemzalska               10  POL  Mujer"
      ]
     },
     "execution_count": 8,
     "metadata": {},
     "output_type": "execute_result"
    }
   ],
   "source": [
    "result = db.escaladores.find(\n",
    "    { \"sexo\" : \"Mujer\" },\n",
    "    {\n",
    "    \"_id\": 1,\n",
    "    \"nombre\": 1,\n",
    "    \"sexo\": 1,\n",
    "    \"pais\": 1,\n",
    "    \"numero_ascensos\": 1}).sort([(\"numero_ascensos\", -1), (\"_id\", -1)]).limit(10)\n",
    "\n",
    "pd.DataFrame(list(result))"
   ]
  },
  {
   "cell_type": "markdown",
   "metadata": {},
   "source": [
    "### 2. Lista de los 10 ascensos \"On sight\" de la escaladora más activa en orden decreciente de dificultad (y por nombre de via ascendete)"
   ]
  },
  {
   "cell_type": "markdown",
   "metadata": {},
   "source": [
    "### 3. Dificultad media de los ascensos del escalador más activo"
   ]
  },
  {
   "cell_type": "markdown",
   "metadata": {},
   "source": [
    "### 4.a) Los 10 ascensos mas dificiles"
   ]
  },
  {
   "cell_type": "markdown",
   "metadata": {},
   "source": [
    "### 4.b) Los 10 ascensos mas dificiles a vista (On sight)"
   ]
  },
  {
   "cell_type": "markdown",
   "metadata": {},
   "source": [
    "### 5.a) Grado medio y maximo de los ascensos en España de los 10 escaladores NO ESPAÑOLES con mas ascensos en España"
   ]
  },
  {
   "cell_type": "markdown",
   "metadata": {},
   "source": [
    "### 5.b) Grado medio y maximo de los ascensos en España de los 10 escaladores ESPAÑOLES con mas ascensos en España"
   ]
  },
  {
   "cell_type": "markdown",
   "metadata": {},
   "source": [
    "### 6.a) Dificultad media y maxima de los ascensos NO \"Top Rope\" de los escaladores con menos de 3 años de experiencia"
   ]
  },
  {
   "cell_type": "markdown",
   "metadata": {},
   "source": [
    "### 6.b) Dificultad media y maxima de los ascensos NO \"Top Rope\" de los escaladores con entre 10 y 30 años de experiencia"
   ]
  },
  {
   "cell_type": "markdown",
   "metadata": {},
   "source": [
    "### 7. Los 10 riscos españoles (o zonas) con mas ascensos por orden decreciente de numero de ascensos"
   ]
  },
  {
   "cell_type": "markdown",
   "metadata": {},
   "source": [
    "### 8.a) Los 10 sectores españoles con mayor nivel de difcultad media de ascensos ordenadas por orden decreciente de dificultad y por numero de ascensos decreciente"
   ]
  },
  {
   "cell_type": "markdown",
   "metadata": {},
   "source": [
    "### 8.b) Las 10 sectores españoles con menor nivel de dificultad medio de ascensos ordenadas por orden creciente de dificultad y por numero de ascensos decreciente"
   ]
  },
  {
   "cell_type": "code",
   "execution_count": null,
   "metadata": {
    "collapsed": true
   },
   "outputs": [],
   "source": []
  }
 ],
 "metadata": {
  "kernelspec": {
   "display_name": "Python 2",
   "language": "python",
   "name": "python2"
  },
  "language_info": {
   "codemirror_mode": {
    "name": "ipython",
    "version": 2
   },
   "file_extension": ".py",
   "mimetype": "text/x-python",
   "name": "python",
   "nbconvert_exporter": "python",
   "pygments_lexer": "ipython2",
   "version": "2.7.6"
  }
 },
 "nbformat": 4,
 "nbformat_minor": 0
}
