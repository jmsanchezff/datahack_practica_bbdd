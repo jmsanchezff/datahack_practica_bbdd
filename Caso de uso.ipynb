{
 "cells": [
  {
   "cell_type": "markdown",
   "metadata": {},
   "source": [
    "# Origen de datos\n",
    "\n",
    "El origen de los datos es un proyecto de Kaggle. Una descripción se puede encontrar aquí:\n",
    "\n",
    "https://www.kaggle.com/dcohen21/8anu-climbing-logbook\n",
    "\n",
    "En este caso **se trata de una base de datos sqlite3** comprimida en zip. Contiene la información obtenida mediante webscraping del sitio www.8a.nu\n",
    "\n",
    "Este sítio basicamente es un portal de escaladores en el que los usuarios pueden logarse e ir subiendo sus ascensos para compartir con otros su progresión y experiencias sobres las vías que escala.\n",
    "\n",
    "En este notebook voy a realizar dos tareas principalmente:\n",
    "\n",
    "- Explorar la base de datos para ver que información (tablas) proporciona.\n",
    "- Generar ficheros CSV y un excel \"limpios\" con la información necesaria para el modelo planteado.\n",
    "- Plantear las preguntas que voy a querer resolver en la práctica.\n",
    "- Filtrar los ascensos a estudiar limitandonos a los que se han producido en el año 2017\n",
    "\n",
    "***NOTA IMPORTANTE***:\n",
    "\n",
    "**Para la correcta ejecución del codigo de este notebook, el zip de la base de datos de Kaggle debe estar en la ruta:**\n",
    "\n",
    "**./data/8anu-climbing-logbook.zip**\n",
    "\n",
    "\n",
    "# Modelo conceptual\n",
    "\n",
    "Las entidades del modelo buscado son:\n",
    "\n",
    "![Modelo conceptual](./img/ModeloConceptual.PNG)\n",
    "\n",
    "\n",
    "# Modelo de relación\n",
    "\n",
    "Las entidades se relacionan de la siguiente manera\n",
    "\n",
    "![Modelo de relación](./img/ModeloRelacional.PNG)\n",
    "\n",
    "\n",
    "# Preguntas a responder en la práctica\n",
    "\n",
    "### 1.a) Los 10 escaladores (hombres) más activos.\n",
    "\n",
    "### 1.b) Los 10 escaladoras (mujeres) más activas.\n",
    "\n",
    "### 2. Lista de los 10 ascensos \"On sight\" de la escaladora más activa en orden decreciente de dificultad\n",
    "\n",
    "### 3. Dificultad media de los ascensos del escalador más activo\n",
    "\n",
    "### 4.a) Los 10 ascensos mas dificiles\n",
    "\n",
    "### 4.b) Los 10 ascensos mas dificiles a vista (On sight)\n",
    "\n",
    "### 5.a) Grado medio y maximo de los ascensos en España de los 10 escaladores NO ESPAÑOLES con mas ascensos en España\n",
    "\n",
    "### 5.b) Grado medio y maximo de los ascensos en España de los 10 escaladores ESPAÑOLES con mas ascensos en España\n",
    "\n",
    "### 6.a) Dificultad media y maxima de los ascensos NO \"Top Rope\" de los escaladores con menos de 3 años de experiencia\n",
    "\n",
    "### 6.b) Dificultad media y maxima de los ascensos NO \"Top Rope\" de los escaladores con entre 10 y 30 años de experiencia\n",
    "\n",
    "### 7. Los 10 riscos españoles (o zonas) con mas ascensos por orden decreciente de numero de ascensos\n",
    "\n",
    "### 8.a) Los 10 sectores españoles con mayor nivel de difcultad media de ascensos ordenadas por orden decreciente de dificultad y por numero de ascensos decreciente\n",
    "\n",
    "### 8.b) Las 10 sectores españoles con menor nivel de dificultad medio de ascensos ordenadas por orden creciente de dificultad y por numero de ascensos decreciente\n",
    "\n",
    "\n",
    "# Obtencion y limpieza de la información\n",
    "\n",
    "Para explorar la información que contiene esa base de datos obtenida por webscraping sigo los siguientes pasos:\n",
    "\n",
    "## Descompresión de la base de datos y conexión"
   ]
  },
  {
   "cell_type": "code",
   "execution_count": 1,
   "metadata": {
    "collapsed": false
   },
   "outputs": [
    {
     "name": "stdout",
     "output_type": "stream",
     "text": [
      "Base de datos descomprimida!\n"
     ]
    }
   ],
   "source": [
    "import io\n",
    "import os\n",
    "import zipfile\n",
    "\n",
    "dataDirectory = './data/'\n",
    "zipFilePath = dataDirectory + \"8anu-climbing-logbook.zip\"\n",
    "sqliteDataBase = dataDirectory + \"database.sqlite\"\n",
    "\n",
    "if not os.path.exists(sqliteDataBase):\n",
    "    print (\"Descomprimiendo base de datos...\")\n",
    "    \n",
    "    with zipfile.ZipFile(zipFilePath, \"r\") as zipStream:\n",
    "        zipStream.extractall(dataDirectory)\n",
    "    \n",
    "print (\"Base de datos descomprimida!\")\n"
   ]
  },
  {
   "cell_type": "code",
   "execution_count": 2,
   "metadata": {
    "collapsed": true
   },
   "outputs": [],
   "source": [
    "import sqlite3\n",
    "import pandas as pd\n",
    "import numpy as np\n",
    "\n",
    "dbConnection = sqlite3.connect(dataDirectory + 'database.sqlite')\n"
   ]
  },
  {
   "cell_type": "markdown",
   "metadata": {},
   "source": [
    "## Identificación de tablas\n",
    "\n",
    "Para ello conectamos con la base de datos y lanzamos la query que me dice qué tablas hay definidas en la base de datos."
   ]
  },
  {
   "cell_type": "code",
   "execution_count": 3,
   "metadata": {
    "collapsed": false,
    "scrolled": true
   },
   "outputs": [
    {
     "data": {
      "text/html": [
       "<div>\n",
       "<style>\n",
       "    .dataframe thead tr:only-child th {\n",
       "        text-align: right;\n",
       "    }\n",
       "\n",
       "    .dataframe thead th {\n",
       "        text-align: left;\n",
       "    }\n",
       "\n",
       "    .dataframe tbody tr th {\n",
       "        vertical-align: top;\n",
       "    }\n",
       "</style>\n",
       "<table border=\"1\" class=\"dataframe\">\n",
       "  <thead>\n",
       "    <tr style=\"text-align: right;\">\n",
       "      <th></th>\n",
       "      <th>name</th>\n",
       "    </tr>\n",
       "  </thead>\n",
       "  <tbody>\n",
       "    <tr>\n",
       "      <th>0</th>\n",
       "      <td>ascent</td>\n",
       "    </tr>\n",
       "    <tr>\n",
       "      <th>1</th>\n",
       "      <td>grade</td>\n",
       "    </tr>\n",
       "    <tr>\n",
       "      <th>2</th>\n",
       "      <td>method</td>\n",
       "    </tr>\n",
       "    <tr>\n",
       "      <th>3</th>\n",
       "      <td>user</td>\n",
       "    </tr>\n",
       "  </tbody>\n",
       "</table>\n",
       "</div>"
      ],
      "text/plain": [
       "     name\n",
       "0  ascent\n",
       "1   grade\n",
       "2  method\n",
       "3    user"
      ]
     },
     "execution_count": 3,
     "metadata": {},
     "output_type": "execute_result"
    }
   ],
   "source": [
    "\n",
    "pd.read_sql_query('''\n",
    "SELECT name\n",
    "FROM sqlite_master\n",
    "WHERE type='table'\n",
    "ORDER BY name;\n",
    "''', dbConnection)\n",
    "\n",
    "\n"
   ]
  },
  {
   "cell_type": "markdown",
   "metadata": {},
   "source": [
    "La base de datos tiene cuatro tablas que, por el nombre y conociendo un poco el mundillo de la escalada, parece que van a contener la siguiente información:\n",
    "\n",
    "- **ascent**: Tabla de ascensos\n",
    "- **grade**: Tabla de grados de dificultad de los ascensos\n",
    "- **method**: Tabla de metodos de ascenso\n",
    "- **user**: Tabla de usuarios (escaladores)\n",
    "\n",
    "En los siguientes apartados voy a ir tabla a tabla limpiando y obteniendo los datos de la manera mas adecuada posible para respoder a las preguntas que he planteado."
   ]
  },
  {
   "cell_type": "markdown",
   "metadata": {},
   "source": [
    "\n",
    "##  Extraccion de datos de dificulades de los ascensos\n",
    "\n",
    "La tabla 'grades' es una tabla de dificultades o grados. El identificador de grado va en orden ascendente con la dificultad.\n"
   ]
  },
  {
   "cell_type": "code",
   "execution_count": 4,
   "metadata": {
    "collapsed": false
   },
   "outputs": [
    {
     "data": {
      "text/plain": [
       "['id',\n",
       " 'score',\n",
       " 'fra_routes',\n",
       " 'fra_routes_input',\n",
       " 'fra_routes_selector',\n",
       " 'fra_boulders',\n",
       " 'fra_boulders_input',\n",
       " 'fra_boulders_selector',\n",
       " 'usa_routes',\n",
       " 'usa_routes_input',\n",
       " 'usa_routes_selector',\n",
       " 'usa_boulders',\n",
       " 'usa_boulders_input',\n",
       " 'usa_boulders_selector']"
      ]
     },
     "execution_count": 4,
     "metadata": {},
     "output_type": "execute_result"
    }
   ],
   "source": [
    "df_dificultades = pd.read_sql_query(\n",
    "    '''\n",
    "    SELECT *\n",
    "    FROM grade\n",
    "    LIMIT 10\n",
    "    ''',\n",
    "    dbConnection);\n",
    "list(df_dificultades)"
   ]
  },
  {
   "cell_type": "markdown",
   "metadata": {},
   "source": [
    "Existen mas campos en esta tabla pero los rpincipales se refieren a las escalas de graduación mas aceptadas: \n",
    "\n",
    "- fra_routes: la escala francesa de graduacion de vias de escalada deportiva y clásica\n",
    "- usa_routes: la escala estadounidense de la graduación de vías de escalada deportiva y clásica\n",
    "- usa_boulders: la escala estadounidense de la graduación de escalada en bloque (otra disciplina de la escalada) \n",
    "\n",
    "De esta tabla extraeré los datos para construir una tabla de equivalencia de grados de dificultad:"
   ]
  },
  {
   "cell_type": "code",
   "execution_count": 5,
   "metadata": {
    "collapsed": false
   },
   "outputs": [
    {
     "data": {
      "text/html": [
       "<div>\n",
       "<style>\n",
       "    .dataframe thead tr:only-child th {\n",
       "        text-align: right;\n",
       "    }\n",
       "\n",
       "    .dataframe thead th {\n",
       "        text-align: left;\n",
       "    }\n",
       "\n",
       "    .dataframe tbody tr th {\n",
       "        vertical-align: top;\n",
       "    }\n",
       "</style>\n",
       "<table border=\"1\" class=\"dataframe\">\n",
       "  <thead>\n",
       "    <tr style=\"text-align: right;\">\n",
       "      <th></th>\n",
       "      <th>id_dificultad</th>\n",
       "      <th>grado_frances</th>\n",
       "      <th>grado_usa</th>\n",
       "      <th>grado_bloque_usa</th>\n",
       "    </tr>\n",
       "  </thead>\n",
       "  <tbody>\n",
       "    <tr>\n",
       "      <th>0</th>\n",
       "      <td>1</td>\n",
       "      <td>-</td>\n",
       "      <td>3/4</td>\n",
       "      <td>VB</td>\n",
       "    </tr>\n",
       "    <tr>\n",
       "      <th>1</th>\n",
       "      <td>2</td>\n",
       "      <td>1</td>\n",
       "      <td></td>\n",
       "      <td></td>\n",
       "    </tr>\n",
       "    <tr>\n",
       "      <th>2</th>\n",
       "      <td>3</td>\n",
       "      <td>1a</td>\n",
       "      <td></td>\n",
       "      <td></td>\n",
       "    </tr>\n",
       "    <tr>\n",
       "      <th>3</th>\n",
       "      <td>4</td>\n",
       "      <td>1b</td>\n",
       "      <td></td>\n",
       "      <td></td>\n",
       "    </tr>\n",
       "    <tr>\n",
       "      <th>4</th>\n",
       "      <td>5</td>\n",
       "      <td>1c</td>\n",
       "      <td></td>\n",
       "      <td></td>\n",
       "    </tr>\n",
       "    <tr>\n",
       "      <th>5</th>\n",
       "      <td>6</td>\n",
       "      <td>1+</td>\n",
       "      <td></td>\n",
       "      <td></td>\n",
       "    </tr>\n",
       "    <tr>\n",
       "      <th>6</th>\n",
       "      <td>7</td>\n",
       "      <td>2</td>\n",
       "      <td>5.1</td>\n",
       "      <td>VB</td>\n",
       "    </tr>\n",
       "    <tr>\n",
       "      <th>7</th>\n",
       "      <td>8</td>\n",
       "      <td>2a</td>\n",
       "      <td></td>\n",
       "      <td></td>\n",
       "    </tr>\n",
       "    <tr>\n",
       "      <th>8</th>\n",
       "      <td>9</td>\n",
       "      <td>2b</td>\n",
       "      <td></td>\n",
       "      <td></td>\n",
       "    </tr>\n",
       "    <tr>\n",
       "      <th>9</th>\n",
       "      <td>10</td>\n",
       "      <td>2c</td>\n",
       "      <td></td>\n",
       "      <td></td>\n",
       "    </tr>\n",
       "  </tbody>\n",
       "</table>\n",
       "</div>"
      ],
      "text/plain": [
       "   id_dificultad grado_frances grado_usa grado_bloque_usa\n",
       "0              1             -       3/4               VB\n",
       "1              2             1                           \n",
       "2              3            1a                           \n",
       "3              4            1b                           \n",
       "4              5            1c                           \n",
       "5              6            1+                           \n",
       "6              7             2       5.1               VB\n",
       "7              8            2a                           \n",
       "8              9            2b                           \n",
       "9             10            2c                           "
      ]
     },
     "execution_count": 5,
     "metadata": {},
     "output_type": "execute_result"
    }
   ],
   "source": [
    "df_dificultades = pd.read_sql_query(\n",
    "    '''\n",
    "    SELECT id as id_dificultad,\n",
    "           fra_routes as \"grado_frances\",\n",
    "           usa_routes as \"grado_usa\",\n",
    "           usa_boulders as \"grado_bloque_usa\"\n",
    "    FROM grade\n",
    "    ''',\n",
    "    dbConnection);\n",
    "df_dificultades.head(10)"
   ]
  },
  {
   "cell_type": "markdown",
   "metadata": {},
   "source": [
    "Vamos a comprobar que existen todos los identificadores desde el 1 hasta la longitud del data frame. Esto nos facilitará hacer calculos de grados medios, etc..."
   ]
  },
  {
   "cell_type": "code",
   "execution_count": 6,
   "metadata": {
    "collapsed": false
   },
   "outputs": [
    {
     "name": "stdout",
     "output_type": "stream",
     "text": [
      "('Identificadores de grados desaparecidos: ', [48, 61, 74])\n"
     ]
    }
   ],
   "source": [
    "id_grados_tabulados = df_dificultades['id_dificultad'].unique()\n",
    "id_grados_esperados = range(1,max(df_dificultades['id_dificultad']+1))\n",
    "id_grados_perdidos = list(set(id_grados_esperados)^set(id_grados_tabulados));\n",
    "print('Identificadores de grados desaparecidos: ',id_grados_perdidos)"
   ]
  },
  {
   "cell_type": "markdown",
   "metadata": {},
   "source": [
    "Faltan estos 3 identificadores de dificultad. Como voy a hacer promedios de dificultad y redondeos en base a ese identificador, me interesa que estos registros existan. Esto es debido a que si un promedio cae sobre ellos, no podría dar un grado asociado. Por ello, voy a introducirlos con valores vacíos excepto el identificador."
   ]
  },
  {
   "cell_type": "code",
   "execution_count": 7,
   "metadata": {
    "collapsed": false
   },
   "outputs": [],
   "source": [
    "for id_perdido in id_grados_perdidos :\n",
    "    df=pd.DataFrame([[id_perdido, '', '', '']], columns=list(df_dificultades));\n",
    "    df_dificultades = df_dificultades.append(df, ignore_index=True);\n"
   ]
  },
  {
   "cell_type": "code",
   "execution_count": 8,
   "metadata": {
    "collapsed": false
   },
   "outputs": [
    {
     "data": {
      "text/html": [
       "<div>\n",
       "<style>\n",
       "    .dataframe thead tr:only-child th {\n",
       "        text-align: right;\n",
       "    }\n",
       "\n",
       "    .dataframe thead th {\n",
       "        text-align: left;\n",
       "    }\n",
       "\n",
       "    .dataframe tbody tr th {\n",
       "        vertical-align: top;\n",
       "    }\n",
       "</style>\n",
       "<table border=\"1\" class=\"dataframe\">\n",
       "  <thead>\n",
       "    <tr style=\"text-align: right;\">\n",
       "      <th></th>\n",
       "      <th>id_dificultad</th>\n",
       "      <th>grado_frances</th>\n",
       "      <th>grado_usa</th>\n",
       "      <th>grado_bloque_usa</th>\n",
       "    </tr>\n",
       "  </thead>\n",
       "  <tbody>\n",
       "    <tr>\n",
       "      <th>81</th>\n",
       "      <td>82</td>\n",
       "      <td>9b+/9c</td>\n",
       "      <td></td>\n",
       "      <td></td>\n",
       "    </tr>\n",
       "    <tr>\n",
       "      <th>82</th>\n",
       "      <td>83</td>\n",
       "      <td>9c</td>\n",
       "      <td></td>\n",
       "      <td></td>\n",
       "    </tr>\n",
       "    <tr>\n",
       "      <th>83</th>\n",
       "      <td>84</td>\n",
       "      <td>9c/+</td>\n",
       "      <td></td>\n",
       "      <td></td>\n",
       "    </tr>\n",
       "    <tr>\n",
       "      <th>84</th>\n",
       "      <td>85</td>\n",
       "      <td>9c+</td>\n",
       "      <td></td>\n",
       "      <td></td>\n",
       "    </tr>\n",
       "    <tr>\n",
       "      <th>85</th>\n",
       "      <td>86</td>\n",
       "      <td>9c+/10a</td>\n",
       "      <td></td>\n",
       "      <td></td>\n",
       "    </tr>\n",
       "  </tbody>\n",
       "</table>\n",
       "</div>"
      ],
      "text/plain": [
       "    id_dificultad grado_frances grado_usa grado_bloque_usa\n",
       "81             82        9b+/9c                           \n",
       "82             83            9c                           \n",
       "83             84          9c/+                           \n",
       "84             85           9c+                           \n",
       "85             86       9c+/10a                           "
      ]
     },
     "execution_count": 8,
     "metadata": {},
     "output_type": "execute_result"
    }
   ],
   "source": [
    "df_dificultades = df_dificultades.sort_values(['id_dificultad'],ascending=[True]);\n",
    "df_dificultades = df_dificultades.reset_index(drop=True)\n",
    "df_dificultades.tail()"
   ]
  },
  {
   "cell_type": "markdown",
   "metadata": {},
   "source": [
    "Finalmente se observa que existen muchos datos vacios. Esto se debe a que las escalas de dificultad tienen solapamientos de valores. Por ello haré una sustitución hacia adelante que rellene esos datos vacios"
   ]
  },
  {
   "cell_type": "code",
   "execution_count": 9,
   "metadata": {
    "collapsed": false
   },
   "outputs": [
    {
     "data": {
      "text/html": [
       "<div>\n",
       "<style>\n",
       "    .dataframe thead tr:only-child th {\n",
       "        text-align: right;\n",
       "    }\n",
       "\n",
       "    .dataframe thead th {\n",
       "        text-align: left;\n",
       "    }\n",
       "\n",
       "    .dataframe tbody tr th {\n",
       "        vertical-align: top;\n",
       "    }\n",
       "</style>\n",
       "<table border=\"1\" class=\"dataframe\">\n",
       "  <thead>\n",
       "    <tr style=\"text-align: right;\">\n",
       "      <th></th>\n",
       "      <th>id_dificultad</th>\n",
       "      <th>grado_frances</th>\n",
       "      <th>grado_usa</th>\n",
       "      <th>grado_bloque_usa</th>\n",
       "    </tr>\n",
       "  </thead>\n",
       "  <tbody>\n",
       "    <tr>\n",
       "      <th>0</th>\n",
       "      <td>1</td>\n",
       "      <td>-</td>\n",
       "      <td>3/4</td>\n",
       "      <td>VB</td>\n",
       "    </tr>\n",
       "    <tr>\n",
       "      <th>1</th>\n",
       "      <td>2</td>\n",
       "      <td>1</td>\n",
       "      <td>3/4</td>\n",
       "      <td>VB</td>\n",
       "    </tr>\n",
       "    <tr>\n",
       "      <th>2</th>\n",
       "      <td>3</td>\n",
       "      <td>1a</td>\n",
       "      <td>3/4</td>\n",
       "      <td>VB</td>\n",
       "    </tr>\n",
       "    <tr>\n",
       "      <th>3</th>\n",
       "      <td>4</td>\n",
       "      <td>1b</td>\n",
       "      <td>3/4</td>\n",
       "      <td>VB</td>\n",
       "    </tr>\n",
       "    <tr>\n",
       "      <th>4</th>\n",
       "      <td>5</td>\n",
       "      <td>1c</td>\n",
       "      <td>3/4</td>\n",
       "      <td>VB</td>\n",
       "    </tr>\n",
       "    <tr>\n",
       "      <th>5</th>\n",
       "      <td>6</td>\n",
       "      <td>1+</td>\n",
       "      <td>3/4</td>\n",
       "      <td>VB</td>\n",
       "    </tr>\n",
       "    <tr>\n",
       "      <th>6</th>\n",
       "      <td>7</td>\n",
       "      <td>2</td>\n",
       "      <td>5.1</td>\n",
       "      <td>VB</td>\n",
       "    </tr>\n",
       "    <tr>\n",
       "      <th>7</th>\n",
       "      <td>8</td>\n",
       "      <td>2a</td>\n",
       "      <td>5.1</td>\n",
       "      <td>VB</td>\n",
       "    </tr>\n",
       "    <tr>\n",
       "      <th>8</th>\n",
       "      <td>9</td>\n",
       "      <td>2b</td>\n",
       "      <td>5.1</td>\n",
       "      <td>VB</td>\n",
       "    </tr>\n",
       "    <tr>\n",
       "      <th>9</th>\n",
       "      <td>10</td>\n",
       "      <td>2c</td>\n",
       "      <td>5.1</td>\n",
       "      <td>VB</td>\n",
       "    </tr>\n",
       "  </tbody>\n",
       "</table>\n",
       "</div>"
      ],
      "text/plain": [
       "   id_dificultad grado_frances grado_usa grado_bloque_usa\n",
       "0              1             -       3/4               VB\n",
       "1              2             1       3/4               VB\n",
       "2              3            1a       3/4               VB\n",
       "3              4            1b       3/4               VB\n",
       "4              5            1c       3/4               VB\n",
       "5              6            1+       3/4               VB\n",
       "6              7             2       5.1               VB\n",
       "7              8            2a       5.1               VB\n",
       "8              9            2b       5.1               VB\n",
       "9             10            2c       5.1               VB"
      ]
     },
     "execution_count": 9,
     "metadata": {},
     "output_type": "execute_result"
    }
   ],
   "source": [
    "df_dificultades.replace(r'^\\s*$', np.nan, regex=True, inplace = True);\n",
    "df_dificultades = df_dificultades.fillna(method='ffill');\n",
    "\n",
    "df_dificultades.head(10)"
   ]
  },
  {
   "cell_type": "markdown",
   "metadata": {},
   "source": [
    "##  5. Extraccion de datos de tipos de encadenamiento\n",
    "\n",
    "Esta información la extraremos de la tabla 'method' que contiene lo siguiente:\n",
    "\n",
    "Los tipos de encadenamiento basicamente son 4 por orden de dificultad:\n",
    "\n",
    "- **\"On sight\"** o **\"A vista\"**: el escalador, sin poseer mas información que la visualización de la via y sin haber intentado subir anteriormente por ella, asciende con exito y de primero (desplegando la cuerda que le asegura) la via, sin colgarse de ningun seguro para descansar ni sin sufrir ninguna caida.\n",
    "\n",
    "- **\"Flash\"**: el escalador, sin haber intentado anteriormente la vía pero recibiendo indicaciones de un segundo escalador, asciende con exito y de primero (desplegando la cuerda que le asegura) la vía, sin colgarse ni sufrir ninguna caida\n",
    "\n",
    "- **\"Red point\"**: el escalador, habiendo intentado anteriormente la vía, asciende con exito y de primero (desplegando la cuerda que le asegura) la via, sin colgarse de ningún seguro para descansar ni sin sufrir ninguna caida.\n",
    "\n",
    "- **\"Top rope\"** o \"de segundo\": el escalado asciende la via con exito con la cuerda que le asegura instalada anteriormente por otro escalador. En este caso, no existe riesgo de caida ya que la cuerda que asegura al escalador siempre lo hace desde arriba.\n"
   ]
  },
  {
   "cell_type": "code",
   "execution_count": 10,
   "metadata": {
    "collapsed": false,
    "scrolled": true
   },
   "outputs": [
    {
     "data": {
      "text/html": [
       "<div>\n",
       "<style>\n",
       "    .dataframe thead tr:only-child th {\n",
       "        text-align: right;\n",
       "    }\n",
       "\n",
       "    .dataframe thead th {\n",
       "        text-align: left;\n",
       "    }\n",
       "\n",
       "    .dataframe tbody tr th {\n",
       "        vertical-align: top;\n",
       "    }\n",
       "</style>\n",
       "<table border=\"1\" class=\"dataframe\">\n",
       "  <thead>\n",
       "    <tr style=\"text-align: right;\">\n",
       "      <th></th>\n",
       "      <th>id</th>\n",
       "      <th>score</th>\n",
       "      <th>shorthand</th>\n",
       "      <th>name</th>\n",
       "    </tr>\n",
       "  </thead>\n",
       "  <tbody>\n",
       "    <tr>\n",
       "      <th>0</th>\n",
       "      <td>1</td>\n",
       "      <td>0</td>\n",
       "      <td>redpoint</td>\n",
       "      <td>Redpoint</td>\n",
       "    </tr>\n",
       "    <tr>\n",
       "      <th>1</th>\n",
       "      <td>2</td>\n",
       "      <td>53</td>\n",
       "      <td>flash</td>\n",
       "      <td>Flash</td>\n",
       "    </tr>\n",
       "    <tr>\n",
       "      <th>2</th>\n",
       "      <td>3</td>\n",
       "      <td>145</td>\n",
       "      <td>onsight</td>\n",
       "      <td>Onsight</td>\n",
       "    </tr>\n",
       "    <tr>\n",
       "      <th>3</th>\n",
       "      <td>4</td>\n",
       "      <td>-52</td>\n",
       "      <td>toprope</td>\n",
       "      <td>Toprope</td>\n",
       "    </tr>\n",
       "    <tr>\n",
       "      <th>4</th>\n",
       "      <td>5</td>\n",
       "      <td>95</td>\n",
       "      <td>onsight</td>\n",
       "      <td>Onsight</td>\n",
       "    </tr>\n",
       "  </tbody>\n",
       "</table>\n",
       "</div>"
      ],
      "text/plain": [
       "   id  score shorthand      name\n",
       "0   1      0  redpoint  Redpoint\n",
       "1   2     53     flash     Flash\n",
       "2   3    145   onsight   Onsight\n",
       "3   4    -52   toprope   Toprope\n",
       "4   5     95   onsight   Onsight"
      ]
     },
     "execution_count": 10,
     "metadata": {},
     "output_type": "execute_result"
    }
   ],
   "source": [
    "df_tipos_encadenamiento = pd.read_sql_query(\n",
    "    '''\n",
    "    SELECT *\n",
    "    FROM method\n",
    "    ''',\n",
    "    dbConnection)\n",
    "\n",
    "df_tipos_encadenamiento.head()"
   ]
  },
  {
   "cell_type": "markdown",
   "metadata": {},
   "source": [
    "\n",
    "**IMPORTANTE** Esta tabla muestra dos categorías repetidas (Onsight) asi que lo tendré en cuenta más adelante al obtener los datos de ascensos, para reemplazar en la clave foranea de dificultad 5 por la clave 3 que es la que voy a dejar.\n"
   ]
  },
  {
   "cell_type": "code",
   "execution_count": 11,
   "metadata": {
    "collapsed": false
   },
   "outputs": [
    {
     "data": {
      "text/html": [
       "<div>\n",
       "<style>\n",
       "    .dataframe thead tr:only-child th {\n",
       "        text-align: right;\n",
       "    }\n",
       "\n",
       "    .dataframe thead th {\n",
       "        text-align: left;\n",
       "    }\n",
       "\n",
       "    .dataframe tbody tr th {\n",
       "        vertical-align: top;\n",
       "    }\n",
       "</style>\n",
       "<table border=\"1\" class=\"dataframe\">\n",
       "  <thead>\n",
       "    <tr style=\"text-align: right;\">\n",
       "      <th></th>\n",
       "      <th>id_tipo_encadenamiento</th>\n",
       "      <th>tipo_encadenamiento</th>\n",
       "    </tr>\n",
       "  </thead>\n",
       "  <tbody>\n",
       "    <tr>\n",
       "      <th>0</th>\n",
       "      <td>1</td>\n",
       "      <td>Redpoint</td>\n",
       "    </tr>\n",
       "    <tr>\n",
       "      <th>1</th>\n",
       "      <td>2</td>\n",
       "      <td>Flash</td>\n",
       "    </tr>\n",
       "    <tr>\n",
       "      <th>2</th>\n",
       "      <td>3</td>\n",
       "      <td>Onsight</td>\n",
       "    </tr>\n",
       "    <tr>\n",
       "      <th>3</th>\n",
       "      <td>4</td>\n",
       "      <td>Toprope</td>\n",
       "    </tr>\n",
       "  </tbody>\n",
       "</table>\n",
       "</div>"
      ],
      "text/plain": [
       "   id_tipo_encadenamiento tipo_encadenamiento\n",
       "0                       1            Redpoint\n",
       "1                       2               Flash\n",
       "2                       3             Onsight\n",
       "3                       4             Toprope"
      ]
     },
     "execution_count": 11,
     "metadata": {},
     "output_type": "execute_result"
    }
   ],
   "source": [
    "df_tipos_encadenamiento = pd.read_sql_query(\n",
    "    '''\n",
    "    SELECT id as id_tipo_encadenamiento,\n",
    "           name as tipo_encadenamiento\n",
    "    FROM method\n",
    "    ''',\n",
    "    dbConnection);\n",
    "df_tipos_encadenamiento = df_tipos_encadenamiento.drop([4]);\n",
    "df_tipos_encadenamiento.head()"
   ]
  },
  {
   "cell_type": "markdown",
   "metadata": {},
   "source": [
    "##   Extraccion de datos de Ascensos\n",
    "\n",
    "La tabla de ascenosos es 'ascent'. Como era de esperar, se trata de una tabla mucho más grande que las anteriores. Ire filtrando en base a un creiterio de integridad y bondad de la información, y posteriormente limitaré por fecha los ascensos a tratar."
   ]
  },
  {
   "cell_type": "code",
   "execution_count": 12,
   "metadata": {
    "collapsed": false
   },
   "outputs": [
    {
     "data": {
      "text/html": [
       "<div>\n",
       "<style>\n",
       "    .dataframe thead tr:only-child th {\n",
       "        text-align: right;\n",
       "    }\n",
       "\n",
       "    .dataframe thead th {\n",
       "        text-align: left;\n",
       "    }\n",
       "\n",
       "    .dataframe tbody tr th {\n",
       "        vertical-align: top;\n",
       "    }\n",
       "</style>\n",
       "<table border=\"1\" class=\"dataframe\">\n",
       "  <thead>\n",
       "    <tr style=\"text-align: right;\">\n",
       "      <th></th>\n",
       "      <th>count()</th>\n",
       "    </tr>\n",
       "  </thead>\n",
       "  <tbody>\n",
       "    <tr>\n",
       "      <th>0</th>\n",
       "      <td>4111877</td>\n",
       "    </tr>\n",
       "  </tbody>\n",
       "</table>\n",
       "</div>"
      ],
      "text/plain": [
       "   count()\n",
       "0  4111877"
      ]
     },
     "execution_count": 12,
     "metadata": {},
     "output_type": "execute_result"
    }
   ],
   "source": [
    "pd.read_sql_query(\n",
    "    '''\n",
    "    SELECT count()\n",
    "    FROM ascent;\n",
    "    ''', \n",
    "    dbConnection)"
   ]
  },
  {
   "cell_type": "markdown",
   "metadata": {},
   "source": [
    "Campos de la tabla"
   ]
  },
  {
   "cell_type": "code",
   "execution_count": 13,
   "metadata": {
    "collapsed": false,
    "scrolled": true
   },
   "outputs": [
    {
     "data": {
      "text/plain": [
       "['id',\n",
       " 'user_id',\n",
       " 'grade_id',\n",
       " 'notes',\n",
       " 'raw_notes',\n",
       " 'method_id',\n",
       " 'climb_type',\n",
       " 'total_score',\n",
       " 'date',\n",
       " 'year',\n",
       " 'last_year',\n",
       " 'rec_date',\n",
       " 'project_ascent_date',\n",
       " 'name',\n",
       " 'crag_id',\n",
       " 'crag',\n",
       " 'sector_id',\n",
       " 'sector',\n",
       " 'country',\n",
       " 'comment',\n",
       " 'rating',\n",
       " 'description',\n",
       " 'yellow_id',\n",
       " 'climb_try',\n",
       " 'repeat',\n",
       " 'exclude_from_ranking',\n",
       " 'user_recommended',\n",
       " 'chipped']"
      ]
     },
     "execution_count": 13,
     "metadata": {},
     "output_type": "execute_result"
    }
   ],
   "source": [
    "df_ascensos = pd.read_sql_query(\n",
    "    '''\n",
    "    SELECT *\n",
    "    FROM ascent\n",
    "    LIMIT 1\n",
    "    ''',\n",
    "    dbConnection);\n",
    "list(df_ascensos)"
   ]
  },
  {
   "cell_type": "markdown",
   "metadata": {},
   "source": [
    "De todas esas columnas me interesan aquellas que tienen bien definido los siguientes campos:\n",
    "\n",
    "- **name** : nombre de la vía. No consideraré vías que no tienen nombre o este contiene solo simbolos de interrogación. Para minimizar efectos de la capitalización converitiré esta información a mayusculas.\n",
    "- **crag** : nombre del risco o zona de escalada. Para minimizar efectos de la capitalización converitiré esta información a mayusculas.\n",
    "- **sector**: nombre del sector. Para minimizar efectos de la capitalización converitiré esta información a mayusculas.\n",
    "- **country**: identificador del pais en el que está la vía\n",
    "- **method_id**: vamos a transformarlo de manera que evitemos la duplicidad en el tipo \"On Sight que hemos comentado anteriormente.\n",
    "- **date** : el campo date tiene la fecha en tiempo unix. Por claridad la convertiré a fecha\n"
   ]
  },
  {
   "cell_type": "code",
   "execution_count": 14,
   "metadata": {
    "collapsed": false
   },
   "outputs": [
    {
     "data": {
      "text/html": [
       "<div>\n",
       "<style>\n",
       "    .dataframe thead tr:only-child th {\n",
       "        text-align: right;\n",
       "    }\n",
       "\n",
       "    .dataframe thead th {\n",
       "        text-align: left;\n",
       "    }\n",
       "\n",
       "    .dataframe tbody tr th {\n",
       "        vertical-align: top;\n",
       "    }\n",
       "</style>\n",
       "<table border=\"1\" class=\"dataframe\">\n",
       "  <thead>\n",
       "    <tr style=\"text-align: right;\">\n",
       "      <th></th>\n",
       "      <th>id_escalador</th>\n",
       "      <th>id_dificultad</th>\n",
       "      <th>id_tipo_encadenamiento</th>\n",
       "      <th>nombre_via</th>\n",
       "      <th>risco</th>\n",
       "      <th>sector</th>\n",
       "      <th>fecha</th>\n",
       "      <th>pais</th>\n",
       "    </tr>\n",
       "  </thead>\n",
       "  <tbody>\n",
       "    <tr>\n",
       "      <th>0</th>\n",
       "      <td>1</td>\n",
       "      <td>36</td>\n",
       "      <td>3</td>\n",
       "      <td>THE KING AND I</td>\n",
       "      <td>RAILAY</td>\n",
       "      <td>DUM'S KITCHEN</td>\n",
       "      <td>1999-02-06</td>\n",
       "      <td>THA</td>\n",
       "    </tr>\n",
       "    <tr>\n",
       "      <th>1</th>\n",
       "      <td>1</td>\n",
       "      <td>36</td>\n",
       "      <td>3</td>\n",
       "      <td>MR BIG</td>\n",
       "      <td>SJöäNDA</td>\n",
       "      <td>HUVUDVäGGEN</td>\n",
       "      <td>1999-07-26</td>\n",
       "      <td>SWE</td>\n",
       "    </tr>\n",
       "    <tr>\n",
       "      <th>2</th>\n",
       "      <td>1</td>\n",
       "      <td>36</td>\n",
       "      <td>3</td>\n",
       "      <td>TAK SKA DU HA</td>\n",
       "      <td>SJöäNDA</td>\n",
       "      <td>HUVUDVäGGEN</td>\n",
       "      <td>1999-07-26</td>\n",
       "      <td>SWE</td>\n",
       "    </tr>\n",
       "    <tr>\n",
       "      <th>3</th>\n",
       "      <td>1</td>\n",
       "      <td>38</td>\n",
       "      <td>3</td>\n",
       "      <td>VALENTINE</td>\n",
       "      <td>RAILAY</td>\n",
       "      <td>MUAI THAI</td>\n",
       "      <td>1998-12-18</td>\n",
       "      <td>THA</td>\n",
       "    </tr>\n",
       "    <tr>\n",
       "      <th>4</th>\n",
       "      <td>1</td>\n",
       "      <td>38</td>\n",
       "      <td>1</td>\n",
       "      <td>NUAT HIN (MASSAGE THE ROCK)</td>\n",
       "      <td>RAILAY</td>\n",
       "      <td>MUAI THAI</td>\n",
       "      <td>1999-01-13</td>\n",
       "      <td>THA</td>\n",
       "    </tr>\n",
       "  </tbody>\n",
       "</table>\n",
       "</div>"
      ],
      "text/plain": [
       "   id_escalador  id_dificultad  id_tipo_encadenamiento  \\\n",
       "0             1             36                       3   \n",
       "1             1             36                       3   \n",
       "2             1             36                       3   \n",
       "3             1             38                       3   \n",
       "4             1             38                       1   \n",
       "\n",
       "                    nombre_via    risco         sector       fecha pais  \n",
       "0               THE KING AND I   RAILAY  DUM'S KITCHEN  1999-02-06  THA  \n",
       "1                       MR BIG  SJöäNDA    HUVUDVäGGEN  1999-07-26  SWE  \n",
       "2                TAK SKA DU HA  SJöäNDA    HUVUDVäGGEN  1999-07-26  SWE  \n",
       "3                    VALENTINE   RAILAY      MUAI THAI  1998-12-18  THA  \n",
       "4  NUAT HIN (MASSAGE THE ROCK)   RAILAY      MUAI THAI  1999-01-13  THA  "
      ]
     },
     "execution_count": 14,
     "metadata": {},
     "output_type": "execute_result"
    }
   ],
   "source": [
    "df_ascensos = pd.read_sql_query(\n",
    "    '''\n",
    "    SELECT user_id AS \"id_escalador\",\n",
    "           grade_id AS \"id_dificultad\",\n",
    "           CASE WHEN method_id==5 then 3\n",
    "                ELSE method_id\n",
    "           END AS \"id_tipo_encadenamiento\",\n",
    "           UPPER(name) AS \"nombre_via\",\n",
    "           UPPER(crag) AS \"risco\",\n",
    "           UPPER(sector) AS \"sector\",\n",
    "           strftime('%Y-%m-%d', datetime(date, 'unixepoch'))  AS \"fecha\",\n",
    "           country AS \"pais\"\n",
    "    FROM ascent\n",
    "    WHERE name IS NOT NULL AND name!=\"\" AND name NOT LIKE \"?%\"\n",
    "          AND crag IS NOT NULL AND crag!=\"\"\n",
    "          AND sector IS NOT NULL AND sector!=\"\"\n",
    "          AND country IS NOT NULL AND country!=\"\"\n",
    "    ''',\n",
    "    dbConnection);\n",
    "\n",
    "df_ascensos.head()\n"
   ]
  },
  {
   "cell_type": "code",
   "execution_count": 15,
   "metadata": {
    "collapsed": false
   },
   "outputs": [
    {
     "data": {
      "text/plain": [
       "2804520"
      ]
     },
     "execution_count": 15,
     "metadata": {},
     "output_type": "execute_result"
    }
   ],
   "source": [
    "# numero de ascensos una vez filtrados los que tienen datos no deseados\n",
    "len(df_ascensos.index)"
   ]
  },
  {
   "cell_type": "markdown",
   "metadata": {},
   "source": [
    "Ahora filtraremos el dataframe quedandonos sólo con las ascensiones las ultimas ascensiones desde enero de 2017:"
   ]
  },
  {
   "cell_type": "code",
   "execution_count": 16,
   "metadata": {
    "collapsed": false
   },
   "outputs": [
    {
     "data": {
      "text/plain": [
       "207599"
      ]
     },
     "execution_count": 16,
     "metadata": {},
     "output_type": "execute_result"
    }
   ],
   "source": [
    "df_ascensos = df_ascensos[df_ascensos['fecha']>'2016-12-31'];\n",
    "len(df_ascensos.index)"
   ]
  },
  {
   "cell_type": "code",
   "execution_count": 17,
   "metadata": {
    "collapsed": false
   },
   "outputs": [
    {
     "data": {
      "text/html": [
       "<div>\n",
       "<style>\n",
       "    .dataframe thead tr:only-child th {\n",
       "        text-align: right;\n",
       "    }\n",
       "\n",
       "    .dataframe thead th {\n",
       "        text-align: left;\n",
       "    }\n",
       "\n",
       "    .dataframe tbody tr th {\n",
       "        vertical-align: top;\n",
       "    }\n",
       "</style>\n",
       "<table border=\"1\" class=\"dataframe\">\n",
       "  <thead>\n",
       "    <tr style=\"text-align: right;\">\n",
       "      <th></th>\n",
       "      <th>id_escalador</th>\n",
       "      <th>id_dificultad</th>\n",
       "      <th>id_tipo_encadenamiento</th>\n",
       "      <th>nombre_via</th>\n",
       "      <th>risco</th>\n",
       "      <th>sector</th>\n",
       "      <th>fecha</th>\n",
       "      <th>pais</th>\n",
       "    </tr>\n",
       "  </thead>\n",
       "  <tbody>\n",
       "    <tr>\n",
       "      <th>172880</th>\n",
       "      <td>9340</td>\n",
       "      <td>44</td>\n",
       "      <td>1</td>\n",
       "      <td>BURDEN CHUCHEN</td>\n",
       "      <td>SIURANA</td>\n",
       "      <td>L'OLLA</td>\n",
       "      <td>2017-01-02</td>\n",
       "      <td>ESP</td>\n",
       "    </tr>\n",
       "    <tr>\n",
       "      <th>365806</th>\n",
       "      <td>11635</td>\n",
       "      <td>53</td>\n",
       "      <td>1</td>\n",
       "      <td>ACAMPAMENTO BASE</td>\n",
       "      <td>COCALZINHO</td>\n",
       "      <td>PISTA</td>\n",
       "      <td>2017-05-06</td>\n",
       "      <td>BRA</td>\n",
       "    </tr>\n",
       "    <tr>\n",
       "      <th>462997</th>\n",
       "      <td>25134</td>\n",
       "      <td>53</td>\n",
       "      <td>1</td>\n",
       "      <td>LADY DIE</td>\n",
       "      <td>HELL</td>\n",
       "      <td>Rå NYTELSE</td>\n",
       "      <td>2017-09-05</td>\n",
       "      <td>NOR</td>\n",
       "    </tr>\n",
       "    <tr>\n",
       "      <th>582046</th>\n",
       "      <td>19578</td>\n",
       "      <td>40</td>\n",
       "      <td>1</td>\n",
       "      <td>POQUITO A POCO</td>\n",
       "      <td>PATONES</td>\n",
       "      <td>MARACAIBO</td>\n",
       "      <td>2017-07-13</td>\n",
       "      <td>ESP</td>\n",
       "    </tr>\n",
       "    <tr>\n",
       "      <th>617768</th>\n",
       "      <td>21747</td>\n",
       "      <td>51</td>\n",
       "      <td>1</td>\n",
       "      <td>LES 5 SOEURS DE TERRES-NEUVES</td>\n",
       "      <td>FREYR</td>\n",
       "      <td>AL LEGNE</td>\n",
       "      <td>2017-04-02</td>\n",
       "      <td>BEL</td>\n",
       "    </tr>\n",
       "  </tbody>\n",
       "</table>\n",
       "</div>"
      ],
      "text/plain": [
       "        id_escalador  id_dificultad  id_tipo_encadenamiento  \\\n",
       "172880          9340             44                       1   \n",
       "365806         11635             53                       1   \n",
       "462997         25134             53                       1   \n",
       "582046         19578             40                       1   \n",
       "617768         21747             51                       1   \n",
       "\n",
       "                           nombre_via       risco      sector       fecha pais  \n",
       "172880                 BURDEN CHUCHEN     SIURANA      L'OLLA  2017-01-02  ESP  \n",
       "365806               ACAMPAMENTO BASE  COCALZINHO       PISTA  2017-05-06  BRA  \n",
       "462997                       LADY DIE        HELL  Rå NYTELSE  2017-09-05  NOR  \n",
       "582046                 POQUITO A POCO     PATONES   MARACAIBO  2017-07-13  ESP  \n",
       "617768  LES 5 SOEURS DE TERRES-NEUVES       FREYR    AL LEGNE  2017-04-02  BEL  "
      ]
     },
     "execution_count": 17,
     "metadata": {},
     "output_type": "execute_result"
    }
   ],
   "source": [
    "df_ascensos.head()"
   ]
  },
  {
   "cell_type": "markdown",
   "metadata": {},
   "source": [
    "##  Extraccion de datos de escaladores\n",
    "\n",
    "De la tabla de usuarios obtendré los datos de la tabla de escaladores de mi modelo conceptual.\n",
    "\n",
    "El numero de usuarios es bastante grande:"
   ]
  },
  {
   "cell_type": "code",
   "execution_count": 18,
   "metadata": {
    "collapsed": false,
    "scrolled": false
   },
   "outputs": [
    {
     "data": {
      "text/html": [
       "<div>\n",
       "<style>\n",
       "    .dataframe thead tr:only-child th {\n",
       "        text-align: right;\n",
       "    }\n",
       "\n",
       "    .dataframe thead th {\n",
       "        text-align: left;\n",
       "    }\n",
       "\n",
       "    .dataframe tbody tr th {\n",
       "        vertical-align: top;\n",
       "    }\n",
       "</style>\n",
       "<table border=\"1\" class=\"dataframe\">\n",
       "  <thead>\n",
       "    <tr style=\"text-align: right;\">\n",
       "      <th></th>\n",
       "      <th>count()</th>\n",
       "    </tr>\n",
       "  </thead>\n",
       "  <tbody>\n",
       "    <tr>\n",
       "      <th>0</th>\n",
       "      <td>62593</td>\n",
       "    </tr>\n",
       "  </tbody>\n",
       "</table>\n",
       "</div>"
      ],
      "text/plain": [
       "   count()\n",
       "0    62593"
      ]
     },
     "execution_count": 18,
     "metadata": {},
     "output_type": "execute_result"
    }
   ],
   "source": [
    "pd.read_sql_query(\n",
    "    '''\n",
    "    SELECT count()\n",
    "    FROM user;\n",
    "    ''', \n",
    "    dbConnection)\n"
   ]
  },
  {
   "cell_type": "markdown",
   "metadata": {},
   "source": [
    "Primero filtraré los campos de información para cada escalador:"
   ]
  },
  {
   "cell_type": "code",
   "execution_count": 19,
   "metadata": {
    "collapsed": false,
    "scrolled": true
   },
   "outputs": [
    {
     "data": {
      "text/plain": [
       "['id',\n",
       " 'first_name',\n",
       " 'last_name',\n",
       " 'city',\n",
       " 'country',\n",
       " 'sex',\n",
       " 'height',\n",
       " 'weight',\n",
       " 'started',\n",
       " 'competitions',\n",
       " 'occupation',\n",
       " 'sponsor1',\n",
       " 'sponsor2',\n",
       " 'sponsor3',\n",
       " 'best_area',\n",
       " 'worst_area',\n",
       " 'guide_area',\n",
       " 'interests',\n",
       " 'birth',\n",
       " 'presentation',\n",
       " 'deactivated',\n",
       " 'anonymous']"
      ]
     },
     "execution_count": 19,
     "metadata": {},
     "output_type": "execute_result"
    }
   ],
   "source": [
    "df_escaladores = pd.read_sql_query(\n",
    "    '''\n",
    "    SELECT *\n",
    "    FROM user\n",
    "    LIMIT 1\n",
    "    ''',\n",
    "    dbConnection);\n",
    "\n",
    "list(df_escaladores)"
   ]
  },
  {
   "cell_type": "markdown",
   "metadata": {},
   "source": [
    "De esta información me quedaré sólo con las columnas útiles para mi modelo:\n",
    "1. id\n",
    "2. first_name\n",
    "3. last_name\n",
    "4. city\n",
    "5. country\n",
    "6. sex\n",
    "7. started\n",
    "8. birth\n",
    "\n",
    "Para ello hago una query tomando solo esos campos sobre toda la tabla trasformando la tabla a las siguientes columnas:\n",
    "\n",
    "   | id | nombre | sexo | fecha_nacimiento | ciudad | pais | año_comienzo |\n",
    "   | -- | ------ | ---- | ---------------- | ------ | ---- | ------------ |\n",
    "   |    |        |      |                  |        |      |              |"
   ]
  },
  {
   "cell_type": "code",
   "execution_count": 20,
   "metadata": {
    "collapsed": false,
    "scrolled": true
   },
   "outputs": [
    {
     "data": {
      "text/html": [
       "<div>\n",
       "<style>\n",
       "    .dataframe thead tr:only-child th {\n",
       "        text-align: right;\n",
       "    }\n",
       "\n",
       "    .dataframe thead th {\n",
       "        text-align: left;\n",
       "    }\n",
       "\n",
       "    .dataframe tbody tr th {\n",
       "        vertical-align: top;\n",
       "    }\n",
       "</style>\n",
       "<table border=\"1\" class=\"dataframe\">\n",
       "  <thead>\n",
       "    <tr style=\"text-align: right;\">\n",
       "      <th></th>\n",
       "      <th>id_escalador</th>\n",
       "      <th>nombre</th>\n",
       "      <th>sexo</th>\n",
       "      <th>fecha_nacimiento</th>\n",
       "      <th>ciudad</th>\n",
       "      <th>pais</th>\n",
       "      <th>comienzo</th>\n",
       "    </tr>\n",
       "  </thead>\n",
       "  <tbody>\n",
       "    <tr>\n",
       "      <th>0</th>\n",
       "      <td>1</td>\n",
       "      <td>Leif Jägerbrand</td>\n",
       "      <td>Hombre</td>\n",
       "      <td>1976-03-10</td>\n",
       "      <td>Göteborg</td>\n",
       "      <td>SWE</td>\n",
       "      <td>1996</td>\n",
       "    </tr>\n",
       "    <tr>\n",
       "      <th>1</th>\n",
       "      <td>2</td>\n",
       "      <td>Andreas Collisch</td>\n",
       "      <td>Hombre</td>\n",
       "      <td>None</td>\n",
       "      <td>stockholm</td>\n",
       "      <td>SWE</td>\n",
       "      <td>2000</td>\n",
       "    </tr>\n",
       "    <tr>\n",
       "      <th>2</th>\n",
       "      <td>3</td>\n",
       "      <td>Magnus Öberg</td>\n",
       "      <td>Hombre</td>\n",
       "      <td>1973-09-09</td>\n",
       "      <td>Umeå</td>\n",
       "      <td>SWE</td>\n",
       "      <td>1995</td>\n",
       "    </tr>\n",
       "    <tr>\n",
       "      <th>3</th>\n",
       "      <td>4</td>\n",
       "      <td>Annika Frodi-Lundgren (f)</td>\n",
       "      <td>Mujer</td>\n",
       "      <td>1984-07-26</td>\n",
       "      <td>Goteborg</td>\n",
       "      <td>SWE</td>\n",
       "      <td>2001</td>\n",
       "    </tr>\n",
       "    <tr>\n",
       "      <th>4</th>\n",
       "      <td>5</td>\n",
       "      <td>Joe McLoughlin</td>\n",
       "      <td>Hombre</td>\n",
       "      <td>1969-05-07</td>\n",
       "      <td>North Attleboro</td>\n",
       "      <td>USA</td>\n",
       "      <td>1991</td>\n",
       "    </tr>\n",
       "  </tbody>\n",
       "</table>\n",
       "</div>"
      ],
      "text/plain": [
       "   id_escalador                     nombre    sexo fecha_nacimiento  \\\n",
       "0             1            Leif Jägerbrand  Hombre       1976-03-10   \n",
       "1             2           Andreas Collisch  Hombre             None   \n",
       "2             3               Magnus Öberg  Hombre       1973-09-09   \n",
       "3             4  Annika Frodi-Lundgren (f)   Mujer       1984-07-26   \n",
       "4             5             Joe McLoughlin  Hombre       1969-05-07   \n",
       "\n",
       "            ciudad pais  comienzo  \n",
       "0         Göteborg  SWE      1996  \n",
       "1        stockholm  SWE      2000  \n",
       "2             Umeå  SWE      1995  \n",
       "3         Goteborg  SWE      2001  \n",
       "4  North Attleboro  USA      1991  "
      ]
     },
     "execution_count": 20,
     "metadata": {},
     "output_type": "execute_result"
    }
   ],
   "source": [
    "df_escaladores = pd.read_sql_query(\n",
    "    '''\n",
    "    SELECT id as id_escalador,\n",
    "           first_name || ' ' || last_name as \"nombre\",\n",
    "           CASE WHEN sex=0 THEN 'Hombre'\n",
    "                WHEN sex=1 THEN 'Mujer'\n",
    "                ELSE NULL\n",
    "           END as \"sexo\",\n",
    "           birth as \"fecha_nacimiento\",\n",
    "           city as \"ciudad\",\n",
    "           country as \"pais\",\n",
    "           started as \"comienzo\"\n",
    "    FROM user\n",
    "    ''',\n",
    "    dbConnection);\n",
    "\n",
    "df_escaladores.head()"
   ]
  },
  {
   "cell_type": "markdown",
   "metadata": {},
   "source": [
    "Es posible que muchos de estos escaldores (usuarios) en el ultimo año no hayan tenido actividad, por ello voy a filtrar de esta tabla aquellos escaladores que no han registrado ascensos en el periodo de tiempo elegido para analizar.\n",
    "\n",
    "Primero identifico qué usuarios ha tenido actividad ese periodo de tiempo:"
   ]
  },
  {
   "cell_type": "code",
   "execution_count": 21,
   "metadata": {
    "collapsed": true
   },
   "outputs": [],
   "source": [
    "def extraeEscaladoresConAscensos(escaladores, ascensos):\n",
    "    ids_escaladores_con_ascensos = df_ascensos.id_escalador.unique();\n",
    "    return df_escaladores[df_escaladores.id_escalador.isin(ids_escaladores_con_ascensos)]"
   ]
  },
  {
   "cell_type": "code",
   "execution_count": 22,
   "metadata": {
    "collapsed": false
   },
   "outputs": [
    {
     "data": {
      "text/html": [
       "<div>\n",
       "<style>\n",
       "    .dataframe thead tr:only-child th {\n",
       "        text-align: right;\n",
       "    }\n",
       "\n",
       "    .dataframe thead th {\n",
       "        text-align: left;\n",
       "    }\n",
       "\n",
       "    .dataframe tbody tr th {\n",
       "        vertical-align: top;\n",
       "    }\n",
       "</style>\n",
       "<table border=\"1\" class=\"dataframe\">\n",
       "  <thead>\n",
       "    <tr style=\"text-align: right;\">\n",
       "      <th></th>\n",
       "      <th>id_escalador</th>\n",
       "      <th>nombre</th>\n",
       "      <th>sexo</th>\n",
       "      <th>fecha_nacimiento</th>\n",
       "      <th>ciudad</th>\n",
       "      <th>pais</th>\n",
       "      <th>comienzo</th>\n",
       "    </tr>\n",
       "  </thead>\n",
       "  <tbody>\n",
       "    <tr>\n",
       "      <th>4</th>\n",
       "      <td>5</td>\n",
       "      <td>Joe McLoughlin</td>\n",
       "      <td>Hombre</td>\n",
       "      <td>1969-05-07</td>\n",
       "      <td>North Attleboro</td>\n",
       "      <td>USA</td>\n",
       "      <td>1991</td>\n",
       "    </tr>\n",
       "    <tr>\n",
       "      <th>6</th>\n",
       "      <td>10</td>\n",
       "      <td>Jens Larssen</td>\n",
       "      <td>Hombre</td>\n",
       "      <td>1965-06-22</td>\n",
       "      <td>Göteborg</td>\n",
       "      <td>SWE</td>\n",
       "      <td>1992</td>\n",
       "    </tr>\n",
       "    <tr>\n",
       "      <th>24</th>\n",
       "      <td>28</td>\n",
       "      <td>Knut Rokne</td>\n",
       "      <td>Hombre</td>\n",
       "      <td>1972-03-27</td>\n",
       "      <td>Calgary</td>\n",
       "      <td>CAN</td>\n",
       "      <td>1988</td>\n",
       "    </tr>\n",
       "    <tr>\n",
       "      <th>30</th>\n",
       "      <td>35</td>\n",
       "      <td>Jason Kester</td>\n",
       "      <td>Hombre</td>\n",
       "      <td>1971-08-12</td>\n",
       "      <td>portland</td>\n",
       "      <td>USA</td>\n",
       "      <td>1992</td>\n",
       "    </tr>\n",
       "    <tr>\n",
       "      <th>33</th>\n",
       "      <td>38</td>\n",
       "      <td>Alan Cassidy</td>\n",
       "      <td>Hombre</td>\n",
       "      <td>1982-12-10</td>\n",
       "      <td>Glasgow</td>\n",
       "      <td>GBR</td>\n",
       "      <td>1993</td>\n",
       "    </tr>\n",
       "  </tbody>\n",
       "</table>\n",
       "</div>"
      ],
      "text/plain": [
       "    id_escalador          nombre    sexo fecha_nacimiento           ciudad  \\\n",
       "4              5  Joe McLoughlin  Hombre       1969-05-07  North Attleboro   \n",
       "6             10    Jens Larssen  Hombre       1965-06-22         Göteborg   \n",
       "24            28      Knut Rokne  Hombre       1972-03-27          Calgary   \n",
       "30            35    Jason Kester  Hombre       1971-08-12         portland   \n",
       "33            38    Alan Cassidy  Hombre       1982-12-10          Glasgow   \n",
       "\n",
       "   pais  comienzo  \n",
       "4   USA      1991  \n",
       "6   SWE      1992  \n",
       "24  CAN      1988  \n",
       "30  USA      1992  \n",
       "33  GBR      1993  "
      ]
     },
     "execution_count": 22,
     "metadata": {},
     "output_type": "execute_result"
    }
   ],
   "source": [
    "df_escaladores = extraeEscaladoresConAscensos(df_escaladores, df_ascensos)\n",
    "df_escaladores.head()"
   ]
  },
  {
   "cell_type": "code",
   "execution_count": 23,
   "metadata": {
    "collapsed": false
   },
   "outputs": [
    {
     "name": "stdout",
     "output_type": "stream",
     "text": [
      "('Numero de escaladores en el data frame de escaladores', 8081)\n",
      "('Numero de escaladores en el data frane de ascensos', 8082)\n"
     ]
    }
   ],
   "source": [
    "ids_escaladores_con_ascensos = df_ascensos.id_escalador.unique();\n",
    "ids_escaladores = df_escaladores.id_escalador.unique();\n",
    "print ('Numero de escaladores en el data frame de escaladores', len(ids_escaladores));\n",
    "print ('Numero de escaladores en el data frane de ascensos', len(ids_escaladores_con_ascensos));"
   ]
  },
  {
   "cell_type": "markdown",
   "metadata": {},
   "source": [
    "Curiosamente, esto ultimo me indica que hay un indice de escalador que aparece en los ascensos y que no está en la lista de usuarios. A continuación identificamos el identificador del usuario perdido y vemos cuantos ascensos tiene registrado dicho usuario."
   ]
  },
  {
   "cell_type": "code",
   "execution_count": 24,
   "metadata": {
    "collapsed": false
   },
   "outputs": [
    {
     "name": "stdout",
     "output_type": "stream",
     "text": [
      "('ID de escalador perdido: ', 10877)\n",
      "('Numero de ascensos del escalador perdido: ', 12)\n"
     ]
    }
   ],
   "source": [
    "id_escalador_perdido = list(set(ids_escaladores)^set(ids_escaladores_con_ascensos))[0]\n",
    "print ('ID de escalador perdido: ', id_escalador_perdido)\n",
    "print ('Numero de ascensos del escalador perdido: ', len(df_ascensos[df_ascensos.id_escalador==id_escalador_perdido]))"
   ]
  },
  {
   "cell_type": "markdown",
   "metadata": {},
   "source": [
    "Eliminamos dichos registros de la tabla de ascensos. Son muy pocos respecto al global"
   ]
  },
  {
   "cell_type": "code",
   "execution_count": 25,
   "metadata": {
    "collapsed": false
   },
   "outputs": [],
   "source": [
    "df_ascensos = df_ascensos[df_ascensos.id_escalador!=id_escalador_perdido];"
   ]
  },
  {
   "cell_type": "markdown",
   "metadata": {},
   "source": [
    "Ademas, se observa que en este data frame de escaladores pueden haber fechas de nacimiento a None y codigos de pais vacíos. Vamos a rellenar esa información:"
   ]
  },
  {
   "cell_type": "code",
   "execution_count": 26,
   "metadata": {
    "collapsed": false,
    "scrolled": true
   },
   "outputs": [],
   "source": [
    "# limpiamos cadenas vacias o solo con espacios en pais y fechas de nacimiento vacias\n",
    "df_escaladores['pais'].replace(r'^\\s*$', '---', regex=True, inplace = True);\n",
    "df_escaladores['ciudad'].replace(r'^\\s*$', '---', regex=True, inplace = True);\n",
    "df_escaladores['fecha_nacimiento'].fillna(value='2555-12-31', inplace =True);"
   ]
  },
  {
   "cell_type": "markdown",
   "metadata": {},
   "source": [
    "\n",
    "# Evaluacion final de data frames\n"
   ]
  },
  {
   "cell_type": "markdown",
   "metadata": {},
   "source": [
    "Vamos a hacer una comprobación sobre el data frame de ascensos resultante conociendo la siguiente información relacionada con una de las preguntas:\n",
    "\n",
    "Este año 2017 es la primera vez en la historia en la que se ha encadenado una via de 9c. El artífice de esa azaña es Adam Ondra, que aparece en segundo lugar en la query:\n",
    "\n",
    "https://www.youtube.com/watch?v=wdCtHqmMnjw\n",
    "\n",
    "https://www.youtube.com/watch?v=7Xmx2gYwsYo\n",
    "\n",
    "Vamos a comprobar que si es asi:\n"
   ]
  },
  {
   "cell_type": "code",
   "execution_count": 27,
   "metadata": {
    "collapsed": false,
    "scrolled": true
   },
   "outputs": [
    {
     "data": {
      "text/html": [
       "<div>\n",
       "<style>\n",
       "    .dataframe thead tr:only-child th {\n",
       "        text-align: right;\n",
       "    }\n",
       "\n",
       "    .dataframe thead th {\n",
       "        text-align: left;\n",
       "    }\n",
       "\n",
       "    .dataframe tbody tr th {\n",
       "        vertical-align: top;\n",
       "    }\n",
       "</style>\n",
       "<table border=\"1\" class=\"dataframe\">\n",
       "  <thead>\n",
       "    <tr style=\"text-align: right;\">\n",
       "      <th></th>\n",
       "      <th>id_escalador</th>\n",
       "      <th>id_dificultad</th>\n",
       "      <th>id_tipo_encadenamiento</th>\n",
       "      <th>nombre_via</th>\n",
       "      <th>risco</th>\n",
       "      <th>sector</th>\n",
       "      <th>fecha</th>\n",
       "      <th>pais</th>\n",
       "    </tr>\n",
       "  </thead>\n",
       "  <tbody>\n",
       "    <tr>\n",
       "      <th>2737952</th>\n",
       "      <td>48467</td>\n",
       "      <td>83</td>\n",
       "      <td>3</td>\n",
       "      <td>DUMMY</td>\n",
       "      <td>KALYMNOS</td>\n",
       "      <td>DUMMY</td>\n",
       "      <td>2017-07-11</td>\n",
       "      <td>GRC</td>\n",
       "    </tr>\n",
       "    <tr>\n",
       "      <th>2801769</th>\n",
       "      <td>1476</td>\n",
       "      <td>83</td>\n",
       "      <td>1</td>\n",
       "      <td>SILENCE</td>\n",
       "      <td>FLATANGER</td>\n",
       "      <td>HANSHALLAREN</td>\n",
       "      <td>2017-09-02</td>\n",
       "      <td>NOR</td>\n",
       "    </tr>\n",
       "  </tbody>\n",
       "</table>\n",
       "</div>"
      ],
      "text/plain": [
       "         id_escalador  id_dificultad  id_tipo_encadenamiento nombre_via  \\\n",
       "2737952         48467             83                       3      DUMMY   \n",
       "2801769          1476             83                       1    SILENCE   \n",
       "\n",
       "             risco        sector       fecha pais  \n",
       "2737952   KALYMNOS         DUMMY  2017-07-11  GRC  \n",
       "2801769  FLATANGER  HANSHALLAREN  2017-09-02  NOR  "
      ]
     },
     "execution_count": 27,
     "metadata": {},
     "output_type": "execute_result"
    }
   ],
   "source": [
    "df_ascenso_maxima_dificultad = df_ascensos[df_ascensos['id_dificultad'] == max(df_ascensos['id_dificultad'])]\n",
    "df_ascenso_maxima_dificultad"
   ]
  },
  {
   "cell_type": "code",
   "execution_count": 28,
   "metadata": {
    "collapsed": false
   },
   "outputs": [
    {
     "data": {
      "text/html": [
       "<div>\n",
       "<style>\n",
       "    .dataframe thead tr:only-child th {\n",
       "        text-align: right;\n",
       "    }\n",
       "\n",
       "    .dataframe thead th {\n",
       "        text-align: left;\n",
       "    }\n",
       "\n",
       "    .dataframe tbody tr th {\n",
       "        vertical-align: top;\n",
       "    }\n",
       "</style>\n",
       "<table border=\"1\" class=\"dataframe\">\n",
       "  <thead>\n",
       "    <tr style=\"text-align: right;\">\n",
       "      <th></th>\n",
       "      <th>id_dificultad</th>\n",
       "      <th>grado_frances</th>\n",
       "      <th>grado_usa</th>\n",
       "      <th>grado_bloque_usa</th>\n",
       "    </tr>\n",
       "  </thead>\n",
       "  <tbody>\n",
       "    <tr>\n",
       "      <th>82</th>\n",
       "      <td>83</td>\n",
       "      <td>9c</td>\n",
       "      <td>5.15c</td>\n",
       "      <td>V20</td>\n",
       "    </tr>\n",
       "  </tbody>\n",
       "</table>\n",
       "</div>"
      ],
      "text/plain": [
       "    id_dificultad grado_frances grado_usa grado_bloque_usa\n",
       "82             83            9c     5.15c              V20"
      ]
     },
     "execution_count": 28,
     "metadata": {},
     "output_type": "execute_result"
    }
   ],
   "source": [
    "max_dificultad_2017 = df_ascenso_maxima_dificultad['id_dificultad'].values\n",
    "df_dificultades[df_dificultades['id_dificultad'].isin(max_dificultad_2017)]"
   ]
  },
  {
   "cell_type": "code",
   "execution_count": 29,
   "metadata": {
    "collapsed": false
   },
   "outputs": [
    {
     "data": {
      "text/html": [
       "<div>\n",
       "<style>\n",
       "    .dataframe thead tr:only-child th {\n",
       "        text-align: right;\n",
       "    }\n",
       "\n",
       "    .dataframe thead th {\n",
       "        text-align: left;\n",
       "    }\n",
       "\n",
       "    .dataframe tbody tr th {\n",
       "        vertical-align: top;\n",
       "    }\n",
       "</style>\n",
       "<table border=\"1\" class=\"dataframe\">\n",
       "  <thead>\n",
       "    <tr style=\"text-align: right;\">\n",
       "      <th></th>\n",
       "      <th>id_escalador</th>\n",
       "      <th>nombre</th>\n",
       "      <th>sexo</th>\n",
       "      <th>fecha_nacimiento</th>\n",
       "      <th>ciudad</th>\n",
       "      <th>pais</th>\n",
       "      <th>comienzo</th>\n",
       "    </tr>\n",
       "  </thead>\n",
       "  <tbody>\n",
       "    <tr>\n",
       "      <th>1422</th>\n",
       "      <td>1476</td>\n",
       "      <td>Adam Ondra</td>\n",
       "      <td>Hombre</td>\n",
       "      <td>1993-02-05</td>\n",
       "      <td>Brno</td>\n",
       "      <td>CZE</td>\n",
       "      <td>1999</td>\n",
       "    </tr>\n",
       "    <tr>\n",
       "      <th>45573</th>\n",
       "      <td>48467</td>\n",
       "      <td>Kamil Kamil</td>\n",
       "      <td>Hombre</td>\n",
       "      <td>2555-12-31</td>\n",
       "      <td>London</td>\n",
       "      <td>GBR</td>\n",
       "      <td>2012</td>\n",
       "    </tr>\n",
       "  </tbody>\n",
       "</table>\n",
       "</div>"
      ],
      "text/plain": [
       "       id_escalador       nombre    sexo fecha_nacimiento  ciudad pais  \\\n",
       "1422           1476   Adam Ondra  Hombre       1993-02-05    Brno  CZE   \n",
       "45573         48467  Kamil Kamil  Hombre       2555-12-31  London  GBR   \n",
       "\n",
       "       comienzo  \n",
       "1422       1999  \n",
       "45573      2012  "
      ]
     },
     "execution_count": 29,
     "metadata": {},
     "output_type": "execute_result"
    }
   ],
   "source": [
    "max_dificultad_id_escaladores_2017 = df_ascenso_maxima_dificultad['id_escalador'].values\n",
    "df_escaladores[df_escaladores['id_escalador'].isin(max_dificultad_id_escaladores_2017)]"
   ]
  },
  {
   "cell_type": "markdown",
   "metadata": {},
   "source": [
    "Vemos que este año se han registrado dos ascensos de 9c. El de Adam Ondra es un hecho historico, por lo que el segundo es de dudosa veracidad. De hecho es constatable también que en Grecia no existen vía graduadas con dificultad 9c. Por ello vamos a eliminar tanto al usuario como a los registros de ascensos del usuario de dudosa veracidad:"
   ]
  },
  {
   "cell_type": "code",
   "execution_count": 30,
   "metadata": {
    "collapsed": true
   },
   "outputs": [],
   "source": [
    "df_ascensos = df_ascensos[df_ascensos['id_escalador']!=48467];\n",
    "df_escaladores = df_escaladores[df_escaladores['id_escalador']!=48467];"
   ]
  },
  {
   "cell_type": "markdown",
   "metadata": {},
   "source": [
    "Comprobamos que ahora sólo existe un ascenso de dificultad 9c (id_dificultad=83)"
   ]
  },
  {
   "cell_type": "code",
   "execution_count": 31,
   "metadata": {
    "collapsed": false
   },
   "outputs": [
    {
     "data": {
      "text/html": [
       "<div>\n",
       "<style>\n",
       "    .dataframe thead tr:only-child th {\n",
       "        text-align: right;\n",
       "    }\n",
       "\n",
       "    .dataframe thead th {\n",
       "        text-align: left;\n",
       "    }\n",
       "\n",
       "    .dataframe tbody tr th {\n",
       "        vertical-align: top;\n",
       "    }\n",
       "</style>\n",
       "<table border=\"1\" class=\"dataframe\">\n",
       "  <thead>\n",
       "    <tr style=\"text-align: right;\">\n",
       "      <th></th>\n",
       "      <th>id_escalador</th>\n",
       "      <th>id_dificultad</th>\n",
       "      <th>id_tipo_encadenamiento</th>\n",
       "      <th>nombre_via</th>\n",
       "      <th>risco</th>\n",
       "      <th>sector</th>\n",
       "      <th>fecha</th>\n",
       "      <th>pais</th>\n",
       "    </tr>\n",
       "  </thead>\n",
       "  <tbody>\n",
       "    <tr>\n",
       "      <th>2801769</th>\n",
       "      <td>1476</td>\n",
       "      <td>83</td>\n",
       "      <td>1</td>\n",
       "      <td>SILENCE</td>\n",
       "      <td>FLATANGER</td>\n",
       "      <td>HANSHALLAREN</td>\n",
       "      <td>2017-09-02</td>\n",
       "      <td>NOR</td>\n",
       "    </tr>\n",
       "  </tbody>\n",
       "</table>\n",
       "</div>"
      ],
      "text/plain": [
       "         id_escalador  id_dificultad  id_tipo_encadenamiento nombre_via  \\\n",
       "2801769          1476             83                       1    SILENCE   \n",
       "\n",
       "             risco        sector       fecha pais  \n",
       "2801769  FLATANGER  HANSHALLAREN  2017-09-02  NOR  "
      ]
     },
     "execution_count": 31,
     "metadata": {},
     "output_type": "execute_result"
    }
   ],
   "source": [
    "df_ascensos[df_ascensos['id_dificultad'] == max(df_ascensos['id_dificultad'])]"
   ]
  },
  {
   "cell_type": "code",
   "execution_count": 32,
   "metadata": {
    "collapsed": false
   },
   "outputs": [
    {
     "name": "stdout",
     "output_type": "stream",
     "text": [
      "<class 'pandas.core.frame.DataFrame'>\n",
      "RangeIndex: 86 entries, 0 to 85\n",
      "Data columns (total 4 columns):\n",
      "id_dificultad       86 non-null int64\n",
      "grado_frances       86 non-null object\n",
      "grado_usa           86 non-null object\n",
      "grado_bloque_usa    86 non-null object\n",
      "dtypes: int64(1), object(3)\n",
      "memory usage: 2.8+ KB\n"
     ]
    }
   ],
   "source": [
    "df_dificultades.info()"
   ]
  },
  {
   "cell_type": "code",
   "execution_count": 33,
   "metadata": {
    "collapsed": false,
    "scrolled": true
   },
   "outputs": [
    {
     "name": "stdout",
     "output_type": "stream",
     "text": [
      "<class 'pandas.core.frame.DataFrame'>\n",
      "Int64Index: 4 entries, 0 to 3\n",
      "Data columns (total 2 columns):\n",
      "id_tipo_encadenamiento    4 non-null int64\n",
      "tipo_encadenamiento       4 non-null object\n",
      "dtypes: int64(1), object(1)\n",
      "memory usage: 96.0+ bytes\n"
     ]
    }
   ],
   "source": [
    "df_tipos_encadenamiento.info()"
   ]
  },
  {
   "cell_type": "code",
   "execution_count": 34,
   "metadata": {
    "collapsed": false
   },
   "outputs": [
    {
     "name": "stdout",
     "output_type": "stream",
     "text": [
      "<class 'pandas.core.frame.DataFrame'>\n",
      "Int64Index: 207330 entries, 172880 to 2804519\n",
      "Data columns (total 8 columns):\n",
      "id_escalador              207330 non-null int64\n",
      "id_dificultad             207330 non-null int64\n",
      "id_tipo_encadenamiento    207330 non-null int64\n",
      "nombre_via                207330 non-null object\n",
      "risco                     207330 non-null object\n",
      "sector                    207330 non-null object\n",
      "fecha                     207330 non-null object\n",
      "pais                      207330 non-null object\n",
      "dtypes: int64(3), object(5)\n",
      "memory usage: 14.2+ MB\n"
     ]
    }
   ],
   "source": [
    "df_ascensos.info()"
   ]
  },
  {
   "cell_type": "code",
   "execution_count": 35,
   "metadata": {
    "collapsed": false
   },
   "outputs": [
    {
     "name": "stdout",
     "output_type": "stream",
     "text": [
      "<class 'pandas.core.frame.DataFrame'>\n",
      "Int64Index: 8080 entries, 4 to 62592\n",
      "Data columns (total 7 columns):\n",
      "id_escalador        8080 non-null int64\n",
      "nombre              8080 non-null object\n",
      "sexo                8080 non-null object\n",
      "fecha_nacimiento    8080 non-null object\n",
      "ciudad              8080 non-null object\n",
      "pais                8080 non-null object\n",
      "comienzo            8080 non-null int64\n",
      "dtypes: int64(2), object(5)\n",
      "memory usage: 505.0+ KB\n"
     ]
    }
   ],
   "source": [
    "df_escaladores.info()"
   ]
  },
  {
   "cell_type": "markdown",
   "metadata": {},
   "source": [
    "# Diezmado de la información\n",
    "\n",
    "Vamos a reducir el numero de ascensos a tratar para hacerlo manejable en los ejercicios de la práctica. Para ello vamos a diezmar de la siguiente manera:\n",
    "\n",
    "- Nos quedaremos con el 10% de los ascensos vias por debajo de 6a\n",
    "- Nos quedaremos con el 5% de las ascensos entre 6a y 6c+\n",
    "- Nos quedaremos con el 5% de los ascensos entre 7a y 7c+\n",
    "- Nos quedaremos con el 10% de los ascensos entre 8a y 8c+\n",
    "- Nos quedaremos con el 100% de lo ascensos por encima de 9a\n",
    "\n",
    "Tras filtrar los ascensos, volveremos a filtrar los escaladores que no tienen ascensos en esa muestra\n"
   ]
  },
  {
   "cell_type": "code",
   "execution_count": 36,
   "metadata": {
    "collapsed": false
   },
   "outputs": [
    {
     "name": "stdout",
     "output_type": "stream",
     "text": [
      "('Ascensos ANTES del diezmado', 207330)\n",
      "('Ascensos DESPUES del diezmado', 11832)\n"
     ]
    }
   ],
   "source": [
    "samples = [[0.10, -1, 36], [0.05, 36, 49], [0.05, 49, 62], [0.10, 62, 75], [1, 75, 90]]\n",
    "\n",
    "df_ascensos_diezmado = df_ascensos.sample(frac=0)\n",
    "\n",
    "for sample in samples:\n",
    "    df_aux = df_ascensos[(df_ascensos['id_dificultad']>=sample[1]) & (df_ascensos['id_dificultad']<sample[2])];\n",
    "    df_aux = df_aux.sample(frac=sample[0]);\n",
    "    df_ascensos_diezmado = pd.concat([df_ascensos_diezmado, df_aux]);\n",
    "\n",
    "print('Ascensos ANTES del diezmado',len(df_ascensos));\n",
    "print('Ascensos DESPUES del diezmado',len(df_ascensos_diezmado));\n"
   ]
  },
  {
   "cell_type": "code",
   "execution_count": 37,
   "metadata": {
    "collapsed": false
   },
   "outputs": [
    {
     "name": "stdout",
     "output_type": "stream",
     "text": [
      "('Escaladores ANTES del diezmado', 8080)\n",
      "('Escaladores DESPUES del diezmado', 8080)\n"
     ]
    }
   ],
   "source": [
    "df_escaladores_diezmado = extraeEscaladoresConAscensos(df_escaladores, df_ascensos_diezmado);\n",
    "print('Escaladores ANTES del diezmado',len(df_escaladores));\n",
    "print('Escaladores DESPUES del diezmado',len(df_escaladores_diezmado));\n"
   ]
  },
  {
   "cell_type": "markdown",
   "metadata": {},
   "source": [
    "## Escritura de ficheros CSV"
   ]
  },
  {
   "cell_type": "code",
   "execution_count": 38,
   "metadata": {
    "collapsed": true
   },
   "outputs": [],
   "source": [
    "df_dificultades.to_csv('./data/dificultades.csv', encoding='utf-8', index=False);\n",
    "df_tipos_encadenamiento.to_csv('./data/tipos_encadenamiento.csv', encoding='utf-8', index=False);\n",
    "\n",
    "df_ascensos.to_csv('./data/ascensos_2017.csv', encoding='utf-8', index=False);\n",
    "df_ascensos_diezmado.to_csv('./data/ascensos_lite_2017.csv', encoding='utf-8', index=False);\n",
    "\n",
    "df_escaladores.to_csv('./data/escaladores_2017.csv', encoding='utf-8', index=False);\n",
    "df_escaladores_diezmado.to_csv('./data/escaladores_lite_2017.csv', encoding='utf-8', index=False);\n"
   ]
  }
 ],
 "metadata": {
  "kernelspec": {
   "display_name": "Python 2",
   "language": "python",
   "name": "python2"
  },
  "language_info": {
   "codemirror_mode": {
    "name": "ipython",
    "version": 2
   },
   "file_extension": ".py",
   "mimetype": "text/x-python",
   "name": "python",
   "nbconvert_exporter": "python",
   "pygments_lexer": "ipython2",
   "version": "2.7.6"
  }
 },
 "nbformat": 4,
 "nbformat_minor": 2
}
