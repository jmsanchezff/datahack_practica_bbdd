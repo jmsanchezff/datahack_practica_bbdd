{
 "cells": [
  {
   "cell_type": "markdown",
   "metadata": {},
   "source": [
    "# Origen de datos\n",
    "\n",
    "El origen de los datos es un proyecto de Kaggle. Una descripción se puede encontrar aquí:\n",
    "\n",
    "https://www.kaggle.com/dcohen21/8anu-climbing-logbook\n",
    "\n",
    "En este caso **se trata de una base de datos sqlite3** comprimida en zip. Contiene la información obtenida mediante webscraping del sitio www.8a.nu\n",
    "\n",
    "Este sítio basicamente es un portal de escaladores en el que los usuarios pueden logarse e ir subiendo sus ascensos para compartir con otros su progresión y experiencias sobres las vías que escala.\n",
    "\n",
    "En este notebook voy a realizar dos tareas principalmente:\n",
    "\n",
    "- Explorar la base de datos para ver que información (tablas) proporciona.\n",
    "- Generar ficheros CSV y un excel \"limpios\" con la información necesaria para el modelo planteado.\n",
    "- Plantear las preguntas que voy a querer resolver en la práctica.\n",
    "\n",
    "**NOTA IMPORTANTE**:\n",
    "**Para la correcta ejecución del codigo de este notebook, el zip de la base de datos de Kaggle debe estar en**\n",
    "\n",
    "         ./data/8anu-climbing-logbook.zip\n",
    "\n",
    "\n",
    "# Modelo conceptual\n",
    "\n",
    "Las entidades del modelo buscado son:\n",
    "\n",
    "![Modelo conceptual](./ModeloConceptual.png)\n",
    "\n",
    "\n",
    "# Modelo de relación\n",
    "\n",
    "Las entidades se relacionan de la siguiente manera\n",
    "\n",
    "![Modelo de relación](./ModeloRelacional.png)\n",
    "\n",
    "\n",
    "# Obtencion y limpieza de la información\n",
    "\n",
    "Para explorar la información que contiene esa base de datos obtenida por webscraping sigo los siguientes pasos:\n",
    "\n",
    "## Descompresión de la base de datos y conexión"
   ]
  },
  {
   "cell_type": "code",
   "execution_count": 1,
   "metadata": {},
   "outputs": [
    {
     "name": "stdout",
     "output_type": "stream",
     "text": [
      "Descomprimiendo base de datos...\n",
      "Base de datos descomprimida!\n"
     ]
    }
   ],
   "source": [
    "import io\n",
    "import os\n",
    "import zipfile\n",
    "\n",
    "dataDirectory = './data/'\n",
    "zipFilePath = dataDirectory + \"8anu-climbing-logbook.zip\"\n",
    "sqliteDataBase = dataDirectory + \"database.sqlite\"\n",
    "\n",
    "if not os.path.exists(sqliteDataBase):\n",
    "    print (\"Descomprimiendo base de datos...\")\n",
    "    \n",
    "    with zipfile.ZipFile(zipFilePath, \"r\") as zipStream:\n",
    "        zipStream.extractall(dataDirectory)\n",
    "    \n",
    "print (\"Base de datos descomprimida!\")\n"
   ]
  },
  {
   "cell_type": "code",
   "execution_count": 2,
   "metadata": {},
   "outputs": [],
   "source": [
    "import sqlite3\n",
    "import pandas as pd\n",
    "import numpy as np\n",
    "\n",
    "dbConnection = sqlite3.connect(dataDirectory + 'database.sqlite')\n"
   ]
  },
  {
   "cell_type": "markdown",
   "metadata": {},
   "source": [
    "## Identificación de tablas\n",
    "\n",
    "Para ello conectamos con la base de datos y lanzamos la query que me dice qué tablas hay definidas en la base de datos."
   ]
  },
  {
   "cell_type": "code",
   "execution_count": 3,
   "metadata": {
    "scrolled": true
   },
   "outputs": [
    {
     "data": {
      "text/html": [
       "<div>\n",
       "<style>\n",
       "    .dataframe thead tr:only-child th {\n",
       "        text-align: right;\n",
       "    }\n",
       "\n",
       "    .dataframe thead th {\n",
       "        text-align: left;\n",
       "    }\n",
       "\n",
       "    .dataframe tbody tr th {\n",
       "        vertical-align: top;\n",
       "    }\n",
       "</style>\n",
       "<table border=\"1\" class=\"dataframe\">\n",
       "  <thead>\n",
       "    <tr style=\"text-align: right;\">\n",
       "      <th></th>\n",
       "      <th>name</th>\n",
       "    </tr>\n",
       "  </thead>\n",
       "  <tbody>\n",
       "    <tr>\n",
       "      <th>0</th>\n",
       "      <td>ascent</td>\n",
       "    </tr>\n",
       "    <tr>\n",
       "      <th>1</th>\n",
       "      <td>grade</td>\n",
       "    </tr>\n",
       "    <tr>\n",
       "      <th>2</th>\n",
       "      <td>method</td>\n",
       "    </tr>\n",
       "    <tr>\n",
       "      <th>3</th>\n",
       "      <td>user</td>\n",
       "    </tr>\n",
       "  </tbody>\n",
       "</table>\n",
       "</div>"
      ],
      "text/plain": [
       "     name\n",
       "0  ascent\n",
       "1   grade\n",
       "2  method\n",
       "3    user"
      ]
     },
     "execution_count": 3,
     "metadata": {},
     "output_type": "execute_result"
    }
   ],
   "source": [
    "\n",
    "pd.read_sql_query('''\n",
    "SELECT name\n",
    "FROM sqlite_master\n",
    "WHERE type='table'\n",
    "ORDER BY name;\n",
    "''', dbConnection)\n",
    "\n",
    "\n"
   ]
  },
  {
   "cell_type": "markdown",
   "metadata": {},
   "source": [
    "La base de datos tiene cuatro tablas que, por el nombre y conociendo un poco el mundillo de la escalada, parece que van a contener la siguiente información:\n",
    "\n",
    "- **ascent**: Tabla de ascensos\n",
    "- **grade**: Tabla de grados de dificultad de los ascensos\n",
    "- **method**: Tabla de metodos de ascenso\n",
    "- **user**: Tabla de usuarios (escaladores)\n",
    "\n",
    "En los siguientes apartados voy a ir tabla a tabla limpiando y obteniendo los datos de la manera mas adecuada posible para respoder a las preguntas que he planteado."
   ]
  },
  {
   "cell_type": "markdown",
   "metadata": {},
   "source": [
    "\n",
    "##  Extraccion de datos de dificulades de los ascensos\n",
    "\n",
    "La tabla 'grades' es una tabla de dificultades o grados:\n"
   ]
  },
  {
   "cell_type": "code",
   "execution_count": 4,
   "metadata": {},
   "outputs": [
    {
     "data": {
      "text/plain": [
       "['id',\n",
       " 'score',\n",
       " 'fra_routes',\n",
       " 'fra_routes_input',\n",
       " 'fra_routes_selector',\n",
       " 'fra_boulders',\n",
       " 'fra_boulders_input',\n",
       " 'fra_boulders_selector',\n",
       " 'usa_routes',\n",
       " 'usa_routes_input',\n",
       " 'usa_routes_selector',\n",
       " 'usa_boulders',\n",
       " 'usa_boulders_input',\n",
       " 'usa_boulders_selector']"
      ]
     },
     "execution_count": 4,
     "metadata": {},
     "output_type": "execute_result"
    }
   ],
   "source": [
    "df_dificultades = pd.read_sql_query(\n",
    "    '''\n",
    "    SELECT *\n",
    "    FROM grade\n",
    "    LIMIT 10\n",
    "    ''',\n",
    "    dbConnection);\n",
    "list(df_dificultades)"
   ]
  },
  {
   "cell_type": "markdown",
   "metadata": {},
   "source": [
    "Existen mas campos en esta tabla pero los rpincipales se refieren a las escalas de graduación mas aceptadas: \n",
    "\n",
    "- fra_routes: la escala francesa de graduacion de vias de escalada deportiva y clásica\n",
    "- usa_routes: la escala estadounidense de la graduación de vías de escalada deportiva y clásica\n",
    "- usa_boulders: la escala estadounidense de la graduación de escalada en bloque (otra disciplina de la escalada) \n",
    "\n",
    "De esta tabla extraeré los datos para construir una tabla de equivalencia de grados de dificultad:"
   ]
  },
  {
   "cell_type": "code",
   "execution_count": 5,
   "metadata": {},
   "outputs": [
    {
     "data": {
      "text/html": [
       "<div>\n",
       "<style>\n",
       "    .dataframe thead tr:only-child th {\n",
       "        text-align: right;\n",
       "    }\n",
       "\n",
       "    .dataframe thead th {\n",
       "        text-align: left;\n",
       "    }\n",
       "\n",
       "    .dataframe tbody tr th {\n",
       "        vertical-align: top;\n",
       "    }\n",
       "</style>\n",
       "<table border=\"1\" class=\"dataframe\">\n",
       "  <thead>\n",
       "    <tr style=\"text-align: right;\">\n",
       "      <th></th>\n",
       "      <th>id</th>\n",
       "      <th>grado_frances</th>\n",
       "      <th>grado_usa</th>\n",
       "      <th>grado_bloque_usa</th>\n",
       "    </tr>\n",
       "  </thead>\n",
       "  <tbody>\n",
       "    <tr>\n",
       "      <th>0</th>\n",
       "      <td>1</td>\n",
       "      <td>-</td>\n",
       "      <td>3/4</td>\n",
       "      <td>VB</td>\n",
       "    </tr>\n",
       "    <tr>\n",
       "      <th>1</th>\n",
       "      <td>2</td>\n",
       "      <td>1</td>\n",
       "      <td></td>\n",
       "      <td></td>\n",
       "    </tr>\n",
       "    <tr>\n",
       "      <th>2</th>\n",
       "      <td>3</td>\n",
       "      <td>1a</td>\n",
       "      <td></td>\n",
       "      <td></td>\n",
       "    </tr>\n",
       "    <tr>\n",
       "      <th>3</th>\n",
       "      <td>4</td>\n",
       "      <td>1b</td>\n",
       "      <td></td>\n",
       "      <td></td>\n",
       "    </tr>\n",
       "    <tr>\n",
       "      <th>4</th>\n",
       "      <td>5</td>\n",
       "      <td>1c</td>\n",
       "      <td></td>\n",
       "      <td></td>\n",
       "    </tr>\n",
       "    <tr>\n",
       "      <th>5</th>\n",
       "      <td>6</td>\n",
       "      <td>1+</td>\n",
       "      <td></td>\n",
       "      <td></td>\n",
       "    </tr>\n",
       "    <tr>\n",
       "      <th>6</th>\n",
       "      <td>7</td>\n",
       "      <td>2</td>\n",
       "      <td>5.1</td>\n",
       "      <td>VB</td>\n",
       "    </tr>\n",
       "    <tr>\n",
       "      <th>7</th>\n",
       "      <td>8</td>\n",
       "      <td>2a</td>\n",
       "      <td></td>\n",
       "      <td></td>\n",
       "    </tr>\n",
       "    <tr>\n",
       "      <th>8</th>\n",
       "      <td>9</td>\n",
       "      <td>2b</td>\n",
       "      <td></td>\n",
       "      <td></td>\n",
       "    </tr>\n",
       "    <tr>\n",
       "      <th>9</th>\n",
       "      <td>10</td>\n",
       "      <td>2c</td>\n",
       "      <td></td>\n",
       "      <td></td>\n",
       "    </tr>\n",
       "  </tbody>\n",
       "</table>\n",
       "</div>"
      ],
      "text/plain": [
       "   id grado_frances grado_usa grado_bloque_usa\n",
       "0   1             -       3/4               VB\n",
       "1   2             1                           \n",
       "2   3            1a                           \n",
       "3   4            1b                           \n",
       "4   5            1c                           \n",
       "5   6            1+                           \n",
       "6   7             2       5.1               VB\n",
       "7   8            2a                           \n",
       "8   9            2b                           \n",
       "9  10            2c                           "
      ]
     },
     "execution_count": 5,
     "metadata": {},
     "output_type": "execute_result"
    }
   ],
   "source": [
    "df_dificultades = pd.read_sql_query(\n",
    "    '''\n",
    "    SELECT id,\n",
    "           fra_routes as \"grado_frances\",\n",
    "           usa_routes as \"grado_usa\",\n",
    "           usa_boulders as \"grado_bloque_usa\"\n",
    "    FROM grade\n",
    "    ''',\n",
    "    dbConnection);\n",
    "df_dificultades.head(10)"
   ]
  },
  {
   "cell_type": "markdown",
   "metadata": {},
   "source": [
    "Se observa que existen muchos datos vacios. Esto se debe a que las escalas de dificultad tienen solapamientos de valores. Por ello haré una sustitución hacia adelante que rellene esos datos vacios"
   ]
  },
  {
   "cell_type": "code",
   "execution_count": 6,
   "metadata": {},
   "outputs": [
    {
     "data": {
      "text/html": [
       "<div>\n",
       "<style>\n",
       "    .dataframe thead tr:only-child th {\n",
       "        text-align: right;\n",
       "    }\n",
       "\n",
       "    .dataframe thead th {\n",
       "        text-align: left;\n",
       "    }\n",
       "\n",
       "    .dataframe tbody tr th {\n",
       "        vertical-align: top;\n",
       "    }\n",
       "</style>\n",
       "<table border=\"1\" class=\"dataframe\">\n",
       "  <thead>\n",
       "    <tr style=\"text-align: right;\">\n",
       "      <th></th>\n",
       "      <th>id</th>\n",
       "      <th>grado_frances</th>\n",
       "      <th>grado_usa</th>\n",
       "      <th>grado_bloque_usa</th>\n",
       "    </tr>\n",
       "  </thead>\n",
       "  <tbody>\n",
       "    <tr>\n",
       "      <th>0</th>\n",
       "      <td>1</td>\n",
       "      <td>-</td>\n",
       "      <td>3/4</td>\n",
       "      <td>VB</td>\n",
       "    </tr>\n",
       "    <tr>\n",
       "      <th>1</th>\n",
       "      <td>2</td>\n",
       "      <td>1</td>\n",
       "      <td>3/4</td>\n",
       "      <td>VB</td>\n",
       "    </tr>\n",
       "    <tr>\n",
       "      <th>2</th>\n",
       "      <td>3</td>\n",
       "      <td>1a</td>\n",
       "      <td>3/4</td>\n",
       "      <td>VB</td>\n",
       "    </tr>\n",
       "    <tr>\n",
       "      <th>3</th>\n",
       "      <td>4</td>\n",
       "      <td>1b</td>\n",
       "      <td>3/4</td>\n",
       "      <td>VB</td>\n",
       "    </tr>\n",
       "    <tr>\n",
       "      <th>4</th>\n",
       "      <td>5</td>\n",
       "      <td>1c</td>\n",
       "      <td>3/4</td>\n",
       "      <td>VB</td>\n",
       "    </tr>\n",
       "    <tr>\n",
       "      <th>5</th>\n",
       "      <td>6</td>\n",
       "      <td>1+</td>\n",
       "      <td>3/4</td>\n",
       "      <td>VB</td>\n",
       "    </tr>\n",
       "    <tr>\n",
       "      <th>6</th>\n",
       "      <td>7</td>\n",
       "      <td>2</td>\n",
       "      <td>5.1</td>\n",
       "      <td>VB</td>\n",
       "    </tr>\n",
       "    <tr>\n",
       "      <th>7</th>\n",
       "      <td>8</td>\n",
       "      <td>2a</td>\n",
       "      <td>5.1</td>\n",
       "      <td>VB</td>\n",
       "    </tr>\n",
       "    <tr>\n",
       "      <th>8</th>\n",
       "      <td>9</td>\n",
       "      <td>2b</td>\n",
       "      <td>5.1</td>\n",
       "      <td>VB</td>\n",
       "    </tr>\n",
       "    <tr>\n",
       "      <th>9</th>\n",
       "      <td>10</td>\n",
       "      <td>2c</td>\n",
       "      <td>5.1</td>\n",
       "      <td>VB</td>\n",
       "    </tr>\n",
       "  </tbody>\n",
       "</table>\n",
       "</div>"
      ],
      "text/plain": [
       "   id grado_frances grado_usa grado_bloque_usa\n",
       "0   1             -       3/4               VB\n",
       "1   2             1       3/4               VB\n",
       "2   3            1a       3/4               VB\n",
       "3   4            1b       3/4               VB\n",
       "4   5            1c       3/4               VB\n",
       "5   6            1+       3/4               VB\n",
       "6   7             2       5.1               VB\n",
       "7   8            2a       5.1               VB\n",
       "8   9            2b       5.1               VB\n",
       "9  10            2c       5.1               VB"
      ]
     },
     "execution_count": 6,
     "metadata": {},
     "output_type": "execute_result"
    }
   ],
   "source": [
    "df_dificultades.replace(r'^\\s*$', np.nan, regex=True, inplace = True);\n",
    "df_dificultades = df_dificultades.fillna(method='ffill');\n",
    "\n",
    "df_dificultades.head(10)"
   ]
  },
  {
   "cell_type": "markdown",
   "metadata": {},
   "source": [
    "##  5. Extraccion de datos de tipos de encadenamiento\n",
    "\n",
    "Esta información la extraremos de la tabla 'method' que contiene lo siguiente:\n",
    "\n",
    "Los tipos de encadenamiento basicamente son 4 por orden de dificultad:\n",
    "\n",
    "- **\"On sight\"** o **\"A vista\"**: el escalador, sin poseer mas información que la visualización de la via y sin haber intentado subir anteriormente por ella, asciende con exito y de primero (desplegando la cuerda que le asegura) la via, sin colgarse de ningun seguro para descansar ni sin sufrir ninguna caida.\n",
    "\n",
    "- **\"Flash\"**: el escalador, sin haber intentado anteriormente la vía pero recibiendo indicaciones de un segundo escalador, asciende con exito y de primero (desplegando la cuerda que le asegura) la vía, sin colgarse ni sufrir ninguna caida\n",
    "\n",
    "- **\"Red point\"**: el escalador, habiendo intentado anteriormente la vía, asciende con exito y de primero (desplegando la cuerda que le asegura) la via, sin colgarse de ningún seguro para descansar ni sin sufrir ninguna caida.\n",
    "\n",
    "- **\"Top rope\"** o \"de segundo\": el escalado asciende la via con exito con la cuerda que le asegura instalada anteriormente por otro escalador. En este caso, no existe riesgo de caida ya que la cuerda que asegura al escalador siempre lo hace desde arriba.\n"
   ]
  },
  {
   "cell_type": "code",
   "execution_count": 7,
   "metadata": {
    "scrolled": true
   },
   "outputs": [
    {
     "data": {
      "text/html": [
       "<div>\n",
       "<style>\n",
       "    .dataframe thead tr:only-child th {\n",
       "        text-align: right;\n",
       "    }\n",
       "\n",
       "    .dataframe thead th {\n",
       "        text-align: left;\n",
       "    }\n",
       "\n",
       "    .dataframe tbody tr th {\n",
       "        vertical-align: top;\n",
       "    }\n",
       "</style>\n",
       "<table border=\"1\" class=\"dataframe\">\n",
       "  <thead>\n",
       "    <tr style=\"text-align: right;\">\n",
       "      <th></th>\n",
       "      <th>id</th>\n",
       "      <th>score</th>\n",
       "      <th>shorthand</th>\n",
       "      <th>name</th>\n",
       "    </tr>\n",
       "  </thead>\n",
       "  <tbody>\n",
       "    <tr>\n",
       "      <th>0</th>\n",
       "      <td>1</td>\n",
       "      <td>0</td>\n",
       "      <td>redpoint</td>\n",
       "      <td>Redpoint</td>\n",
       "    </tr>\n",
       "    <tr>\n",
       "      <th>1</th>\n",
       "      <td>2</td>\n",
       "      <td>53</td>\n",
       "      <td>flash</td>\n",
       "      <td>Flash</td>\n",
       "    </tr>\n",
       "    <tr>\n",
       "      <th>2</th>\n",
       "      <td>3</td>\n",
       "      <td>145</td>\n",
       "      <td>onsight</td>\n",
       "      <td>Onsight</td>\n",
       "    </tr>\n",
       "    <tr>\n",
       "      <th>3</th>\n",
       "      <td>4</td>\n",
       "      <td>-52</td>\n",
       "      <td>toprope</td>\n",
       "      <td>Toprope</td>\n",
       "    </tr>\n",
       "    <tr>\n",
       "      <th>4</th>\n",
       "      <td>5</td>\n",
       "      <td>95</td>\n",
       "      <td>onsight</td>\n",
       "      <td>Onsight</td>\n",
       "    </tr>\n",
       "  </tbody>\n",
       "</table>\n",
       "</div>"
      ],
      "text/plain": [
       "   id  score shorthand      name\n",
       "0   1      0  redpoint  Redpoint\n",
       "1   2     53     flash     Flash\n",
       "2   3    145   onsight   Onsight\n",
       "3   4    -52   toprope   Toprope\n",
       "4   5     95   onsight   Onsight"
      ]
     },
     "execution_count": 7,
     "metadata": {},
     "output_type": "execute_result"
    }
   ],
   "source": [
    "df_tipos_encadenamiento = pd.read_sql_query(\n",
    "    '''\n",
    "    SELECT *\n",
    "    FROM method\n",
    "    ''',\n",
    "    dbConnection)\n",
    "\n",
    "df_tipos_encadenamiento.head()"
   ]
  },
  {
   "cell_type": "markdown",
   "metadata": {},
   "source": [
    "\n",
    "**IMPORTANTE** Esta tabla muestra dos categorías repetidas (Onsight) asi que lo tendré en cuenta más adelante al obtener los datos de ascensos, para reemplazar en la clave foranea de dificultad 5 por la clave 3 que es la que voy a dejar.\n"
   ]
  },
  {
   "cell_type": "code",
   "execution_count": 8,
   "metadata": {},
   "outputs": [
    {
     "data": {
      "text/html": [
       "<div>\n",
       "<style>\n",
       "    .dataframe thead tr:only-child th {\n",
       "        text-align: right;\n",
       "    }\n",
       "\n",
       "    .dataframe thead th {\n",
       "        text-align: left;\n",
       "    }\n",
       "\n",
       "    .dataframe tbody tr th {\n",
       "        vertical-align: top;\n",
       "    }\n",
       "</style>\n",
       "<table border=\"1\" class=\"dataframe\">\n",
       "  <thead>\n",
       "    <tr style=\"text-align: right;\">\n",
       "      <th></th>\n",
       "      <th>id</th>\n",
       "      <th>name</th>\n",
       "    </tr>\n",
       "  </thead>\n",
       "  <tbody>\n",
       "    <tr>\n",
       "      <th>0</th>\n",
       "      <td>1</td>\n",
       "      <td>Redpoint</td>\n",
       "    </tr>\n",
       "    <tr>\n",
       "      <th>1</th>\n",
       "      <td>2</td>\n",
       "      <td>Flash</td>\n",
       "    </tr>\n",
       "    <tr>\n",
       "      <th>2</th>\n",
       "      <td>3</td>\n",
       "      <td>Onsight</td>\n",
       "    </tr>\n",
       "    <tr>\n",
       "      <th>3</th>\n",
       "      <td>4</td>\n",
       "      <td>Toprope</td>\n",
       "    </tr>\n",
       "  </tbody>\n",
       "</table>\n",
       "</div>"
      ],
      "text/plain": [
       "   id      name\n",
       "0   1  Redpoint\n",
       "1   2     Flash\n",
       "2   3   Onsight\n",
       "3   4   Toprope"
      ]
     },
     "execution_count": 8,
     "metadata": {},
     "output_type": "execute_result"
    }
   ],
   "source": [
    "df_tipos_encadenamiento = pd.read_sql_query(\n",
    "    '''\n",
    "    SELECT id,\n",
    "           name\n",
    "    FROM method\n",
    "    ''',\n",
    "    dbConnection);\n",
    "df_tipos_encadenamiento = df_tipos_encadenamiento.drop([4]);\n",
    "df_tipos_encadenamiento.head()"
   ]
  },
  {
   "cell_type": "markdown",
   "metadata": {},
   "source": [
    "##   Extraccion de datos de Ascensos\n",
    "\n",
    "La tabla de ascenosos es 'ascent'. Como era de esperar, se trata de una tabla mucho más grande que las anteriores. Ire filtrando en base a un creiterio de integridad y bondad de la información, y posteriormente limitaré por fecha los ascensos a tratar."
   ]
  },
  {
   "cell_type": "code",
   "execution_count": 9,
   "metadata": {},
   "outputs": [
    {
     "data": {
      "text/html": [
       "<div>\n",
       "<style>\n",
       "    .dataframe thead tr:only-child th {\n",
       "        text-align: right;\n",
       "    }\n",
       "\n",
       "    .dataframe thead th {\n",
       "        text-align: left;\n",
       "    }\n",
       "\n",
       "    .dataframe tbody tr th {\n",
       "        vertical-align: top;\n",
       "    }\n",
       "</style>\n",
       "<table border=\"1\" class=\"dataframe\">\n",
       "  <thead>\n",
       "    <tr style=\"text-align: right;\">\n",
       "      <th></th>\n",
       "      <th>count()</th>\n",
       "    </tr>\n",
       "  </thead>\n",
       "  <tbody>\n",
       "    <tr>\n",
       "      <th>0</th>\n",
       "      <td>4111877</td>\n",
       "    </tr>\n",
       "  </tbody>\n",
       "</table>\n",
       "</div>"
      ],
      "text/plain": [
       "   count()\n",
       "0  4111877"
      ]
     },
     "execution_count": 9,
     "metadata": {},
     "output_type": "execute_result"
    }
   ],
   "source": [
    "pd.read_sql_query(\n",
    "    '''\n",
    "    SELECT count()\n",
    "    FROM ascent;\n",
    "    ''', \n",
    "    dbConnection)"
   ]
  },
  {
   "cell_type": "markdown",
   "metadata": {},
   "source": [
    "Campos de la tabla"
   ]
  },
  {
   "cell_type": "code",
   "execution_count": 10,
   "metadata": {
    "scrolled": true
   },
   "outputs": [
    {
     "data": {
      "text/plain": [
       "['id',\n",
       " 'user_id',\n",
       " 'grade_id',\n",
       " 'notes',\n",
       " 'raw_notes',\n",
       " 'method_id',\n",
       " 'climb_type',\n",
       " 'total_score',\n",
       " 'date',\n",
       " 'year',\n",
       " 'last_year',\n",
       " 'rec_date',\n",
       " 'project_ascent_date',\n",
       " 'name',\n",
       " 'crag_id',\n",
       " 'crag',\n",
       " 'sector_id',\n",
       " 'sector',\n",
       " 'country',\n",
       " 'comment',\n",
       " 'rating',\n",
       " 'description',\n",
       " 'yellow_id',\n",
       " 'climb_try',\n",
       " 'repeat',\n",
       " 'exclude_from_ranking',\n",
       " 'user_recommended',\n",
       " 'chipped']"
      ]
     },
     "execution_count": 10,
     "metadata": {},
     "output_type": "execute_result"
    }
   ],
   "source": [
    "df_ascensos = pd.read_sql_query(\n",
    "    '''\n",
    "    SELECT *\n",
    "    FROM ascent\n",
    "    LIMIT 1\n",
    "    ''',\n",
    "    dbConnection);\n",
    "list(df_ascensos)"
   ]
  },
  {
   "cell_type": "markdown",
   "metadata": {},
   "source": [
    "De todas esas columnas me interesan aquellas que tienen bien definido los siguientes campos:\n",
    "\n",
    "- name : nombre de la vía. No consideraré vías que no tienen nombre o este contiene solo simbolos de interrogación\n",
    "- crag : nombre del risco o zona de escalada\n",
    "- sector: nombre del sector\n",
    "- country: identificador del pais en el que está la vía\n",
    "- method_id: vamos a transformarlo de manera que evitemos la duplicidad en el tipo \"On Sight que hemos comentado anteriormente.\n",
    "- date : el campo date tiene la fecha en tiempo unix. Por claridad la convertiré a fecha\n"
   ]
  },
  {
   "cell_type": "code",
   "execution_count": 11,
   "metadata": {},
   "outputs": [
    {
     "data": {
      "text/html": [
       "<div>\n",
       "<style>\n",
       "    .dataframe thead tr:only-child th {\n",
       "        text-align: right;\n",
       "    }\n",
       "\n",
       "    .dataframe thead th {\n",
       "        text-align: left;\n",
       "    }\n",
       "\n",
       "    .dataframe tbody tr th {\n",
       "        vertical-align: top;\n",
       "    }\n",
       "</style>\n",
       "<table border=\"1\" class=\"dataframe\">\n",
       "  <thead>\n",
       "    <tr style=\"text-align: right;\">\n",
       "      <th></th>\n",
       "      <th>id_escalador</th>\n",
       "      <th>id_dificultad</th>\n",
       "      <th>id_tipo_encadenamiento</th>\n",
       "      <th>nombre_via</th>\n",
       "      <th>risco</th>\n",
       "      <th>sector</th>\n",
       "      <th>fecha</th>\n",
       "      <th>pais</th>\n",
       "    </tr>\n",
       "  </thead>\n",
       "  <tbody>\n",
       "    <tr>\n",
       "      <th>0</th>\n",
       "      <td>1</td>\n",
       "      <td>36</td>\n",
       "      <td>3</td>\n",
       "      <td>The King And I</td>\n",
       "      <td>Railay</td>\n",
       "      <td>Dum's kitchen</td>\n",
       "      <td>1999-02-06</td>\n",
       "      <td>THA</td>\n",
       "    </tr>\n",
       "    <tr>\n",
       "      <th>1</th>\n",
       "      <td>1</td>\n",
       "      <td>36</td>\n",
       "      <td>3</td>\n",
       "      <td>Mr Big</td>\n",
       "      <td>Sjöända</td>\n",
       "      <td>Huvudväggen</td>\n",
       "      <td>1999-07-26</td>\n",
       "      <td>SWE</td>\n",
       "    </tr>\n",
       "    <tr>\n",
       "      <th>2</th>\n",
       "      <td>1</td>\n",
       "      <td>36</td>\n",
       "      <td>3</td>\n",
       "      <td>Tak ska du ha</td>\n",
       "      <td>Sjöända</td>\n",
       "      <td>Huvudväggen</td>\n",
       "      <td>1999-07-26</td>\n",
       "      <td>SWE</td>\n",
       "    </tr>\n",
       "    <tr>\n",
       "      <th>3</th>\n",
       "      <td>1</td>\n",
       "      <td>38</td>\n",
       "      <td>3</td>\n",
       "      <td>Valentine</td>\n",
       "      <td>Railay</td>\n",
       "      <td>Muai Thai</td>\n",
       "      <td>1998-12-18</td>\n",
       "      <td>THA</td>\n",
       "    </tr>\n",
       "    <tr>\n",
       "      <th>4</th>\n",
       "      <td>1</td>\n",
       "      <td>38</td>\n",
       "      <td>1</td>\n",
       "      <td>Nuat Hin (Massage the Rock)</td>\n",
       "      <td>Railay</td>\n",
       "      <td>Muai Thai</td>\n",
       "      <td>1999-01-13</td>\n",
       "      <td>THA</td>\n",
       "    </tr>\n",
       "  </tbody>\n",
       "</table>\n",
       "</div>"
      ],
      "text/plain": [
       "   id_escalador  id_dificultad  id_tipo_encadenamiento  \\\n",
       "0             1             36                       3   \n",
       "1             1             36                       3   \n",
       "2             1             36                       3   \n",
       "3             1             38                       3   \n",
       "4             1             38                       1   \n",
       "\n",
       "                    nombre_via    risco         sector       fecha pais  \n",
       "0               The King And I   Railay  Dum's kitchen  1999-02-06  THA  \n",
       "1                       Mr Big  Sjöända    Huvudväggen  1999-07-26  SWE  \n",
       "2                Tak ska du ha  Sjöända    Huvudväggen  1999-07-26  SWE  \n",
       "3                    Valentine   Railay      Muai Thai  1998-12-18  THA  \n",
       "4  Nuat Hin (Massage the Rock)   Railay      Muai Thai  1999-01-13  THA  "
      ]
     },
     "execution_count": 11,
     "metadata": {},
     "output_type": "execute_result"
    }
   ],
   "source": [
    "df_ascensos = pd.read_sql_query(\n",
    "    '''\n",
    "    SELECT user_id AS \"id_escalador\",\n",
    "           grade_id AS \"id_dificultad\",\n",
    "           CASE WHEN method_id==5 then 3\n",
    "                ELSE method_id\n",
    "           END AS \"id_tipo_encadenamiento\",\n",
    "           name AS \"nombre_via\",\n",
    "           crag AS \"risco\",\n",
    "           sector,\n",
    "           strftime('%Y-%m-%d', datetime(date, 'unixepoch'))  AS \"fecha\",\n",
    "           country AS \"pais\"\n",
    "    FROM ascent\n",
    "    WHERE name IS NOT NULL AND name!=\"\" AND name NOT LIKE \"?%\"\n",
    "          AND crag IS NOT NULL AND crag!=\"\"\n",
    "          AND sector IS NOT NULL AND sector!=\"\"\n",
    "          AND country IS NOT NULL AND country!=\"\"\n",
    "    ''',\n",
    "    dbConnection);\n",
    "\n",
    "df_ascensos.head()\n"
   ]
  },
  {
   "cell_type": "code",
   "execution_count": 12,
   "metadata": {},
   "outputs": [
    {
     "data": {
      "text/plain": [
       "2804520"
      ]
     },
     "execution_count": 12,
     "metadata": {},
     "output_type": "execute_result"
    }
   ],
   "source": [
    "# numero de ascensos una vez filtrados los que tienen datos no deseados\n",
    "len(df_ascensos.index)"
   ]
  },
  {
   "cell_type": "markdown",
   "metadata": {},
   "source": [
    "Haciendo este filtrado todavía tenemos una tabla muy grande (2.8 millones de ascensos). Por ello vamos a quedarnos con las ascensiones las ultimas ascensiones desde enero de 2017:"
   ]
  },
  {
   "cell_type": "code",
   "execution_count": 13,
   "metadata": {},
   "outputs": [
    {
     "data": {
      "text/plain": [
       "207599"
      ]
     },
     "execution_count": 13,
     "metadata": {},
     "output_type": "execute_result"
    }
   ],
   "source": [
    "df_ascensos = df_ascensos[df_ascensos['fecha']>'2016-12-31'];\n",
    "len(df_ascensos.index)"
   ]
  },
  {
   "cell_type": "code",
   "execution_count": 14,
   "metadata": {},
   "outputs": [
    {
     "data": {
      "text/html": [
       "<div>\n",
       "<style>\n",
       "    .dataframe thead tr:only-child th {\n",
       "        text-align: right;\n",
       "    }\n",
       "\n",
       "    .dataframe thead th {\n",
       "        text-align: left;\n",
       "    }\n",
       "\n",
       "    .dataframe tbody tr th {\n",
       "        vertical-align: top;\n",
       "    }\n",
       "</style>\n",
       "<table border=\"1\" class=\"dataframe\">\n",
       "  <thead>\n",
       "    <tr style=\"text-align: right;\">\n",
       "      <th></th>\n",
       "      <th>id_escalador</th>\n",
       "      <th>id_dificultad</th>\n",
       "      <th>id_tipo_encadenamiento</th>\n",
       "      <th>nombre_via</th>\n",
       "      <th>risco</th>\n",
       "      <th>sector</th>\n",
       "      <th>fecha</th>\n",
       "      <th>pais</th>\n",
       "    </tr>\n",
       "  </thead>\n",
       "  <tbody>\n",
       "    <tr>\n",
       "      <th>172880</th>\n",
       "      <td>9340</td>\n",
       "      <td>44</td>\n",
       "      <td>1</td>\n",
       "      <td>Burden Chuchen</td>\n",
       "      <td>Siurana</td>\n",
       "      <td>L'olla</td>\n",
       "      <td>2017-01-02</td>\n",
       "      <td>ESP</td>\n",
       "    </tr>\n",
       "    <tr>\n",
       "      <th>365806</th>\n",
       "      <td>11635</td>\n",
       "      <td>53</td>\n",
       "      <td>1</td>\n",
       "      <td>Acampamento Base</td>\n",
       "      <td>Cocalzinho</td>\n",
       "      <td>pista</td>\n",
       "      <td>2017-05-06</td>\n",
       "      <td>BRA</td>\n",
       "    </tr>\n",
       "    <tr>\n",
       "      <th>462997</th>\n",
       "      <td>25134</td>\n",
       "      <td>53</td>\n",
       "      <td>1</td>\n",
       "      <td>Lady die</td>\n",
       "      <td>Hell</td>\n",
       "      <td>Rå nytelse</td>\n",
       "      <td>2017-09-05</td>\n",
       "      <td>NOR</td>\n",
       "    </tr>\n",
       "    <tr>\n",
       "      <th>582046</th>\n",
       "      <td>19578</td>\n",
       "      <td>40</td>\n",
       "      <td>1</td>\n",
       "      <td>Poquito a poco</td>\n",
       "      <td>Patones</td>\n",
       "      <td>Maracaibo</td>\n",
       "      <td>2017-07-13</td>\n",
       "      <td>ESP</td>\n",
       "    </tr>\n",
       "    <tr>\n",
       "      <th>617768</th>\n",
       "      <td>21747</td>\n",
       "      <td>51</td>\n",
       "      <td>1</td>\n",
       "      <td>Les 5 soeurs de Terres-Neuves</td>\n",
       "      <td>Freyr</td>\n",
       "      <td>Al legne</td>\n",
       "      <td>2017-04-02</td>\n",
       "      <td>BEL</td>\n",
       "    </tr>\n",
       "  </tbody>\n",
       "</table>\n",
       "</div>"
      ],
      "text/plain": [
       "        id_escalador  id_dificultad  id_tipo_encadenamiento  \\\n",
       "172880          9340             44                       1   \n",
       "365806         11635             53                       1   \n",
       "462997         25134             53                       1   \n",
       "582046         19578             40                       1   \n",
       "617768         21747             51                       1   \n",
       "\n",
       "                           nombre_via       risco      sector       fecha pais  \n",
       "172880                 Burden Chuchen     Siurana      L'olla  2017-01-02  ESP  \n",
       "365806               Acampamento Base  Cocalzinho       pista  2017-05-06  BRA  \n",
       "462997                       Lady die        Hell  Rå nytelse  2017-09-05  NOR  \n",
       "582046                 Poquito a poco     Patones   Maracaibo  2017-07-13  ESP  \n",
       "617768  Les 5 soeurs de Terres-Neuves       Freyr    Al legne  2017-04-02  BEL  "
      ]
     },
     "execution_count": 14,
     "metadata": {},
     "output_type": "execute_result"
    }
   ],
   "source": [
    "df_ascensos.head()"
   ]
  },
  {
   "cell_type": "markdown",
   "metadata": {},
   "source": [
    "##  Extraccion de datos de escaladores\n",
    "\n",
    "De la tabla de usuarios obtendré los datos de la tabla de escaladores de mi modelo conceptual.\n",
    "\n",
    "El numero de usuarios es bastante grande:"
   ]
  },
  {
   "cell_type": "code",
   "execution_count": 15,
   "metadata": {
    "scrolled": false
   },
   "outputs": [
    {
     "data": {
      "text/html": [
       "<div>\n",
       "<style>\n",
       "    .dataframe thead tr:only-child th {\n",
       "        text-align: right;\n",
       "    }\n",
       "\n",
       "    .dataframe thead th {\n",
       "        text-align: left;\n",
       "    }\n",
       "\n",
       "    .dataframe tbody tr th {\n",
       "        vertical-align: top;\n",
       "    }\n",
       "</style>\n",
       "<table border=\"1\" class=\"dataframe\">\n",
       "  <thead>\n",
       "    <tr style=\"text-align: right;\">\n",
       "      <th></th>\n",
       "      <th>count()</th>\n",
       "    </tr>\n",
       "  </thead>\n",
       "  <tbody>\n",
       "    <tr>\n",
       "      <th>0</th>\n",
       "      <td>62593</td>\n",
       "    </tr>\n",
       "  </tbody>\n",
       "</table>\n",
       "</div>"
      ],
      "text/plain": [
       "   count()\n",
       "0    62593"
      ]
     },
     "execution_count": 15,
     "metadata": {},
     "output_type": "execute_result"
    }
   ],
   "source": [
    "pd.read_sql_query(\n",
    "    '''\n",
    "    SELECT count()\n",
    "    FROM user;\n",
    "    ''', \n",
    "    dbConnection)\n"
   ]
  },
  {
   "cell_type": "markdown",
   "metadata": {},
   "source": [
    "Primero filtraré los campos de información para cada escalador:"
   ]
  },
  {
   "cell_type": "code",
   "execution_count": 16,
   "metadata": {
    "scrolled": true
   },
   "outputs": [
    {
     "data": {
      "text/plain": [
       "['id',\n",
       " 'first_name',\n",
       " 'last_name',\n",
       " 'city',\n",
       " 'country',\n",
       " 'sex',\n",
       " 'height',\n",
       " 'weight',\n",
       " 'started',\n",
       " 'competitions',\n",
       " 'occupation',\n",
       " 'sponsor1',\n",
       " 'sponsor2',\n",
       " 'sponsor3',\n",
       " 'best_area',\n",
       " 'worst_area',\n",
       " 'guide_area',\n",
       " 'interests',\n",
       " 'birth',\n",
       " 'presentation',\n",
       " 'deactivated',\n",
       " 'anonymous']"
      ]
     },
     "execution_count": 16,
     "metadata": {},
     "output_type": "execute_result"
    }
   ],
   "source": [
    "df_escaladores = pd.read_sql_query(\n",
    "    '''\n",
    "    SELECT *\n",
    "    FROM user\n",
    "    LIMIT 1\n",
    "    ''',\n",
    "    dbConnection);\n",
    "\n",
    "list(df_escaladores)"
   ]
  },
  {
   "cell_type": "markdown",
   "metadata": {},
   "source": [
    "De esta información me quedaré sólo con las columnas útiles para mi modelo:\n",
    "1. id\n",
    "2. first_name\n",
    "3. last_name\n",
    "4. city\n",
    "5. country\n",
    "6. sex\n",
    "7. started\n",
    "8. birth\n",
    "\n",
    "Para ello hago una query tomando solo esos campos sobre toda la tabla trasformando la tabla a las siguientes columnas:\n",
    "\n",
    "   | id | nombre | sexo | fecha_nacimiento | ciudad | pais | año_comienzo |\n",
    "   | -- | ------ | ---- | ---------------- | ------ | ---- | ------------ |\n",
    "   |    |        |      |                  |        |      |              |"
   ]
  },
  {
   "cell_type": "code",
   "execution_count": 17,
   "metadata": {
    "scrolled": true
   },
   "outputs": [
    {
     "data": {
      "text/html": [
       "<div>\n",
       "<style>\n",
       "    .dataframe thead tr:only-child th {\n",
       "        text-align: right;\n",
       "    }\n",
       "\n",
       "    .dataframe thead th {\n",
       "        text-align: left;\n",
       "    }\n",
       "\n",
       "    .dataframe tbody tr th {\n",
       "        vertical-align: top;\n",
       "    }\n",
       "</style>\n",
       "<table border=\"1\" class=\"dataframe\">\n",
       "  <thead>\n",
       "    <tr style=\"text-align: right;\">\n",
       "      <th></th>\n",
       "      <th>id</th>\n",
       "      <th>nombre</th>\n",
       "      <th>sexo</th>\n",
       "      <th>fecha_nacimiento</th>\n",
       "      <th>ciudad</th>\n",
       "      <th>pais</th>\n",
       "      <th>año_comienzo</th>\n",
       "    </tr>\n",
       "  </thead>\n",
       "  <tbody>\n",
       "    <tr>\n",
       "      <th>0</th>\n",
       "      <td>1</td>\n",
       "      <td>Leif Jägerbrand</td>\n",
       "      <td>Hombre</td>\n",
       "      <td>1976-03-10</td>\n",
       "      <td>Göteborg</td>\n",
       "      <td>SWE</td>\n",
       "      <td>1996</td>\n",
       "    </tr>\n",
       "    <tr>\n",
       "      <th>1</th>\n",
       "      <td>2</td>\n",
       "      <td>Andreas Collisch</td>\n",
       "      <td>Hombre</td>\n",
       "      <td>None</td>\n",
       "      <td>stockholm</td>\n",
       "      <td>SWE</td>\n",
       "      <td>2000</td>\n",
       "    </tr>\n",
       "    <tr>\n",
       "      <th>2</th>\n",
       "      <td>3</td>\n",
       "      <td>Magnus Öberg</td>\n",
       "      <td>Hombre</td>\n",
       "      <td>1973-09-09</td>\n",
       "      <td>Umeå</td>\n",
       "      <td>SWE</td>\n",
       "      <td>1995</td>\n",
       "    </tr>\n",
       "    <tr>\n",
       "      <th>3</th>\n",
       "      <td>4</td>\n",
       "      <td>Annika Frodi-Lundgren (f)</td>\n",
       "      <td>Mujer</td>\n",
       "      <td>1984-07-26</td>\n",
       "      <td>Goteborg</td>\n",
       "      <td>SWE</td>\n",
       "      <td>2001</td>\n",
       "    </tr>\n",
       "    <tr>\n",
       "      <th>4</th>\n",
       "      <td>5</td>\n",
       "      <td>Joe McLoughlin</td>\n",
       "      <td>Hombre</td>\n",
       "      <td>1969-05-07</td>\n",
       "      <td>North Attleboro</td>\n",
       "      <td>USA</td>\n",
       "      <td>1991</td>\n",
       "    </tr>\n",
       "  </tbody>\n",
       "</table>\n",
       "</div>"
      ],
      "text/plain": [
       "   id                     nombre    sexo fecha_nacimiento           ciudad  \\\n",
       "0   1            Leif Jägerbrand  Hombre       1976-03-10         Göteborg   \n",
       "1   2           Andreas Collisch  Hombre             None        stockholm   \n",
       "2   3               Magnus Öberg  Hombre       1973-09-09             Umeå   \n",
       "3   4  Annika Frodi-Lundgren (f)   Mujer       1984-07-26         Goteborg   \n",
       "4   5             Joe McLoughlin  Hombre       1969-05-07  North Attleboro   \n",
       "\n",
       "  pais  año_comienzo  \n",
       "0  SWE          1996  \n",
       "1  SWE          2000  \n",
       "2  SWE          1995  \n",
       "3  SWE          2001  \n",
       "4  USA          1991  "
      ]
     },
     "execution_count": 17,
     "metadata": {},
     "output_type": "execute_result"
    }
   ],
   "source": [
    "df_escaladores = pd.read_sql_query(\n",
    "    '''\n",
    "    SELECT id,\n",
    "           first_name || ' ' || last_name as \"nombre\",\n",
    "           CASE WHEN sex=0 THEN 'Hombre'\n",
    "                WHEN sex=1 THEN 'Mujer'\n",
    "                ELSE NULL\n",
    "           END as \"sexo\",\n",
    "           birth as \"fecha_nacimiento\",\n",
    "           city as \"ciudad\",\n",
    "           country as \"pais\",\n",
    "           started as \"año_comienzo\"\n",
    "    FROM user\n",
    "    ''',\n",
    "    dbConnection);\n",
    "\n",
    "df_escaladores.head()"
   ]
  },
  {
   "cell_type": "markdown",
   "metadata": {},
   "source": [
    "Es posible que muchos de estos escaldores (usuarios) en el ultimo año no hayan tenido actividad, por ello voy a filtrar de esta tabla aquellos escaladores que no han registrado ascensos en el periodo de tiempo elegido para analizar.\n",
    "\n",
    "Primero identifico qué usuarios ha tenido actividad ese periodo de tiempo:"
   ]
  },
  {
   "cell_type": "code",
   "execution_count": 18,
   "metadata": {},
   "outputs": [
    {
     "name": "stdout",
     "output_type": "stream",
     "text": [
      "[ 9340 11635 25134 ..., 41215 49175 44176]\n",
      "8082\n"
     ]
    }
   ],
   "source": [
    "ids_escaladores_con_ascensos = df_ascensos.id_escalador.unique();\n",
    "print(ids_escaladores_con_ascensos)\n",
    "print(len(ids_escaladores_con_ascensos))"
   ]
  },
  {
   "cell_type": "markdown",
   "metadata": {},
   "source": [
    "Con este vector de ids de usuario filtro el data frame de escaladores:"
   ]
  },
  {
   "cell_type": "code",
   "execution_count": 19,
   "metadata": {},
   "outputs": [
    {
     "data": {
      "text/html": [
       "<div>\n",
       "<style>\n",
       "    .dataframe thead tr:only-child th {\n",
       "        text-align: right;\n",
       "    }\n",
       "\n",
       "    .dataframe thead th {\n",
       "        text-align: left;\n",
       "    }\n",
       "\n",
       "    .dataframe tbody tr th {\n",
       "        vertical-align: top;\n",
       "    }\n",
       "</style>\n",
       "<table border=\"1\" class=\"dataframe\">\n",
       "  <thead>\n",
       "    <tr style=\"text-align: right;\">\n",
       "      <th></th>\n",
       "      <th>id</th>\n",
       "      <th>nombre</th>\n",
       "      <th>sexo</th>\n",
       "      <th>fecha_nacimiento</th>\n",
       "      <th>ciudad</th>\n",
       "      <th>pais</th>\n",
       "      <th>año_comienzo</th>\n",
       "    </tr>\n",
       "  </thead>\n",
       "  <tbody>\n",
       "    <tr>\n",
       "      <th>4</th>\n",
       "      <td>5</td>\n",
       "      <td>Joe McLoughlin</td>\n",
       "      <td>Hombre</td>\n",
       "      <td>1969-05-07</td>\n",
       "      <td>North Attleboro</td>\n",
       "      <td>USA</td>\n",
       "      <td>1991</td>\n",
       "    </tr>\n",
       "    <tr>\n",
       "      <th>6</th>\n",
       "      <td>10</td>\n",
       "      <td>Jens Larssen</td>\n",
       "      <td>Hombre</td>\n",
       "      <td>1965-06-22</td>\n",
       "      <td>Göteborg</td>\n",
       "      <td>SWE</td>\n",
       "      <td>1992</td>\n",
       "    </tr>\n",
       "    <tr>\n",
       "      <th>24</th>\n",
       "      <td>28</td>\n",
       "      <td>Knut Rokne</td>\n",
       "      <td>Hombre</td>\n",
       "      <td>1972-03-27</td>\n",
       "      <td>Calgary</td>\n",
       "      <td>CAN</td>\n",
       "      <td>1988</td>\n",
       "    </tr>\n",
       "    <tr>\n",
       "      <th>30</th>\n",
       "      <td>35</td>\n",
       "      <td>Jason Kester</td>\n",
       "      <td>Hombre</td>\n",
       "      <td>1971-08-12</td>\n",
       "      <td>portland</td>\n",
       "      <td>USA</td>\n",
       "      <td>1992</td>\n",
       "    </tr>\n",
       "    <tr>\n",
       "      <th>33</th>\n",
       "      <td>38</td>\n",
       "      <td>Alan Cassidy</td>\n",
       "      <td>Hombre</td>\n",
       "      <td>1982-12-10</td>\n",
       "      <td>Glasgow</td>\n",
       "      <td>GBR</td>\n",
       "      <td>1993</td>\n",
       "    </tr>\n",
       "  </tbody>\n",
       "</table>\n",
       "</div>"
      ],
      "text/plain": [
       "    id          nombre    sexo fecha_nacimiento           ciudad pais  \\\n",
       "4    5  Joe McLoughlin  Hombre       1969-05-07  North Attleboro  USA   \n",
       "6   10    Jens Larssen  Hombre       1965-06-22         Göteborg  SWE   \n",
       "24  28      Knut Rokne  Hombre       1972-03-27          Calgary  CAN   \n",
       "30  35    Jason Kester  Hombre       1971-08-12         portland  USA   \n",
       "33  38    Alan Cassidy  Hombre       1982-12-10          Glasgow  GBR   \n",
       "\n",
       "    año_comienzo  \n",
       "4           1991  \n",
       "6           1992  \n",
       "24          1988  \n",
       "30          1992  \n",
       "33          1993  "
      ]
     },
     "execution_count": 19,
     "metadata": {},
     "output_type": "execute_result"
    }
   ],
   "source": [
    "df_escaladores = df_escaladores[df_escaladores.id.isin(ids_escaladores_con_ascensos)]\n",
    "df_escaladores.head()"
   ]
  },
  {
   "cell_type": "code",
   "execution_count": 20,
   "metadata": {},
   "outputs": [
    {
     "name": "stdout",
     "output_type": "stream",
     "text": [
      "8081\n"
     ]
    }
   ],
   "source": [
    "print(len(df_escaladores))"
   ]
  },
  {
   "cell_type": "markdown",
   "metadata": {},
   "source": [
    "Curiosamente, esto ultimo me indica que hay un indice de escalador que aparece en los ascensos y que no está en la lista de usuarios. A continuación identificamos el identificador del usuario perdido y vemos cuantos ascensos tiene registrado dicho usuario."
   ]
  },
  {
   "cell_type": "code",
   "execution_count": 23,
   "metadata": {},
   "outputs": [
    {
     "name": "stdout",
     "output_type": "stream",
     "text": [
      "ID de usuario perdido:  10877\n",
      "Numero de ascensos del usuario:  12\n"
     ]
    }
   ],
   "source": [
    "ids_escaladores = df_escaladores.id.unique();\n",
    "id_usuario_perdido = list(set(ids_escaladores)^set(ids_escaladores_con_ascensos))[0]\n",
    "print ('ID de usuario perdido: ', id_usuario_perdido)\n",
    "print ('Numero de ascensos del usuario: ', len(df_ascensos[df_ascensos.id_escalador==id_usuario_perdido]))"
   ]
  },
  {
   "cell_type": "markdown",
   "metadata": {},
   "source": [
    "Eliminamos dichos registros de la tabla de ascensos. Son muy pocos respecto al global"
   ]
  },
  {
   "cell_type": "code",
   "execution_count": 26,
   "metadata": {},
   "outputs": [
    {
     "name": "stdout",
     "output_type": "stream",
     "text": [
      "Ascensos ANTES de eliminar los del usuario misterioso:  207587\n",
      "Ascensos DESPUES de eliminar los del usuario misterioso:  207587\n"
     ]
    }
   ],
   "source": [
    "print ('Ascensos ANTES de eliminar los del usuario misterioso: ', len(df_ascensos));\n",
    "df_ascensos = df_ascensos[df_ascensos.id_escalador!=id_usuario_perdido];\n",
    "print ('Ascensos DESPUES de eliminar los del usuario misterioso: ', len(df_ascensos));"
   ]
  },
  {
   "cell_type": "markdown",
   "metadata": {},
   "source": [
    "\n",
    "# Evaluacion final de data frames y escritura de fichero Excel\n"
   ]
  },
  {
   "cell_type": "code",
   "execution_count": 27,
   "metadata": {},
   "outputs": [
    {
     "name": "stdout",
     "output_type": "stream",
     "text": [
      "<class 'pandas.core.frame.DataFrame'>\n",
      "RangeIndex: 83 entries, 0 to 82\n",
      "Data columns (total 4 columns):\n",
      "id                  83 non-null int64\n",
      "grado_frances       83 non-null object\n",
      "grado_usa           83 non-null object\n",
      "grado_bloque_usa    83 non-null object\n",
      "dtypes: int64(1), object(3)\n",
      "memory usage: 2.7+ KB\n"
     ]
    }
   ],
   "source": [
    "df_dificultades.info()"
   ]
  },
  {
   "cell_type": "code",
   "execution_count": 28,
   "metadata": {
    "scrolled": true
   },
   "outputs": [
    {
     "name": "stdout",
     "output_type": "stream",
     "text": [
      "<class 'pandas.core.frame.DataFrame'>\n",
      "Int64Index: 4 entries, 0 to 3\n",
      "Data columns (total 2 columns):\n",
      "id      4 non-null int64\n",
      "name    4 non-null object\n",
      "dtypes: int64(1), object(1)\n",
      "memory usage: 96.0+ bytes\n"
     ]
    }
   ],
   "source": [
    "df_tipos_encadenamiento.info()"
   ]
  },
  {
   "cell_type": "code",
   "execution_count": 29,
   "metadata": {},
   "outputs": [
    {
     "name": "stdout",
     "output_type": "stream",
     "text": [
      "<class 'pandas.core.frame.DataFrame'>\n",
      "Int64Index: 207587 entries, 172880 to 2804519\n",
      "Data columns (total 8 columns):\n",
      "id_escalador              207587 non-null int64\n",
      "id_dificultad             207587 non-null int64\n",
      "id_tipo_encadenamiento    207587 non-null int64\n",
      "nombre_via                207587 non-null object\n",
      "risco                     207587 non-null object\n",
      "sector                    207587 non-null object\n",
      "fecha                     207587 non-null object\n",
      "pais                      207587 non-null object\n",
      "dtypes: int64(3), object(5)\n",
      "memory usage: 14.3+ MB\n"
     ]
    }
   ],
   "source": [
    "df_ascensos.info()"
   ]
  },
  {
   "cell_type": "code",
   "execution_count": 30,
   "metadata": {},
   "outputs": [
    {
     "name": "stdout",
     "output_type": "stream",
     "text": [
      "<class 'pandas.core.frame.DataFrame'>\n",
      "Int64Index: 8081 entries, 4 to 62592\n",
      "Data columns (total 7 columns):\n",
      "id                  8081 non-null int64\n",
      "nombre              8081 non-null object\n",
      "sexo                8081 non-null object\n",
      "fecha_nacimiento    5410 non-null object\n",
      "ciudad              8081 non-null object\n",
      "pais                8081 non-null object\n",
      "año_comienzo        8081 non-null int64\n",
      "dtypes: int64(2), object(5)\n",
      "memory usage: 505.1+ KB\n"
     ]
    }
   ],
   "source": [
    "df_escaladores.info()"
   ]
  },
  {
   "cell_type": "code",
   "execution_count": 32,
   "metadata": {},
   "outputs": [],
   "source": [
    "df_dificultades.to_csv('./data/dificultades.csv', encoding='utf-8', index=False);\n",
    "df_tipos_encadenamiento.to_csv('./data/tipos_encadenamiento.csv', encoding='utf-8', index=False);\n",
    "df_ascensos.to_csv('./data/ascensos_2017.csv', encoding='utf-8');\n",
    "df_escaladores.to_csv('./data/escaladores_2017.csv', encoding='utf-8', index=False);\n"
   ]
  }
 ],
 "metadata": {
  "kernelspec": {
   "display_name": "Python 3",
   "language": "python",
   "name": "python3"
  },
  "language_info": {
   "codemirror_mode": {
    "name": "ipython",
    "version": 3
   },
   "file_extension": ".py",
   "mimetype": "text/x-python",
   "name": "python",
   "nbconvert_exporter": "python",
   "pygments_lexer": "ipython3",
   "version": "3.6.3"
  }
 },
 "nbformat": 4,
 "nbformat_minor": 2
}
