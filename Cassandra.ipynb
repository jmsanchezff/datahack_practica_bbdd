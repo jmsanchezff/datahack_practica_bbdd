{
 "cells": [
  {
   "cell_type": "markdown",
   "metadata": {},
   "source": [
    "# Base de datos Cassandra"
   ]
  },
  {
   "cell_type": "markdown",
   "metadata": {},
   "source": [
    "## Conexion y borrado de datos"
   ]
  },
  {
   "cell_type": "code",
   "execution_count": 1,
   "metadata": {
    "collapsed": false
   },
   "outputs": [],
   "source": [
    "%load_ext cql"
   ]
  },
  {
   "cell_type": "code",
   "execution_count": 2,
   "metadata": {
    "collapsed": false
   },
   "outputs": [
    {
     "data": {
      "text/plain": [
       "'No results.'"
      ]
     },
     "execution_count": 2,
     "metadata": {},
     "output_type": "execute_result"
    }
   ],
   "source": [
    "%%cql\n",
    "DROP KEYSPACE practica_8anu;"
   ]
  },
  {
   "cell_type": "code",
   "execution_count": 3,
   "metadata": {
    "collapsed": false
   },
   "outputs": [
    {
     "data": {
      "text/plain": [
       "'No results.'"
      ]
     },
     "execution_count": 3,
     "metadata": {},
     "output_type": "execute_result"
    }
   ],
   "source": [
    "%%cql\n",
    "CREATE KEYSPACE practica_8anu \n",
    "WITH replication = {'class':'SimpleStrategy', 'replication_factor': 1};"
   ]
  },
  {
   "cell_type": "code",
   "execution_count": 4,
   "metadata": {
    "collapsed": false
   },
   "outputs": [
    {
     "data": {
      "text/plain": [
       "'No results.'"
      ]
     },
     "execution_count": 4,
     "metadata": {},
     "output_type": "execute_result"
    }
   ],
   "source": [
    "%cql USE practica_8anu;"
   ]
  },
  {
   "cell_type": "markdown",
   "metadata": {},
   "source": [
    "## Creacion de tablas\n",
    "\n",
    "Para la resolución de las cuestiones he utilizado utilizado tablas, tablas de acumulación y vistas materializadas con el objetivo resolver las preuntas utilizando al máximo posible la funcionalidad que la propia base de datos ofrece.\n",
    "\n",
    "En las imagenes siguientes aparecen por orden las claves primarias, siendo las rojas claves de partición y las azules claves de clustering. Si además se ha solicitado un orden en el clustering, se especifica en qué columna(s) se ha(n) pedido y con que ordenacion(ASC o DESC).\n",
    "\n",
    "Como se va a poder observar, las tablas aparecen desnormalizadas, repitiendo información según la información que se ha querido visualizar en las respuestas a las preguntas.\n",
    "\n",
    "Las **tablas \"normales\"** creadas han sido estas:\n",
    "\n",
    "![Tablas](./img/cassandra1.JPG)\n",
    "\n",
    "**TABLAS DE ACUMULACIÓN**\n",
    "\n",
    "Las **tablas de acumulacion** las he realizado debido a que algunas preguntas requerían la aplicación de funciones de agregacion (como la media) y agrupación por los valores de alguna columna. Cassandra ofrece la posibilidad de aplicar funciones de agregación (como se ve en alguna respuesta) pero no de agrupación. Para resolver esto he recurrido a las tablas de acumulación y así probar esta funcionalidad que ofrece Cassandra. Es remarcable que este tipo de situacion agregacion+agrupación tambien es resoluble realizando tablas en las que solo existieran elementos de un tipo en función de la columna sobre la que se solicta la agrupación.\n",
    "\n",
    "![Tablas acumulacion](./img/cassandra2.JPG)\n",
    "\n",
    "**VISTAS MATERIALIZADAS**\n",
    "\n",
    "He recurrido intensivamente al **uso de vistas materializadas sobre la tabla de ascensos** que es la que más informacion tiene. Lo he hecho asi con el fin de explotar al maximo posible la funcionalidad que esta base de datos ofrece. Esto se debe a que sobre los ascensos se realizan muchas preguntas de muy diferente indole, en las que a veces interesa un acceso y/o una ordenación diferente.\n",
    "\n",
    "![Vistas materializadas](./img/cassandra3.JPG)\n",
    "![Vistas materializadas](./img/cassandra4.JPG)\n",
    "![Vistas materializadas](./img/cassandra5.JPG)\n",
    "\n"
   ]
  },
  {
   "cell_type": "markdown",
   "metadata": {},
   "source": [
    "** TABLA ESCALADORES, ASCENSOS Y DIFICULTADES **"
   ]
  },
  {
   "cell_type": "code",
   "execution_count": 5,
   "metadata": {
    "collapsed": false
   },
   "outputs": [
    {
     "data": {
      "text/plain": [
       "'No results.'"
      ]
     },
     "execution_count": 5,
     "metadata": {},
     "output_type": "execute_result"
    }
   ],
   "source": [
    "%%cql \n",
    "CREATE TABLE escaladores (\n",
    "    id_escalador    int,\n",
    "    nombre          text,\n",
    "    sexo            text,\n",
    "    pais            text,\n",
    "    anio_comienzo   int,\n",
    "    PRIMARY KEY (id_escalador)\n",
    ");"
   ]
  },
  {
   "cell_type": "code",
   "execution_count": 6,
   "metadata": {
    "collapsed": false
   },
   "outputs": [
    {
     "data": {
      "text/plain": [
       "'No results.'"
      ]
     },
     "execution_count": 6,
     "metadata": {},
     "output_type": "execute_result"
    }
   ],
   "source": [
    "%%cql \n",
    "CREATE TABLE ascensos (\n",
    "    uid                  uuid,\n",
    "    id_escalador         int,\n",
    "    nombre_escalador     text,\n",
    "    pais_escalador       text,\n",
    "    anio_comienzo        int,\n",
    "    nombre_via           text,\n",
    "    dificultad           int,\n",
    "    grado_frances        text,\n",
    "    tipo_encadenamiento  text,\n",
    "    risco                text,\n",
    "    pais_risco           text,\n",
    "    PRIMARY KEY (id_escalador, tipo_encadenamiento, dificultad, pais_risco, uid)\n",
    ");"
   ]
  },
  {
   "cell_type": "code",
   "execution_count": 7,
   "metadata": {
    "collapsed": false
   },
   "outputs": [
    {
     "data": {
      "text/plain": [
       "'No results.'"
      ]
     },
     "execution_count": 7,
     "metadata": {},
     "output_type": "execute_result"
    }
   ],
   "source": [
    "%%cql \n",
    "CREATE TABLE dificultades (\n",
    "    dificultad    int,\n",
    "    grado_frances text,\n",
    "    PRIMARY KEY (dificultad)\n",
    ");"
   ]
  },
  {
   "cell_type": "markdown",
   "metadata": {},
   "source": [
    "** TABLA DE ACUMULACION **"
   ]
  },
  {
   "cell_type": "markdown",
   "metadata": {},
   "source": [
    "**Ascensos acumulados por sexo y escalador**"
   ]
  },
  {
   "cell_type": "code",
   "execution_count": 8,
   "metadata": {
    "collapsed": false
   },
   "outputs": [
    {
     "data": {
      "text/plain": [
       "'No results.'"
      ]
     },
     "execution_count": 8,
     "metadata": {},
     "output_type": "execute_result"
    }
   ],
   "source": [
    "%%cql \n",
    "CREATE TABLE ascensos_acumulados_hombres (\n",
    "    id_escalador    int,\n",
    "    num_ascensos    counter,\n",
    "    dificultad_acum counter,\n",
    "    PRIMARY KEY (id_escalador)\n",
    ");"
   ]
  },
  {
   "cell_type": "code",
   "execution_count": 9,
   "metadata": {
    "collapsed": false
   },
   "outputs": [
    {
     "data": {
      "text/plain": [
       "'No results.'"
      ]
     },
     "execution_count": 9,
     "metadata": {},
     "output_type": "execute_result"
    }
   ],
   "source": [
    "%%cql \n",
    "CREATE TABLE ascensos_acumulados_mujeres (\n",
    "    id_escalador    int,\n",
    "    num_ascensos    counter,\n",
    "    dificultad_acum counter,\n",
    "    PRIMARY KEY (id_escalador)\n",
    ");"
   ]
  },
  {
   "cell_type": "markdown",
   "metadata": {},
   "source": [
    "** Tablas de ascensos acumulados de escaladores españoles y no españoles en España: **"
   ]
  },
  {
   "cell_type": "code",
   "execution_count": 10,
   "metadata": {
    "collapsed": false
   },
   "outputs": [
    {
     "data": {
      "text/plain": [
       "'No results.'"
      ]
     },
     "execution_count": 10,
     "metadata": {},
     "output_type": "execute_result"
    }
   ],
   "source": [
    "%%cql \n",
    "CREATE TABLE ascensos_acum_esp_esp (\n",
    "    id_escalador    int,\n",
    "    nombre_escalador text,\n",
    "    pais_escalador   text,\n",
    "    num_ascensos    counter,\n",
    "    PRIMARY KEY (id_escalador, nombre_escalador, pais_escalador)\n",
    ");"
   ]
  },
  {
   "cell_type": "code",
   "execution_count": 11,
   "metadata": {
    "collapsed": false
   },
   "outputs": [
    {
     "data": {
      "text/plain": [
       "'No results.'"
      ]
     },
     "execution_count": 11,
     "metadata": {},
     "output_type": "execute_result"
    }
   ],
   "source": [
    "%%cql \n",
    "CREATE TABLE ascensos_acum_noesp_esp (\n",
    "    id_escalador    int,\n",
    "    nombre_escalador text,\n",
    "    pais_escalador   text,\n",
    "    num_ascensos    counter,\n",
    "    PRIMARY KEY (id_escalador, nombre_escalador, pais_escalador )\n",
    ");"
   ]
  },
  {
   "cell_type": "markdown",
   "metadata": {},
   "source": [
    "**Ascensos acumulados por risco y pais:**"
   ]
  },
  {
   "cell_type": "code",
   "execution_count": 12,
   "metadata": {
    "collapsed": false
   },
   "outputs": [
    {
     "data": {
      "text/plain": [
       "'No results.'"
      ]
     },
     "execution_count": 12,
     "metadata": {},
     "output_type": "execute_result"
    }
   ],
   "source": [
    "%%cql \n",
    "CREATE TABLE ascensos_acum_pais_risco (\n",
    "    pais_risco      text,\n",
    "    risco           text,\n",
    "    num_ascensos    counter,\n",
    "    dificultad_acum counter,\n",
    "    PRIMARY KEY (pais_risco, risco)\n",
    ");"
   ]
  },
  {
   "cell_type": "markdown",
   "metadata": {},
   "source": [
    "** VISTAS MATERIALIZADAS **"
   ]
  },
  {
   "cell_type": "code",
   "execution_count": 13,
   "metadata": {
    "collapsed": false
   },
   "outputs": [
    {
     "data": {
      "text/plain": [
       "'No results.'"
      ]
     },
     "execution_count": 13,
     "metadata": {},
     "output_type": "execute_result"
    }
   ],
   "source": [
    "%%cql \n",
    "CREATE MATERIALIZED VIEW ascensos_por_encadenamiento_escalador AS\n",
    "    SELECT * FROM ascensos\n",
    "    WHERE uid IS NOT NULL\n",
    "        AND tipo_encadenamiento IS NOT NULL\n",
    "        AND id_escalador IS NOT NULL\n",
    "        AND nombre_escalador IS NOT NULL\n",
    "        AND pais_escalador IS NOT NULL\n",
    "        AND anio_comienzo IS NOT NULL\n",
    "        AND nombre_via IS NOT NULL\n",
    "        AND dificultad IS NOT NULL\n",
    "        AND grado_frances IS NOT NULL\n",
    "        AND tipo_encadenamiento IS NOT NULL\n",
    "        AND risco IS NOT NULL\n",
    "        AND pais_risco IS NOT NULL \n",
    "    PRIMARY KEY (tipo_encadenamiento, id_escalador, dificultad, nombre_via, pais_risco, uid) \n",
    "    WITH CLUSTERING ORDER BY (dificultad DESC, nombre_via ASC);"
   ]
  },
  {
   "cell_type": "code",
   "execution_count": 14,
   "metadata": {
    "collapsed": false
   },
   "outputs": [
    {
     "data": {
      "text/plain": [
       "'No results.'"
      ]
     },
     "execution_count": 14,
     "metadata": {},
     "output_type": "execute_result"
    }
   ],
   "source": [
    "%%cql \n",
    "CREATE MATERIALIZED VIEW ascensos_por_encadenamiento_dificultad AS\n",
    "    SELECT * FROM ascensos\n",
    "    WHERE uid IS NOT NULL\n",
    "        AND tipo_encadenamiento IS NOT NULL\n",
    "        AND id_escalador IS NOT NULL\n",
    "        AND nombre_escalador IS NOT NULL\n",
    "        AND pais_escalador IS NOT NULL\n",
    "        AND anio_comienzo IS NOT NULL\n",
    "        AND nombre_via IS NOT NULL\n",
    "        AND dificultad IS NOT NULL\n",
    "        AND grado_frances IS NOT NULL\n",
    "        AND tipo_encadenamiento IS NOT NULL\n",
    "        AND risco IS NOT NULL\n",
    "        AND pais_risco IS NOT NULL \n",
    "    PRIMARY KEY (tipo_encadenamiento, dificultad, id_escalador, nombre_via, pais_risco, uid) \n",
    "    WITH CLUSTERING ORDER BY (dificultad DESC);"
   ]
  },
  {
   "cell_type": "code",
   "execution_count": 15,
   "metadata": {
    "collapsed": false
   },
   "outputs": [
    {
     "data": {
      "text/plain": [
       "'No results.'"
      ]
     },
     "execution_count": 15,
     "metadata": {},
     "output_type": "execute_result"
    }
   ],
   "source": [
    "%%cql \n",
    "CREATE MATERIALIZED VIEW ascensos_por_escalador_paisRisco AS\n",
    "    SELECT * FROM ascensos\n",
    "    WHERE uid IS NOT NULL\n",
    "        AND tipo_encadenamiento IS NOT NULL\n",
    "        AND id_escalador IS NOT NULL\n",
    "        AND nombre_escalador IS NOT NULL\n",
    "        AND pais_escalador IS NOT NULL\n",
    "        AND anio_comienzo IS NOT NULL\n",
    "        AND nombre_via IS NOT NULL\n",
    "        AND dificultad IS NOT NULL\n",
    "        AND grado_frances IS NOT NULL\n",
    "        AND tipo_encadenamiento IS NOT NULL\n",
    "        AND risco IS NOT NULL\n",
    "        AND pais_risco IS NOT NULL \n",
    "    PRIMARY KEY (id_escalador, pais_risco, dificultad, tipo_encadenamiento, nombre_via, uid) \n",
    "    WITH CLUSTERING ORDER BY (dificultad DESC);"
   ]
  },
  {
   "cell_type": "code",
   "execution_count": 16,
   "metadata": {
    "collapsed": false
   },
   "outputs": [
    {
     "data": {
      "text/plain": [
       "'No results.'"
      ]
     },
     "execution_count": 16,
     "metadata": {},
     "output_type": "execute_result"
    }
   ],
   "source": [
    "%%cql \n",
    "CREATE MATERIALIZED VIEW ascensos_por_encadenamiento_aniocomienzo AS\n",
    "    SELECT * FROM ascensos\n",
    "    WHERE uid IS NOT NULL\n",
    "        AND tipo_encadenamiento IS NOT NULL\n",
    "        AND id_escalador IS NOT NULL\n",
    "        AND nombre_escalador IS NOT NULL\n",
    "        AND pais_escalador IS NOT NULL\n",
    "        AND anio_comienzo IS NOT NULL\n",
    "        AND nombre_via IS NOT NULL\n",
    "        AND dificultad IS NOT NULL\n",
    "        AND grado_frances IS NOT NULL\n",
    "        AND tipo_encadenamiento IS NOT NULL\n",
    "        AND risco IS NOT NULL\n",
    "        AND pais_risco IS NOT NULL \n",
    "    PRIMARY KEY (tipo_encadenamiento, anio_comienzo, id_escalador, pais_risco, dificultad, uid);"
   ]
  },
  {
   "cell_type": "code",
   "execution_count": 17,
   "metadata": {
    "collapsed": false
   },
   "outputs": [
    {
     "data": {
      "text/plain": [
       "'No results.'"
      ]
     },
     "execution_count": 17,
     "metadata": {},
     "output_type": "execute_result"
    }
   ],
   "source": [
    "%%cql \n",
    "CREATE MATERIALIZED VIEW ascensos_por_pais AS\n",
    "    SELECT * FROM ascensos\n",
    "    WHERE uid IS NOT NULL\n",
    "        AND tipo_encadenamiento IS NOT NULL\n",
    "        AND id_escalador IS NOT NULL\n",
    "        AND nombre_escalador IS NOT NULL\n",
    "        AND pais_escalador IS NOT NULL\n",
    "        AND anio_comienzo IS NOT NULL\n",
    "        AND nombre_via IS NOT NULL\n",
    "        AND dificultad IS NOT NULL\n",
    "        AND grado_frances IS NOT NULL\n",
    "        AND tipo_encadenamiento IS NOT NULL\n",
    "        AND risco IS NOT NULL\n",
    "        AND pais_risco IS NOT NULL \n",
    "    PRIMARY KEY (pais_risco, tipo_encadenamiento, id_escalador, dificultad, uid);"
   ]
  },
  {
   "cell_type": "markdown",
   "metadata": {},
   "source": [
    "## Lectura de la informacion en Pandas"
   ]
  },
  {
   "cell_type": "code",
   "execution_count": 18,
   "metadata": {
    "collapsed": false
   },
   "outputs": [],
   "source": [
    "import pandas as pd\n",
    "\n",
    "df_dificultades = pd.read_csv(\"./data/dificultades.csv\",encoding='utf-8');\n",
    "df_encadenamientos = pd.read_csv(\"./data/tipos_encadenamiento.csv\", encoding='utf-8');\n",
    "df_escaladores = pd.read_csv(\"./data/escaladores_lite_2017.csv\", encoding='utf-8');\n",
    "df_ascensos = pd.read_csv(\"./data/ascensos_lite_2017.csv\", encoding='utf-8');\n",
    "\n",
    "# 'merge' del tipo de encadenamiento en el data frame de ascensos\n",
    "df_ascensos = pd.merge(df_ascensos, df_encadenamientos, on = ['id_tipo_encadenamiento'], how = 'inner')\n",
    "columnas = ['id_escalador',\n",
    "            'id_dificultad',\n",
    "            'tipo_encadenamiento',\n",
    "            'nombre_via',\n",
    "            'risco',\n",
    "            'sector',\n",
    "            'pais']\n",
    "df_ascensos = df_ascensos[columnas]"
   ]
  },
  {
   "cell_type": "markdown",
   "metadata": {},
   "source": [
    "## Desnormalización del data frame de ascensos\n",
    "\n",
    "Voy a incluir la información del usuario en cada registro de ascenso, para ir creando los buckets que van interesando según las preguntas a resolver"
   ]
  },
  {
   "cell_type": "code",
   "execution_count": 19,
   "metadata": {
    "collapsed": false,
    "scrolled": true
   },
   "outputs": [],
   "source": [
    "df_ascensos = pd.merge(df_ascensos, df_escaladores, on = ['id_escalador'], how = 'left');\n",
    "df_ascensos = pd.merge(df_ascensos, df_dificultades, on = ['id_dificultad'], how = 'left');\n",
    "\n",
    "# Renombrar campos por claridad\n",
    "df_ascensos = df_ascensos.rename(\n",
    "    columns={\n",
    "        'id_dificultad' : 'dificultad',\n",
    "        'nombre': 'nombre_escalador',\n",
    "        'ciudad':'ciudad_escalador',\n",
    "        'pais_y': 'pais_escalador',\n",
    "        'comienzo': 'anio_comienzo',\n",
    "        'pais_x': 'pais_risco'});\n"
   ]
  },
  {
   "cell_type": "markdown",
   "metadata": {},
   "source": [
    "## Carga de datos en Cassandra"
   ]
  },
  {
   "cell_type": "code",
   "execution_count": 20,
   "metadata": {
    "collapsed": true
   },
   "outputs": [],
   "source": [
    "from cassandra.cluster import Cluster, BatchStatement, ConsistencyLevel\n",
    "cluster = Cluster()\n",
    "session = cluster.connect('practica_8anu')"
   ]
  },
  {
   "cell_type": "markdown",
   "metadata": {},
   "source": [
    "**CARGA EN TABLAS DE ASCENSOS Y ACUMULADOS**"
   ]
  },
  {
   "cell_type": "code",
   "execution_count": 21,
   "metadata": {
    "collapsed": false
   },
   "outputs": [],
   "source": [
    "def insert_ascensos(df):\n",
    "    cql_insert_ascenso = \"\"\"\n",
    "        INSERT INTO ascensos (\n",
    "            uid,\n",
    "            id_escalador,\n",
    "            nombre_escalador,\n",
    "            pais_escalador,\n",
    "            anio_comienzo,\n",
    "            nombre_via,\n",
    "            dificultad,\n",
    "            grado_frances,\n",
    "            tipo_encadenamiento,\n",
    "            risco,\n",
    "            pais_risco\n",
    "        ) VALUES (now(), %s, %s, %s, %s, %s, %s, %s, %s, %s, %s)\"\"\"\n",
    "    \n",
    "\n",
    "    \n",
    "    for index in df.index:\n",
    "        data = [\n",
    "            df.ix[index,\"id_escalador\"],\n",
    "            df.ix[index,\"nombre_escalador\"],\n",
    "            df.ix[index,\"pais_escalador\"],\n",
    "            df.ix[index,\"anio_comienzo\"],\n",
    "            df.ix[index,\"nombre_via\"],\n",
    "            df.ix[index,\"dificultad\"],\n",
    "            df.ix[index,\"grado_frances\"],\n",
    "            df.ix[index,\"tipo_encadenamiento\"],\n",
    "            df.ix[index,\"risco\"],\n",
    "            df.ix[index,\"pais_risco\"]\n",
    "        ]\n",
    "\n",
    "        session.execute(cql_insert_ascenso, data)\n",
    "        \n",
    "        session.execute(\"\"\"UPDATE ascensos_acum_pais_risco\n",
    "                            SET num_ascensos = num_ascensos + 1,\n",
    "                                dificultad_acum = dificultad_acum + %s\n",
    "                            WHERE pais_risco = %s AND risco = %s\"\"\",\n",
    "                        [df.ix[index,\"dificultad\"],\n",
    "                         df.ix[index,\"pais_risco\"],\n",
    "                         df.ix[index,\"risco\"]])\n",
    "        \n",
    "        \n",
    "        if (df.ix[index,\"sexo\"] == 'Hombre'):\n",
    "            session.execute(\"\"\"UPDATE ascensos_acumulados_hombres\n",
    "                               SET num_ascensos = num_ascensos + 1,\n",
    "                                   dificultad_acum = dificultad_acum + %s\n",
    "                               WHERE id_escalador = %s\"\"\",\n",
    "                            [df.ix[index,\"dificultad\"], df.ix[index,\"id_escalador\"]])\n",
    "        else:\n",
    "            session.execute(\"\"\"UPDATE ascensos_acumulados_mujeres\n",
    "                               SET num_ascensos = num_ascensos + 1,\n",
    "                                   dificultad_acum = dificultad_acum + %s\n",
    "                               WHERE id_escalador = %s\"\"\",\n",
    "                            [df.ix[index,\"dificultad\"], df.ix[index,\"id_escalador\"]])\n",
    "            \n",
    "        if (df.ix[index,\"pais_risco\"] == 'ESP'):\n",
    "            if(df.ix[index,\"pais_escalador\"] == 'ESP'):\n",
    "                session.execute(\"\"\"UPDATE ascensos_acum_esp_esp\n",
    "                                SET num_ascensos = num_ascensos + 1\n",
    "                                WHERE id_escalador = %s \n",
    "                                    AND nombre_escalador = %s\n",
    "                                    AND pais_escalador = %s\"\"\",\n",
    "                                [df.ix[index,\"id_escalador\"],\n",
    "                                 df.ix[index,\"nombre_escalador\"],\n",
    "                                 df.ix[index,\"pais_escalador\"]])\n",
    "            else:\n",
    "                session.execute(\"\"\"UPDATE ascensos_acum_noesp_esp\n",
    "                                SET num_ascensos = num_ascensos + 1\n",
    "                                WHERE id_escalador = %s \n",
    "                                    AND nombre_escalador = %s\n",
    "                                    AND pais_escalador = %s\"\"\",\n",
    "                                [df.ix[index,\"id_escalador\"],\n",
    "                                 df.ix[index,\"nombre_escalador\"],\n",
    "                                 df.ix[index,\"pais_escalador\"]])\n",
    "        "
   ]
  },
  {
   "cell_type": "code",
   "execution_count": 22,
   "metadata": {
    "collapsed": false
   },
   "outputs": [],
   "source": [
    "insert_ascensos(df_ascensos)"
   ]
  },
  {
   "cell_type": "markdown",
   "metadata": {},
   "source": [
    "** CARGA EN TABLA DE DIFICULTADES**"
   ]
  },
  {
   "cell_type": "code",
   "execution_count": 23,
   "metadata": {
    "collapsed": true
   },
   "outputs": [],
   "source": [
    "def insert_dificultades(df):\n",
    "    cql_insert = \"\"\"\n",
    "        INSERT INTO dificultades (\n",
    "            dificultad,\n",
    "            grado_frances\n",
    "        ) VALUES (%s, %s)\"\"\"\n",
    "    \n",
    "    for index in df.index:\n",
    "        data = [df.ix[index, \"id_dificultad\"],\n",
    "                df.ix[index, \"grado_frances\"]]\n",
    "        session.execute(cql_insert, data)"
   ]
  },
  {
   "cell_type": "code",
   "execution_count": 24,
   "metadata": {
    "collapsed": false
   },
   "outputs": [],
   "source": [
    "insert_dificultades(df_dificultades)"
   ]
  },
  {
   "cell_type": "markdown",
   "metadata": {},
   "source": [
    "** CARGA EN TABLA DE ESCALADORES **"
   ]
  },
  {
   "cell_type": "code",
   "execution_count": 25,
   "metadata": {
    "collapsed": true
   },
   "outputs": [],
   "source": [
    "def insert_escaladores(df):\n",
    "    cql_insert = \"\"\"\n",
    "        INSERT INTO escaladores (\n",
    "            id_escalador,\n",
    "            nombre,\n",
    "            sexo,\n",
    "            pais,\n",
    "            anio_comienzo\n",
    "        ) VALUES (%s, %s, %s, %s, %s)\"\"\"\n",
    "    \n",
    "    for index in df.index:\n",
    "        data = [\n",
    "            df.ix[index, \"id_escalador\"],\n",
    "            df.ix[index, \"nombre\"],\n",
    "            df.ix[index, \"sexo\"],\n",
    "            df.ix[index, \"pais\"],\n",
    "            df.ix[index, \"comienzo\"]]\n",
    "        session.execute(cql_insert, data)"
   ]
  },
  {
   "cell_type": "code",
   "execution_count": 26,
   "metadata": {
    "collapsed": false
   },
   "outputs": [],
   "source": [
    "insert_escaladores(df_escaladores)"
   ]
  },
  {
   "cell_type": "markdown",
   "metadata": {},
   "source": [
    "# RESPUESTAS A LAS PREGUNTAS"
   ]
  },
  {
   "cell_type": "code",
   "execution_count": 27,
   "metadata": {
    "collapsed": true
   },
   "outputs": [],
   "source": [
    "def execute_query(cql, data=[]):\n",
    "    rows = session.execute(cql, data)\n",
    "    return pd.DataFrame(list(rows))"
   ]
  },
  {
   "cell_type": "markdown",
   "metadata": {},
   "source": [
    "### 1.a) Los 10 escaladores (hombres) más activos (orden auxiliar por Id)\n",
    "\n",
    "Esto requiere varias consultas a dos tablas diferentes:\n",
    "- Una consulta a la tabla de acumulados de hombres de la que se obtienen los ids de los escaladores con mas ascensos acumulados\n",
    "- 10 consultas a la tabla de escaladores, para sacar los datos del escalador.\n",
    "\n",
    "Por desgracia las tablas de acumulación (con columnas counter) tienen las siguientes particularidades:\n",
    "\n",
    "- exceptuando una columna que hará de partition key, estas tablas no pueden contener columnas de otro tipo diferente a counter a no ser que esas nuevas columnas se introduzcan como parte de la primary key: https://stackoverflow.com/questions/32562500/cassandra-non-counter-family\n",
    "\n",
    "\n",
    "- una columna counter no puede ser clustering key por lo que no se puede utilizar como columna de ordenación. Esto hace que la ordenación haya hacerla fuera.\n"
   ]
  },
  {
   "cell_type": "code",
   "execution_count": 28,
   "metadata": {
    "collapsed": false,
    "scrolled": true
   },
   "outputs": [],
   "source": [
    "cql = \"\"\"\n",
    "SELECT *\n",
    "FROM ascensos_acumulados_hombres\n",
    "\"\"\"\n",
    "df_id_acum = execute_query(cql)\n",
    "\n",
    "df_id_acum = df_id_acum.sort_values(['num_ascensos', 'id_escalador'],ascending=[False, False]).head(10)"
   ]
  },
  {
   "cell_type": "code",
   "execution_count": 29,
   "metadata": {
    "collapsed": false
   },
   "outputs": [
    {
     "data": {
      "text/html": [
       "<div>\n",
       "<style>\n",
       "    .dataframe thead tr:only-child th {\n",
       "        text-align: right;\n",
       "    }\n",
       "\n",
       "    .dataframe thead th {\n",
       "        text-align: left;\n",
       "    }\n",
       "\n",
       "    .dataframe tbody tr th {\n",
       "        vertical-align: top;\n",
       "    }\n",
       "</style>\n",
       "<table border=\"1\" class=\"dataframe\">\n",
       "  <thead>\n",
       "    <tr style=\"text-align: right;\">\n",
       "      <th></th>\n",
       "      <th>id_escalador</th>\n",
       "      <th>nombre</th>\n",
       "      <th>sexo</th>\n",
       "      <th>pais</th>\n",
       "      <th>num_ascensos</th>\n",
       "    </tr>\n",
       "  </thead>\n",
       "  <tbody>\n",
       "    <tr>\n",
       "      <th>0</th>\n",
       "      <td>50884</td>\n",
       "      <td>Christopher Leonetti</td>\n",
       "      <td>Hombre</td>\n",
       "      <td>USA</td>\n",
       "      <td>47</td>\n",
       "    </tr>\n",
       "    <tr>\n",
       "      <th>1</th>\n",
       "      <td>20384</td>\n",
       "      <td>Clemens Kurth</td>\n",
       "      <td>Hombre</td>\n",
       "      <td>DEU</td>\n",
       "      <td>26</td>\n",
       "    </tr>\n",
       "    <tr>\n",
       "      <th>2</th>\n",
       "      <td>20095</td>\n",
       "      <td>Matthias Schuster</td>\n",
       "      <td>Hombre</td>\n",
       "      <td>DEU</td>\n",
       "      <td>26</td>\n",
       "    </tr>\n",
       "    <tr>\n",
       "      <th>3</th>\n",
       "      <td>66250</td>\n",
       "      <td>Kuba Kaminski</td>\n",
       "      <td>Hombre</td>\n",
       "      <td>POL</td>\n",
       "      <td>24</td>\n",
       "    </tr>\n",
       "    <tr>\n",
       "      <th>4</th>\n",
       "      <td>9171</td>\n",
       "      <td>Laurenz Trawnicek</td>\n",
       "      <td>Hombre</td>\n",
       "      <td>AUT</td>\n",
       "      <td>23</td>\n",
       "    </tr>\n",
       "    <tr>\n",
       "      <th>5</th>\n",
       "      <td>46622</td>\n",
       "      <td>Raúl Crespo</td>\n",
       "      <td>Hombre</td>\n",
       "      <td>ESP</td>\n",
       "      <td>19</td>\n",
       "    </tr>\n",
       "    <tr>\n",
       "      <th>6</th>\n",
       "      <td>42086</td>\n",
       "      <td>Marcin Opozda</td>\n",
       "      <td>Hombre</td>\n",
       "      <td>POL</td>\n",
       "      <td>19</td>\n",
       "    </tr>\n",
       "    <tr>\n",
       "      <th>7</th>\n",
       "      <td>66466</td>\n",
       "      <td>Christian Boehme</td>\n",
       "      <td>Hombre</td>\n",
       "      <td>DEU</td>\n",
       "      <td>18</td>\n",
       "    </tr>\n",
       "    <tr>\n",
       "      <th>8</th>\n",
       "      <td>47732</td>\n",
       "      <td>Thomas de Fleurian</td>\n",
       "      <td>Hombre</td>\n",
       "      <td>FRA</td>\n",
       "      <td>18</td>\n",
       "    </tr>\n",
       "    <tr>\n",
       "      <th>9</th>\n",
       "      <td>35847</td>\n",
       "      <td>Zack Bum</td>\n",
       "      <td>Hombre</td>\n",
       "      <td>DEU</td>\n",
       "      <td>18</td>\n",
       "    </tr>\n",
       "  </tbody>\n",
       "</table>\n",
       "</div>"
      ],
      "text/plain": [
       "   id_escalador                nombre    sexo pais  num_ascensos\n",
       "0         50884  Christopher Leonetti  Hombre  USA            47\n",
       "1         20384         Clemens Kurth  Hombre  DEU            26\n",
       "2         20095     Matthias Schuster  Hombre  DEU            26\n",
       "3         66250         Kuba Kaminski  Hombre  POL            24\n",
       "4          9171     Laurenz Trawnicek  Hombre  AUT            23\n",
       "5         46622           Raúl Crespo  Hombre  ESP            19\n",
       "6         42086         Marcin Opozda  Hombre  POL            19\n",
       "7         66466      Christian Boehme  Hombre  DEU            18\n",
       "8         47732    Thomas de Fleurian  Hombre  FRA            18\n",
       "9         35847              Zack Bum  Hombre  DEU            18"
      ]
     },
     "execution_count": 29,
     "metadata": {},
     "output_type": "execute_result"
    }
   ],
   "source": [
    "cql = \"\"\"\n",
    "SELECT *\n",
    "FROM escaladores\n",
    "WHERE id_escalador=%s\n",
    "\"\"\"\n",
    "\n",
    "df = pd.DataFrame()\n",
    "for index in df_id_acum.index:\n",
    "    df_escalador = execute_query(cql, [df_id_acum.ix[index,'id_escalador']])\n",
    "    df_escalador[\"num_ascensos\"] = df_id_acum.ix[index, \"num_ascensos\"]\n",
    "    \n",
    "    df = df.append(df_escalador)\n",
    "    \n",
    "df = df.reset_index(drop=True)\n",
    "id_escalador_mas_activo = df.iloc[0]['id_escalador']\n",
    "\n",
    "columnas = [\"id_escalador\", \"nombre\", \"sexo\", \"pais\", \"num_ascensos\"]\n",
    "df[columnas]  \n",
    "    "
   ]
  },
  {
   "cell_type": "markdown",
   "metadata": {},
   "source": [
    "### 1.b) Los 10 escaladoras (mujeres) más activas (orden auxiliar por Id)"
   ]
  },
  {
   "cell_type": "code",
   "execution_count": 30,
   "metadata": {
    "collapsed": true
   },
   "outputs": [],
   "source": [
    "cql = \"\"\"\n",
    "SELECT *\n",
    "FROM ascensos_acumulados_mujeres\n",
    "\"\"\"\n",
    "df_id_acum = execute_query(cql)\n",
    "\n",
    "df_id_acum = df_id_acum.sort_values(['num_ascensos', 'id_escalador'],ascending=[False, False]).head(10)"
   ]
  },
  {
   "cell_type": "code",
   "execution_count": 31,
   "metadata": {
    "collapsed": false
   },
   "outputs": [
    {
     "data": {
      "text/html": [
       "<div>\n",
       "<style>\n",
       "    .dataframe thead tr:only-child th {\n",
       "        text-align: right;\n",
       "    }\n",
       "\n",
       "    .dataframe thead th {\n",
       "        text-align: left;\n",
       "    }\n",
       "\n",
       "    .dataframe tbody tr th {\n",
       "        vertical-align: top;\n",
       "    }\n",
       "</style>\n",
       "<table border=\"1\" class=\"dataframe\">\n",
       "  <thead>\n",
       "    <tr style=\"text-align: right;\">\n",
       "      <th></th>\n",
       "      <th>id_escalador</th>\n",
       "      <th>nombre</th>\n",
       "      <th>sexo</th>\n",
       "      <th>pais</th>\n",
       "      <th>num_ascensos</th>\n",
       "    </tr>\n",
       "  </thead>\n",
       "  <tbody>\n",
       "    <tr>\n",
       "      <th>0</th>\n",
       "      <td>65502</td>\n",
       "      <td>Ksenia Targosz</td>\n",
       "      <td>Mujer</td>\n",
       "      <td>POL</td>\n",
       "      <td>13</td>\n",
       "    </tr>\n",
       "    <tr>\n",
       "      <th>1</th>\n",
       "      <td>65069</td>\n",
       "      <td>Mania Mania A.</td>\n",
       "      <td>Mujer</td>\n",
       "      <td>POL</td>\n",
       "      <td>12</td>\n",
       "    </tr>\n",
       "    <tr>\n",
       "      <th>2</th>\n",
       "      <td>65707</td>\n",
       "      <td>Ewelina Cienkus</td>\n",
       "      <td>Mujer</td>\n",
       "      <td>POL</td>\n",
       "      <td>11</td>\n",
       "    </tr>\n",
       "    <tr>\n",
       "      <th>3</th>\n",
       "      <td>54695</td>\n",
       "      <td>Elfi Hasler</td>\n",
       "      <td>Mujer</td>\n",
       "      <td>AUT</td>\n",
       "      <td>11</td>\n",
       "    </tr>\n",
       "    <tr>\n",
       "      <th>4</th>\n",
       "      <td>62354</td>\n",
       "      <td>La Shoune</td>\n",
       "      <td>Mujer</td>\n",
       "      <td>FRA</td>\n",
       "      <td>10</td>\n",
       "    </tr>\n",
       "    <tr>\n",
       "      <th>5</th>\n",
       "      <td>58835</td>\n",
       "      <td>Dominika Sołtys</td>\n",
       "      <td>Mujer</td>\n",
       "      <td>POL</td>\n",
       "      <td>10</td>\n",
       "    </tr>\n",
       "    <tr>\n",
       "      <th>6</th>\n",
       "      <td>57447</td>\n",
       "      <td>Sue Murphy</td>\n",
       "      <td>Mujer</td>\n",
       "      <td>CAN</td>\n",
       "      <td>10</td>\n",
       "    </tr>\n",
       "    <tr>\n",
       "      <th>7</th>\n",
       "      <td>53983</td>\n",
       "      <td>Daniela Bärtschi</td>\n",
       "      <td>Mujer</td>\n",
       "      <td>CHE</td>\n",
       "      <td>10</td>\n",
       "    </tr>\n",
       "    <tr>\n",
       "      <th>8</th>\n",
       "      <td>49569</td>\n",
       "      <td>Karina Kosiorek</td>\n",
       "      <td>Mujer</td>\n",
       "      <td>POL</td>\n",
       "      <td>10</td>\n",
       "    </tr>\n",
       "    <tr>\n",
       "      <th>9</th>\n",
       "      <td>32043</td>\n",
       "      <td>Reidun M. Romundstad</td>\n",
       "      <td>Mujer</td>\n",
       "      <td>NOR</td>\n",
       "      <td>10</td>\n",
       "    </tr>\n",
       "  </tbody>\n",
       "</table>\n",
       "</div>"
      ],
      "text/plain": [
       "   id_escalador                nombre   sexo pais  num_ascensos\n",
       "0         65502        Ksenia Targosz  Mujer  POL            13\n",
       "1         65069        Mania Mania A.  Mujer  POL            12\n",
       "2         65707       Ewelina Cienkus  Mujer  POL            11\n",
       "3         54695           Elfi Hasler  Mujer  AUT            11\n",
       "4         62354             La Shoune  Mujer  FRA            10\n",
       "5         58835       Dominika Sołtys  Mujer  POL            10\n",
       "6         57447            Sue Murphy  Mujer  CAN            10\n",
       "7         53983      Daniela Bärtschi  Mujer  CHE            10\n",
       "8         49569       Karina Kosiorek  Mujer  POL            10\n",
       "9         32043  Reidun M. Romundstad  Mujer  NOR            10"
      ]
     },
     "execution_count": 31,
     "metadata": {},
     "output_type": "execute_result"
    }
   ],
   "source": [
    "cql = \"\"\"\n",
    "SELECT *\n",
    "FROM escaladores\n",
    "WHERE id_escalador=%s\n",
    "\"\"\"\n",
    "\n",
    "df = pd.DataFrame()\n",
    "for index in df_id_acum.index:\n",
    "    df_escalador = execute_query(cql, [df_id_acum.ix[index,'id_escalador']])\n",
    "    df_escalador[\"num_ascensos\"] = df_id_acum.ix[index, \"num_ascensos\"]\n",
    "    \n",
    "    df = df.append(df_escalador)\n",
    "    \n",
    "df = df.reset_index(drop=True)\n",
    "\n",
    "id_escaladora_mas_activa = df.iloc[0]['id_escalador']\n",
    "\n",
    "columnas = [\"id_escalador\", \"nombre\", \"sexo\", \"pais\", \"num_ascensos\"]\n",
    "df[columnas] \n",
    "\n"
   ]
  },
  {
   "cell_type": "markdown",
   "metadata": {},
   "source": [
    "### 2. Lista de los 10 ascensos \"On sight\" de la escaladora más activa en orden decreciente de dificultad (y por nombre de via ascendete)\n",
    "\n",
    "De la pregunta anterior nos hemos guardado el id de la escaladora más activa. \n",
    "\n",
    "Para la respuesta a esta pregunta he creado una vista materializada de la tabla de ascensos, ascensos_por_encadenamiento, cuya clave de particion es el tipo de encadenamiento y la ordenacion se hace por dificultad y por nombre de via. "
   ]
  },
  {
   "cell_type": "code",
   "execution_count": 32,
   "metadata": {
    "collapsed": false
   },
   "outputs": [
    {
     "data": {
      "text/html": [
       "<div>\n",
       "<style>\n",
       "    .dataframe thead tr:only-child th {\n",
       "        text-align: right;\n",
       "    }\n",
       "\n",
       "    .dataframe thead th {\n",
       "        text-align: left;\n",
       "    }\n",
       "\n",
       "    .dataframe tbody tr th {\n",
       "        vertical-align: top;\n",
       "    }\n",
       "</style>\n",
       "<table border=\"1\" class=\"dataframe\">\n",
       "  <thead>\n",
       "    <tr style=\"text-align: right;\">\n",
       "      <th></th>\n",
       "      <th>nombre_via</th>\n",
       "      <th>grado_frances</th>\n",
       "      <th>risco</th>\n",
       "      <th>pais_risco</th>\n",
       "    </tr>\n",
       "  </thead>\n",
       "  <tbody>\n",
       "    <tr>\n",
       "      <th>0</th>\n",
       "      <td>LEWIZNA</td>\n",
       "      <td>5c</td>\n",
       "      <td>DOLINA KOBYLANSKA</td>\n",
       "      <td>POL</td>\n",
       "    </tr>\n",
       "    <tr>\n",
       "      <th>1</th>\n",
       "      <td>MOJA KOKAINA</td>\n",
       "      <td>5c</td>\n",
       "      <td>DOLINA KOBYLANSKA</td>\n",
       "      <td>POL</td>\n",
       "    </tr>\n",
       "    <tr>\n",
       "      <th>2</th>\n",
       "      <td>RUCHY MASOWE</td>\n",
       "      <td>5c</td>\n",
       "      <td>DOLINA BEDKOWSKA</td>\n",
       "      <td>POL</td>\n",
       "    </tr>\n",
       "    <tr>\n",
       "      <th>3</th>\n",
       "      <td>FISCHER-LAPINSKI</td>\n",
       "      <td>5b</td>\n",
       "      <td>DOLINA BEDKOWSKA</td>\n",
       "      <td>POL</td>\n",
       "    </tr>\n",
       "    <tr>\n",
       "      <th>4</th>\n",
       "      <td>GRZBIET ZUBRA</td>\n",
       "      <td>5b</td>\n",
       "      <td>SOKOLIKI</td>\n",
       "      <td>POL</td>\n",
       "    </tr>\n",
       "    <tr>\n",
       "      <th>5</th>\n",
       "      <td>RYSKOWIEC</td>\n",
       "      <td>5b</td>\n",
       "      <td>DOLINA BEDKOWSKA</td>\n",
       "      <td>POL</td>\n",
       "    </tr>\n",
       "    <tr>\n",
       "      <th>6</th>\n",
       "      <td>ZAGłADA TRADA</td>\n",
       "      <td>4c</td>\n",
       "      <td>DOLINA KOBYLANSKA</td>\n",
       "      <td>POL</td>\n",
       "    </tr>\n",
       "    <tr>\n",
       "      <th>7</th>\n",
       "      <td>KIKUT</td>\n",
       "      <td>4b</td>\n",
       "      <td>DOLINA SZKLARKI</td>\n",
       "      <td>POL</td>\n",
       "    </tr>\n",
       "  </tbody>\n",
       "</table>\n",
       "</div>"
      ],
      "text/plain": [
       "         nombre_via grado_frances              risco pais_risco\n",
       "0           LEWIZNA            5c  DOLINA KOBYLANSKA        POL\n",
       "1      MOJA KOKAINA            5c  DOLINA KOBYLANSKA        POL\n",
       "2      RUCHY MASOWE            5c   DOLINA BEDKOWSKA        POL\n",
       "3  FISCHER-LAPINSKI            5b   DOLINA BEDKOWSKA        POL\n",
       "4     GRZBIET ZUBRA            5b           SOKOLIKI        POL\n",
       "5         RYSKOWIEC            5b   DOLINA BEDKOWSKA        POL\n",
       "6     ZAGłADA TRADA            4c  DOLINA KOBYLANSKA        POL\n",
       "7             KIKUT            4b    DOLINA SZKLARKI        POL"
      ]
     },
     "execution_count": 32,
     "metadata": {},
     "output_type": "execute_result"
    }
   ],
   "source": [
    "cql = \"\"\"\n",
    "SELECT *\n",
    "FROM ascensos_por_encadenamiento_escalador\n",
    "WHERE tipo_encadenamiento = 'Onsight' AND id_escalador = %s \n",
    "LIMIT 10\n",
    "\"\"\"\n",
    "\n",
    "df = execute_query(cql, [id_escaladora_mas_activa])\n",
    "columnas = ['nombre_via', 'grado_frances', 'risco', 'pais_risco']\n",
    "df[columnas]"
   ]
  },
  {
   "cell_type": "markdown",
   "metadata": {},
   "source": [
    "### 3. Dificultad media de los ascensos del escalador más activo\n",
    "\n",
    "Esto requiere dos consultas:\n",
    "\n",
    "- A la tabla ascensos_acumulados_hombres para obtener los datos para poder calcular la dificultad media.\n",
    "- A la tabla de dificultades_grado para obtener el grado frances de la media\n"
   ]
  },
  {
   "cell_type": "code",
   "execution_count": 33,
   "metadata": {
    "collapsed": false
   },
   "outputs": [
    {
     "data": {
      "text/html": [
       "<div>\n",
       "<style>\n",
       "    .dataframe thead tr:only-child th {\n",
       "        text-align: right;\n",
       "    }\n",
       "\n",
       "    .dataframe thead th {\n",
       "        text-align: left;\n",
       "    }\n",
       "\n",
       "    .dataframe tbody tr th {\n",
       "        vertical-align: top;\n",
       "    }\n",
       "</style>\n",
       "<table border=\"1\" class=\"dataframe\">\n",
       "  <thead>\n",
       "    <tr style=\"text-align: right;\">\n",
       "      <th></th>\n",
       "      <th>grado_frances</th>\n",
       "    </tr>\n",
       "  </thead>\n",
       "  <tbody>\n",
       "    <tr>\n",
       "      <th>0</th>\n",
       "      <td>5c+</td>\n",
       "    </tr>\n",
       "  </tbody>\n",
       "</table>\n",
       "</div>"
      ],
      "text/plain": [
       "  grado_frances\n",
       "0           5c+"
      ]
     },
     "execution_count": 33,
     "metadata": {},
     "output_type": "execute_result"
    }
   ],
   "source": [
    "# query a tabla de ascensos acumulados\n",
    "cql = \"\"\"\n",
    "SELECT *\n",
    "FROM ascensos_acumulados_hombres\n",
    "WHERE id_escalador = %s\n",
    "\"\"\"\n",
    "\n",
    "df = execute_query(cql, [id_escalador_mas_activo])\n",
    "dificultad_media = int(round(df[\"dificultad_acum\"]/df[\"num_ascensos\"]))\n",
    "\n",
    "# query a la tabla de dificultades\n",
    "cql = \"\"\"\n",
    "SELECT grado_frances\n",
    "FROM dificultades\n",
    "WHERE dificultad = %s\n",
    "\"\"\"\n",
    "execute_query(cql, [dificultad_media])\n"
   ]
  },
  {
   "cell_type": "markdown",
   "metadata": {},
   "source": [
    "### 4.a) Los 10 ascensos mas dificiles\n",
    "\n",
    "La vista materializada tiene ordenados los **ascensos_por_encadenamiento** para cada tipo de encadenamiento. Podríamos resolver esta cuestion de la manera siguiente:\n",
    "\n",
    "- Obtener mediante 4 queries los 10 primeros ascensos para cada tipo de encadenamiento\n",
    "- Unir (append) los data frames resultado\n",
    "- Reordenar el data frame\n",
    "\n",
    "Pero en este caso vamos a recurrir a un conocimiento a priori del domino de la escalada: los grados más difíciles se encadenan siempre en \"Red point\"; esto se debe a que los ascensos más dificiles requieren siempre del escalador un entrenamiento en la propia via, por lo que el ascenso final de la via es \"Red point\"."
   ]
  },
  {
   "cell_type": "code",
   "execution_count": 34,
   "metadata": {
    "collapsed": false
   },
   "outputs": [
    {
     "data": {
      "text/html": [
       "<div>\n",
       "<style>\n",
       "    .dataframe thead tr:only-child th {\n",
       "        text-align: right;\n",
       "    }\n",
       "\n",
       "    .dataframe thead th {\n",
       "        text-align: left;\n",
       "    }\n",
       "\n",
       "    .dataframe tbody tr th {\n",
       "        vertical-align: top;\n",
       "    }\n",
       "</style>\n",
       "<table border=\"1\" class=\"dataframe\">\n",
       "  <thead>\n",
       "    <tr style=\"text-align: right;\">\n",
       "      <th></th>\n",
       "      <th>id_escalador</th>\n",
       "      <th>nombre_escalador</th>\n",
       "      <th>pais_escalador</th>\n",
       "      <th>nombre_via</th>\n",
       "      <th>grado_frances</th>\n",
       "      <th>tipo_encadenamiento</th>\n",
       "      <th>risco</th>\n",
       "      <th>pais_risco</th>\n",
       "    </tr>\n",
       "  </thead>\n",
       "  <tbody>\n",
       "    <tr>\n",
       "      <th>0</th>\n",
       "      <td>1476</td>\n",
       "      <td>Adam Ondra</td>\n",
       "      <td>CZE</td>\n",
       "      <td>SILENCE</td>\n",
       "      <td>9c</td>\n",
       "      <td>Redpoint</td>\n",
       "      <td>FLATANGER</td>\n",
       "      <td>NOR</td>\n",
       "    </tr>\n",
       "    <tr>\n",
       "      <th>1</th>\n",
       "      <td>1476</td>\n",
       "      <td>Adam Ondra</td>\n",
       "      <td>CZE</td>\n",
       "      <td>MOVE HARD</td>\n",
       "      <td>9b</td>\n",
       "      <td>Redpoint</td>\n",
       "      <td>FLATANGER</td>\n",
       "      <td>NOR</td>\n",
       "    </tr>\n",
       "    <tr>\n",
       "      <th>2</th>\n",
       "      <td>22437</td>\n",
       "      <td>Stefano Ghisolfi</td>\n",
       "      <td>ITA</td>\n",
       "      <td>FIRST ROUND FIRST MINUTE</td>\n",
       "      <td>9b</td>\n",
       "      <td>Redpoint</td>\n",
       "      <td>MARGALEF</td>\n",
       "      <td>ESP</td>\n",
       "    </tr>\n",
       "    <tr>\n",
       "      <th>3</th>\n",
       "      <td>1476</td>\n",
       "      <td>Adam Ondra</td>\n",
       "      <td>CZE</td>\n",
       "      <td>NATURALMENTE</td>\n",
       "      <td>9a+</td>\n",
       "      <td>Redpoint</td>\n",
       "      <td>CAMAIORE</td>\n",
       "      <td>ITA</td>\n",
       "    </tr>\n",
       "    <tr>\n",
       "      <th>4</th>\n",
       "      <td>1476</td>\n",
       "      <td>Adam Ondra</td>\n",
       "      <td>CZE</td>\n",
       "      <td>ULTIMATUM</td>\n",
       "      <td>9a+</td>\n",
       "      <td>Redpoint</td>\n",
       "      <td>ARCO</td>\n",
       "      <td>ITA</td>\n",
       "    </tr>\n",
       "    <tr>\n",
       "      <th>5</th>\n",
       "      <td>8707</td>\n",
       "      <td>Daniel Fuertes</td>\n",
       "      <td>ESP</td>\n",
       "      <td>NO PAIN NO GAIN</td>\n",
       "      <td>9a+</td>\n",
       "      <td>Redpoint</td>\n",
       "      <td>RODELLAR</td>\n",
       "      <td>ESP</td>\n",
       "    </tr>\n",
       "    <tr>\n",
       "      <th>6</th>\n",
       "      <td>14130</td>\n",
       "      <td>David Firnenburg</td>\n",
       "      <td>DEU</td>\n",
       "      <td>LA RAMBLA</td>\n",
       "      <td>9a+</td>\n",
       "      <td>Redpoint</td>\n",
       "      <td>SIURANA</td>\n",
       "      <td>ESP</td>\n",
       "    </tr>\n",
       "    <tr>\n",
       "      <th>7</th>\n",
       "      <td>18008</td>\n",
       "      <td>Piotr Schab</td>\n",
       "      <td>POL</td>\n",
       "      <td>THOR'S HAMMER</td>\n",
       "      <td>9a+</td>\n",
       "      <td>Redpoint</td>\n",
       "      <td>FLATANGER</td>\n",
       "      <td>NOR</td>\n",
       "    </tr>\n",
       "    <tr>\n",
       "      <th>8</th>\n",
       "      <td>22437</td>\n",
       "      <td>Stefano Ghisolfi</td>\n",
       "      <td>ITA</td>\n",
       "      <td>FIRST LEY</td>\n",
       "      <td>9a+</td>\n",
       "      <td>Redpoint</td>\n",
       "      <td>MARGALEF</td>\n",
       "      <td>ESP</td>\n",
       "    </tr>\n",
       "    <tr>\n",
       "      <th>9</th>\n",
       "      <td>22437</td>\n",
       "      <td>Stefano Ghisolfi</td>\n",
       "      <td>ITA</td>\n",
       "      <td>LA RAMBLA</td>\n",
       "      <td>9a+</td>\n",
       "      <td>Redpoint</td>\n",
       "      <td>SIURANA</td>\n",
       "      <td>ESP</td>\n",
       "    </tr>\n",
       "  </tbody>\n",
       "</table>\n",
       "</div>"
      ],
      "text/plain": [
       "   id_escalador  nombre_escalador pais_escalador                nombre_via  \\\n",
       "0          1476        Adam Ondra            CZE                   SILENCE   \n",
       "1          1476        Adam Ondra            CZE                 MOVE HARD   \n",
       "2         22437  Stefano Ghisolfi            ITA  FIRST ROUND FIRST MINUTE   \n",
       "3          1476        Adam Ondra            CZE              NATURALMENTE   \n",
       "4          1476        Adam Ondra            CZE                 ULTIMATUM   \n",
       "5          8707    Daniel Fuertes            ESP           NO PAIN NO GAIN   \n",
       "6         14130  David Firnenburg            DEU                 LA RAMBLA   \n",
       "7         18008       Piotr Schab            POL             THOR'S HAMMER   \n",
       "8         22437  Stefano Ghisolfi            ITA                 FIRST LEY   \n",
       "9         22437  Stefano Ghisolfi            ITA                 LA RAMBLA   \n",
       "\n",
       "  grado_frances tipo_encadenamiento      risco pais_risco  \n",
       "0            9c            Redpoint  FLATANGER        NOR  \n",
       "1            9b            Redpoint  FLATANGER        NOR  \n",
       "2            9b            Redpoint   MARGALEF        ESP  \n",
       "3           9a+            Redpoint   CAMAIORE        ITA  \n",
       "4           9a+            Redpoint       ARCO        ITA  \n",
       "5           9a+            Redpoint   RODELLAR        ESP  \n",
       "6           9a+            Redpoint    SIURANA        ESP  \n",
       "7           9a+            Redpoint  FLATANGER        NOR  \n",
       "8           9a+            Redpoint   MARGALEF        ESP  \n",
       "9           9a+            Redpoint    SIURANA        ESP  "
      ]
     },
     "execution_count": 34,
     "metadata": {},
     "output_type": "execute_result"
    }
   ],
   "source": [
    "cql = \"\"\"\n",
    "SELECT *\n",
    "FROM ascensos_por_encadenamiento_dificultad\n",
    "WHERE tipo_encadenamiento = 'Redpoint'\n",
    "LIMIT 10\n",
    "\"\"\"\n",
    "\n",
    "df = execute_query(cql)\n",
    "columnas = ['id_escalador','nombre_escalador','pais_escalador','nombre_via','grado_frances','tipo_encadenamiento','risco','pais_risco']\n",
    "df[columnas]"
   ]
  },
  {
   "cell_type": "markdown",
   "metadata": {},
   "source": [
    "### 4.b) Los 10 ascensos mas dificiles a vista (On sight)"
   ]
  },
  {
   "cell_type": "code",
   "execution_count": 35,
   "metadata": {
    "collapsed": false
   },
   "outputs": [
    {
     "data": {
      "text/html": [
       "<div>\n",
       "<style>\n",
       "    .dataframe thead tr:only-child th {\n",
       "        text-align: right;\n",
       "    }\n",
       "\n",
       "    .dataframe thead th {\n",
       "        text-align: left;\n",
       "    }\n",
       "\n",
       "    .dataframe tbody tr th {\n",
       "        vertical-align: top;\n",
       "    }\n",
       "</style>\n",
       "<table border=\"1\" class=\"dataframe\">\n",
       "  <thead>\n",
       "    <tr style=\"text-align: right;\">\n",
       "      <th></th>\n",
       "      <th>id_escalador</th>\n",
       "      <th>nombre_escalador</th>\n",
       "      <th>pais_escalador</th>\n",
       "      <th>nombre_via</th>\n",
       "      <th>grado_frances</th>\n",
       "      <th>tipo_encadenamiento</th>\n",
       "      <th>risco</th>\n",
       "      <th>pais_risco</th>\n",
       "    </tr>\n",
       "  </thead>\n",
       "  <tbody>\n",
       "    <tr>\n",
       "      <th>0</th>\n",
       "      <td>22437</td>\n",
       "      <td>Stefano Ghisolfi</td>\n",
       "      <td>ITA</td>\n",
       "      <td>FISH EYE</td>\n",
       "      <td>8c</td>\n",
       "      <td>Onsight</td>\n",
       "      <td>OLIANA</td>\n",
       "      <td>ESP</td>\n",
       "    </tr>\n",
       "    <tr>\n",
       "      <th>1</th>\n",
       "      <td>18008</td>\n",
       "      <td>Piotr Schab</td>\n",
       "      <td>POL</td>\n",
       "      <td>PEQUENA ESTRELLA</td>\n",
       "      <td>8b+</td>\n",
       "      <td>Onsight</td>\n",
       "      <td>RODELLAR</td>\n",
       "      <td>ESP</td>\n",
       "    </tr>\n",
       "    <tr>\n",
       "      <th>2</th>\n",
       "      <td>6726</td>\n",
       "      <td>Manu Lopez</td>\n",
       "      <td>FRA</td>\n",
       "      <td>WHAT</td>\n",
       "      <td>8b</td>\n",
       "      <td>Onsight</td>\n",
       "      <td>LEONIDIO</td>\n",
       "      <td>GRC</td>\n",
       "    </tr>\n",
       "    <tr>\n",
       "      <th>3</th>\n",
       "      <td>38626</td>\n",
       "      <td>luis rodriguez martin</td>\n",
       "      <td>ESP</td>\n",
       "      <td>BRUJO</td>\n",
       "      <td>8b</td>\n",
       "      <td>Onsight</td>\n",
       "      <td>SADERNES</td>\n",
       "      <td>ESP</td>\n",
       "    </tr>\n",
       "    <tr>\n",
       "      <th>4</th>\n",
       "      <td>1476</td>\n",
       "      <td>Adam Ondra</td>\n",
       "      <td>CZE</td>\n",
       "      <td>MATA HARI</td>\n",
       "      <td>8a+</td>\n",
       "      <td>Onsight</td>\n",
       "      <td>FRANKENJURA</td>\n",
       "      <td>DEU</td>\n",
       "    </tr>\n",
       "    <tr>\n",
       "      <th>5</th>\n",
       "      <td>4424</td>\n",
       "      <td>Marcin Wszolek</td>\n",
       "      <td>POL</td>\n",
       "      <td>NUEVE ZETA</td>\n",
       "      <td>8a+</td>\n",
       "      <td>Onsight</td>\n",
       "      <td>CHULILLA</td>\n",
       "      <td>ESP</td>\n",
       "    </tr>\n",
       "    <tr>\n",
       "      <th>6</th>\n",
       "      <td>16672</td>\n",
       "      <td>Gonzalo Larrocha</td>\n",
       "      <td>ESP</td>\n",
       "      <td>DNA EXTENSION</td>\n",
       "      <td>8a+</td>\n",
       "      <td>Onsight</td>\n",
       "      <td>KALYMNOS</td>\n",
       "      <td>GRC</td>\n",
       "    </tr>\n",
       "    <tr>\n",
       "      <th>7</th>\n",
       "      <td>27822</td>\n",
       "      <td>Michaela Kiersch</td>\n",
       "      <td>USA</td>\n",
       "      <td>LA FEMME BLANCHE</td>\n",
       "      <td>8a+</td>\n",
       "      <td>Onsight</td>\n",
       "      <td>CéüSE</td>\n",
       "      <td>FRA</td>\n",
       "    </tr>\n",
       "    <tr>\n",
       "      <th>8</th>\n",
       "      <td>34114</td>\n",
       "      <td>jose luis palao</td>\n",
       "      <td>ESP</td>\n",
       "      <td>REALIDAD VIRTUAL</td>\n",
       "      <td>8a+</td>\n",
       "      <td>Onsight</td>\n",
       "      <td>POLORIA</td>\n",
       "      <td>ESP</td>\n",
       "    </tr>\n",
       "    <tr>\n",
       "      <th>9</th>\n",
       "      <td>34114</td>\n",
       "      <td>jose luis palao</td>\n",
       "      <td>ESP</td>\n",
       "      <td>TEAM BTR</td>\n",
       "      <td>8a+</td>\n",
       "      <td>Onsight</td>\n",
       "      <td>BIELSA</td>\n",
       "      <td>ESP</td>\n",
       "    </tr>\n",
       "  </tbody>\n",
       "</table>\n",
       "</div>"
      ],
      "text/plain": [
       "   id_escalador       nombre_escalador pais_escalador        nombre_via  \\\n",
       "0         22437       Stefano Ghisolfi            ITA          FISH EYE   \n",
       "1         18008            Piotr Schab            POL  PEQUENA ESTRELLA   \n",
       "2          6726             Manu Lopez            FRA              WHAT   \n",
       "3         38626  luis rodriguez martin            ESP             BRUJO   \n",
       "4          1476             Adam Ondra            CZE         MATA HARI   \n",
       "5          4424         Marcin Wszolek            POL        NUEVE ZETA   \n",
       "6         16672       Gonzalo Larrocha            ESP     DNA EXTENSION   \n",
       "7         27822       Michaela Kiersch            USA  LA FEMME BLANCHE   \n",
       "8         34114        jose luis palao            ESP  REALIDAD VIRTUAL   \n",
       "9         34114        jose luis palao            ESP          TEAM BTR   \n",
       "\n",
       "  grado_frances tipo_encadenamiento        risco pais_risco  \n",
       "0            8c             Onsight       OLIANA        ESP  \n",
       "1           8b+             Onsight     RODELLAR        ESP  \n",
       "2            8b             Onsight     LEONIDIO        GRC  \n",
       "3            8b             Onsight     SADERNES        ESP  \n",
       "4           8a+             Onsight  FRANKENJURA        DEU  \n",
       "5           8a+             Onsight     CHULILLA        ESP  \n",
       "6           8a+             Onsight     KALYMNOS        GRC  \n",
       "7           8a+             Onsight        CéüSE        FRA  \n",
       "8           8a+             Onsight      POLORIA        ESP  \n",
       "9           8a+             Onsight       BIELSA        ESP  "
      ]
     },
     "execution_count": 35,
     "metadata": {},
     "output_type": "execute_result"
    }
   ],
   "source": [
    "cql = \"\"\"\n",
    "SELECT *\n",
    "FROM ascensos_por_encadenamiento_dificultad\n",
    "WHERE tipo_encadenamiento = 'Onsight'\n",
    "LIMIT 10\n",
    "\"\"\"\n",
    "\n",
    "df = execute_query(cql)\n",
    "columnas = ['id_escalador',\n",
    "            'nombre_escalador',\n",
    "            'pais_escalador',\n",
    "            'nombre_via',\n",
    "            'grado_frances',\n",
    "            'tipo_encadenamiento',\n",
    "            'risco',\n",
    "            'pais_risco']\n",
    "df[columnas]"
   ]
  },
  {
   "cell_type": "markdown",
   "metadata": {},
   "source": [
    "### 5.a) Grado medio y maximo de los ascensos en España de los 10 escaladores NO ESPAÑOLES con mas ascensos en España\n",
    "\n",
    "La obtencion de esta información mediante accesos a cassandra requiere varios accesos. Esto se debe a que se quiere visualizar \n",
    "información de varias tablas. nombre del escalador, pais, numero de ascensos en españa, grado medio y grado maximo.\n",
    "\n",
    "- Query a la tabla de acumulados de ascensos de escaladores no españoles en españa la obtencion de los escaladores con mas ascensos en España\n",
    "\n",
    "- Query a la tabla de dificultades y mapear la dificultad media a su grado correspondiente\n",
    "\n",
    "- Por cada uno de los escaladores:\n",
    "    - Query a la vista materializada de ascensos por escaldor y pais del risco para la obtencion de la dificultad maxima\n",
    "    \n",
    "    \n",
    "Aprovechando al maximo la funcionalidad de la bbdd supone entonces 12 queries!"
   ]
  },
  {
   "cell_type": "code",
   "execution_count": 36,
   "metadata": {
    "collapsed": false
   },
   "outputs": [],
   "source": [
    "cql = \"\"\"\n",
    "SELECT *\n",
    "FROM dificultades\n",
    "\"\"\"\n",
    "# query para la obtencion del grado medio a partir de la dificultad media\n",
    "df_dificultades = execute_query(cql)\n",
    "\n",
    "# configuro dificultad como indice del data frame para el futuro mapping\n",
    "df_dificultades = df_dificultades.sort_values('dificultad',ascending=True);\n",
    "df_dificultades = df_dificultades.set_index('dificultad');"
   ]
  },
  {
   "cell_type": "code",
   "execution_count": 37,
   "metadata": {
    "collapsed": false
   },
   "outputs": [
    {
     "data": {
      "text/html": [
       "<div>\n",
       "<style>\n",
       "    .dataframe thead tr:only-child th {\n",
       "        text-align: right;\n",
       "    }\n",
       "\n",
       "    .dataframe thead th {\n",
       "        text-align: left;\n",
       "    }\n",
       "\n",
       "    .dataframe tbody tr th {\n",
       "        vertical-align: top;\n",
       "    }\n",
       "</style>\n",
       "<table border=\"1\" class=\"dataframe\">\n",
       "  <thead>\n",
       "    <tr style=\"text-align: right;\">\n",
       "      <th></th>\n",
       "      <th>nombre_escalador</th>\n",
       "      <th>pais_escalador</th>\n",
       "      <th>num_ascensos</th>\n",
       "      <th>grado_medio</th>\n",
       "      <th>grado_maximo</th>\n",
       "    </tr>\n",
       "  </thead>\n",
       "  <tbody>\n",
       "    <tr>\n",
       "      <th>0</th>\n",
       "      <td>Nuno Henriques</td>\n",
       "      <td>PRT</td>\n",
       "      <td>14</td>\n",
       "      <td>6a+</td>\n",
       "      <td>7a</td>\n",
       "    </tr>\n",
       "    <tr>\n",
       "      <th>1</th>\n",
       "      <td>Grzegorz \"Buła\" Golowczyk</td>\n",
       "      <td>POL</td>\n",
       "      <td>9</td>\n",
       "      <td>7b/+</td>\n",
       "      <td>8b+</td>\n",
       "    </tr>\n",
       "    <tr>\n",
       "      <th>2</th>\n",
       "      <td>philipp kieffer</td>\n",
       "      <td>DEU</td>\n",
       "      <td>7</td>\n",
       "      <td>6c+/7a</td>\n",
       "      <td>7c</td>\n",
       "    </tr>\n",
       "    <tr>\n",
       "      <th>3</th>\n",
       "      <td>Wojtek Pełka</td>\n",
       "      <td>POL</td>\n",
       "      <td>7</td>\n",
       "      <td>7c+/8a</td>\n",
       "      <td>8b</td>\n",
       "    </tr>\n",
       "    <tr>\n",
       "      <th>4</th>\n",
       "      <td>Gonçalo \"Gongas\" Coutinho</td>\n",
       "      <td>PRT</td>\n",
       "      <td>6</td>\n",
       "      <td>5</td>\n",
       "      <td>6a</td>\n",
       "    </tr>\n",
       "    <tr>\n",
       "      <th>5</th>\n",
       "      <td>Tieme van Veen</td>\n",
       "      <td>NLD</td>\n",
       "      <td>6</td>\n",
       "      <td>6c+/7a</td>\n",
       "      <td>8a</td>\n",
       "    </tr>\n",
       "    <tr>\n",
       "      <th>6</th>\n",
       "      <td>Kuba Pe</td>\n",
       "      <td>POL</td>\n",
       "      <td>6</td>\n",
       "      <td>7a</td>\n",
       "      <td>7b+</td>\n",
       "    </tr>\n",
       "    <tr>\n",
       "      <th>7</th>\n",
       "      <td>Gabriel Korbiel</td>\n",
       "      <td>POL</td>\n",
       "      <td>6</td>\n",
       "      <td>7a+/7b</td>\n",
       "      <td>7c</td>\n",
       "    </tr>\n",
       "    <tr>\n",
       "      <th>8</th>\n",
       "      <td>Amber Thornton</td>\n",
       "      <td>GBR</td>\n",
       "      <td>6</td>\n",
       "      <td>5c</td>\n",
       "      <td>6c</td>\n",
       "    </tr>\n",
       "    <tr>\n",
       "      <th>9</th>\n",
       "      <td>Benjamin Thomas</td>\n",
       "      <td>FRA</td>\n",
       "      <td>6</td>\n",
       "      <td>6c+/7a</td>\n",
       "      <td>7c+</td>\n",
       "    </tr>\n",
       "  </tbody>\n",
       "</table>\n",
       "</div>"
      ],
      "text/plain": [
       "            nombre_escalador pais_escalador  num_ascensos grado_medio  \\\n",
       "0             Nuno Henriques            PRT            14         6a+   \n",
       "1  Grzegorz \"Buła\" Golowczyk            POL             9        7b/+   \n",
       "2            philipp kieffer            DEU             7      6c+/7a   \n",
       "3               Wojtek Pełka            POL             7      7c+/8a   \n",
       "4  Gonçalo \"Gongas\" Coutinho            PRT             6           5   \n",
       "5             Tieme van Veen            NLD             6      6c+/7a   \n",
       "6                    Kuba Pe            POL             6          7a   \n",
       "7            Gabriel Korbiel            POL             6      7a+/7b   \n",
       "8             Amber Thornton            GBR             6          5c   \n",
       "9            Benjamin Thomas            FRA             6      6c+/7a   \n",
       "\n",
       "  grado_maximo  \n",
       "0           7a  \n",
       "1          8b+  \n",
       "2           7c  \n",
       "3           8b  \n",
       "4           6a  \n",
       "5           8a  \n",
       "6          7b+  \n",
       "7           7c  \n",
       "8           6c  \n",
       "9          7c+  "
      ]
     },
     "execution_count": 37,
     "metadata": {},
     "output_type": "execute_result"
    }
   ],
   "source": [
    "cql = \"\"\"\n",
    "SELECT *\n",
    "FROM ascensos_acum_noesp_esp\n",
    "\"\"\"\n",
    "df_ids = execute_query(cql)\n",
    "df_ids = df_ids.sort_values(['num_ascensos', 'id_escalador'],ascending=[False, True]).head(10)\n",
    "\n",
    "\n",
    "cql_dif_mediaYmax = \"\"\"\n",
    "SELECT count(dificultad) AS num_ascensos,\n",
    "       avg(dificultad) AS dificultad_media,\n",
    "       max(dificultad) AS dificultad_maxima\n",
    "FROM ascensos_por_escalador_paisRisco\n",
    "WHERE id_escalador=%s AND pais_risco='ESP'\n",
    "LIMIT 1\n",
    "\"\"\"\n",
    "\n",
    "\n",
    "df = pd.DataFrame()\n",
    "for index,row in df_ids.iterrows():\n",
    "    \n",
    "    #query para obtención de grado maximo del escalador\n",
    "    df_query = execute_query(cql_dif_mediaYmax, [row['id_escalador']])   \n",
    "    \n",
    "    # añade columnas que faltan\n",
    "    df_query['nombre_escalador'] = row['nombre_escalador'];\n",
    "    df_query['pais_escalador'] = row['pais_escalador'];\n",
    "    \n",
    "    #añade al dataframe resultado\n",
    "    df = df.append(df_query, ignore_index=True)\n",
    "    \n",
    "df['grado_medio']=df['dificultad_media'].map(df_dificultades['grado_frances']);\n",
    "df['grado_maximo']=df['dificultad_maxima'].map(df_dificultades['grado_frances']);\n",
    "columnas = [\"nombre_escalador\", \"pais_escalador\", \"num_ascensos\", \"grado_medio\", \"grado_maximo\"]\n",
    "df[columnas] "
   ]
  },
  {
   "cell_type": "markdown",
   "metadata": {},
   "source": [
    "### 5.b) Grado medio y maximo de los ascensos en España de los 10 escaladores ESPAÑOLES con mas ascensos en España"
   ]
  },
  {
   "cell_type": "code",
   "execution_count": 38,
   "metadata": {
    "collapsed": false
   },
   "outputs": [
    {
     "data": {
      "text/html": [
       "<div>\n",
       "<style>\n",
       "    .dataframe thead tr:only-child th {\n",
       "        text-align: right;\n",
       "    }\n",
       "\n",
       "    .dataframe thead th {\n",
       "        text-align: left;\n",
       "    }\n",
       "\n",
       "    .dataframe tbody tr th {\n",
       "        vertical-align: top;\n",
       "    }\n",
       "</style>\n",
       "<table border=\"1\" class=\"dataframe\">\n",
       "  <thead>\n",
       "    <tr style=\"text-align: right;\">\n",
       "      <th></th>\n",
       "      <th>nombre_escalador</th>\n",
       "      <th>pais_escalador</th>\n",
       "      <th>num_ascensos</th>\n",
       "      <th>grado_medio</th>\n",
       "      <th>grado_maximo</th>\n",
       "    </tr>\n",
       "  </thead>\n",
       "  <tbody>\n",
       "    <tr>\n",
       "      <th>0</th>\n",
       "      <td>Raúl Crespo</td>\n",
       "      <td>ESP</td>\n",
       "      <td>18</td>\n",
       "      <td>6a+/6b</td>\n",
       "      <td>7b</td>\n",
       "    </tr>\n",
       "    <tr>\n",
       "      <th>1</th>\n",
       "      <td>Chaken Gómez conde</td>\n",
       "      <td>ESP</td>\n",
       "      <td>16</td>\n",
       "      <td>7c/+</td>\n",
       "      <td>8b</td>\n",
       "    </tr>\n",
       "    <tr>\n",
       "      <th>2</th>\n",
       "      <td>Adrian Alameda</td>\n",
       "      <td>ESP</td>\n",
       "      <td>14</td>\n",
       "      <td>6c/+</td>\n",
       "      <td>8a+</td>\n",
       "    </tr>\n",
       "    <tr>\n",
       "      <th>3</th>\n",
       "      <td>Alex Garriga</td>\n",
       "      <td>ESP</td>\n",
       "      <td>13</td>\n",
       "      <td>7b+/7c</td>\n",
       "      <td>8a+</td>\n",
       "    </tr>\n",
       "    <tr>\n",
       "      <th>4</th>\n",
       "      <td>Xavier Gatell Romero</td>\n",
       "      <td>ESP</td>\n",
       "      <td>12</td>\n",
       "      <td>7b+</td>\n",
       "      <td>8a</td>\n",
       "    </tr>\n",
       "    <tr>\n",
       "      <th>5</th>\n",
       "      <td>jose luis palao</td>\n",
       "      <td>ESP</td>\n",
       "      <td>12</td>\n",
       "      <td>8a+</td>\n",
       "      <td>8b+</td>\n",
       "    </tr>\n",
       "    <tr>\n",
       "      <th>6</th>\n",
       "      <td>Jose Agustí</td>\n",
       "      <td>ESP</td>\n",
       "      <td>10</td>\n",
       "      <td>7c/+</td>\n",
       "      <td>8a</td>\n",
       "    </tr>\n",
       "    <tr>\n",
       "      <th>7</th>\n",
       "      <td>Gonzalo Larrocha</td>\n",
       "      <td>ESP</td>\n",
       "      <td>10</td>\n",
       "      <td>8a+/8b</td>\n",
       "      <td>9a</td>\n",
       "    </tr>\n",
       "    <tr>\n",
       "      <th>8</th>\n",
       "      <td>Tomata Tomata</td>\n",
       "      <td>ESP</td>\n",
       "      <td>10</td>\n",
       "      <td>6c/+</td>\n",
       "      <td>7a+</td>\n",
       "    </tr>\n",
       "    <tr>\n",
       "      <th>9</th>\n",
       "      <td>luis rodriguez martin</td>\n",
       "      <td>ESP</td>\n",
       "      <td>10</td>\n",
       "      <td>8a/+</td>\n",
       "      <td>8b+</td>\n",
       "    </tr>\n",
       "  </tbody>\n",
       "</table>\n",
       "</div>"
      ],
      "text/plain": [
       "        nombre_escalador pais_escalador  num_ascensos grado_medio grado_maximo\n",
       "0            Raúl Crespo            ESP            18      6a+/6b           7b\n",
       "1     Chaken Gómez conde            ESP            16        7c/+           8b\n",
       "2         Adrian Alameda            ESP            14        6c/+          8a+\n",
       "3           Alex Garriga            ESP            13      7b+/7c          8a+\n",
       "4   Xavier Gatell Romero            ESP            12         7b+           8a\n",
       "5        jose luis palao            ESP            12         8a+          8b+\n",
       "6            Jose Agustí            ESP            10        7c/+           8a\n",
       "7       Gonzalo Larrocha            ESP            10      8a+/8b           9a\n",
       "8          Tomata Tomata            ESP            10        6c/+          7a+\n",
       "9  luis rodriguez martin            ESP            10        8a/+          8b+"
      ]
     },
     "execution_count": 38,
     "metadata": {},
     "output_type": "execute_result"
    }
   ],
   "source": [
    "cql = \"\"\"\n",
    "SELECT *\n",
    "FROM ascensos_acum_esp_esp\n",
    "\"\"\"\n",
    "df_ids = execute_query(cql)\n",
    "df_ids = df_ids.sort_values(['num_ascensos', 'id_escalador'],ascending=[False, True]).head(10)\n",
    "\n",
    "\n",
    "cql_dif_mediaYmax = \"\"\"\n",
    "SELECT count(dificultad) AS num_ascensos,\n",
    "       avg(dificultad) AS dificultad_media,\n",
    "       max(dificultad) AS dificultad_maxima\n",
    "FROM ascensos_por_escalador_paisRisco\n",
    "WHERE id_escalador=%s AND pais_risco='ESP'\n",
    "LIMIT 1\n",
    "\"\"\"\n",
    "\n",
    "\n",
    "df = pd.DataFrame()\n",
    "for index,row in df_ids.iterrows():\n",
    "    \n",
    "    #query para obtención de grado maximo del escalador\n",
    "    df_query = execute_query(cql_dif_mediaYmax, [row['id_escalador']])   \n",
    "    \n",
    "    # añade columnas que faltan\n",
    "    df_query['nombre_escalador'] = row['nombre_escalador'];\n",
    "    df_query['pais_escalador'] = row['pais_escalador'];\n",
    "    \n",
    "    #añade al dataframe resultado\n",
    "    df = df.append(df_query, ignore_index=True)\n",
    "    \n",
    "df['grado_medio']=df['dificultad_media'].map(df_dificultades['grado_frances']);\n",
    "df['grado_maximo']=df['dificultad_maxima'].map(df_dificultades['grado_frances']);\n",
    "columnas = [\"nombre_escalador\", \"pais_escalador\", \"num_ascensos\", \"grado_medio\", \"grado_maximo\"]\n",
    "df[columnas] "
   ]
  },
  {
   "cell_type": "markdown",
   "metadata": {},
   "source": [
    "### 6.a) Dificultad media y maxima de los ascensos NO \"Top Rope\" de los escaladores con menos de 3 años de experiencia"
   ]
  },
  {
   "cell_type": "code",
   "execution_count": 39,
   "metadata": {
    "collapsed": false
   },
   "outputs": [
    {
     "name": "stderr",
     "output_type": "stream",
     "text": [
      "WARNING:cassandra.protocol:Server warning: Aggregation query used on multiple partition keys (IN restriction)\n"
     ]
    },
    {
     "data": {
      "text/html": [
       "<div>\n",
       "<style>\n",
       "    .dataframe thead tr:only-child th {\n",
       "        text-align: right;\n",
       "    }\n",
       "\n",
       "    .dataframe thead th {\n",
       "        text-align: left;\n",
       "    }\n",
       "\n",
       "    .dataframe tbody tr th {\n",
       "        vertical-align: top;\n",
       "    }\n",
       "</style>\n",
       "<table border=\"1\" class=\"dataframe\">\n",
       "  <thead>\n",
       "    <tr style=\"text-align: right;\">\n",
       "      <th></th>\n",
       "      <th>num_ascensos</th>\n",
       "      <th>grado_medio</th>\n",
       "      <th>grado_maximo</th>\n",
       "    </tr>\n",
       "  </thead>\n",
       "  <tbody>\n",
       "    <tr>\n",
       "      <th>0</th>\n",
       "      <td>590</td>\n",
       "      <td>6a/+</td>\n",
       "      <td>8a</td>\n",
       "    </tr>\n",
       "  </tbody>\n",
       "</table>\n",
       "</div>"
      ],
      "text/plain": [
       "   num_ascensos grado_medio grado_maximo\n",
       "0           590        6a/+           8a"
      ]
     },
     "execution_count": 39,
     "metadata": {},
     "output_type": "execute_result"
    }
   ],
   "source": [
    "cql = \"\"\"\n",
    "SELECT count(dificultad) AS num_ascensos, avg(dificultad) AS dif_media, max(dificultad) AS dif_max\n",
    "FROM ascensos_por_encadenamiento_aniocomienzo\n",
    "WHERE tipo_encadenamiento IN ('Redpoint', 'Onsight','Flash')\n",
    "      AND anio_comienzo > 2014\n",
    "      AND anio_comienzo <= 2017\n",
    "\"\"\"\n",
    "df = execute_query(cql)\n",
    "\n",
    "df['grado_medio']=df['dif_media'].map(df_dificultades['grado_frances']);\n",
    "df['grado_maximo']=df['dif_max'].map(df_dificultades['grado_frances']);\n",
    "\n",
    "df[['num_ascensos', 'grado_medio', 'grado_maximo']]\n"
   ]
  },
  {
   "cell_type": "markdown",
   "metadata": {},
   "source": [
    "### 6.b) Dificultad media y maxima de los ascensos NO \"Top Rope\" de los escaladores con entre 10 y 30 años de experiencia"
   ]
  },
  {
   "cell_type": "code",
   "execution_count": 40,
   "metadata": {
    "collapsed": false
   },
   "outputs": [
    {
     "name": "stderr",
     "output_type": "stream",
     "text": [
      "WARNING:cassandra.protocol:Server warning: Aggregation query used on multiple partition keys (IN restriction)\n"
     ]
    },
    {
     "data": {
      "text/html": [
       "<div>\n",
       "<style>\n",
       "    .dataframe thead tr:only-child th {\n",
       "        text-align: right;\n",
       "    }\n",
       "\n",
       "    .dataframe thead th {\n",
       "        text-align: left;\n",
       "    }\n",
       "\n",
       "    .dataframe tbody tr th {\n",
       "        vertical-align: top;\n",
       "    }\n",
       "</style>\n",
       "<table border=\"1\" class=\"dataframe\">\n",
       "  <thead>\n",
       "    <tr style=\"text-align: right;\">\n",
       "      <th></th>\n",
       "      <th>num_ascensos</th>\n",
       "      <th>grado_medio</th>\n",
       "      <th>grado_maximo</th>\n",
       "    </tr>\n",
       "  </thead>\n",
       "  <tbody>\n",
       "    <tr>\n",
       "      <th>0</th>\n",
       "      <td>3818</td>\n",
       "      <td>7a</td>\n",
       "      <td>9c</td>\n",
       "    </tr>\n",
       "  </tbody>\n",
       "</table>\n",
       "</div>"
      ],
      "text/plain": [
       "   num_ascensos grado_medio grado_maximo\n",
       "0          3818          7a           9c"
      ]
     },
     "execution_count": 40,
     "metadata": {},
     "output_type": "execute_result"
    }
   ],
   "source": [
    "cql = \"\"\"\n",
    "SELECT count(dificultad) AS num_ascensos, avg(dificultad) AS dif_media, max(dificultad) AS dif_max\n",
    "FROM ascensos_por_encadenamiento_aniocomienzo\n",
    "WHERE tipo_encadenamiento IN ('Redpoint', 'Onsight','Flash')\n",
    "      AND anio_comienzo > 1987\n",
    "      AND anio_comienzo <= 2007\n",
    "\"\"\"\n",
    "df = execute_query(cql)\n",
    "\n",
    "df['grado_medio']=df['dif_media'].map(df_dificultades['grado_frances']);\n",
    "df['grado_maximo']=df['dif_max'].map(df_dificultades['grado_frances']);\n",
    "\n",
    "df[['num_ascensos', 'grado_medio', 'grado_maximo']]\n"
   ]
  },
  {
   "cell_type": "markdown",
   "metadata": {},
   "source": [
    "### 7. Los 10 riscos españoles (o zonas) con mas ascensos por orden decreciente de numero de ascensos"
   ]
  },
  {
   "cell_type": "code",
   "execution_count": 41,
   "metadata": {
    "collapsed": false
   },
   "outputs": [
    {
     "data": {
      "text/html": [
       "<div>\n",
       "<style>\n",
       "    .dataframe thead tr:only-child th {\n",
       "        text-align: right;\n",
       "    }\n",
       "\n",
       "    .dataframe thead th {\n",
       "        text-align: left;\n",
       "    }\n",
       "\n",
       "    .dataframe tbody tr th {\n",
       "        vertical-align: top;\n",
       "    }\n",
       "</style>\n",
       "<table border=\"1\" class=\"dataframe\">\n",
       "  <thead>\n",
       "    <tr style=\"text-align: right;\">\n",
       "      <th></th>\n",
       "      <th>pais_risco</th>\n",
       "      <th>risco</th>\n",
       "      <th>dificultad_acum</th>\n",
       "      <th>num_ascensos</th>\n",
       "    </tr>\n",
       "  </thead>\n",
       "  <tbody>\n",
       "    <tr>\n",
       "      <th>171</th>\n",
       "      <td>ESP</td>\n",
       "      <td>MARGALEF</td>\n",
       "      <td>9947</td>\n",
       "      <td>194</td>\n",
       "    </tr>\n",
       "    <tr>\n",
       "      <th>88</th>\n",
       "      <td>ESP</td>\n",
       "      <td>CUENCA</td>\n",
       "      <td>7350</td>\n",
       "      <td>148</td>\n",
       "    </tr>\n",
       "    <tr>\n",
       "      <th>281</th>\n",
       "      <td>ESP</td>\n",
       "      <td>SIURANA</td>\n",
       "      <td>7379</td>\n",
       "      <td>147</td>\n",
       "    </tr>\n",
       "    <tr>\n",
       "      <th>3</th>\n",
       "      <td>ESP</td>\n",
       "      <td>ALBARRACíN</td>\n",
       "      <td>6302</td>\n",
       "      <td>137</td>\n",
       "    </tr>\n",
       "    <tr>\n",
       "      <th>251</th>\n",
       "      <td>ESP</td>\n",
       "      <td>RODELLAR</td>\n",
       "      <td>7390</td>\n",
       "      <td>136</td>\n",
       "    </tr>\n",
       "    <tr>\n",
       "      <th>73</th>\n",
       "      <td>ESP</td>\n",
       "      <td>CHULILLA</td>\n",
       "      <td>6738</td>\n",
       "      <td>134</td>\n",
       "    </tr>\n",
       "    <tr>\n",
       "      <th>166</th>\n",
       "      <td>ESP</td>\n",
       "      <td>MALLORCA</td>\n",
       "      <td>2865</td>\n",
       "      <td>63</td>\n",
       "    </tr>\n",
       "    <tr>\n",
       "      <th>152</th>\n",
       "      <td>ESP</td>\n",
       "      <td>LA PEDRIZA</td>\n",
       "      <td>2623</td>\n",
       "      <td>61</td>\n",
       "    </tr>\n",
       "    <tr>\n",
       "      <th>189</th>\n",
       "      <td>ESP</td>\n",
       "      <td>MONTSERRAT</td>\n",
       "      <td>2811</td>\n",
       "      <td>58</td>\n",
       "    </tr>\n",
       "    <tr>\n",
       "      <th>98</th>\n",
       "      <td>ESP</td>\n",
       "      <td>EL CHORRO</td>\n",
       "      <td>2059</td>\n",
       "      <td>44</td>\n",
       "    </tr>\n",
       "  </tbody>\n",
       "</table>\n",
       "</div>"
      ],
      "text/plain": [
       "    pais_risco       risco  dificultad_acum  num_ascensos\n",
       "171        ESP    MARGALEF             9947           194\n",
       "88         ESP      CUENCA             7350           148\n",
       "281        ESP     SIURANA             7379           147\n",
       "3          ESP  ALBARRACíN             6302           137\n",
       "251        ESP    RODELLAR             7390           136\n",
       "73         ESP    CHULILLA             6738           134\n",
       "166        ESP    MALLORCA             2865            63\n",
       "152        ESP  LA PEDRIZA             2623            61\n",
       "189        ESP  MONTSERRAT             2811            58\n",
       "98         ESP   EL CHORRO             2059            44"
      ]
     },
     "execution_count": 41,
     "metadata": {},
     "output_type": "execute_result"
    }
   ],
   "source": [
    "cql = \"\"\"\n",
    "SELECT *\n",
    "FROM ascensos_acum_pais_risco\n",
    "WHERE pais_risco='ESP'\n",
    "\"\"\"\n",
    "df = execute_query(cql)\n",
    "\n",
    "# las tablas de acumulacion no se pueden ordenar por el counter, por lo que tengo que hacerlo con python\n",
    "df.sort_values(['num_ascensos', 'risco'], ascending=[False,True]).head(10)\n",
    "\n"
   ]
  },
  {
   "cell_type": "markdown",
   "metadata": {},
   "source": [
    "### 8.a) Los 10 sectores españoles con mayor nivel de difcultad media de ascensos ordenadas por orden decreciente de dificultad y por numero de ascensos decreciente"
   ]
  },
  {
   "cell_type": "code",
   "execution_count": 42,
   "metadata": {
    "collapsed": false
   },
   "outputs": [
    {
     "data": {
      "text/html": [
       "<div>\n",
       "<style>\n",
       "    .dataframe thead tr:only-child th {\n",
       "        text-align: right;\n",
       "    }\n",
       "\n",
       "    .dataframe thead th {\n",
       "        text-align: left;\n",
       "    }\n",
       "\n",
       "    .dataframe tbody tr th {\n",
       "        vertical-align: top;\n",
       "    }\n",
       "</style>\n",
       "<table border=\"1\" class=\"dataframe\">\n",
       "  <thead>\n",
       "    <tr style=\"text-align: right;\">\n",
       "      <th></th>\n",
       "      <th>risco</th>\n",
       "      <th>dificultad_media</th>\n",
       "      <th>grado_medio</th>\n",
       "      <th>num_ascensos</th>\n",
       "    </tr>\n",
       "  </thead>\n",
       "  <tbody>\n",
       "    <tr>\n",
       "      <th>142</th>\n",
       "      <td>LA COVA DE L'OCELL</td>\n",
       "      <td>70</td>\n",
       "      <td>8c</td>\n",
       "      <td>2</td>\n",
       "    </tr>\n",
       "    <tr>\n",
       "      <th>224</th>\n",
       "      <td>POLORIA</td>\n",
       "      <td>66</td>\n",
       "      <td>8b</td>\n",
       "      <td>2</td>\n",
       "    </tr>\n",
       "    <tr>\n",
       "      <th>110</th>\n",
       "      <td>FIGOLS</td>\n",
       "      <td>66</td>\n",
       "      <td>8b</td>\n",
       "      <td>1</td>\n",
       "    </tr>\n",
       "    <tr>\n",
       "      <th>201</th>\n",
       "      <td>ORIHUELA</td>\n",
       "      <td>65</td>\n",
       "      <td>8a+/8b</td>\n",
       "      <td>2</td>\n",
       "    </tr>\n",
       "    <tr>\n",
       "      <th>272</th>\n",
       "      <td>SANTA LINYA</td>\n",
       "      <td>64</td>\n",
       "      <td>8a+</td>\n",
       "      <td>18</td>\n",
       "    </tr>\n",
       "    <tr>\n",
       "      <th>196</th>\n",
       "      <td>OLIANA</td>\n",
       "      <td>64</td>\n",
       "      <td>8a+</td>\n",
       "      <td>14</td>\n",
       "    </tr>\n",
       "    <tr>\n",
       "      <th>112</th>\n",
       "      <td>FORADA</td>\n",
       "      <td>64</td>\n",
       "      <td>8a+</td>\n",
       "      <td>3</td>\n",
       "    </tr>\n",
       "    <tr>\n",
       "      <th>149</th>\n",
       "      <td>LA MUELA</td>\n",
       "      <td>64</td>\n",
       "      <td>8a+</td>\n",
       "      <td>2</td>\n",
       "    </tr>\n",
       "    <tr>\n",
       "      <th>26</th>\n",
       "      <td>BALTZOLA</td>\n",
       "      <td>64</td>\n",
       "      <td>8a+</td>\n",
       "      <td>1</td>\n",
       "    </tr>\n",
       "    <tr>\n",
       "      <th>44</th>\n",
       "      <td>CACIN</td>\n",
       "      <td>64</td>\n",
       "      <td>8a+</td>\n",
       "      <td>1</td>\n",
       "    </tr>\n",
       "  </tbody>\n",
       "</table>\n",
       "</div>"
      ],
      "text/plain": [
       "                  risco  dificultad_media grado_medio  num_ascensos\n",
       "142  LA COVA DE L'OCELL                70          8c             2\n",
       "224             POLORIA                66          8b             2\n",
       "110              FIGOLS                66          8b             1\n",
       "201            ORIHUELA                65      8a+/8b             2\n",
       "272         SANTA LINYA                64         8a+            18\n",
       "196              OLIANA                64         8a+            14\n",
       "112              FORADA                64         8a+             3\n",
       "149            LA MUELA                64         8a+             2\n",
       "26             BALTZOLA                64         8a+             1\n",
       "44                CACIN                64         8a+             1"
      ]
     },
     "execution_count": 42,
     "metadata": {},
     "output_type": "execute_result"
    }
   ],
   "source": [
    "cql = \"\"\"\n",
    "SELECT *\n",
    "FROM ascensos_acum_pais_risco\n",
    "WHERE pais_risco='ESP'\n",
    "\"\"\"\n",
    "df = execute_query(cql)\n",
    "\n",
    "df[\"dificultad_media\"] = (df[\"dificultad_acum\"]/df[\"num_ascensos\"]).round().astype(int)\n",
    "\n",
    "#mapping de dificultad media a grado medio\n",
    "df['grado_medio']=df['dificultad_media'].map(df_dificultades['grado_frances']);\n",
    "\n",
    "columnas = ['risco', 'dificultad_media', 'grado_medio', 'num_ascensos']\n",
    "df.sort_values(['dificultad_media', 'num_ascensos', 'risco'], ascending=[False, False, True]).head(10)[columnas]\n"
   ]
  },
  {
   "cell_type": "markdown",
   "metadata": {},
   "source": [
    "### 8.b) Las 10 sectores españoles con menor nivel de dificultad medio de ascensos ordenadas por orden creciente de dificultad y por numero de ascensos decreciente"
   ]
  },
  {
   "cell_type": "code",
   "execution_count": 43,
   "metadata": {
    "collapsed": false
   },
   "outputs": [
    {
     "data": {
      "text/html": [
       "<div>\n",
       "<style>\n",
       "    .dataframe thead tr:only-child th {\n",
       "        text-align: right;\n",
       "    }\n",
       "\n",
       "    .dataframe thead th {\n",
       "        text-align: left;\n",
       "    }\n",
       "\n",
       "    .dataframe tbody tr th {\n",
       "        vertical-align: top;\n",
       "    }\n",
       "</style>\n",
       "<table border=\"1\" class=\"dataframe\">\n",
       "  <thead>\n",
       "    <tr style=\"text-align: right;\">\n",
       "      <th></th>\n",
       "      <th>risco</th>\n",
       "      <th>dificultad_media</th>\n",
       "      <th>grado_medio</th>\n",
       "      <th>num_ascensos</th>\n",
       "    </tr>\n",
       "  </thead>\n",
       "  <tbody>\n",
       "    <tr>\n",
       "      <th>228</th>\n",
       "      <td>PORTOMARIN</td>\n",
       "      <td>21</td>\n",
       "      <td>4a</td>\n",
       "      <td>2</td>\n",
       "    </tr>\n",
       "    <tr>\n",
       "      <th>182</th>\n",
       "      <td>MONT-RAL</td>\n",
       "      <td>25</td>\n",
       "      <td>4c</td>\n",
       "      <td>1</td>\n",
       "    </tr>\n",
       "    <tr>\n",
       "      <th>203</th>\n",
       "      <td>OTO</td>\n",
       "      <td>25</td>\n",
       "      <td>4c</td>\n",
       "      <td>1</td>\n",
       "    </tr>\n",
       "    <tr>\n",
       "      <th>232</th>\n",
       "      <td>PUERTO ROQUE</td>\n",
       "      <td>26</td>\n",
       "      <td>4c+</td>\n",
       "      <td>3</td>\n",
       "    </tr>\n",
       "    <tr>\n",
       "      <th>230</th>\n",
       "      <td>PUEBLA DE GUZMAN</td>\n",
       "      <td>27</td>\n",
       "      <td>4+</td>\n",
       "      <td>5</td>\n",
       "    </tr>\n",
       "    <tr>\n",
       "      <th>25</th>\n",
       "      <td>BALNEARIO DE PANTICOSA</td>\n",
       "      <td>27</td>\n",
       "      <td>4+</td>\n",
       "      <td>2</td>\n",
       "    </tr>\n",
       "    <tr>\n",
       "      <th>277</th>\n",
       "      <td>SAVASSONA</td>\n",
       "      <td>28</td>\n",
       "      <td>5</td>\n",
       "      <td>2</td>\n",
       "    </tr>\n",
       "    <tr>\n",
       "      <th>143</th>\n",
       "      <td>LA DEHESA DE LA OLIVA</td>\n",
       "      <td>29</td>\n",
       "      <td>5a</td>\n",
       "      <td>1</td>\n",
       "    </tr>\n",
       "    <tr>\n",
       "      <th>153</th>\n",
       "      <td>LA PUENTE</td>\n",
       "      <td>29</td>\n",
       "      <td>5a</td>\n",
       "      <td>1</td>\n",
       "    </tr>\n",
       "    <tr>\n",
       "      <th>167</th>\n",
       "      <td>MALLORKA</td>\n",
       "      <td>29</td>\n",
       "      <td>5a</td>\n",
       "      <td>1</td>\n",
       "    </tr>\n",
       "  </tbody>\n",
       "</table>\n",
       "</div>"
      ],
      "text/plain": [
       "                      risco  dificultad_media grado_medio  num_ascensos\n",
       "228              PORTOMARIN                21          4a             2\n",
       "182                MONT-RAL                25          4c             1\n",
       "203                     OTO                25          4c             1\n",
       "232            PUERTO ROQUE                26         4c+             3\n",
       "230        PUEBLA DE GUZMAN                27          4+             5\n",
       "25   BALNEARIO DE PANTICOSA                27          4+             2\n",
       "277               SAVASSONA                28           5             2\n",
       "143   LA DEHESA DE LA OLIVA                29          5a             1\n",
       "153               LA PUENTE                29          5a             1\n",
       "167                MALLORKA                29          5a             1"
      ]
     },
     "execution_count": 43,
     "metadata": {},
     "output_type": "execute_result"
    }
   ],
   "source": [
    "cql = \"\"\"\n",
    "SELECT *\n",
    "FROM ascensos_acum_pais_risco\n",
    "WHERE pais_risco='ESP'\n",
    "\"\"\"\n",
    "df = execute_query(cql)\n",
    "\n",
    "df[\"dificultad_media\"] = (df[\"dificultad_acum\"]/df[\"num_ascensos\"]).round().astype(int)\n",
    "\n",
    "#mapping de dificultad media a grado medio\n",
    "df['grado_medio']=df['dificultad_media'].map(df_dificultades['grado_frances']);\n",
    "\n",
    "columnas = ['risco', 'dificultad_media', 'grado_medio', 'num_ascensos']\n",
    "df.sort_values(['dificultad_media', 'num_ascensos', 'risco'], ascending=[True, False, True]).head(10)[columnas]"
   ]
  }
 ],
 "metadata": {
  "kernelspec": {
   "display_name": "Python 2",
   "language": "python",
   "name": "python2"
  },
  "language_info": {
   "codemirror_mode": {
    "name": "ipython",
    "version": 2
   },
   "file_extension": ".py",
   "mimetype": "text/x-python",
   "name": "python",
   "nbconvert_exporter": "python",
   "pygments_lexer": "ipython2",
   "version": "2.7.6"
  }
 },
 "nbformat": 4,
 "nbformat_minor": 0
}
