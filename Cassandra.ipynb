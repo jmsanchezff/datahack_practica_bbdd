{
 "cells": [
  {
   "cell_type": "markdown",
   "metadata": {},
   "source": [
    "# Base de datos Cassandra"
   ]
  },
  {
   "cell_type": "markdown",
   "metadata": {},
   "source": [
    "## Conexion y borrado de datos"
   ]
  },
  {
   "cell_type": "code",
   "execution_count": 34,
   "metadata": {
    "collapsed": false
   },
   "outputs": [
    {
     "name": "stdout",
     "output_type": "stream",
     "text": [
      "The cql extension is already loaded. To reload it, use:\n",
      "  %reload_ext cql\n"
     ]
    }
   ],
   "source": [
    "%load_ext cql"
   ]
  },
  {
   "cell_type": "code",
   "execution_count": 35,
   "metadata": {
    "collapsed": false
   },
   "outputs": [
    {
     "data": {
      "text/plain": [
       "'No results.'"
      ]
     },
     "execution_count": 35,
     "metadata": {},
     "output_type": "execute_result"
    }
   ],
   "source": [
    "%%cql\n",
    "DROP KEYSPACE practica_8anu;"
   ]
  },
  {
   "cell_type": "code",
   "execution_count": 36,
   "metadata": {
    "collapsed": false
   },
   "outputs": [
    {
     "data": {
      "text/plain": [
       "'No results.'"
      ]
     },
     "execution_count": 36,
     "metadata": {},
     "output_type": "execute_result"
    }
   ],
   "source": [
    "%%cql\n",
    "CREATE KEYSPACE practica_8anu \n",
    "WITH replication = {'class':'SimpleStrategy', 'replication_factor': 1};"
   ]
  },
  {
   "cell_type": "code",
   "execution_count": 37,
   "metadata": {
    "collapsed": false
   },
   "outputs": [
    {
     "data": {
      "text/plain": [
       "'No results.'"
      ]
     },
     "execution_count": 37,
     "metadata": {},
     "output_type": "execute_result"
    }
   ],
   "source": [
    "%cql USE practica_8anu;"
   ]
  },
  {
   "cell_type": "markdown",
   "metadata": {},
   "source": [
    "## Creacion de tablas"
   ]
  },
  {
   "cell_type": "code",
   "execution_count": 38,
   "metadata": {
    "collapsed": false
   },
   "outputs": [
    {
     "data": {
      "text/plain": [
       "'No results.'"
      ]
     },
     "execution_count": 38,
     "metadata": {},
     "output_type": "execute_result"
    }
   ],
   "source": [
    "%%cql \n",
    "CREATE TABLE escaladores (\n",
    "    id_escalador    int,\n",
    "    nombre          text,\n",
    "    sexo            text,\n",
    "    pais            text,\n",
    "    anio_comienzo   int,\n",
    "    PRIMARY KEY (id_escalador)\n",
    ");"
   ]
  },
  {
   "cell_type": "code",
   "execution_count": 39,
   "metadata": {
    "collapsed": false
   },
   "outputs": [
    {
     "data": {
      "text/plain": [
       "'No results.'"
      ]
     },
     "execution_count": 39,
     "metadata": {},
     "output_type": "execute_result"
    }
   ],
   "source": [
    "%%cql \n",
    "CREATE TABLE ascensos_acumulados_hombres (\n",
    "    id_escalador    int,\n",
    "    num_ascensos    counter,\n",
    "    PRIMARY KEY (id_escalador)\n",
    ");"
   ]
  },
  {
   "cell_type": "code",
   "execution_count": 40,
   "metadata": {
    "collapsed": false
   },
   "outputs": [
    {
     "data": {
      "text/plain": [
       "'No results.'"
      ]
     },
     "execution_count": 40,
     "metadata": {},
     "output_type": "execute_result"
    }
   ],
   "source": [
    "%%cql \n",
    "CREATE TABLE ascensos_acumulados_mujeres (\n",
    "    id_escalador    int,\n",
    "    num_ascensos    counter,\n",
    "    PRIMARY KEY (id_escalador)\n",
    ");"
   ]
  },
  {
   "cell_type": "code",
   "execution_count": 41,
   "metadata": {
    "collapsed": false
   },
   "outputs": [
    {
     "data": {
      "text/plain": [
       "'No results.'"
      ]
     },
     "execution_count": 41,
     "metadata": {},
     "output_type": "execute_result"
    }
   ],
   "source": [
    "%%cql \n",
    "CREATE TABLE ascensos (\n",
    "    uid                  uuid,\n",
    "    id_escalador         int,\n",
    "    nombre_escalador     text,\n",
    "    pais_escalador       text,\n",
    "    anio_comienzo        int,\n",
    "    nombre_via           text,\n",
    "    id_dificultad        int,\n",
    "    grado_frances        text,\n",
    "    tipo_encadenamiento  text,\n",
    "    risco                text,\n",
    "    pais_risco           text,\n",
    "    PRIMARY KEY ((id_escalador), id_dificultad, uid)\n",
    ")\n",
    "WITH CLUSTERING ORDER BY (id_dificultad DESC);"
   ]
  },
  {
   "cell_type": "code",
   "execution_count": 42,
   "metadata": {
    "collapsed": false
   },
   "outputs": [
    {
     "data": {
      "text/plain": [
       "'No results.'"
      ]
     },
     "execution_count": 42,
     "metadata": {},
     "output_type": "execute_result"
    }
   ],
   "source": [
    "%%cql\n",
    "CREATE MATERIALIZED VIEW vm_ascensos_by_pais_risco AS\n",
    "   SELECT * FROM ascensos\n",
    "   WHERE id_escalador IS NOT NULL\n",
    "         and uid IS NOT NULL\n",
    "         and nombre_escalador IS NOT NULL\n",
    "         and pais_escalador IS NOT NULL\n",
    "         and anio_comienzo IS NOT NULL\n",
    "         and nombre_via IS NOT NULL\n",
    "         and id_dificultad IS NOT NULL\n",
    "         and grado_frances IS NOT NULL\n",
    "         and tipo_encadenamiento IS NOT NULL\n",
    "         and risco IS NOT NULL\n",
    "         and pais_risco IS NOT NULL\n",
    "   PRIMARY KEY (pais_risco, id_dificultad, uid, id_escalador)"
   ]
  },
  {
   "cell_type": "markdown",
   "metadata": {},
   "source": [
    "## Lectura de la informacion en Pandas"
   ]
  },
  {
   "cell_type": "code",
   "execution_count": 43,
   "metadata": {
    "collapsed": false
   },
   "outputs": [],
   "source": [
    "import pandas as pd\n",
    "\n",
    "df_dificultades = pd.read_csv(\"./data/dificultades.csv\",encoding='utf-8');\n",
    "df_encadenamientos = pd.read_csv(\"./data/tipos_encadenamiento.csv\", encoding='utf-8');\n",
    "df_escaladores = pd.read_csv(\"./data/escaladores_lite_2017.csv\", encoding='utf-8');\n",
    "df_ascensos = pd.read_csv(\"./data/ascensos_lite_2017.csv\", encoding='utf-8');\n",
    "\n",
    "# 'merge' del tipo de encadenamiento en el data frame de ascensos\n",
    "df_ascensos = pd.merge(df_ascensos, df_encadenamientos, on = ['id_tipo_encadenamiento'], how = 'inner')\n",
    "df_ascensos = df_ascensos[['id_escalador','id_dificultad', 'tipo_encadenamiento', 'nombre_via', 'risco', 'sector', 'pais']];"
   ]
  },
  {
   "cell_type": "markdown",
   "metadata": {},
   "source": [
    "## Desnormalización del data frame de ascensos\n",
    "\n",
    "Voy a incluir la información del usuario en cada registro de ascenso, para ir creando los buckets que van interesando según las preguntas a resolver"
   ]
  },
  {
   "cell_type": "code",
   "execution_count": 44,
   "metadata": {
    "collapsed": false,
    "scrolled": true
   },
   "outputs": [],
   "source": [
    "df_ascensos_desnormalizado = pd.merge(df_ascensos, df_escaladores, on = ['id_escalador'], how = 'inner');\n",
    "df_ascensos_desnormalizado = pd.merge(df_ascensos_desnormalizado, df_dificultades, on = ['id_dificultad'], how = 'inner');\n",
    "\n",
    "# Renombrar campos por claridad\n",
    "df_ascensos_desnormalizado = df_ascensos_desnormalizado.rename(\n",
    "    columns={\n",
    "        'nombre': 'nombre_escalador',\n",
    "        'ciudad':'ciudad_escalador',\n",
    "        'pais_y': 'pais_escalador',\n",
    "        'comienzo': 'anio_comienzo',\n",
    "        'pais_x': 'pais_risco'});\n"
   ]
  },
  {
   "cell_type": "markdown",
   "metadata": {},
   "source": [
    "## Carga de datos en Cassandra"
   ]
  },
  {
   "cell_type": "code",
   "execution_count": 45,
   "metadata": {
    "collapsed": true
   },
   "outputs": [],
   "source": [
    "from cassandra.cluster import Cluster, BatchStatement, ConsistencyLevel\n",
    "cluster = Cluster()\n",
    "session = cluster.connect('practica_8anu')"
   ]
  },
  {
   "cell_type": "markdown",
   "metadata": {},
   "source": [
    "**CARGA EN TABLAS DE ASCENSOS Y ACUMULADOS**"
   ]
  },
  {
   "cell_type": "code",
   "execution_count": 46,
   "metadata": {
    "collapsed": true
   },
   "outputs": [],
   "source": [
    "import dateutil\n",
    "\n",
    "def insert_ascensos(df):\n",
    "    sql_insert = \"\"\"\n",
    "        INSERT INTO ascensos (\n",
    "            uid,\n",
    "            id_escalador,\n",
    "            nombre_escalador,\n",
    "            pais_escalador,\n",
    "            anio_comienzo,\n",
    "            nombre_via,\n",
    "            id_dificultad,\n",
    "            grado_frances,\n",
    "            tipo_encadenamiento,\n",
    "            risco,\n",
    "            pais_risco\n",
    "        ) VALUES (now(), %s, %s, %s, %s, %s, %s, %s, %s, %s, %s)\"\"\"\n",
    "    \n",
    "    for index in df.index:\n",
    "        id_escalador = df.ix[index, \"id_escalador\"]\n",
    "        data = [\n",
    "            id_escalador,\n",
    "            df.ix[index, \"nombre_escalador\"],\n",
    "            df.ix[index, \"pais_escalador\"],\n",
    "            df.ix[index, \"anio_comienzo\"],\n",
    "            df.ix[index, \"nombre_via\"],\n",
    "            df.ix[index, \"id_dificultad\"],\n",
    "            df.ix[index, \"grado_frances\"],\n",
    "            df.ix[index, \"tipo_encadenamiento\"],\n",
    "            df.ix[index, \"risco\"],\n",
    "            df.ix[index, \"pais_risco\"]\n",
    "        ]\n",
    "        session.execute(sql_insert, data)\n",
    "        \n",
    "        if (df.ix[index, \"sexo\"] == 'Hombre'):\n",
    "            session.execute(\"UPDATE ascensos_acumulados_hombres SET num_ascensos = num_ascensos + 1 WHERE id_escalador = %s\", \n",
    "                            [id_escalador])\n",
    "        else:\n",
    "            session.execute(\"UPDATE ascensos_acumulados_mujeres SET num_ascensos = num_ascensos + 1 WHERE id_escalador = %s\", \n",
    "                            [id_escalador])"
   ]
  },
  {
   "cell_type": "code",
   "execution_count": 47,
   "metadata": {
    "collapsed": false
   },
   "outputs": [],
   "source": [
    "insert_ascensos(df_ascensos_desnormalizado)"
   ]
  },
  {
   "cell_type": "markdown",
   "metadata": {},
   "source": [
    "** CARGA EN TABLA DE ESCALADORES **"
   ]
  },
  {
   "cell_type": "code",
   "execution_count": 48,
   "metadata": {
    "collapsed": true
   },
   "outputs": [],
   "source": [
    "def insert_escaladores(df):\n",
    "    sql_insert = \"\"\"\n",
    "        INSERT INTO escaladores (\n",
    "            id_escalador,\n",
    "            nombre,\n",
    "            sexo,\n",
    "            pais,\n",
    "            anio_comienzo\n",
    "        ) VALUES (%s, %s, %s, %s, %s)\"\"\"\n",
    "    \n",
    "    for index in df.index:\n",
    "        data = [\n",
    "            df.ix[index, \"id_escalador\"],\n",
    "            df.ix[index, \"nombre\"],\n",
    "            df.ix[index, \"sexo\"],\n",
    "            df.ix[index, \"pais\"],\n",
    "            df.ix[index, \"comienzo\"]]\n",
    "        session.execute(sql_insert, data)"
   ]
  },
  {
   "cell_type": "code",
   "execution_count": 49,
   "metadata": {
    "collapsed": false
   },
   "outputs": [],
   "source": [
    "insert_escaladores(df_escaladores)"
   ]
  },
  {
   "cell_type": "markdown",
   "metadata": {},
   "source": [
    "# RESPUESTAS A LAS PREGUNTAS"
   ]
  },
  {
   "cell_type": "code",
   "execution_count": 50,
   "metadata": {
    "collapsed": true
   },
   "outputs": [],
   "source": [
    "def execute_query(sql):\n",
    "    rows = session.execute(sql)\n",
    "    return pd.DataFrame(list(rows))"
   ]
  },
  {
   "cell_type": "markdown",
   "metadata": {},
   "source": [
    "### 1.a) Los 10 escaladores (hombres) más activos (orden auxiliar por Id)"
   ]
  },
  {
   "cell_type": "markdown",
   "metadata": {},
   "source": []
  },
  {
   "cell_type": "code",
   "execution_count": 51,
   "metadata": {
    "collapsed": false
   },
   "outputs": [
    {
     "data": {
      "text/html": [
       "<div>\n",
       "<style>\n",
       "    .dataframe thead tr:only-child th {\n",
       "        text-align: right;\n",
       "    }\n",
       "\n",
       "    .dataframe thead th {\n",
       "        text-align: left;\n",
       "    }\n",
       "\n",
       "    .dataframe tbody tr th {\n",
       "        vertical-align: top;\n",
       "    }\n",
       "</style>\n",
       "<table border=\"1\" class=\"dataframe\">\n",
       "  <thead>\n",
       "    <tr style=\"text-align: right;\">\n",
       "      <th></th>\n",
       "      <th>id_escalador</th>\n",
       "      <th>num_ascensos</th>\n",
       "    </tr>\n",
       "  </thead>\n",
       "  <tbody>\n",
       "    <tr>\n",
       "      <th>3616</th>\n",
       "      <td>50884</td>\n",
       "      <td>46</td>\n",
       "    </tr>\n",
       "    <tr>\n",
       "      <th>2919</th>\n",
       "      <td>20095</td>\n",
       "      <td>26</td>\n",
       "    </tr>\n",
       "    <tr>\n",
       "      <th>3886</th>\n",
       "      <td>20384</td>\n",
       "      <td>23</td>\n",
       "    </tr>\n",
       "    <tr>\n",
       "      <th>3663</th>\n",
       "      <td>66250</td>\n",
       "      <td>22</td>\n",
       "    </tr>\n",
       "    <tr>\n",
       "      <th>860</th>\n",
       "      <td>62639</td>\n",
       "      <td>22</td>\n",
       "    </tr>\n",
       "    <tr>\n",
       "      <th>3614</th>\n",
       "      <td>32034</td>\n",
       "      <td>20</td>\n",
       "    </tr>\n",
       "    <tr>\n",
       "      <th>3316</th>\n",
       "      <td>42086</td>\n",
       "      <td>20</td>\n",
       "    </tr>\n",
       "    <tr>\n",
       "      <th>3097</th>\n",
       "      <td>16672</td>\n",
       "      <td>20</td>\n",
       "    </tr>\n",
       "    <tr>\n",
       "      <th>1239</th>\n",
       "      <td>37830</td>\n",
       "      <td>19</td>\n",
       "    </tr>\n",
       "    <tr>\n",
       "      <th>695</th>\n",
       "      <td>66466</td>\n",
       "      <td>19</td>\n",
       "    </tr>\n",
       "  </tbody>\n",
       "</table>\n",
       "</div>"
      ],
      "text/plain": [
       "      id_escalador  num_ascensos\n",
       "3616         50884            46\n",
       "2919         20095            26\n",
       "3886         20384            23\n",
       "3663         66250            22\n",
       "860          62639            22\n",
       "3614         32034            20\n",
       "3316         42086            20\n",
       "3097         16672            20\n",
       "1239         37830            19\n",
       "695          66466            19"
      ]
     },
     "execution_count": 51,
     "metadata": {},
     "output_type": "execute_result"
    }
   ],
   "source": [
    "sql = \"\"\"\n",
    "SELECT id_escalador, num_ascensos\n",
    "FROM ascensos_acumulados_hombres\n",
    "\"\"\"\n",
    "df = execute_query(sql)\n",
    "\n",
    "df.sort_values('num_ascensos', ascending = False).head(10)"
   ]
  },
  {
   "cell_type": "markdown",
   "metadata": {},
   "source": [
    "### 1.b) Los 10 escaladoras (mujeres) más activas (orden auxiliar por Id)"
   ]
  },
  {
   "cell_type": "markdown",
   "metadata": {},
   "source": [
    "### 2. Lista de los 10 ascensos \"On sight\" de la escaladora más activa en orden decreciente de dificultad (y por nombre de via ascendete)"
   ]
  },
  {
   "cell_type": "markdown",
   "metadata": {},
   "source": [
    "### 3. Dificultad media de los ascensos del escalador más activo"
   ]
  },
  {
   "cell_type": "markdown",
   "metadata": {},
   "source": [
    "### 4.a) Los 10 ascensos mas dificiles"
   ]
  },
  {
   "cell_type": "markdown",
   "metadata": {},
   "source": [
    "### 4.b) Los 10 ascensos mas dificiles a vista (On sight)"
   ]
  },
  {
   "cell_type": "markdown",
   "metadata": {},
   "source": [
    "### 5.a) Grado medio y maximo de los ascensos en España de los 10 escaladores NO ESPAÑOLES con mas ascensos en España"
   ]
  },
  {
   "cell_type": "markdown",
   "metadata": {},
   "source": [
    "### 5.b) Grado medio y maximo de los ascensos en España de los 10 escaladores ESPAÑOLES con mas ascensos en España"
   ]
  },
  {
   "cell_type": "markdown",
   "metadata": {},
   "source": [
    "### 6.a) Dificultad media y maxima de los ascensos NO \"Top Rope\" de los escaladores con menos de 3 años de experiencia"
   ]
  },
  {
   "cell_type": "markdown",
   "metadata": {},
   "source": [
    "### 6.b) Dificultad media y maxima de los ascensos NO \"Top Rope\" de los escaladores con entre 10 y 30 años de experiencia"
   ]
  },
  {
   "cell_type": "markdown",
   "metadata": {},
   "source": [
    "### 7. Los 10 riscos españoles (o zonas) con mas ascensos por orden decreciente de numero de ascensos"
   ]
  },
  {
   "cell_type": "markdown",
   "metadata": {},
   "source": [
    "### 8.a) Los 10 sectores españoles con mayor nivel de difcultad media de ascensos ordenadas por orden decreciente de dificultad y por numero de ascensos decreciente"
   ]
  },
  {
   "cell_type": "markdown",
   "metadata": {},
   "source": [
    "### 8.b) Las 10 sectores españoles con menor nivel de dificultad medio de ascensos ordenadas por orden creciente de dificultad y por numero de ascensos decreciente"
   ]
  },
  {
   "cell_type": "code",
   "execution_count": null,
   "metadata": {
    "collapsed": true
   },
   "outputs": [],
   "source": []
  }
 ],
 "metadata": {
  "kernelspec": {
   "display_name": "Python 2",
   "language": "python",
   "name": "python2"
  },
  "language_info": {
   "codemirror_mode": {
    "name": "ipython",
    "version": 2
   },
   "file_extension": ".py",
   "mimetype": "text/x-python",
   "name": "python",
   "nbconvert_exporter": "python",
   "pygments_lexer": "ipython2",
   "version": "2.7.6"
  }
 },
 "nbformat": 4,
 "nbformat_minor": 0
}
