{
 "cells": [
  {
   "cell_type": "markdown",
   "metadata": {},
   "source": [
    "# Base de datos Cassandra"
   ]
  },
  {
   "cell_type": "markdown",
   "metadata": {},
   "source": [
    "## Conexion y borrado de datos"
   ]
  },
  {
   "cell_type": "code",
   "execution_count": 8,
   "metadata": {
    "collapsed": false
   },
   "outputs": [
    {
     "name": "stdout",
     "output_type": "stream",
     "text": [
      "The cql extension is already loaded. To reload it, use:\n",
      "  %reload_ext cql\n"
     ]
    }
   ],
   "source": [
    "%load_ext cql"
   ]
  },
  {
   "cell_type": "code",
   "execution_count": 9,
   "metadata": {
    "collapsed": false
   },
   "outputs": [
    {
     "data": {
      "text/plain": [
       "'No results.'"
      ]
     },
     "execution_count": 9,
     "metadata": {},
     "output_type": "execute_result"
    }
   ],
   "source": [
    "%%cql\n",
    "DROP KEYSPACE practica_8anu;"
   ]
  },
  {
   "cell_type": "code",
   "execution_count": 10,
   "metadata": {
    "collapsed": false
   },
   "outputs": [
    {
     "data": {
      "text/plain": [
       "'No results.'"
      ]
     },
     "execution_count": 10,
     "metadata": {},
     "output_type": "execute_result"
    }
   ],
   "source": [
    "%%cql\n",
    "CREATE KEYSPACE practica_8anu \n",
    "WITH replication = {'class':'SimpleStrategy', 'replication_factor': 1};"
   ]
  },
  {
   "cell_type": "code",
   "execution_count": 11,
   "metadata": {
    "collapsed": false
   },
   "outputs": [
    {
     "data": {
      "text/plain": [
       "'No results.'"
      ]
     },
     "execution_count": 11,
     "metadata": {},
     "output_type": "execute_result"
    }
   ],
   "source": [
    "%cql USE practica_8anu;"
   ]
  },
  {
   "cell_type": "markdown",
   "metadata": {},
   "source": [
    "## Creacion de tablas"
   ]
  },
  {
   "cell_type": "markdown",
   "metadata": {},
   "source": [
    "** TABLA ESCALADORES **"
   ]
  },
  {
   "cell_type": "code",
   "execution_count": 12,
   "metadata": {
    "collapsed": false
   },
   "outputs": [
    {
     "data": {
      "text/plain": [
       "'No results.'"
      ]
     },
     "execution_count": 12,
     "metadata": {},
     "output_type": "execute_result"
    }
   ],
   "source": [
    "%%cql \n",
    "CREATE TABLE escaladores (\n",
    "    id_escalador    int,\n",
    "    nombre          text,\n",
    "    sexo            text,\n",
    "    pais            text,\n",
    "    anio_comienzo   int,\n",
    "    PRIMARY KEY (id_escalador)\n",
    ");"
   ]
  },
  {
   "cell_type": "markdown",
   "metadata": {},
   "source": [
    "** TABLA DE ASCENSOS **"
   ]
  },
  {
   "cell_type": "code",
   "execution_count": 13,
   "metadata": {
    "collapsed": false
   },
   "outputs": [
    {
     "data": {
      "text/plain": [
       "'No results.'"
      ]
     },
     "execution_count": 13,
     "metadata": {},
     "output_type": "execute_result"
    }
   ],
   "source": [
    "%%cql \n",
    "CREATE TABLE ascensos (\n",
    "    uid                  uuid,\n",
    "    id_escalador         int,\n",
    "    nombre_escalador     text,\n",
    "    pais_escalador       text,\n",
    "    anio_comienzo        int,\n",
    "    nombre_via           text,\n",
    "    dificultad           int,\n",
    "    grado_frances        text,\n",
    "    tipo_encadenamiento  text,\n",
    "    risco                text,\n",
    "    pais_risco           text,\n",
    "    PRIMARY KEY (id_escalador)\n",
    ");"
   ]
  },
  {
   "cell_type": "markdown",
   "metadata": {},
   "source": [
    "** TABLA DE ASCENSOS ACUMULADOS POR ESCALADOR **"
   ]
  },
  {
   "cell_type": "code",
   "execution_count": 14,
   "metadata": {
    "collapsed": false
   },
   "outputs": [
    {
     "data": {
      "text/plain": [
       "'No results.'"
      ]
     },
     "execution_count": 14,
     "metadata": {},
     "output_type": "execute_result"
    }
   ],
   "source": [
    "%%cql \n",
    "CREATE TABLE ascensos_acumulados_hombres (\n",
    "    id_escalador    int,\n",
    "    num_ascensos    counter,\n",
    "    dificultad_acum counter,\n",
    "    PRIMARY KEY (id_escalador)\n",
    ");"
   ]
  },
  {
   "cell_type": "code",
   "execution_count": 15,
   "metadata": {
    "collapsed": false
   },
   "outputs": [
    {
     "data": {
      "text/plain": [
       "'No results.'"
      ]
     },
     "execution_count": 15,
     "metadata": {},
     "output_type": "execute_result"
    }
   ],
   "source": [
    "%%cql \n",
    "CREATE TABLE ascensos_acumulados_mujeres (\n",
    "    id_escalador    int,\n",
    "    num_ascensos    counter,\n",
    "    dificultad_acum counter,\n",
    "    PRIMARY KEY (id_escalador)\n",
    ");"
   ]
  },
  {
   "cell_type": "markdown",
   "metadata": {},
   "source": [
    "## Lectura de la informacion en Pandas"
   ]
  },
  {
   "cell_type": "code",
   "execution_count": 16,
   "metadata": {
    "collapsed": false
   },
   "outputs": [],
   "source": [
    "import pandas as pd\n",
    "\n",
    "df_dificultades = pd.read_csv(\"./data/dificultades.csv\",encoding='utf-8');\n",
    "df_encadenamientos = pd.read_csv(\"./data/tipos_encadenamiento.csv\", encoding='utf-8');\n",
    "df_escaladores = pd.read_csv(\"./data/escaladores_lite_2017.csv\", encoding='utf-8');\n",
    "df_ascensos = pd.read_csv(\"./data/ascensos_lite_2017.csv\", encoding='utf-8');\n",
    "\n",
    "# 'merge' del tipo de encadenamiento en el data frame de ascensos\n",
    "df_ascensos = pd.merge(df_ascensos, df_encadenamientos, on = ['id_tipo_encadenamiento'], how = 'inner')\n",
    "df_ascensos = df_ascensos[['id_escalador','id_dificultad', 'tipo_encadenamiento', 'nombre_via', 'risco', 'sector', 'pais']];"
   ]
  },
  {
   "cell_type": "markdown",
   "metadata": {},
   "source": [
    "## Desnormalización del data frame de ascensos\n",
    "\n",
    "Voy a incluir la información del usuario en cada registro de ascenso, para ir creando los buckets que van interesando según las preguntas a resolver"
   ]
  },
  {
   "cell_type": "code",
   "execution_count": 17,
   "metadata": {
    "collapsed": false,
    "scrolled": true
   },
   "outputs": [],
   "source": [
    "df_ascensos = pd.merge(df_ascensos, df_escaladores, on = ['id_escalador'], how = 'left');\n",
    "df_ascensos = pd.merge(df_ascensos, df_dificultades, on = ['id_dificultad'], how = 'left');\n",
    "\n",
    "# Renombrar campos por claridad\n",
    "df_ascensos = df_ascensos.rename(\n",
    "    columns={\n",
    "        'id_dificultad' : 'dificultad',\n",
    "        'nombre': 'nombre_escalador',\n",
    "        'ciudad':'ciudad_escalador',\n",
    "        'pais_y': 'pais_escalador',\n",
    "        'comienzo': 'anio_comienzo',\n",
    "        'pais_x': 'pais_risco'});\n"
   ]
  },
  {
   "cell_type": "markdown",
   "metadata": {},
   "source": [
    "## Carga de datos en Cassandra"
   ]
  },
  {
   "cell_type": "code",
   "execution_count": 18,
   "metadata": {
    "collapsed": true
   },
   "outputs": [],
   "source": [
    "from cassandra.cluster import Cluster, BatchStatement, ConsistencyLevel\n",
    "cluster = Cluster()\n",
    "session = cluster.connect('practica_8anu')"
   ]
  },
  {
   "cell_type": "markdown",
   "metadata": {},
   "source": [
    "**CARGA EN TABLAS DE ASCENSOS Y ACUMULADOS**"
   ]
  },
  {
   "cell_type": "code",
   "execution_count": 19,
   "metadata": {
    "collapsed": false
   },
   "outputs": [],
   "source": [
    "def insert_ascensos(df):\n",
    "    cql_insert_ascenso = \"\"\"\n",
    "        INSERT INTO ascensos (\n",
    "            uid,\n",
    "            id_escalador,\n",
    "            nombre_escalador,\n",
    "            pais_escalador,\n",
    "            anio_comienzo,\n",
    "            nombre_via,\n",
    "            dificultad,\n",
    "            grado_frances,\n",
    "            tipo_encadenamiento,\n",
    "            risco,\n",
    "            pais_risco\n",
    "        ) VALUES (now(), %s, %s, %s, %s, %s, %s, %s, %s, %s, %s)\"\"\"\n",
    "    \n",
    "\n",
    "    \n",
    "    for index in df.index:\n",
    "        data = [\n",
    "            df.ix[index,\"id_escalador\"],\n",
    "            df.ix[index,\"nombre_escalador\"],\n",
    "            df.ix[index,\"pais_escalador\"],\n",
    "            df.ix[index,\"anio_comienzo\"],\n",
    "            df.ix[index,\"nombre_via\"],\n",
    "            df.ix[index,\"dificultad\"],\n",
    "            df.ix[index,\"grado_frances\"],\n",
    "            df.ix[index,\"tipo_encadenamiento\"],\n",
    "            df.ix[index,\"risco\"],\n",
    "            df.ix[index,\"pais_risco\"]\n",
    "        ]\n",
    "\n",
    "        session.execute(cql_insert_ascenso, data)\n",
    "\n",
    "        if (df.ix[index,\"sexo\"] == 'Hombre'):\n",
    "            session.execute(\"\"\"UPDATE ascensos_acumulados_hombres\n",
    "                               SET num_ascensos = num_ascensos + 1,\n",
    "                                   dificultad_acum = dificultad_acum + %s\n",
    "                               WHERE id_escalador = %s\"\"\",\n",
    "                            [df.ix[index,\"dificultad\"], df.ix[index,\"id_escalador\"]])\n",
    "        else:\n",
    "            session.execute(\"\"\"UPDATE ascensos_acumulados_mujeres\n",
    "                               SET num_ascensos = num_ascensos + 1,\n",
    "                                   dificultad_acum = dificultad_acum + %s\n",
    "                               WHERE id_escalador = %s\"\"\",\n",
    "                            [df.ix[index,\"dificultad\"], df.ix[index,\"id_escalador\"]])\n",
    "        "
   ]
  },
  {
   "cell_type": "code",
   "execution_count": 20,
   "metadata": {
    "collapsed": false
   },
   "outputs": [],
   "source": [
    "insert_ascensos(df_ascensos)"
   ]
  },
  {
   "cell_type": "markdown",
   "metadata": {},
   "source": [
    "** CARGA EN TABLA DE ESCALADORES **"
   ]
  },
  {
   "cell_type": "code",
   "execution_count": 21,
   "metadata": {
    "collapsed": true
   },
   "outputs": [],
   "source": [
    "def insert_escaladores(df):\n",
    "    cql_insert = \"\"\"\n",
    "        INSERT INTO escaladores (\n",
    "            id_escalador,\n",
    "            nombre,\n",
    "            sexo,\n",
    "            pais,\n",
    "            anio_comienzo\n",
    "        ) VALUES (%s, %s, %s, %s, %s)\"\"\"\n",
    "    \n",
    "    for index in df.index:\n",
    "        data = [\n",
    "            df.ix[index, \"id_escalador\"],\n",
    "            df.ix[index, \"nombre\"],\n",
    "            df.ix[index, \"sexo\"],\n",
    "            df.ix[index, \"pais\"],\n",
    "            df.ix[index, \"comienzo\"]]\n",
    "        session.execute(cql_insert, data)"
   ]
  },
  {
   "cell_type": "code",
   "execution_count": 22,
   "metadata": {
    "collapsed": false
   },
   "outputs": [],
   "source": [
    "insert_escaladores(df_escaladores)"
   ]
  },
  {
   "cell_type": "markdown",
   "metadata": {},
   "source": [
    "# RESPUESTAS A LAS PREGUNTAS"
   ]
  },
  {
   "cell_type": "code",
   "execution_count": 28,
   "metadata": {
    "collapsed": true
   },
   "outputs": [],
   "source": [
    "def execute_query(cql, data=[]):\n",
    "    rows = session.execute(cql, data)\n",
    "    return pd.DataFrame(list(rows))"
   ]
  },
  {
   "cell_type": "markdown",
   "metadata": {},
   "source": [
    "### 1.a) Los 10 escaladores (hombres) más activos (orden auxiliar por Id)\n",
    "\n",
    "Esto requiere varias consultas a dos tablas diferentes:\n",
    "- Una consulta a la tabla de acumulados de hombres de la que se obtienen los ids de los escaladores con mas ascensos acumulados\n",
    "- 10 consultas a la tabla de escaladores, para sacar los datos del escalador.\n",
    "\n",
    "Por desgracia las tablas con columnas counter:\n",
    "- no pueden contener columnas de otro tipo (excepto una unica columna que hace de partition key): https://stackoverflow.com/questions/32562500/cassandra-non-counter-family\n",
    "- no pueden poner como columna de ordenamiento una clustering key, con lo que no se puede meter num_ascensos como clustering key y solicitar ordenacion por la misma. Esto hace que la ordenación haya hacerla fuera.\n"
   ]
  },
  {
   "cell_type": "code",
   "execution_count": 45,
   "metadata": {
    "collapsed": false,
    "scrolled": true
   },
   "outputs": [],
   "source": [
    "cql = \"\"\"\n",
    "SELECT *\n",
    "FROM ascensos_acumulados_hombres\n",
    "\"\"\"\n",
    "df_id_acum = execute_query(cql)\n",
    "\n",
    "df_id_acum = df_id_acum_hombres.sort_values(['num_ascensos', 'id_escalador'],ascending=[False, False]).head(10)"
   ]
  },
  {
   "cell_type": "code",
   "execution_count": 46,
   "metadata": {
    "collapsed": false
   },
   "outputs": [
    {
     "data": {
      "text/html": [
       "<div>\n",
       "<style>\n",
       "    .dataframe thead tr:only-child th {\n",
       "        text-align: right;\n",
       "    }\n",
       "\n",
       "    .dataframe thead th {\n",
       "        text-align: left;\n",
       "    }\n",
       "\n",
       "    .dataframe tbody tr th {\n",
       "        vertical-align: top;\n",
       "    }\n",
       "</style>\n",
       "<table border=\"1\" class=\"dataframe\">\n",
       "  <thead>\n",
       "    <tr style=\"text-align: right;\">\n",
       "      <th></th>\n",
       "      <th>id_escalador</th>\n",
       "      <th>nombre</th>\n",
       "      <th>sexo</th>\n",
       "      <th>pais</th>\n",
       "      <th>num_ascensos</th>\n",
       "    </tr>\n",
       "  </thead>\n",
       "  <tbody>\n",
       "    <tr>\n",
       "      <th>0</th>\n",
       "      <td>50884</td>\n",
       "      <td>Christopher Leonetti</td>\n",
       "      <td>Hombre</td>\n",
       "      <td>USA</td>\n",
       "      <td>47</td>\n",
       "    </tr>\n",
       "    <tr>\n",
       "      <th>0</th>\n",
       "      <td>20384</td>\n",
       "      <td>Clemens Kurth</td>\n",
       "      <td>Hombre</td>\n",
       "      <td>DEU</td>\n",
       "      <td>26</td>\n",
       "    </tr>\n",
       "    <tr>\n",
       "      <th>0</th>\n",
       "      <td>20095</td>\n",
       "      <td>Matthias Schuster</td>\n",
       "      <td>Hombre</td>\n",
       "      <td>DEU</td>\n",
       "      <td>26</td>\n",
       "    </tr>\n",
       "    <tr>\n",
       "      <th>0</th>\n",
       "      <td>66250</td>\n",
       "      <td>Kuba Kaminski</td>\n",
       "      <td>Hombre</td>\n",
       "      <td>POL</td>\n",
       "      <td>24</td>\n",
       "    </tr>\n",
       "    <tr>\n",
       "      <th>0</th>\n",
       "      <td>9171</td>\n",
       "      <td>Laurenz Trawnicek</td>\n",
       "      <td>Hombre</td>\n",
       "      <td>AUT</td>\n",
       "      <td>23</td>\n",
       "    </tr>\n",
       "    <tr>\n",
       "      <th>0</th>\n",
       "      <td>46622</td>\n",
       "      <td>Raúl Crespo</td>\n",
       "      <td>Hombre</td>\n",
       "      <td>ESP</td>\n",
       "      <td>19</td>\n",
       "    </tr>\n",
       "    <tr>\n",
       "      <th>0</th>\n",
       "      <td>42086</td>\n",
       "      <td>Marcin Opozda</td>\n",
       "      <td>Hombre</td>\n",
       "      <td>POL</td>\n",
       "      <td>19</td>\n",
       "    </tr>\n",
       "    <tr>\n",
       "      <th>0</th>\n",
       "      <td>66466</td>\n",
       "      <td>Christian Boehme</td>\n",
       "      <td>Hombre</td>\n",
       "      <td>DEU</td>\n",
       "      <td>18</td>\n",
       "    </tr>\n",
       "    <tr>\n",
       "      <th>0</th>\n",
       "      <td>47732</td>\n",
       "      <td>Thomas de Fleurian</td>\n",
       "      <td>Hombre</td>\n",
       "      <td>FRA</td>\n",
       "      <td>18</td>\n",
       "    </tr>\n",
       "    <tr>\n",
       "      <th>0</th>\n",
       "      <td>35847</td>\n",
       "      <td>Zack Bum</td>\n",
       "      <td>Hombre</td>\n",
       "      <td>DEU</td>\n",
       "      <td>18</td>\n",
       "    </tr>\n",
       "  </tbody>\n",
       "</table>\n",
       "</div>"
      ],
      "text/plain": [
       "   id_escalador                nombre    sexo pais  num_ascensos\n",
       "0         50884  Christopher Leonetti  Hombre  USA            47\n",
       "0         20384         Clemens Kurth  Hombre  DEU            26\n",
       "0         20095     Matthias Schuster  Hombre  DEU            26\n",
       "0         66250         Kuba Kaminski  Hombre  POL            24\n",
       "0          9171     Laurenz Trawnicek  Hombre  AUT            23\n",
       "0         46622           Raúl Crespo  Hombre  ESP            19\n",
       "0         42086         Marcin Opozda  Hombre  POL            19\n",
       "0         66466      Christian Boehme  Hombre  DEU            18\n",
       "0         47732    Thomas de Fleurian  Hombre  FRA            18\n",
       "0         35847              Zack Bum  Hombre  DEU            18"
      ]
     },
     "execution_count": 46,
     "metadata": {},
     "output_type": "execute_result"
    }
   ],
   "source": [
    "cql = \"\"\"\n",
    "SELECT *\n",
    "FROM escaladores\n",
    "WHERE id_escalador=%s\n",
    "\"\"\"\n",
    "\n",
    "df = pd.DataFrame()\n",
    "for index in df_id_acum.index:\n",
    "    df_escalador = execute_query(cql, [df_id_acum.ix[index,'id_escalador']])\n",
    "    df_escalador[\"num_ascensos\"] = df_id_acum.ix[index, \"num_ascensos\"]\n",
    "    \n",
    "    df = df.append(df_escalador)\n",
    "    \n",
    "columnas = [\"id_escalador\", \"nombre\", \"sexo\", \"pais\", \"num_ascensos\"]\n",
    "df[columnas]  \n",
    "    "
   ]
  },
  {
   "cell_type": "markdown",
   "metadata": {},
   "source": [
    "### 1.b) Los 10 escaladoras (mujeres) más activas (orden auxiliar por Id)"
   ]
  },
  {
   "cell_type": "code",
   "execution_count": 47,
   "metadata": {
    "collapsed": true
   },
   "outputs": [],
   "source": [
    "cql = \"\"\"\n",
    "SELECT *\n",
    "FROM ascensos_acumulados_mujeres\n",
    "\"\"\"\n",
    "df_id_acum = execute_query(cql)\n",
    "\n",
    "df_id_acum = df_id_acum_hombres.sort_values(['num_ascensos', 'id_escalador'],ascending=[False, False]).head(10)"
   ]
  },
  {
   "cell_type": "code",
   "execution_count": 48,
   "metadata": {
    "collapsed": false
   },
   "outputs": [
    {
     "data": {
      "text/html": [
       "<div>\n",
       "<style>\n",
       "    .dataframe thead tr:only-child th {\n",
       "        text-align: right;\n",
       "    }\n",
       "\n",
       "    .dataframe thead th {\n",
       "        text-align: left;\n",
       "    }\n",
       "\n",
       "    .dataframe tbody tr th {\n",
       "        vertical-align: top;\n",
       "    }\n",
       "</style>\n",
       "<table border=\"1\" class=\"dataframe\">\n",
       "  <thead>\n",
       "    <tr style=\"text-align: right;\">\n",
       "      <th></th>\n",
       "      <th>id_escalador</th>\n",
       "      <th>nombre</th>\n",
       "      <th>sexo</th>\n",
       "      <th>pais</th>\n",
       "      <th>num_ascensos</th>\n",
       "    </tr>\n",
       "  </thead>\n",
       "  <tbody>\n",
       "    <tr>\n",
       "      <th>0</th>\n",
       "      <td>50884</td>\n",
       "      <td>Christopher Leonetti</td>\n",
       "      <td>Hombre</td>\n",
       "      <td>USA</td>\n",
       "      <td>47</td>\n",
       "    </tr>\n",
       "    <tr>\n",
       "      <th>0</th>\n",
       "      <td>20384</td>\n",
       "      <td>Clemens Kurth</td>\n",
       "      <td>Hombre</td>\n",
       "      <td>DEU</td>\n",
       "      <td>26</td>\n",
       "    </tr>\n",
       "    <tr>\n",
       "      <th>0</th>\n",
       "      <td>20095</td>\n",
       "      <td>Matthias Schuster</td>\n",
       "      <td>Hombre</td>\n",
       "      <td>DEU</td>\n",
       "      <td>26</td>\n",
       "    </tr>\n",
       "    <tr>\n",
       "      <th>0</th>\n",
       "      <td>66250</td>\n",
       "      <td>Kuba Kaminski</td>\n",
       "      <td>Hombre</td>\n",
       "      <td>POL</td>\n",
       "      <td>24</td>\n",
       "    </tr>\n",
       "    <tr>\n",
       "      <th>0</th>\n",
       "      <td>9171</td>\n",
       "      <td>Laurenz Trawnicek</td>\n",
       "      <td>Hombre</td>\n",
       "      <td>AUT</td>\n",
       "      <td>23</td>\n",
       "    </tr>\n",
       "    <tr>\n",
       "      <th>0</th>\n",
       "      <td>46622</td>\n",
       "      <td>Raúl Crespo</td>\n",
       "      <td>Hombre</td>\n",
       "      <td>ESP</td>\n",
       "      <td>19</td>\n",
       "    </tr>\n",
       "    <tr>\n",
       "      <th>0</th>\n",
       "      <td>42086</td>\n",
       "      <td>Marcin Opozda</td>\n",
       "      <td>Hombre</td>\n",
       "      <td>POL</td>\n",
       "      <td>19</td>\n",
       "    </tr>\n",
       "    <tr>\n",
       "      <th>0</th>\n",
       "      <td>66466</td>\n",
       "      <td>Christian Boehme</td>\n",
       "      <td>Hombre</td>\n",
       "      <td>DEU</td>\n",
       "      <td>18</td>\n",
       "    </tr>\n",
       "    <tr>\n",
       "      <th>0</th>\n",
       "      <td>47732</td>\n",
       "      <td>Thomas de Fleurian</td>\n",
       "      <td>Hombre</td>\n",
       "      <td>FRA</td>\n",
       "      <td>18</td>\n",
       "    </tr>\n",
       "    <tr>\n",
       "      <th>0</th>\n",
       "      <td>35847</td>\n",
       "      <td>Zack Bum</td>\n",
       "      <td>Hombre</td>\n",
       "      <td>DEU</td>\n",
       "      <td>18</td>\n",
       "    </tr>\n",
       "  </tbody>\n",
       "</table>\n",
       "</div>"
      ],
      "text/plain": [
       "   id_escalador                nombre    sexo pais  num_ascensos\n",
       "0         50884  Christopher Leonetti  Hombre  USA            47\n",
       "0         20384         Clemens Kurth  Hombre  DEU            26\n",
       "0         20095     Matthias Schuster  Hombre  DEU            26\n",
       "0         66250         Kuba Kaminski  Hombre  POL            24\n",
       "0          9171     Laurenz Trawnicek  Hombre  AUT            23\n",
       "0         46622           Raúl Crespo  Hombre  ESP            19\n",
       "0         42086         Marcin Opozda  Hombre  POL            19\n",
       "0         66466      Christian Boehme  Hombre  DEU            18\n",
       "0         47732    Thomas de Fleurian  Hombre  FRA            18\n",
       "0         35847              Zack Bum  Hombre  DEU            18"
      ]
     },
     "execution_count": 48,
     "metadata": {},
     "output_type": "execute_result"
    }
   ],
   "source": [
    "cql = \"\"\"\n",
    "SELECT *\n",
    "FROM escaladores\n",
    "WHERE id_escalador=%s\n",
    "\"\"\"\n",
    "\n",
    "df = pd.DataFrame()\n",
    "for index in df_id_acum.index:\n",
    "    df_escalador = execute_query(cql, [df_id_acum.ix[index,'id_escalador']])\n",
    "    df_escalador[\"num_ascensos\"] = df_id_acum.ix[index, \"num_ascensos\"]\n",
    "    \n",
    "    df = df.append(df_escalador)\n",
    "    \n",
    "columnas = [\"id_escalador\", \"nombre\", \"sexo\", \"pais\", \"num_ascensos\"]\n",
    "df[columnas] "
   ]
  },
  {
   "cell_type": "markdown",
   "metadata": {},
   "source": [
    "### 2. Lista de los 10 ascensos \"On sight\" de la escaladora más activa en orden decreciente de dificultad (y por nombre de via ascendete)"
   ]
  },
  {
   "cell_type": "markdown",
   "metadata": {},
   "source": [
    "### 3. Dificultad media de los ascensos del escalador más activo"
   ]
  },
  {
   "cell_type": "markdown",
   "metadata": {},
   "source": [
    "### 4.a) Los 10 ascensos mas dificiles"
   ]
  },
  {
   "cell_type": "markdown",
   "metadata": {},
   "source": [
    "### 4.b) Los 10 ascensos mas dificiles a vista (On sight)"
   ]
  },
  {
   "cell_type": "markdown",
   "metadata": {},
   "source": [
    "### 5.a) Grado medio y maximo de los ascensos en España de los 10 escaladores NO ESPAÑOLES con mas ascensos en España"
   ]
  },
  {
   "cell_type": "markdown",
   "metadata": {},
   "source": [
    "### 5.b) Grado medio y maximo de los ascensos en España de los 10 escaladores ESPAÑOLES con mas ascensos en España"
   ]
  },
  {
   "cell_type": "markdown",
   "metadata": {},
   "source": [
    "### 6.a) Dificultad media y maxima de los ascensos NO \"Top Rope\" de los escaladores con menos de 3 años de experiencia"
   ]
  },
  {
   "cell_type": "markdown",
   "metadata": {},
   "source": [
    "### 6.b) Dificultad media y maxima de los ascensos NO \"Top Rope\" de los escaladores con entre 10 y 30 años de experiencia"
   ]
  },
  {
   "cell_type": "markdown",
   "metadata": {},
   "source": [
    "### 7. Los 10 riscos españoles (o zonas) con mas ascensos por orden decreciente de numero de ascensos"
   ]
  },
  {
   "cell_type": "markdown",
   "metadata": {},
   "source": [
    "### 8.a) Los 10 sectores españoles con mayor nivel de difcultad media de ascensos ordenadas por orden decreciente de dificultad y por numero de ascensos decreciente"
   ]
  },
  {
   "cell_type": "markdown",
   "metadata": {},
   "source": [
    "### 8.b) Las 10 sectores españoles con menor nivel de dificultad medio de ascensos ordenadas por orden creciente de dificultad y por numero de ascensos decreciente"
   ]
  },
  {
   "cell_type": "code",
   "execution_count": null,
   "metadata": {
    "collapsed": true
   },
   "outputs": [],
   "source": []
  }
 ],
 "metadata": {
  "kernelspec": {
   "display_name": "Python 2",
   "language": "python",
   "name": "python2"
  },
  "language_info": {
   "codemirror_mode": {
    "name": "ipython",
    "version": 2
   },
   "file_extension": ".py",
   "mimetype": "text/x-python",
   "name": "python",
   "nbconvert_exporter": "python",
   "pygments_lexer": "ipython2",
   "version": "2.7.6"
  }
 },
 "nbformat": 4,
 "nbformat_minor": 0
}
