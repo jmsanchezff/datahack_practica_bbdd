{
 "cells": [
  {
   "cell_type": "markdown",
   "metadata": {},
   "source": [
    "# Base de datos Cassandra"
   ]
  },
  {
   "cell_type": "markdown",
   "metadata": {},
   "source": [
    "## Conexion y borrado de datos"
   ]
  },
  {
   "cell_type": "code",
   "execution_count": 1,
   "metadata": {
    "collapsed": false
   },
   "outputs": [],
   "source": [
    "%load_ext cql"
   ]
  },
  {
   "cell_type": "code",
   "execution_count": 2,
   "metadata": {
    "collapsed": false
   },
   "outputs": [
    {
     "data": {
      "text/plain": [
       "'No results.'"
      ]
     },
     "execution_count": 2,
     "metadata": {},
     "output_type": "execute_result"
    }
   ],
   "source": [
    "%%cql\n",
    "DROP KEYSPACE practica_8anu;"
   ]
  },
  {
   "cell_type": "code",
   "execution_count": 3,
   "metadata": {
    "collapsed": false
   },
   "outputs": [
    {
     "data": {
      "text/plain": [
       "'No results.'"
      ]
     },
     "execution_count": 3,
     "metadata": {},
     "output_type": "execute_result"
    }
   ],
   "source": [
    "%%cql\n",
    "CREATE KEYSPACE practica_8anu \n",
    "WITH replication = {'class':'SimpleStrategy', 'replication_factor': 1};"
   ]
  },
  {
   "cell_type": "code",
   "execution_count": 4,
   "metadata": {
    "collapsed": false
   },
   "outputs": [
    {
     "data": {
      "text/plain": [
       "'No results.'"
      ]
     },
     "execution_count": 4,
     "metadata": {},
     "output_type": "execute_result"
    }
   ],
   "source": [
    "%cql USE practica_8anu;"
   ]
  },
  {
   "cell_type": "markdown",
   "metadata": {},
   "source": [
    "## Creacion de tablas"
   ]
  },
  {
   "cell_type": "markdown",
   "metadata": {},
   "source": [
    "** TABLA ESCALADORES **"
   ]
  },
  {
   "cell_type": "code",
   "execution_count": 5,
   "metadata": {
    "collapsed": false
   },
   "outputs": [
    {
     "data": {
      "text/plain": [
       "'No results.'"
      ]
     },
     "execution_count": 5,
     "metadata": {},
     "output_type": "execute_result"
    }
   ],
   "source": [
    "%%cql \n",
    "CREATE TABLE escaladores (\n",
    "    id_escalador    int,\n",
    "    nombre          text,\n",
    "    sexo            text,\n",
    "    pais            text,\n",
    "    anio_comienzo   int,\n",
    "    PRIMARY KEY (id_escalador)\n",
    ");"
   ]
  },
  {
   "cell_type": "markdown",
   "metadata": {},
   "source": [
    "** TABLA DE ASCENSOS **"
   ]
  },
  {
   "cell_type": "markdown",
   "metadata": {
    "collapsed": false
   },
   "source": [
    "%%cql \n",
    "CREATE TABLE ascensos (\n",
    "    uid                  uuid,\n",
    "    id_escalador         int,\n",
    "    nombre_escalador     text,\n",
    "    pais_escalador       text,\n",
    "    anio_comienzo        int,\n",
    "    nombre_via           text,\n",
    "    dificultad           int,\n",
    "    grado_frances        text,\n",
    "    tipo_encadenamiento  text,\n",
    "    risco                text,\n",
    "    pais_risco           text,\n",
    "    PRIMARY KEY (uid, id_escalador, tipo_encadenamiento)\n",
    ");"
   ]
  },
  {
   "cell_type": "code",
   "execution_count": 6,
   "metadata": {
    "collapsed": false
   },
   "outputs": [
    {
     "data": {
      "text/plain": [
       "'No results.'"
      ]
     },
     "execution_count": 6,
     "metadata": {},
     "output_type": "execute_result"
    }
   ],
   "source": [
    "%%cql \n",
    "CREATE TABLE ascensos (\n",
    "    uid                  uuid,\n",
    "    id_escalador         int,\n",
    "    nombre_escalador     text,\n",
    "    pais_escalador       text,\n",
    "    anio_comienzo        int,\n",
    "    nombre_via           text,\n",
    "    dificultad           int,\n",
    "    grado_frances        text,\n",
    "    tipo_encadenamiento  text,\n",
    "    risco                text,\n",
    "    pais_risco           text,\n",
    "    PRIMARY KEY (id_escalador, tipo_encadenamiento, dificultad, pais_risco, uid)\n",
    ");"
   ]
  },
  {
   "cell_type": "markdown",
   "metadata": {},
   "source": [
    "** TABLA DE ASCENSOS ACUMULADOS POR ESCALADOR **"
   ]
  },
  {
   "cell_type": "markdown",
   "metadata": {},
   "source": [
    "**Ascensos acumulados por sexo y escalador**"
   ]
  },
  {
   "cell_type": "code",
   "execution_count": 7,
   "metadata": {
    "collapsed": false
   },
   "outputs": [
    {
     "data": {
      "text/plain": [
       "'No results.'"
      ]
     },
     "execution_count": 7,
     "metadata": {},
     "output_type": "execute_result"
    }
   ],
   "source": [
    "%%cql \n",
    "CREATE TABLE ascensos_acumulados_hombres (\n",
    "    id_escalador    int,\n",
    "    num_ascensos    counter,\n",
    "    dificultad_acum counter,\n",
    "    PRIMARY KEY (id_escalador)\n",
    ");"
   ]
  },
  {
   "cell_type": "code",
   "execution_count": 8,
   "metadata": {
    "collapsed": false
   },
   "outputs": [
    {
     "data": {
      "text/plain": [
       "'No results.'"
      ]
     },
     "execution_count": 8,
     "metadata": {},
     "output_type": "execute_result"
    }
   ],
   "source": [
    "%%cql \n",
    "CREATE TABLE ascensos_acumulados_mujeres (\n",
    "    id_escalador    int,\n",
    "    num_ascensos    counter,\n",
    "    dificultad_acum counter,\n",
    "    PRIMARY KEY (id_escalador)\n",
    ");"
   ]
  },
  {
   "cell_type": "markdown",
   "metadata": {},
   "source": [
    "** Acumulados de escaladores españoles y no españoles en españa: **"
   ]
  },
  {
   "cell_type": "code",
   "execution_count": 9,
   "metadata": {
    "collapsed": false
   },
   "outputs": [
    {
     "data": {
      "text/plain": [
       "'No results.'"
      ]
     },
     "execution_count": 9,
     "metadata": {},
     "output_type": "execute_result"
    }
   ],
   "source": [
    "%%cql \n",
    "CREATE TABLE ascensos_acum_esp_esp (\n",
    "    id_escalador    int,\n",
    "    nombre_escalador text,\n",
    "    pais_escalador   text,\n",
    "    num_ascensos    counter,\n",
    "    PRIMARY KEY (id_escalador, nombre_escalador, pais_escalador)\n",
    ");"
   ]
  },
  {
   "cell_type": "code",
   "execution_count": 10,
   "metadata": {
    "collapsed": false
   },
   "outputs": [
    {
     "data": {
      "text/plain": [
       "'No results.'"
      ]
     },
     "execution_count": 10,
     "metadata": {},
     "output_type": "execute_result"
    }
   ],
   "source": [
    "%%cql \n",
    "CREATE TABLE ascensos_acum_noesp_esp (\n",
    "    id_escalador    int,\n",
    "    nombre_escalador text,\n",
    "    pais_escalador   text,\n",
    "    num_ascensos    counter,\n",
    "    PRIMARY KEY (id_escalador, nombre_escalador, pais_escalador )\n",
    ");"
   ]
  },
  {
   "cell_type": "markdown",
   "metadata": {},
   "source": [
    "**Ascensos acumulados por risco y pais:**"
   ]
  },
  {
   "cell_type": "code",
   "execution_count": 11,
   "metadata": {
    "collapsed": false
   },
   "outputs": [
    {
     "data": {
      "text/plain": [
       "'No results.'"
      ]
     },
     "execution_count": 11,
     "metadata": {},
     "output_type": "execute_result"
    }
   ],
   "source": [
    "%%cql \n",
    "CREATE TABLE ascensos_acum_pais_risco (\n",
    "    pais_risco   text,\n",
    "    risco        text,\n",
    "    num_ascensos counter,\n",
    "    PRIMARY KEY (pais_risco, risco)\n",
    ");"
   ]
  },
  {
   "cell_type": "markdown",
   "metadata": {},
   "source": [
    "** TABLA DE DIFICULTADES **"
   ]
  },
  {
   "cell_type": "code",
   "execution_count": 12,
   "metadata": {
    "collapsed": false
   },
   "outputs": [
    {
     "data": {
      "text/plain": [
       "'No results.'"
      ]
     },
     "execution_count": 12,
     "metadata": {},
     "output_type": "execute_result"
    }
   ],
   "source": [
    "%%cql \n",
    "CREATE TABLE dificultades (\n",
    "    dificultad    int,\n",
    "    grado_frances text,\n",
    "    PRIMARY KEY (dificultad)\n",
    ");"
   ]
  },
  {
   "cell_type": "markdown",
   "metadata": {},
   "source": [
    "** VISTAS MATERIALIZADAS **"
   ]
  },
  {
   "cell_type": "code",
   "execution_count": 13,
   "metadata": {
    "collapsed": false
   },
   "outputs": [
    {
     "data": {
      "text/plain": [
       "'No results.'"
      ]
     },
     "execution_count": 13,
     "metadata": {},
     "output_type": "execute_result"
    }
   ],
   "source": [
    "%%cql \n",
    "CREATE MATERIALIZED VIEW ascensos_por_encadenamiento_escalador AS\n",
    "    SELECT * FROM ascensos\n",
    "    WHERE uid IS NOT NULL\n",
    "        AND tipo_encadenamiento IS NOT NULL\n",
    "        AND id_escalador IS NOT NULL\n",
    "        AND nombre_escalador IS NOT NULL\n",
    "        AND pais_escalador IS NOT NULL\n",
    "        AND anio_comienzo IS NOT NULL\n",
    "        AND nombre_via IS NOT NULL\n",
    "        AND dificultad IS NOT NULL\n",
    "        AND grado_frances IS NOT NULL\n",
    "        AND tipo_encadenamiento IS NOT NULL\n",
    "        AND risco IS NOT NULL\n",
    "        AND pais_risco IS NOT NULL \n",
    "    PRIMARY KEY (tipo_encadenamiento, id_escalador, dificultad, nombre_via, pais_risco, uid) \n",
    "    WITH CLUSTERING ORDER BY (dificultad DESC, nombre_via ASC);"
   ]
  },
  {
   "cell_type": "code",
   "execution_count": 14,
   "metadata": {
    "collapsed": false
   },
   "outputs": [
    {
     "data": {
      "text/plain": [
       "'No results.'"
      ]
     },
     "execution_count": 14,
     "metadata": {},
     "output_type": "execute_result"
    }
   ],
   "source": [
    "%%cql \n",
    "CREATE MATERIALIZED VIEW ascensos_por_encadenamiento_dificultad AS\n",
    "    SELECT * FROM ascensos\n",
    "    WHERE uid IS NOT NULL\n",
    "        AND tipo_encadenamiento IS NOT NULL\n",
    "        AND id_escalador IS NOT NULL\n",
    "        AND nombre_escalador IS NOT NULL\n",
    "        AND pais_escalador IS NOT NULL\n",
    "        AND anio_comienzo IS NOT NULL\n",
    "        AND nombre_via IS NOT NULL\n",
    "        AND dificultad IS NOT NULL\n",
    "        AND grado_frances IS NOT NULL\n",
    "        AND tipo_encadenamiento IS NOT NULL\n",
    "        AND risco IS NOT NULL\n",
    "        AND pais_risco IS NOT NULL \n",
    "    PRIMARY KEY (tipo_encadenamiento, dificultad, id_escalador, nombre_via, pais_risco, uid) \n",
    "    WITH CLUSTERING ORDER BY (dificultad DESC);"
   ]
  },
  {
   "cell_type": "code",
   "execution_count": 15,
   "metadata": {
    "collapsed": false
   },
   "outputs": [
    {
     "data": {
      "text/plain": [
       "'No results.'"
      ]
     },
     "execution_count": 15,
     "metadata": {},
     "output_type": "execute_result"
    }
   ],
   "source": [
    "%%cql \n",
    "CREATE MATERIALIZED VIEW ascensos_por_escalador_paisRisco AS\n",
    "    SELECT * FROM ascensos\n",
    "    WHERE uid IS NOT NULL\n",
    "        AND tipo_encadenamiento IS NOT NULL\n",
    "        AND id_escalador IS NOT NULL\n",
    "        AND nombre_escalador IS NOT NULL\n",
    "        AND pais_escalador IS NOT NULL\n",
    "        AND anio_comienzo IS NOT NULL\n",
    "        AND nombre_via IS NOT NULL\n",
    "        AND dificultad IS NOT NULL\n",
    "        AND grado_frances IS NOT NULL\n",
    "        AND tipo_encadenamiento IS NOT NULL\n",
    "        AND risco IS NOT NULL\n",
    "        AND pais_risco IS NOT NULL \n",
    "    PRIMARY KEY (id_escalador, pais_risco, dificultad, tipo_encadenamiento, nombre_via, uid) \n",
    "    WITH CLUSTERING ORDER BY (dificultad DESC);"
   ]
  },
  {
   "cell_type": "markdown",
   "metadata": {},
   "source": [
    "## Lectura de la informacion en Pandas"
   ]
  },
  {
   "cell_type": "code",
   "execution_count": 16,
   "metadata": {
    "collapsed": false
   },
   "outputs": [],
   "source": [
    "import pandas as pd\n",
    "\n",
    "df_dificultades = pd.read_csv(\"./data/dificultades.csv\",encoding='utf-8');\n",
    "df_encadenamientos = pd.read_csv(\"./data/tipos_encadenamiento.csv\", encoding='utf-8');\n",
    "df_escaladores = pd.read_csv(\"./data/escaladores_lite_2017.csv\", encoding='utf-8');\n",
    "df_ascensos = pd.read_csv(\"./data/ascensos_lite_2017.csv\", encoding='utf-8');\n",
    "\n",
    "# 'merge' del tipo de encadenamiento en el data frame de ascensos\n",
    "df_ascensos = pd.merge(df_ascensos, df_encadenamientos, on = ['id_tipo_encadenamiento'], how = 'inner')\n",
    "columnas = ['id_escalador',\n",
    "            'id_dificultad',\n",
    "            'tipo_encadenamiento',\n",
    "            'nombre_via',\n",
    "            'risco',\n",
    "            'sector',\n",
    "            'pais']\n",
    "df_ascensos = df_ascensos[columnas]"
   ]
  },
  {
   "cell_type": "markdown",
   "metadata": {},
   "source": [
    "## Desnormalización del data frame de ascensos\n",
    "\n",
    "Voy a incluir la información del usuario en cada registro de ascenso, para ir creando los buckets que van interesando según las preguntas a resolver"
   ]
  },
  {
   "cell_type": "code",
   "execution_count": 17,
   "metadata": {
    "collapsed": false,
    "scrolled": true
   },
   "outputs": [],
   "source": [
    "df_ascensos = pd.merge(df_ascensos, df_escaladores, on = ['id_escalador'], how = 'left');\n",
    "df_ascensos = pd.merge(df_ascensos, df_dificultades, on = ['id_dificultad'], how = 'left');\n",
    "\n",
    "# Renombrar campos por claridad\n",
    "df_ascensos = df_ascensos.rename(\n",
    "    columns={\n",
    "        'id_dificultad' : 'dificultad',\n",
    "        'nombre': 'nombre_escalador',\n",
    "        'ciudad':'ciudad_escalador',\n",
    "        'pais_y': 'pais_escalador',\n",
    "        'comienzo': 'anio_comienzo',\n",
    "        'pais_x': 'pais_risco'});\n"
   ]
  },
  {
   "cell_type": "markdown",
   "metadata": {},
   "source": [
    "## Carga de datos en Cassandra"
   ]
  },
  {
   "cell_type": "code",
   "execution_count": 18,
   "metadata": {
    "collapsed": true
   },
   "outputs": [],
   "source": [
    "from cassandra.cluster import Cluster, BatchStatement, ConsistencyLevel\n",
    "cluster = Cluster()\n",
    "session = cluster.connect('practica_8anu')"
   ]
  },
  {
   "cell_type": "markdown",
   "metadata": {},
   "source": [
    "**CARGA EN TABLAS DE ASCENSOS Y ACUMULADOS**"
   ]
  },
  {
   "cell_type": "code",
   "execution_count": null,
   "metadata": {
    "collapsed": false
   },
   "outputs": [],
   "source": [
    "def insert_ascensos(df):\n",
    "    cql_insert_ascenso = \"\"\"\n",
    "        INSERT INTO ascensos (\n",
    "            uid,\n",
    "            id_escalador,\n",
    "            nombre_escalador,\n",
    "            pais_escalador,\n",
    "            anio_comienzo,\n",
    "            nombre_via,\n",
    "            dificultad,\n",
    "            grado_frances,\n",
    "            tipo_encadenamiento,\n",
    "            risco,\n",
    "            pais_risco\n",
    "        ) VALUES (now(), %s, %s, %s, %s, %s, %s, %s, %s, %s, %s)\"\"\"\n",
    "    \n",
    "\n",
    "    \n",
    "    for index in df.index:\n",
    "        data = [\n",
    "            df.ix[index,\"id_escalador\"],\n",
    "            df.ix[index,\"nombre_escalador\"],\n",
    "            df.ix[index,\"pais_escalador\"],\n",
    "            df.ix[index,\"anio_comienzo\"],\n",
    "            df.ix[index,\"nombre_via\"],\n",
    "            df.ix[index,\"dificultad\"],\n",
    "            df.ix[index,\"grado_frances\"],\n",
    "            df.ix[index,\"tipo_encadenamiento\"],\n",
    "            df.ix[index,\"risco\"],\n",
    "            df.ix[index,\"pais_risco\"]\n",
    "        ]\n",
    "\n",
    "        session.execute(cql_insert_ascenso, data)\n",
    "        \n",
    "        session.execute(\"\"\"UPDATE ascensos_acum_pais_risco\n",
    "                            SET num_ascensos = num_ascensos + 1\n",
    "                            WHERE pais_risco = %s AND risco = %s\"\"\",\n",
    "                            [df.ix[index,\"pais_risco\"],\n",
    "                             df.ix[index,\"risco\"]])\n",
    "        \n",
    "        \n",
    "        if (df.ix[index,\"sexo\"] == 'Hombre'):\n",
    "            session.execute(\"\"\"UPDATE ascensos_acumulados_hombres\n",
    "                               SET num_ascensos = num_ascensos + 1,\n",
    "                                   dificultad_acum = dificultad_acum + %s\n",
    "                               WHERE id_escalador = %s\"\"\",\n",
    "                            [df.ix[index,\"dificultad\"], df.ix[index,\"id_escalador\"]])\n",
    "        else:\n",
    "            session.execute(\"\"\"UPDATE ascensos_acumulados_mujeres\n",
    "                               SET num_ascensos = num_ascensos + 1,\n",
    "                                   dificultad_acum = dificultad_acum + %s\n",
    "                               WHERE id_escalador = %s\"\"\",\n",
    "                            [df.ix[index,\"dificultad\"], df.ix[index,\"id_escalador\"]])\n",
    "            \n",
    "        if (df.ix[index,\"pais_risco\"] == 'ESP'):\n",
    "            if(df.ix[index,\"pais_escalador\"] == 'ESP'):\n",
    "                session.execute(\"\"\"UPDATE ascensos_acum_esp_esp\n",
    "                                SET num_ascensos = num_ascensos + 1\n",
    "                                WHERE id_escalador = %s \n",
    "                                    AND nombre_escalador = %s\n",
    "                                    AND pais_escalador = %s\"\"\",\n",
    "                                [df.ix[index,\"id_escalador\"],\n",
    "                                 df.ix[index,\"nombre_escalador\"],\n",
    "                                 df.ix[index,\"pais_escalador\"]])\n",
    "            else:\n",
    "                session.execute(\"\"\"UPDATE ascensos_acum_noesp_esp\n",
    "                                SET num_ascensos = num_ascensos + 1\n",
    "                                WHERE id_escalador = %s \n",
    "                                    AND nombre_escalador = %s\n",
    "                                    AND pais_escalador = %s\"\"\",\n",
    "                                [df.ix[index,\"id_escalador\"],\n",
    "                                 df.ix[index,\"nombre_escalador\"],\n",
    "                                 df.ix[index,\"pais_escalador\"]])\n",
    "        "
   ]
  },
  {
   "cell_type": "code",
   "execution_count": null,
   "metadata": {
    "collapsed": false
   },
   "outputs": [],
   "source": [
    "insert_ascensos(df_ascensos)"
   ]
  },
  {
   "cell_type": "markdown",
   "metadata": {},
   "source": [
    "** CARGA EN TABLA DE DIFICULTADES**"
   ]
  },
  {
   "cell_type": "code",
   "execution_count": null,
   "metadata": {
    "collapsed": true
   },
   "outputs": [],
   "source": [
    "def insert_dificultades(df):\n",
    "    cql_insert = \"\"\"\n",
    "        INSERT INTO dificultades (\n",
    "            dificultad,\n",
    "            grado_frances\n",
    "        ) VALUES (%s, %s)\"\"\"\n",
    "    \n",
    "    for index in df.index:\n",
    "        data = [df.ix[index, \"id_dificultad\"],\n",
    "                df.ix[index, \"grado_frances\"]]\n",
    "        session.execute(cql_insert, data)"
   ]
  },
  {
   "cell_type": "code",
   "execution_count": null,
   "metadata": {
    "collapsed": false
   },
   "outputs": [],
   "source": [
    "insert_dificultades(df_dificultades)"
   ]
  },
  {
   "cell_type": "markdown",
   "metadata": {},
   "source": [
    "** CARGA EN TABLA DE ESCALADORES **"
   ]
  },
  {
   "cell_type": "code",
   "execution_count": null,
   "metadata": {
    "collapsed": true
   },
   "outputs": [],
   "source": [
    "def insert_escaladores(df):\n",
    "    cql_insert = \"\"\"\n",
    "        INSERT INTO escaladores (\n",
    "            id_escalador,\n",
    "            nombre,\n",
    "            sexo,\n",
    "            pais,\n",
    "            anio_comienzo\n",
    "        ) VALUES (%s, %s, %s, %s, %s)\"\"\"\n",
    "    \n",
    "    for index in df.index:\n",
    "        data = [\n",
    "            df.ix[index, \"id_escalador\"],\n",
    "            df.ix[index, \"nombre\"],\n",
    "            df.ix[index, \"sexo\"],\n",
    "            df.ix[index, \"pais\"],\n",
    "            df.ix[index, \"comienzo\"]]\n",
    "        session.execute(cql_insert, data)"
   ]
  },
  {
   "cell_type": "code",
   "execution_count": null,
   "metadata": {
    "collapsed": false
   },
   "outputs": [],
   "source": [
    "insert_escaladores(df_escaladores)"
   ]
  },
  {
   "cell_type": "markdown",
   "metadata": {},
   "source": [
    "# RESPUESTAS A LAS PREGUNTAS"
   ]
  },
  {
   "cell_type": "code",
   "execution_count": null,
   "metadata": {
    "collapsed": true
   },
   "outputs": [],
   "source": [
    "def execute_query(cql, data=[]):\n",
    "    rows = session.execute(cql, data)\n",
    "    return pd.DataFrame(list(rows))"
   ]
  },
  {
   "cell_type": "markdown",
   "metadata": {},
   "source": [
    "### 1.a) Los 10 escaladores (hombres) más activos (orden auxiliar por Id)\n",
    "\n",
    "Esto requiere varias consultas a dos tablas diferentes:\n",
    "- Una consulta a la tabla de acumulados de hombres de la que se obtienen los ids de los escaladores con mas ascensos acumulados\n",
    "- 10 consultas a la tabla de escaladores, para sacar los datos del escalador.\n",
    "\n",
    "Por desgracia las tablas de acumulación (con columnas counter) tienen las siguientes particularidades:\n",
    "\n",
    "- exceptuando una columna que hará de partition key, estas tablas no pueden contener columnas de otro tipo diferente a counter a no ser que esas nuevas columnas se introduzcan como parte de la primary key: https://stackoverflow.com/questions/32562500/cassandra-non-counter-family\n",
    "\n",
    "\n",
    "- una columna counter no puede ser clustering key por lo que no se puede utilizar como columna de ordenación. Esto hace que la ordenación haya hacerla fuera.\n"
   ]
  },
  {
   "cell_type": "code",
   "execution_count": null,
   "metadata": {
    "collapsed": false,
    "scrolled": true
   },
   "outputs": [],
   "source": [
    "cql = \"\"\"\n",
    "SELECT *\n",
    "FROM ascensos_acumulados_hombres\n",
    "\"\"\"\n",
    "df_id_acum = execute_query(cql)\n",
    "\n",
    "df_id_acum = df_id_acum.sort_values(['num_ascensos', 'id_escalador'],ascending=[False, False]).head(10)"
   ]
  },
  {
   "cell_type": "code",
   "execution_count": null,
   "metadata": {
    "collapsed": false
   },
   "outputs": [],
   "source": [
    "cql = \"\"\"\n",
    "SELECT *\n",
    "FROM escaladores\n",
    "WHERE id_escalador=%s\n",
    "\"\"\"\n",
    "\n",
    "df = pd.DataFrame()\n",
    "for index in df_id_acum.index:\n",
    "    df_escalador = execute_query(cql, [df_id_acum.ix[index,'id_escalador']])\n",
    "    df_escalador[\"num_ascensos\"] = df_id_acum.ix[index, \"num_ascensos\"]\n",
    "    \n",
    "    df = df.append(df_escalador)\n",
    "    \n",
    "df = df.reset_index(drop=True)\n",
    "id_escalador_mas_activo = df.iloc[0]['id_escalador']\n",
    "\n",
    "columnas = [\"id_escalador\", \"nombre\", \"sexo\", \"pais\", \"num_ascensos\"]\n",
    "df[columnas]  \n",
    "    "
   ]
  },
  {
   "cell_type": "markdown",
   "metadata": {},
   "source": [
    "### 1.b) Los 10 escaladoras (mujeres) más activas (orden auxiliar por Id)"
   ]
  },
  {
   "cell_type": "code",
   "execution_count": null,
   "metadata": {
    "collapsed": true
   },
   "outputs": [],
   "source": [
    "cql = \"\"\"\n",
    "SELECT *\n",
    "FROM ascensos_acumulados_mujeres\n",
    "\"\"\"\n",
    "df_id_acum = execute_query(cql)\n",
    "\n",
    "df_id_acum = df_id_acum.sort_values(['num_ascensos', 'id_escalador'],ascending=[False, False]).head(10)"
   ]
  },
  {
   "cell_type": "code",
   "execution_count": null,
   "metadata": {
    "collapsed": false
   },
   "outputs": [],
   "source": [
    "cql = \"\"\"\n",
    "SELECT *\n",
    "FROM escaladores\n",
    "WHERE id_escalador=%s\n",
    "\"\"\"\n",
    "\n",
    "df = pd.DataFrame()\n",
    "for index in df_id_acum.index:\n",
    "    df_escalador = execute_query(cql, [df_id_acum.ix[index,'id_escalador']])\n",
    "    df_escalador[\"num_ascensos\"] = df_id_acum.ix[index, \"num_ascensos\"]\n",
    "    \n",
    "    df = df.append(df_escalador)\n",
    "    \n",
    "df = df.reset_index(drop=True)\n",
    "\n",
    "id_escaladora_mas_activa = df.iloc[0]['id_escalador']\n",
    "\n",
    "columnas = [\"id_escalador\", \"nombre\", \"sexo\", \"pais\", \"num_ascensos\"]\n",
    "df[columnas] \n",
    "\n"
   ]
  },
  {
   "cell_type": "markdown",
   "metadata": {},
   "source": [
    "### 2. Lista de los 10 ascensos \"On sight\" de la escaladora más activa en orden decreciente de dificultad (y por nombre de via ascendete)\n",
    "\n",
    "De la pregunta anterior nos hemos guardado el id de la escaladora más activa. \n",
    "\n",
    "Para la respuesta a esta pregunta he creado una vista materializada de la tabla de ascensos, ascensos_por_encadenamiento, cuya clave de particion es el tipo de encadenamiento y la ordenacion se hace por dificultad y por nombre de via. "
   ]
  },
  {
   "cell_type": "code",
   "execution_count": null,
   "metadata": {
    "collapsed": false
   },
   "outputs": [],
   "source": [
    "cql = \"\"\"\n",
    "SELECT *\n",
    "FROM ascensos_por_encadenamiento_escalador\n",
    "WHERE tipo_encadenamiento = 'Onsight' AND id_escalador = %s \n",
    "LIMIT 10\n",
    "\"\"\"\n",
    "\n",
    "df = execute_query(cql, [id_escaladora_mas_activa])\n",
    "columnas = ['nombre_via', 'grado_frances', 'risco', 'pais_risco']\n",
    "df[columnas]"
   ]
  },
  {
   "cell_type": "markdown",
   "metadata": {},
   "source": [
    "### 3. Dificultad media de los ascensos del escalador más activo\n",
    "\n",
    "Esto requiere dos consultas:\n",
    "\n",
    "- A la tabla ascensos_acumulados_hombres para obtener los datos para poder calcular la dificultad media.\n",
    "- A la tabla de dificultades_grado para obtener el grado frances de la media\n"
   ]
  },
  {
   "cell_type": "code",
   "execution_count": null,
   "metadata": {
    "collapsed": false
   },
   "outputs": [],
   "source": [
    "# query a tabla de ascensos acumulados\n",
    "cql = \"\"\"\n",
    "SELECT *\n",
    "FROM ascensos_acumulados_hombres\n",
    "WHERE id_escalador = %s\n",
    "\"\"\"\n",
    "\n",
    "df = execute_query(cql, [id_escalador_mas_activo])\n",
    "dificultad_media = int(round(df[\"dificultad_acum\"]/df[\"num_ascensos\"]))\n",
    "\n",
    "# query a la tabla de dificultades\n",
    "cql = \"\"\"\n",
    "SELECT grado_frances\n",
    "FROM dificultades\n",
    "WHERE dificultad = %s\n",
    "\"\"\"\n",
    "execute_query(cql, [dificultad_media])\n"
   ]
  },
  {
   "cell_type": "markdown",
   "metadata": {},
   "source": [
    "### 4.a) Los 10 ascensos mas dificiles\n",
    "\n",
    "La vista materializada tiene ordenados los **ascensos_por_encadenamiento** para cada tipo de encadenamiento. Podríamos resolver esta cuestion de la manera siguiente:\n",
    "\n",
    "- Obtener mediante 4 queries los 10 primeros ascensos para cada tipo de encadenamiento\n",
    "- Unir (append) los data frames resultado\n",
    "- Reordenar el data frame\n",
    "\n",
    "Pero en este caso vamos a recurrir a un conocimiento a priori del domino de la escalada: los grados más difíciles se encadenan siempre en \"Red point\"; esto se debe a que los ascensos más dificiles requieren siempre del escalador un entrenamiento en la propia via, por lo que el ascenso final de la via es \"Red point\"."
   ]
  },
  {
   "cell_type": "code",
   "execution_count": null,
   "metadata": {
    "collapsed": false
   },
   "outputs": [],
   "source": [
    "cql = \"\"\"\n",
    "SELECT *\n",
    "FROM ascensos_por_encadenamiento_dificultad\n",
    "WHERE tipo_encadenamiento = 'Redpoint'\n",
    "LIMIT 10\n",
    "\"\"\"\n",
    "\n",
    "df = execute_query(cql)\n",
    "columnas = ['id_escalador','nombre_escalador','pais_escalador','nombre_via','grado_frances','tipo_encadenamiento','risco','pais_risco']\n",
    "df[columnas]"
   ]
  },
  {
   "cell_type": "markdown",
   "metadata": {},
   "source": [
    "### 4.b) Los 10 ascensos mas dificiles a vista (On sight)"
   ]
  },
  {
   "cell_type": "code",
   "execution_count": null,
   "metadata": {
    "collapsed": false
   },
   "outputs": [],
   "source": [
    "cql = \"\"\"\n",
    "SELECT *\n",
    "FROM ascensos_por_encadenamiento_dificultad\n",
    "WHERE tipo_encadenamiento = 'Onsight'\n",
    "LIMIT 10\n",
    "\"\"\"\n",
    "\n",
    "df = execute_query(cql)\n",
    "columnas = ['id_escalador',\n",
    "            'nombre_escalador',\n",
    "            'pais_escalador',\n",
    "            'nombre_via',\n",
    "            'grado_frances',\n",
    "            'tipo_encadenamiento',\n",
    "            'risco',\n",
    "            'pais_risco']\n",
    "df[columnas]"
   ]
  },
  {
   "cell_type": "markdown",
   "metadata": {},
   "source": [
    "### 5.a) Grado medio y maximo de los ascensos en España de los 10 escaladores NO ESPAÑOLES con mas ascensos en España\n",
    "\n",
    "La obtencion de esta información mediante accesos a cassandra requiere varios accesos. Esto se debe a que se quiere visualizar \n",
    "información de varias tablas. nombre del escalador, pais, numero de ascensos en españa, grado medio y grado maximo.\n",
    "\n",
    "- Query a la tabla de acumulados de ascensos de escaladores no españoles en españa la obtencion de los escaladores con mas ascensos en España\n",
    "\n",
    "- Query a la tabla de dificultades y mapear la dificultad media a su grado correspondiente\n",
    "\n",
    "- Por cada uno de los escaladores:\n",
    "    - Query a la vista materializada de ascensos por escaldor y pais del risco para la obtencion de la dificultad maxima\n",
    "    \n",
    "    \n",
    "Aprovechando al maximo la funcionalidad de la bbdd supone entonces 12 queries!"
   ]
  },
  {
   "cell_type": "code",
   "execution_count": null,
   "metadata": {
    "collapsed": false
   },
   "outputs": [],
   "source": [
    "cql = \"\"\"\n",
    "SELECT *\n",
    "FROM dificultades\n",
    "\"\"\"\n",
    "# query para la obtencion del grado medio a partir de la dificultad media\n",
    "df_dificultades = execute_query(cql)\n",
    "\n",
    "# configuro dificultad como indice del data frame para el futuro mapping\n",
    "df_dificultades = df_dificultades.sort_values('dificultad',ascending=True);\n",
    "df_dificultades = df_dificultades.set_index('dificultad');"
   ]
  },
  {
   "cell_type": "code",
   "execution_count": null,
   "metadata": {
    "collapsed": false
   },
   "outputs": [],
   "source": [
    "cql = \"\"\"\n",
    "SELECT *\n",
    "FROM ascensos_acum_noesp_esp\n",
    "\"\"\"\n",
    "df_ids = execute_query(cql)\n",
    "df_ids = df_ids.sort_values(['num_ascensos', 'id_escalador'],ascending=[False, True]).head(10)\n",
    "\n",
    "\n",
    "cql_dif_mediaYmax = \"\"\"\n",
    "SELECT count(dificultad) AS num_ascensos,\n",
    "       avg(dificultad) AS dificultad_media,\n",
    "       max(dificultad) AS dificultad_maxima\n",
    "FROM ascensos_por_escalador_paisRisco\n",
    "WHERE id_escalador=%s AND pais_risco='ESP'\n",
    "LIMIT 1\n",
    "\"\"\"\n",
    "\n",
    "\n",
    "df = pd.DataFrame()\n",
    "for index,row in df_ids.iterrows():\n",
    "    \n",
    "    #query para obtención de grado maximo del escalador\n",
    "    df_query = execute_query(cql_dif_mediaYmax, [row['id_escalador']])   \n",
    "    \n",
    "    # añade columnas que faltan\n",
    "    df_query['nombre_escalador'] = row['nombre_escalador'];\n",
    "    df_query['pais_escalador'] = row['pais_escalador'];\n",
    "    \n",
    "    #añade al dataframe resultado\n",
    "    df = df.append(df_query, ignore_index=True)\n",
    "    \n",
    "df['grado_medio']=df['dificultad_media'].map(df_dificultades['grado_frances']);\n",
    "df['grado_maximo']=df['dificultad_maxima'].map(df_dificultades['grado_frances']);\n",
    "columnas = [\"nombre_escalador\", \"pais_escalador\", \"num_ascensos\", \"grado_medio\", \"grado_maximo\"]\n",
    "df[columnas] "
   ]
  },
  {
   "cell_type": "markdown",
   "metadata": {},
   "source": [
    "### 5.b) Grado medio y maximo de los ascensos en España de los 10 escaladores ESPAÑOLES con mas ascensos en España"
   ]
  },
  {
   "cell_type": "code",
   "execution_count": null,
   "metadata": {
    "collapsed": false
   },
   "outputs": [],
   "source": [
    "cql = \"\"\"\n",
    "SELECT *\n",
    "FROM ascensos_acum_esp_esp\n",
    "\"\"\"\n",
    "df_ids = execute_query(cql)\n",
    "df_ids = df_ids.sort_values(['num_ascensos', 'id_escalador'],ascending=[False, True]).head(10)\n",
    "\n",
    "\n",
    "cql_dif_mediaYmax = \"\"\"\n",
    "SELECT count(dificultad) AS num_ascensos,\n",
    "       avg(dificultad) AS dificultad_media,\n",
    "       max(dificultad) AS dificultad_maxima\n",
    "FROM ascensos_por_escalador_paisRisco\n",
    "WHERE id_escalador=%s AND pais_risco='ESP'\n",
    "LIMIT 1\n",
    "\"\"\"\n",
    "\n",
    "\n",
    "df = pd.DataFrame()\n",
    "for index,row in df_ids.iterrows():\n",
    "    \n",
    "    #query para obtención de grado maximo del escalador\n",
    "    df_query = execute_query(cql_dif_mediaYmax, [row['id_escalador']])   \n",
    "    \n",
    "    # añade columnas que faltan\n",
    "    df_query['nombre_escalador'] = row['nombre_escalador'];\n",
    "    df_query['pais_escalador'] = row['pais_escalador'];\n",
    "    \n",
    "    #añade al dataframe resultado\n",
    "    df = df.append(df_query, ignore_index=True)\n",
    "    \n",
    "df['grado_medio']=df['dificultad_media'].map(df_dificultades['grado_frances']);\n",
    "df['grado_maximo']=df['dificultad_maxima'].map(df_dificultades['grado_frances']);\n",
    "columnas = [\"nombre_escalador\", \"pais_escalador\", \"num_ascensos\", \"grado_medio\", \"grado_maximo\"]\n",
    "df[columnas] "
   ]
  },
  {
   "cell_type": "markdown",
   "metadata": {},
   "source": [
    "### 6.a) Dificultad media y maxima de los ascensos NO \"Top Rope\" de los escaladores con menos de 3 años de experiencia"
   ]
  },
  {
   "cell_type": "markdown",
   "metadata": {},
   "source": [
    "### 6.b) Dificultad media y maxima de los ascensos NO \"Top Rope\" de los escaladores con entre 10 y 30 años de experiencia"
   ]
  },
  {
   "cell_type": "markdown",
   "metadata": {},
   "source": [
    "### 7. Los 10 riscos españoles (o zonas) con mas ascensos por orden decreciente de numero de ascensos"
   ]
  },
  {
   "cell_type": "code",
   "execution_count": null,
   "metadata": {
    "collapsed": true
   },
   "outputs": [],
   "source": []
  },
  {
   "cell_type": "markdown",
   "metadata": {},
   "source": [
    "### 8.a) Los 10 sectores españoles con mayor nivel de difcultad media de ascensos ordenadas por orden decreciente de dificultad y por numero de ascensos decreciente"
   ]
  },
  {
   "cell_type": "markdown",
   "metadata": {},
   "source": [
    "### 8.b) Las 10 sectores españoles con menor nivel de dificultad medio de ascensos ordenadas por orden creciente de dificultad y por numero de ascensos decreciente"
   ]
  },
  {
   "cell_type": "code",
   "execution_count": null,
   "metadata": {
    "collapsed": true
   },
   "outputs": [],
   "source": []
  }
 ],
 "metadata": {
  "kernelspec": {
   "display_name": "Python 2",
   "language": "python",
   "name": "python2"
  },
  "language_info": {
   "codemirror_mode": {
    "name": "ipython",
    "version": 2
   },
   "file_extension": ".py",
   "mimetype": "text/x-python",
   "name": "python",
   "nbconvert_exporter": "python",
   "pygments_lexer": "ipython2",
   "version": "2.7.6"
  }
 },
 "nbformat": 4,
 "nbformat_minor": 0
}
