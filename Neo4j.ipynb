{
 "cells": [
  {
   "cell_type": "markdown",
   "metadata": {},
   "source": [
    "# Base de datos neo4j"
   ]
  },
  {
   "cell_type": "markdown",
   "metadata": {},
   "source": [
    "## Lectura de datos"
   ]
  },
  {
   "cell_type": "code",
   "execution_count": 1,
   "metadata": {
    "collapsed": true
   },
   "outputs": [],
   "source": [
    "import pandas as pd\n",
    "\n",
    "df_dificultades = pd.read_csv(\"./data/dificultades.csv\",encoding='utf-8');\n",
    "df_encadenamientos = pd.read_csv(\"./data/tipos_encadenamiento.csv\", encoding='utf-8');\n",
    "df_escaladores = pd.read_csv(\"./data/escaladores_lite_2017.csv\", encoding='utf-8');\n",
    "df_ascensos = pd.read_csv(\"./data/ascensos_lite_2017.csv\", encoding='utf-8');"
   ]
  },
  {
   "cell_type": "markdown",
   "metadata": {},
   "source": [
    "## Conexión con neo4j y borrado de BB.DD."
   ]
  },
  {
   "cell_type": "code",
   "execution_count": 2,
   "metadata": {
    "collapsed": false
   },
   "outputs": [],
   "source": [
    "%load_ext cypher"
   ]
  },
  {
   "cell_type": "code",
   "execution_count": 3,
   "metadata": {
    "collapsed": true
   },
   "outputs": [],
   "source": [
    "from py2neo import Graph, Node, Relationship\n",
    "\n",
    "graph = Graph()"
   ]
  },
  {
   "cell_type": "code",
   "execution_count": 4,
   "metadata": {
    "collapsed": true
   },
   "outputs": [],
   "source": [
    "# Borrado de todos los nodos y relaciones\n",
    "graph.delete_all()"
   ]
  },
  {
   "cell_type": "markdown",
   "metadata": {},
   "source": [
    "## Carga de datos en neo4j"
   ]
  },
  {
   "cell_type": "markdown",
   "metadata": {},
   "source": [
    " El modelo de nodos y relaciones que voy a considerar es este:\n",
    " \n",
    "![NODOS y RELACIONES](./img/nodosRelacionesNEO.jpg)\n",
    " \n",
    " \n",
    " "
   ]
  },
  {
   "cell_type": "markdown",
   "metadata": {},
   "source": [
    "Desnormalizo los datos de ascensos para facilitar la introducción de nodos y relaciones en la base de datos"
   ]
  },
  {
   "cell_type": "code",
   "execution_count": 5,
   "metadata": {
    "collapsed": true
   },
   "outputs": [],
   "source": [
    "df_ascensos = pd.merge(df_ascensos, df_encadenamientos, on = ['id_tipo_encadenamiento'], how = 'inner')\n",
    "df_ascensos = pd.merge(df_ascensos, df_dificultades, on = ['id_dificultad'], how = 'inner');\n",
    "df_ascensos = pd.merge(df_ascensos, df_escaladores, on = ['id_escalador'], how = 'inner');\n",
    "\n",
    "# Renombrar campos por claridad (el merge auto-asigna nombres a campos repetidos)\n",
    "df_ascensos = df_ascensos.rename(\n",
    "    columns={\n",
    "        'nombre': 'nombre_escalador',\n",
    "        'ciudad':'ciudad_escalador',\n",
    "        'pais_y': 'pais_escalador',\n",
    "        'comienzo': 'anio_comienzo',\n",
    "        'pais_x': 'pais_risco'});"
   ]
  },
  {
   "cell_type": "code",
   "execution_count": 6,
   "metadata": {
    "collapsed": false
   },
   "outputs": [
    {
     "data": {
      "text/html": [
       "<div>\n",
       "<style>\n",
       "    .dataframe thead tr:only-child th {\n",
       "        text-align: right;\n",
       "    }\n",
       "\n",
       "    .dataframe thead th {\n",
       "        text-align: left;\n",
       "    }\n",
       "\n",
       "    .dataframe tbody tr th {\n",
       "        vertical-align: top;\n",
       "    }\n",
       "</style>\n",
       "<table border=\"1\" class=\"dataframe\">\n",
       "  <thead>\n",
       "    <tr style=\"text-align: right;\">\n",
       "      <th></th>\n",
       "      <th>id_escalador</th>\n",
       "      <th>id_dificultad</th>\n",
       "      <th>id_tipo_encadenamiento</th>\n",
       "      <th>nombre_via</th>\n",
       "      <th>risco</th>\n",
       "      <th>sector</th>\n",
       "      <th>fecha</th>\n",
       "      <th>pais_risco</th>\n",
       "      <th>tipo_encadenamiento</th>\n",
       "      <th>grado_frances</th>\n",
       "      <th>nombre_escalador</th>\n",
       "      <th>sexo</th>\n",
       "      <th>fecha_nacimiento</th>\n",
       "      <th>ciudad_escalador</th>\n",
       "      <th>pais_escalador</th>\n",
       "      <th>anio_comienzo</th>\n",
       "    </tr>\n",
       "  </thead>\n",
       "  <tbody>\n",
       "    <tr>\n",
       "      <th>0</th>\n",
       "      <td>20384</td>\n",
       "      <td>33</td>\n",
       "      <td>2</td>\n",
       "      <td>LE DE</td>\n",
       "      <td>FONTAINEBLEAU</td>\n",
       "      <td>ROCHER CANON</td>\n",
       "      <td>2017-04-17</td>\n",
       "      <td>FRA</td>\n",
       "      <td>Flash</td>\n",
       "      <td>5c</td>\n",
       "      <td>Clemens Kurth</td>\n",
       "      <td>Hombre</td>\n",
       "      <td>1982-04-24</td>\n",
       "      <td>Alfeld (Leine)</td>\n",
       "      <td>DEU</td>\n",
       "      <td>2003</td>\n",
       "    </tr>\n",
       "    <tr>\n",
       "      <th>1</th>\n",
       "      <td>20384</td>\n",
       "      <td>33</td>\n",
       "      <td>2</td>\n",
       "      <td>SCHMALSEITE DV</td>\n",
       "      <td>ELBSANDSTEIN</td>\n",
       "      <td>KRALLENTURM</td>\n",
       "      <td>2017-06-10</td>\n",
       "      <td>DEU</td>\n",
       "      <td>Flash</td>\n",
       "      <td>5c</td>\n",
       "      <td>Clemens Kurth</td>\n",
       "      <td>Hombre</td>\n",
       "      <td>1982-04-24</td>\n",
       "      <td>Alfeld (Leine)</td>\n",
       "      <td>DEU</td>\n",
       "      <td>2003</td>\n",
       "    </tr>\n",
       "  </tbody>\n",
       "</table>\n",
       "</div>"
      ],
      "text/plain": [
       "   id_escalador  id_dificultad  id_tipo_encadenamiento      nombre_via  \\\n",
       "0         20384             33                       2           LE DE   \n",
       "1         20384             33                       2  SCHMALSEITE DV   \n",
       "\n",
       "           risco        sector       fecha pais_risco tipo_encadenamiento  \\\n",
       "0  FONTAINEBLEAU  ROCHER CANON  2017-04-17        FRA               Flash   \n",
       "1   ELBSANDSTEIN   KRALLENTURM  2017-06-10        DEU               Flash   \n",
       "\n",
       "  grado_frances nombre_escalador    sexo fecha_nacimiento ciudad_escalador  \\\n",
       "0            5c    Clemens Kurth  Hombre       1982-04-24   Alfeld (Leine)   \n",
       "1            5c    Clemens Kurth  Hombre       1982-04-24   Alfeld (Leine)   \n",
       "\n",
       "  pais_escalador  anio_comienzo  \n",
       "0            DEU           2003  \n",
       "1            DEU           2003  "
      ]
     },
     "execution_count": 6,
     "metadata": {},
     "output_type": "execute_result"
    }
   ],
   "source": [
    "df_ascensos.head(2)"
   ]
  },
  {
   "cell_type": "markdown",
   "metadata": {},
   "source": [
    "Convierto el data frame de ascensos desnormalizado a JSON para la inserción de información en neo4j"
   ]
  },
  {
   "cell_type": "code",
   "execution_count": 7,
   "metadata": {
    "collapsed": false
   },
   "outputs": [],
   "source": [
    "import json\n",
    "json_string = df_ascensos.to_json(orient = 'records')\n",
    "json_list = json.loads(json_string)"
   ]
  },
  {
   "cell_type": "markdown",
   "metadata": {},
   "source": [
    "Iterando en el data frame de ascensos, voy añadiendo los nodos y las relaciones que se generan por cada ascenso:"
   ]
  },
  {
   "cell_type": "code",
   "execution_count": 8,
   "metadata": {
    "collapsed": false
   },
   "outputs": [
    {
     "name": "stdout",
     "output_type": "stream",
     "text": [
      "0\n",
      "500\n",
      "1000\n",
      "1500\n",
      "2000\n",
      "2500\n",
      "3000\n",
      "3500\n",
      "4000\n",
      "4500\n",
      "5000\n",
      "5500\n",
      "6000\n",
      "6500\n",
      "7000\n",
      "7500\n",
      "8000\n",
      "8500\n",
      "9000\n",
      "9500\n",
      "10000\n",
      "10500\n",
      "11000\n",
      "11500\n"
     ]
    }
   ],
   "source": [
    "for index, ascenso_json in enumerate(json_list):\n",
    "    # Nodos\n",
    "    escalador = Node(\"Escalador\", id=ascenso_json[\"id_escalador\"],\n",
    "                                  nombre = ascenso_json[\"nombre_escalador\"],\n",
    "                                  sexo = ascenso_json[\"sexo\"],\n",
    "                                  pais = ascenso_json[\"pais_escalador\"],\n",
    "                                  anio_comienzo = ascenso_json[\"anio_comienzo\"])   \n",
    "    \n",
    "    ascenso = Node(\"Ascenso\", nombre=ascenso_json[\"nombre_via\"], \n",
    "                              tipo_encadenamiento = ascenso_json[\"tipo_encadenamiento\"],\n",
    "                              risco = ascenso_json[\"risco\"],\n",
    "                              pais = ascenso_json[\"pais_risco\"]) \n",
    "    \n",
    "    dificultad = Node(\"Dificultad\", valor = ascenso_json[\"id_dificultad\"], grado_frances = ascenso_json[\"grado_frances\"])\n",
    "\n",
    "    \n",
    "  \n",
    "        \n",
    "    # Relaciones  \n",
    "    rel_escalador_ascenso = Relationship(escalador, \"REALIZA\", ascenso, tipo_encadenamiento = ascenso_json[\"tipo_encadenamiento\"])\n",
    "    rel_ascenso_dificultad = Relationship(ascenso, \"TIENE\", dificultad)\n",
    "    \n",
    "    graph.merge(escalador|dificultad)\n",
    "    graph.create(ascenso|rel_ascenso_dificultad|rel_escalador_ascenso)\n",
    "    \n",
    "    if index % 500 == 0:\n",
    "        print index"
   ]
  },
  {
   "cell_type": "markdown",
   "metadata": {
    "collapsed": true
   },
   "source": [
    "Además, como voy a tener que hacer calculos de dificultad media, necesito que los todos los nodos dificultad existan, aunque no hayan existido ascensos con esa dificultad. Por ello, los añado siguiendo una estrategia de unicidad (merge) iterando sobre el data frame de dificultades:"
   ]
  },
  {
   "cell_type": "code",
   "execution_count": 9,
   "metadata": {
    "collapsed": false
   },
   "outputs": [
    {
     "name": "stdout",
     "output_type": "stream",
     "text": [
      "0\n",
      "10\n",
      "20\n",
      "30\n",
      "40\n",
      "50\n",
      "60\n",
      "70\n",
      "80\n"
     ]
    }
   ],
   "source": [
    "import json\n",
    "json_string = df_dificultades.to_json(orient = 'records')\n",
    "json_list = json.loads(json_string)\n",
    "\n",
    "for index, dificultad_json in enumerate(json_list):\n",
    "    dificultad = Node(\"Dificultad\", valor = dificultad_json[\"id_dificultad\"],\n",
    "                                    grado_frances = dificultad_json[\"grado_frances\"])\n",
    "    graph.merge(dificultad)\n",
    "    \n",
    "    if index % 10 == 0:\n",
    "        print index"
   ]
  },
  {
   "cell_type": "markdown",
   "metadata": {},
   "source": [
    "### Comprobaciones previas ..."
   ]
  },
  {
   "cell_type": "markdown",
   "metadata": {},
   "source": [
    "Número de escaladores"
   ]
  },
  {
   "cell_type": "code",
   "execution_count": 10,
   "metadata": {
    "collapsed": false
   },
   "outputs": [
    {
     "name": "stdout",
     "output_type": "stream",
     "text": [
      "1 rows affected.\n"
     ]
    },
    {
     "data": {
      "text/html": [
       "<table>\n",
       "    <tr>\n",
       "        <th>count(*)</th>\n",
       "    </tr>\n",
       "    <tr>\n",
       "        <td>4580</td>\n",
       "    </tr>\n",
       "</table>"
      ],
      "text/plain": [
       "[[4580]]"
      ]
     },
     "execution_count": 10,
     "metadata": {},
     "output_type": "execute_result"
    }
   ],
   "source": [
    "%%cypher\n",
    "MATCH (:Escalador)\n",
    "RETURN count(*)"
   ]
  },
  {
   "cell_type": "markdown",
   "metadata": {},
   "source": [
    "Número de vías"
   ]
  },
  {
   "cell_type": "code",
   "execution_count": 11,
   "metadata": {
    "collapsed": false
   },
   "outputs": [
    {
     "name": "stdout",
     "output_type": "stream",
     "text": [
      "1 rows affected.\n"
     ]
    },
    {
     "data": {
      "text/html": [
       "<table>\n",
       "    <tr>\n",
       "        <th>count(*)</th>\n",
       "    </tr>\n",
       "    <tr>\n",
       "        <td>11832</td>\n",
       "    </tr>\n",
       "</table>"
      ],
      "text/plain": [
       "[[11832]]"
      ]
     },
     "execution_count": 11,
     "metadata": {},
     "output_type": "execute_result"
    }
   ],
   "source": [
    "%%cypher\n",
    "MATCH (:Ascenso)\n",
    "RETURN count(*)"
   ]
  },
  {
   "cell_type": "markdown",
   "metadata": {},
   "source": [
    "Número de riscos"
   ]
  },
  {
   "cell_type": "code",
   "execution_count": 12,
   "metadata": {
    "collapsed": false
   },
   "outputs": [
    {
     "name": "stdout",
     "output_type": "stream",
     "text": [
      "1 rows affected.\n"
     ]
    },
    {
     "data": {
      "text/html": [
       "<table>\n",
       "    <tr>\n",
       "        <th>count(*)</th>\n",
       "    </tr>\n",
       "    <tr>\n",
       "        <td>86</td>\n",
       "    </tr>\n",
       "</table>"
      ],
      "text/plain": [
       "[[86]]"
      ]
     },
     "execution_count": 12,
     "metadata": {},
     "output_type": "execute_result"
    }
   ],
   "source": [
    "%%cypher\n",
    "MATCH (:Dificultad)\n",
    "RETURN count(*)"
   ]
  },
  {
   "cell_type": "markdown",
   "metadata": {},
   "source": [
    "# RESPUESTAS A LAS PREGUNTAS"
   ]
  },
  {
   "cell_type": "markdown",
   "metadata": {},
   "source": [
    "### 1.a) Los 10 escaladores (hombres) más activos (orden auxiliar por Id)"
   ]
  },
  {
   "cell_type": "code",
   "execution_count": 13,
   "metadata": {
    "collapsed": false
   },
   "outputs": [
    {
     "name": "stdout",
     "output_type": "stream",
     "text": [
      "10 rows affected.\n"
     ]
    },
    {
     "data": {
      "text/html": [
       "<table>\n",
       "    <tr>\n",
       "        <th>escalador.id</th>\n",
       "        <th>escalador.nombre</th>\n",
       "        <th>escalador.sexo</th>\n",
       "        <th>escalador.pais</th>\n",
       "        <th>numero_ascensos</th>\n",
       "    </tr>\n",
       "    <tr>\n",
       "        <td>50884</td>\n",
       "        <td>Christopher Leonetti</td>\n",
       "        <td>Hombre</td>\n",
       "        <td>USA</td>\n",
       "        <td>47</td>\n",
       "    </tr>\n",
       "    <tr>\n",
       "        <td>20384</td>\n",
       "        <td>Clemens Kurth</td>\n",
       "        <td>Hombre</td>\n",
       "        <td>DEU</td>\n",
       "        <td>26</td>\n",
       "    </tr>\n",
       "    <tr>\n",
       "        <td>20095</td>\n",
       "        <td>Matthias Schuster</td>\n",
       "        <td>Hombre</td>\n",
       "        <td>DEU</td>\n",
       "        <td>26</td>\n",
       "    </tr>\n",
       "    <tr>\n",
       "        <td>66250</td>\n",
       "        <td>Kuba Kaminski</td>\n",
       "        <td>Hombre</td>\n",
       "        <td>POL</td>\n",
       "        <td>24</td>\n",
       "    </tr>\n",
       "    <tr>\n",
       "        <td>9171</td>\n",
       "        <td>Laurenz Trawnicek</td>\n",
       "        <td>Hombre</td>\n",
       "        <td>AUT</td>\n",
       "        <td>23</td>\n",
       "    </tr>\n",
       "    <tr>\n",
       "        <td>46622</td>\n",
       "        <td>Raúl Crespo</td>\n",
       "        <td>Hombre</td>\n",
       "        <td>ESP</td>\n",
       "        <td>19</td>\n",
       "    </tr>\n",
       "    <tr>\n",
       "        <td>42086</td>\n",
       "        <td>Marcin Opozda</td>\n",
       "        <td>Hombre</td>\n",
       "        <td>POL</td>\n",
       "        <td>19</td>\n",
       "    </tr>\n",
       "    <tr>\n",
       "        <td>66466</td>\n",
       "        <td>Christian Boehme</td>\n",
       "        <td>Hombre</td>\n",
       "        <td>DEU</td>\n",
       "        <td>18</td>\n",
       "    </tr>\n",
       "    <tr>\n",
       "        <td>47732</td>\n",
       "        <td>Thomas de Fleurian</td>\n",
       "        <td>Hombre</td>\n",
       "        <td>FRA</td>\n",
       "        <td>18</td>\n",
       "    </tr>\n",
       "    <tr>\n",
       "        <td>35847</td>\n",
       "        <td>Zack Bum</td>\n",
       "        <td>Hombre</td>\n",
       "        <td>DEU</td>\n",
       "        <td>18</td>\n",
       "    </tr>\n",
       "</table>"
      ],
      "text/plain": [
       "[[50884, u'Christopher Leonetti', u'Hombre', u'USA', 47],\n",
       " [20384, u'Clemens Kurth', u'Hombre', u'DEU', 26],\n",
       " [20095, u'Matthias Schuster', u'Hombre', u'DEU', 26],\n",
       " [66250, u'Kuba Kaminski', u'Hombre', u'POL', 24],\n",
       " [9171, u'Laurenz Trawnicek', u'Hombre', u'AUT', 23],\n",
       " [46622, u'Ra\\xfal Crespo', u'Hombre', u'ESP', 19],\n",
       " [42086, u'Marcin Opozda', u'Hombre', u'POL', 19],\n",
       " [66466, u'Christian Boehme', u'Hombre', u'DEU', 18],\n",
       " [47732, u'Thomas de Fleurian', u'Hombre', u'FRA', 18],\n",
       " [35847, u'Zack Bum', u'Hombre', u'DEU', 18]]"
      ]
     },
     "execution_count": 13,
     "metadata": {},
     "output_type": "execute_result"
    }
   ],
   "source": [
    "%%cypher\n",
    "MATCH (escalador:Escalador)-[:REALIZA]->(ascenso:Ascenso)\n",
    "WHERE escalador.sexo = \"Hombre\"\n",
    "RETURN escalador.id, escalador.nombre, escalador.sexo, escalador.pais, count(ascenso) as numero_ascensos\n",
    "ORDER BY numero_ascensos DESC, escalador.id DESC\n",
    "LIMIT 10"
   ]
  },
  {
   "cell_type": "markdown",
   "metadata": {},
   "source": [
    "### 1.b) Los 10 escaladoras (mujeres) más activas (orden auxiliar por Id)"
   ]
  },
  {
   "cell_type": "code",
   "execution_count": 14,
   "metadata": {
    "collapsed": false
   },
   "outputs": [
    {
     "name": "stdout",
     "output_type": "stream",
     "text": [
      "10 rows affected.\n"
     ]
    },
    {
     "data": {
      "text/html": [
       "<table>\n",
       "    <tr>\n",
       "        <th>escalador.id</th>\n",
       "        <th>escalador.nombre</th>\n",
       "        <th>escalador.pais</th>\n",
       "        <th>numero_ascensos</th>\n",
       "    </tr>\n",
       "    <tr>\n",
       "        <td>65502</td>\n",
       "        <td>Ksenia Targosz</td>\n",
       "        <td>POL</td>\n",
       "        <td>13</td>\n",
       "    </tr>\n",
       "    <tr>\n",
       "        <td>65069</td>\n",
       "        <td>Mania Mania A.</td>\n",
       "        <td>POL</td>\n",
       "        <td>12</td>\n",
       "    </tr>\n",
       "    <tr>\n",
       "        <td>65707</td>\n",
       "        <td>Ewelina Cienkus</td>\n",
       "        <td>POL</td>\n",
       "        <td>11</td>\n",
       "    </tr>\n",
       "    <tr>\n",
       "        <td>54695</td>\n",
       "        <td>Elfi Hasler</td>\n",
       "        <td>AUT</td>\n",
       "        <td>11</td>\n",
       "    </tr>\n",
       "    <tr>\n",
       "        <td>62354</td>\n",
       "        <td>La Shoune</td>\n",
       "        <td>FRA</td>\n",
       "        <td>10</td>\n",
       "    </tr>\n",
       "    <tr>\n",
       "        <td>58835</td>\n",
       "        <td>Dominika Sołtys</td>\n",
       "        <td>POL</td>\n",
       "        <td>10</td>\n",
       "    </tr>\n",
       "    <tr>\n",
       "        <td>57447</td>\n",
       "        <td>Sue Murphy</td>\n",
       "        <td>CAN</td>\n",
       "        <td>10</td>\n",
       "    </tr>\n",
       "    <tr>\n",
       "        <td>53983</td>\n",
       "        <td>Daniela Bärtschi</td>\n",
       "        <td>CHE</td>\n",
       "        <td>10</td>\n",
       "    </tr>\n",
       "    <tr>\n",
       "        <td>49569</td>\n",
       "        <td>Karina Kosiorek</td>\n",
       "        <td>POL</td>\n",
       "        <td>10</td>\n",
       "    </tr>\n",
       "    <tr>\n",
       "        <td>32043</td>\n",
       "        <td>Reidun M. Romundstad</td>\n",
       "        <td>NOR</td>\n",
       "        <td>10</td>\n",
       "    </tr>\n",
       "</table>"
      ],
      "text/plain": [
       "[[65502, u'Ksenia Targosz', u'POL', 13],\n",
       " [65069, u'Mania Mania A.', u'POL', 12],\n",
       " [65707, u'Ewelina Cienkus', u'POL', 11],\n",
       " [54695, u'Elfi Hasler', u'AUT', 11],\n",
       " [62354, u'La Shoune', u'FRA', 10],\n",
       " [58835, u'Dominika So\\u0142tys', u'POL', 10],\n",
       " [57447, u'Sue Murphy', u'CAN', 10],\n",
       " [53983, u'Daniela B\\xe4rtschi', u'CHE', 10],\n",
       " [49569, u'Karina Kosiorek', u'POL', 10],\n",
       " [32043, u'Reidun M. Romundstad', u'NOR', 10]]"
      ]
     },
     "execution_count": 14,
     "metadata": {},
     "output_type": "execute_result"
    }
   ],
   "source": [
    "%%cypher\n",
    "MATCH (escalador:Escalador)-[:REALIZA]->(ascenso:Ascenso)\n",
    "WHERE escalador.sexo = \"Mujer\"\n",
    "RETURN escalador.id, escalador.nombre, escalador.pais, count(ascenso) as numero_ascensos\n",
    "ORDER BY numero_ascensos DESC, escalador.id DESC\n",
    "LIMIT 10"
   ]
  },
  {
   "cell_type": "markdown",
   "metadata": {},
   "source": [
    "### 2. Lista de los 10 ascensos \"On sight\" de la escaladora más activa en orden decreciente de dificultad (y por nombre de via ascendete)"
   ]
  },
  {
   "cell_type": "code",
   "execution_count": 18,
   "metadata": {
    "collapsed": false
   },
   "outputs": [
    {
     "name": "stdout",
     "output_type": "stream",
     "text": [
      "8 rows affected.\n"
     ]
    },
    {
     "data": {
      "text/html": [
       "<table>\n",
       "    <tr>\n",
       "        <th>asc.nombre</th>\n",
       "        <th>dif.grado_frances</th>\n",
       "        <th>asc.risco</th>\n",
       "        <th>asc.pais</th>\n",
       "    </tr>\n",
       "    <tr>\n",
       "        <td>LEWIZNA</td>\n",
       "        <td>5c</td>\n",
       "        <td>DOLINA KOBYLANSKA</td>\n",
       "        <td>POL</td>\n",
       "    </tr>\n",
       "    <tr>\n",
       "        <td>MOJA KOKAINA</td>\n",
       "        <td>5c</td>\n",
       "        <td>DOLINA KOBYLANSKA</td>\n",
       "        <td>POL</td>\n",
       "    </tr>\n",
       "    <tr>\n",
       "        <td>RUCHY MASOWE</td>\n",
       "        <td>5c</td>\n",
       "        <td>DOLINA BEDKOWSKA</td>\n",
       "        <td>POL</td>\n",
       "    </tr>\n",
       "    <tr>\n",
       "        <td>FISCHER-LAPINSKI</td>\n",
       "        <td>5b</td>\n",
       "        <td>DOLINA BEDKOWSKA</td>\n",
       "        <td>POL</td>\n",
       "    </tr>\n",
       "    <tr>\n",
       "        <td>GRZBIET ZUBRA</td>\n",
       "        <td>5b</td>\n",
       "        <td>SOKOLIKI</td>\n",
       "        <td>POL</td>\n",
       "    </tr>\n",
       "    <tr>\n",
       "        <td>RYSKOWIEC</td>\n",
       "        <td>5b</td>\n",
       "        <td>DOLINA BEDKOWSKA</td>\n",
       "        <td>POL</td>\n",
       "    </tr>\n",
       "    <tr>\n",
       "        <td>ZAGłADA TRADA</td>\n",
       "        <td>4c</td>\n",
       "        <td>DOLINA KOBYLANSKA</td>\n",
       "        <td>POL</td>\n",
       "    </tr>\n",
       "    <tr>\n",
       "        <td>KIKUT</td>\n",
       "        <td>4b</td>\n",
       "        <td>DOLINA SZKLARKI</td>\n",
       "        <td>POL</td>\n",
       "    </tr>\n",
       "</table>"
      ],
      "text/plain": [
       "[[u'LEWIZNA', u'5c', u'DOLINA KOBYLANSKA', u'POL'],\n",
       " [u'MOJA KOKAINA', u'5c', u'DOLINA KOBYLANSKA', u'POL'],\n",
       " [u'RUCHY MASOWE', u'5c', u'DOLINA BEDKOWSKA', u'POL'],\n",
       " [u'FISCHER-LAPINSKI', u'5b', u'DOLINA BEDKOWSKA', u'POL'],\n",
       " [u'GRZBIET ZUBRA', u'5b', u'SOKOLIKI', u'POL'],\n",
       " [u'RYSKOWIEC', u'5b', u'DOLINA BEDKOWSKA', u'POL'],\n",
       " [u'ZAG\\u0142ADA TRADA', u'4c', u'DOLINA KOBYLANSKA', u'POL'],\n",
       " [u'KIKUT', u'4b', u'DOLINA SZKLARKI', u'POL']]"
      ]
     },
     "execution_count": 18,
     "metadata": {},
     "output_type": "execute_result"
    }
   ],
   "source": [
    "%%cypher\n",
    "\n",
    "MATCH (escalador:Escalador)-[:REALIZA]-(ascenso:Ascenso)\n",
    "WHERE escalador.sexo = \"Mujer\"\n",
    "WITH  escalador, count(ascenso) as numero_ascensos\n",
    "ORDER BY numero_ascensos DESC, escalador.id DESC\n",
    "LIMIT 1\n",
    "\n",
    "MATCH (escalador:Escalador)-[:REALIZA]-(asc:Ascenso)-[:TIENE]-(dif:Dificultad)\n",
    "WHERE asc.tipo_encadenamiento = 'Onsight'\n",
    "RETURN asc.nombre, dif.grado_frances, asc.risco, asc.pais\n",
    "ORDER BY dif.valor DESC, asc.nombre ASC"
   ]
  },
  {
   "cell_type": "markdown",
   "metadata": {},
   "source": [
    "### 3. Dificultad media de los ascensos del escalador más activo"
   ]
  },
  {
   "cell_type": "code",
   "execution_count": 20,
   "metadata": {
    "collapsed": false
   },
   "outputs": [
    {
     "name": "stdout",
     "output_type": "stream",
     "text": [
      "1 rows affected.\n"
     ]
    },
    {
     "data": {
      "text/html": [
       "<table>\n",
       "    <tr>\n",
       "        <th>dif_media.grado_frances</th>\n",
       "    </tr>\n",
       "    <tr>\n",
       "        <td>5c+</td>\n",
       "    </tr>\n",
       "</table>"
      ],
      "text/plain": [
       "[[u'5c+']]"
      ]
     },
     "execution_count": 20,
     "metadata": {},
     "output_type": "execute_result"
    }
   ],
   "source": [
    "%%cypher\n",
    "\n",
    "MATCH (escalador:Escalador)-[:REALIZA]-(ascenso:Ascenso)\n",
    "WHERE escalador.sexo = \"Hombre\" \n",
    "WITH escalador, count(ascenso) as num_ascensos\n",
    "ORDER BY num_ascensos DESC\n",
    "LIMIT 1\n",
    "\n",
    "MATCH (escalador:Escalador)-[:REALIZA]-(:Ascenso)-[:TIENE]-(dif:Dificultad)\n",
    "WITH round(avg(dif.valor)) as valor_dif_media\n",
    "\n",
    "MATCH (dif_media:Dificultad {valor : valor_dif_media})\n",
    "RETURN dif_media.grado_frances"
   ]
  },
  {
   "cell_type": "markdown",
   "metadata": {},
   "source": [
    "### 4.a) Los 10 ascensos mas dificiles"
   ]
  },
  {
   "cell_type": "code",
   "execution_count": 24,
   "metadata": {
    "collapsed": false
   },
   "outputs": [
    {
     "name": "stdout",
     "output_type": "stream",
     "text": [
      "10 rows affected.\n"
     ]
    },
    {
     "data": {
      "text/html": [
       "<table>\n",
       "    <tr>\n",
       "        <th>escalador.nombre</th>\n",
       "        <th>escalador.pais</th>\n",
       "        <th>ascenso.nombre</th>\n",
       "        <th>dif.grado_frances</th>\n",
       "        <th>ascenso.tipo_encadenamiento</th>\n",
       "        <th>ascenso.risco</th>\n",
       "        <th>ascenso.pais</th>\n",
       "    </tr>\n",
       "    <tr>\n",
       "        <td>Adam Ondra</td>\n",
       "        <td>CZE</td>\n",
       "        <td>SILENCE</td>\n",
       "        <td>9c</td>\n",
       "        <td>Redpoint</td>\n",
       "        <td>FLATANGER</td>\n",
       "        <td>NOR</td>\n",
       "    </tr>\n",
       "    <tr>\n",
       "        <td>Stefano Ghisolfi</td>\n",
       "        <td>ITA</td>\n",
       "        <td>FIRST ROUND FIRST MINUTE</td>\n",
       "        <td>9b</td>\n",
       "        <td>Redpoint</td>\n",
       "        <td>MARGALEF</td>\n",
       "        <td>ESP</td>\n",
       "    </tr>\n",
       "    <tr>\n",
       "        <td>Adam Ondra</td>\n",
       "        <td>CZE</td>\n",
       "        <td>MOVE HARD</td>\n",
       "        <td>9b</td>\n",
       "        <td>Redpoint</td>\n",
       "        <td>FLATANGER</td>\n",
       "        <td>NOR</td>\n",
       "    </tr>\n",
       "    <tr>\n",
       "        <td>Stefano Ghisolfi</td>\n",
       "        <td>ITA</td>\n",
       "        <td>ONE PUNCH</td>\n",
       "        <td>9a+</td>\n",
       "        <td>Redpoint</td>\n",
       "        <td>ARCO</td>\n",
       "        <td>ITA</td>\n",
       "    </tr>\n",
       "    <tr>\n",
       "        <td>Stefano Ghisolfi</td>\n",
       "        <td>ITA</td>\n",
       "        <td>LA RAMBLA</td>\n",
       "        <td>9a+</td>\n",
       "        <td>Redpoint</td>\n",
       "        <td>SIURANA</td>\n",
       "        <td>ESP</td>\n",
       "    </tr>\n",
       "    <tr>\n",
       "        <td>David Firnenburg</td>\n",
       "        <td>DEU</td>\n",
       "        <td>LA RAMBLA</td>\n",
       "        <td>9a+</td>\n",
       "        <td>Redpoint</td>\n",
       "        <td>SIURANA</td>\n",
       "        <td>ESP</td>\n",
       "    </tr>\n",
       "    <tr>\n",
       "        <td>Piotr Schab</td>\n",
       "        <td>POL</td>\n",
       "        <td>THOR'S HAMMER</td>\n",
       "        <td>9a+</td>\n",
       "        <td>Redpoint</td>\n",
       "        <td>FLATANGER</td>\n",
       "        <td>NOR</td>\n",
       "    </tr>\n",
       "    <tr>\n",
       "        <td>Stefano Ghisolfi</td>\n",
       "        <td>ITA</td>\n",
       "        <td>FIRST LEY</td>\n",
       "        <td>9a+</td>\n",
       "        <td>Redpoint</td>\n",
       "        <td>MARGALEF</td>\n",
       "        <td>ESP</td>\n",
       "    </tr>\n",
       "    <tr>\n",
       "        <td>Evan Hau</td>\n",
       "        <td>CAN</td>\n",
       "        <td>HONOUR AND GLORY</td>\n",
       "        <td>9a+</td>\n",
       "        <td>Redpoint</td>\n",
       "        <td>ECHO CANYON</td>\n",
       "        <td>CAN</td>\n",
       "    </tr>\n",
       "    <tr>\n",
       "        <td>Daniel Fuertes</td>\n",
       "        <td>ESP</td>\n",
       "        <td>NO PAIN NO GAIN</td>\n",
       "        <td>9a+</td>\n",
       "        <td>Redpoint</td>\n",
       "        <td>RODELLAR</td>\n",
       "        <td>ESP</td>\n",
       "    </tr>\n",
       "</table>"
      ],
      "text/plain": [
       "[[u'Adam Ondra', u'CZE', u'SILENCE', u'9c', u'Redpoint', u'FLATANGER', u'NOR'],\n",
       " [u'Stefano Ghisolfi',\n",
       "  u'ITA',\n",
       "  u'FIRST ROUND FIRST MINUTE',\n",
       "  u'9b',\n",
       "  u'Redpoint',\n",
       "  u'MARGALEF',\n",
       "  u'ESP'],\n",
       " [u'Adam Ondra',\n",
       "  u'CZE',\n",
       "  u'MOVE HARD',\n",
       "  u'9b',\n",
       "  u'Redpoint',\n",
       "  u'FLATANGER',\n",
       "  u'NOR'],\n",
       " [u'Stefano Ghisolfi',\n",
       "  u'ITA',\n",
       "  u'ONE PUNCH',\n",
       "  u'9a+',\n",
       "  u'Redpoint',\n",
       "  u'ARCO',\n",
       "  u'ITA'],\n",
       " [u'Stefano Ghisolfi',\n",
       "  u'ITA',\n",
       "  u'LA RAMBLA',\n",
       "  u'9a+',\n",
       "  u'Redpoint',\n",
       "  u'SIURANA',\n",
       "  u'ESP'],\n",
       " [u'David Firnenburg',\n",
       "  u'DEU',\n",
       "  u'LA RAMBLA',\n",
       "  u'9a+',\n",
       "  u'Redpoint',\n",
       "  u'SIURANA',\n",
       "  u'ESP'],\n",
       " [u'Piotr Schab',\n",
       "  u'POL',\n",
       "  u\"THOR'S HAMMER\",\n",
       "  u'9a+',\n",
       "  u'Redpoint',\n",
       "  u'FLATANGER',\n",
       "  u'NOR'],\n",
       " [u'Stefano Ghisolfi',\n",
       "  u'ITA',\n",
       "  u'FIRST LEY',\n",
       "  u'9a+',\n",
       "  u'Redpoint',\n",
       "  u'MARGALEF',\n",
       "  u'ESP'],\n",
       " [u'Evan Hau',\n",
       "  u'CAN',\n",
       "  u'HONOUR AND GLORY',\n",
       "  u'9a+',\n",
       "  u'Redpoint',\n",
       "  u'ECHO CANYON',\n",
       "  u'CAN'],\n",
       " [u'Daniel Fuertes',\n",
       "  u'ESP',\n",
       "  u'NO PAIN NO GAIN',\n",
       "  u'9a+',\n",
       "  u'Redpoint',\n",
       "  u'RODELLAR',\n",
       "  u'ESP']]"
      ]
     },
     "execution_count": 24,
     "metadata": {},
     "output_type": "execute_result"
    }
   ],
   "source": [
    "%%cypher\n",
    "MATCH (escalador:Escalador)-[:REALIZA]-(ascenso:Ascenso)-[:TIENE]-(dif:Dificultad)\n",
    "RETURN escalador.nombre,\n",
    "       escalador.pais,\n",
    "       ascenso.nombre,\n",
    "       dif.grado_frances,\n",
    "       ascenso.tipo_encadenamiento,\n",
    "       ascenso.risco,\n",
    "       ascenso.pais\n",
    "ORDER BY dif.valor DESC\n",
    "LIMIT 10"
   ]
  },
  {
   "cell_type": "markdown",
   "metadata": {},
   "source": [
    "### 4.b) Los 10 ascensos mas dificiles a vista (On sight)"
   ]
  },
  {
   "cell_type": "code",
   "execution_count": 25,
   "metadata": {
    "collapsed": false
   },
   "outputs": [
    {
     "name": "stdout",
     "output_type": "stream",
     "text": [
      "10 rows affected.\n"
     ]
    },
    {
     "data": {
      "text/html": [
       "<table>\n",
       "    <tr>\n",
       "        <th>escalador.nombre</th>\n",
       "        <th>escalador.pais</th>\n",
       "        <th>ascenso.nombre</th>\n",
       "        <th>dif.grado_frances</th>\n",
       "        <th>ascenso.tipo_encadenamiento</th>\n",
       "        <th>ascenso.risco</th>\n",
       "        <th>ascenso.pais</th>\n",
       "    </tr>\n",
       "    <tr>\n",
       "        <td>Stefano Ghisolfi</td>\n",
       "        <td>ITA</td>\n",
       "        <td>FISH EYE</td>\n",
       "        <td>8c</td>\n",
       "        <td>Onsight</td>\n",
       "        <td>OLIANA</td>\n",
       "        <td>ESP</td>\n",
       "    </tr>\n",
       "    <tr>\n",
       "        <td>Piotr Schab</td>\n",
       "        <td>POL</td>\n",
       "        <td>PEQUENA ESTRELLA</td>\n",
       "        <td>8b+</td>\n",
       "        <td>Onsight</td>\n",
       "        <td>RODELLAR</td>\n",
       "        <td>ESP</td>\n",
       "    </tr>\n",
       "    <tr>\n",
       "        <td>Manu Lopez</td>\n",
       "        <td>FRA</td>\n",
       "        <td>WHAT</td>\n",
       "        <td>8b</td>\n",
       "        <td>Onsight</td>\n",
       "        <td>LEONIDIO</td>\n",
       "        <td>GRC</td>\n",
       "    </tr>\n",
       "    <tr>\n",
       "        <td>luis rodriguez martin</td>\n",
       "        <td>ESP</td>\n",
       "        <td>BRUJO</td>\n",
       "        <td>8b</td>\n",
       "        <td>Onsight</td>\n",
       "        <td>SADERNES</td>\n",
       "        <td>ESP</td>\n",
       "    </tr>\n",
       "    <tr>\n",
       "        <td>Adam Ondra</td>\n",
       "        <td>CZE</td>\n",
       "        <td>MATA HARI</td>\n",
       "        <td>8a+</td>\n",
       "        <td>Onsight</td>\n",
       "        <td>FRANKENJURA</td>\n",
       "        <td>DEU</td>\n",
       "    </tr>\n",
       "    <tr>\n",
       "        <td>Dmitrii Fakirianov</td>\n",
       "        <td>RUS</td>\n",
       "        <td>L'ADRECADOR</td>\n",
       "        <td>8a+</td>\n",
       "        <td>Onsight</td>\n",
       "        <td>TERRADETS</td>\n",
       "        <td>ESP</td>\n",
       "    </tr>\n",
       "    <tr>\n",
       "        <td>Michaela Kiersch</td>\n",
       "        <td>USA</td>\n",
       "        <td>LA FEMME BLANCHE</td>\n",
       "        <td>8a+</td>\n",
       "        <td>Onsight</td>\n",
       "        <td>CéüSE</td>\n",
       "        <td>FRA</td>\n",
       "    </tr>\n",
       "    <tr>\n",
       "        <td>jose luis palao</td>\n",
       "        <td>ESP</td>\n",
       "        <td>TEAM BTR</td>\n",
       "        <td>8a+</td>\n",
       "        <td>Onsight</td>\n",
       "        <td>BIELSA</td>\n",
       "        <td>ESP</td>\n",
       "    </tr>\n",
       "    <tr>\n",
       "        <td>jose luis palao</td>\n",
       "        <td>ESP</td>\n",
       "        <td>REALIDAD VIRTUAL</td>\n",
       "        <td>8a+</td>\n",
       "        <td>Onsight</td>\n",
       "        <td>POLORIA</td>\n",
       "        <td>ESP</td>\n",
       "    </tr>\n",
       "    <tr>\n",
       "        <td>Marcin Wszolek</td>\n",
       "        <td>POL</td>\n",
       "        <td>NUEVE ZETA</td>\n",
       "        <td>8a+</td>\n",
       "        <td>Onsight</td>\n",
       "        <td>CHULILLA</td>\n",
       "        <td>ESP</td>\n",
       "    </tr>\n",
       "</table>"
      ],
      "text/plain": [
       "[[u'Stefano Ghisolfi',\n",
       "  u'ITA',\n",
       "  u'FISH EYE',\n",
       "  u'8c',\n",
       "  u'Onsight',\n",
       "  u'OLIANA',\n",
       "  u'ESP'],\n",
       " [u'Piotr Schab',\n",
       "  u'POL',\n",
       "  u'PEQUENA ESTRELLA',\n",
       "  u'8b+',\n",
       "  u'Onsight',\n",
       "  u'RODELLAR',\n",
       "  u'ESP'],\n",
       " [u'Manu Lopez', u'FRA', u'WHAT', u'8b', u'Onsight', u'LEONIDIO', u'GRC'],\n",
       " [u'luis rodriguez martin',\n",
       "  u'ESP',\n",
       "  u'BRUJO',\n",
       "  u'8b',\n",
       "  u'Onsight',\n",
       "  u'SADERNES',\n",
       "  u'ESP'],\n",
       " [u'Adam Ondra',\n",
       "  u'CZE',\n",
       "  u'MATA HARI',\n",
       "  u'8a+',\n",
       "  u'Onsight',\n",
       "  u'FRANKENJURA',\n",
       "  u'DEU'],\n",
       " [u'Dmitrii Fakirianov',\n",
       "  u'RUS',\n",
       "  u\"L'ADRECADOR\",\n",
       "  u'8a+',\n",
       "  u'Onsight',\n",
       "  u'TERRADETS',\n",
       "  u'ESP'],\n",
       " [u'Michaela Kiersch',\n",
       "  u'USA',\n",
       "  u'LA FEMME BLANCHE',\n",
       "  u'8a+',\n",
       "  u'Onsight',\n",
       "  u'C\\xe9\\xfcSE',\n",
       "  u'FRA'],\n",
       " [u'jose luis palao',\n",
       "  u'ESP',\n",
       "  u'TEAM BTR',\n",
       "  u'8a+',\n",
       "  u'Onsight',\n",
       "  u'BIELSA',\n",
       "  u'ESP'],\n",
       " [u'jose luis palao',\n",
       "  u'ESP',\n",
       "  u'REALIDAD VIRTUAL',\n",
       "  u'8a+',\n",
       "  u'Onsight',\n",
       "  u'POLORIA',\n",
       "  u'ESP'],\n",
       " [u'Marcin Wszolek',\n",
       "  u'POL',\n",
       "  u'NUEVE ZETA',\n",
       "  u'8a+',\n",
       "  u'Onsight',\n",
       "  u'CHULILLA',\n",
       "  u'ESP']]"
      ]
     },
     "execution_count": 25,
     "metadata": {},
     "output_type": "execute_result"
    }
   ],
   "source": [
    "%%cypher\n",
    "MATCH (escalador:Escalador)-[:REALIZA]-(ascenso:Ascenso)-[:TIENE]-(dif:Dificultad)\n",
    "WHERE ascenso.tipo_encadenamiento='Onsight'\n",
    "RETURN escalador.nombre,\n",
    "       escalador.pais,\n",
    "       ascenso.nombre,\n",
    "       dif.grado_frances,\n",
    "       ascenso.tipo_encadenamiento,\n",
    "       ascenso.risco,\n",
    "       ascenso.pais\n",
    "ORDER BY dif.valor DESC\n",
    "LIMIT 10"
   ]
  },
  {
   "cell_type": "markdown",
   "metadata": {},
   "source": [
    "### 5.a) Grado medio y maximo de los ascensos en España de los 10 escaladores NO ESPAÑOLES con mas ascensos en España"
   ]
  },
  {
   "cell_type": "code",
   "execution_count": 9,
   "metadata": {
    "collapsed": false
   },
   "outputs": [
    {
     "name": "stdout",
     "output_type": "stream",
     "text": [
      "10 rows affected.\n"
     ]
    },
    {
     "data": {
      "text/html": [
       "<table>\n",
       "    <tr>\n",
       "        <th>escalador.nombre</th>\n",
       "        <th>escalador.pais</th>\n",
       "        <th>num_ascensos</th>\n",
       "        <th>grado_medio</th>\n",
       "        <th>grado_maximo</th>\n",
       "    </tr>\n",
       "    <tr>\n",
       "        <td>Nuno Henriques</td>\n",
       "        <td>PRT</td>\n",
       "        <td>14</td>\n",
       "        <td>6a+</td>\n",
       "        <td>7a</td>\n",
       "    </tr>\n",
       "    <tr>\n",
       "        <td>Grzegorz \"Buła\" Golowczyk</td>\n",
       "        <td>POL</td>\n",
       "        <td>9</td>\n",
       "        <td>7b+</td>\n",
       "        <td>8b+</td>\n",
       "    </tr>\n",
       "    <tr>\n",
       "        <td>philipp kieffer</td>\n",
       "        <td>DEU</td>\n",
       "        <td>7</td>\n",
       "        <td>6c+/7a</td>\n",
       "        <td>7c</td>\n",
       "    </tr>\n",
       "    <tr>\n",
       "        <td>Wojtek Pełka</td>\n",
       "        <td>POL</td>\n",
       "        <td>7</td>\n",
       "        <td>7c+/8a</td>\n",
       "        <td>8b</td>\n",
       "    </tr>\n",
       "    <tr>\n",
       "        <td>Gonçalo \"Gongas\" Coutinho</td>\n",
       "        <td>PRT</td>\n",
       "        <td>6</td>\n",
       "        <td>5a</td>\n",
       "        <td>6a</td>\n",
       "    </tr>\n",
       "    <tr>\n",
       "        <td>Tieme van Veen</td>\n",
       "        <td>NLD</td>\n",
       "        <td>6</td>\n",
       "        <td>6c+/7a</td>\n",
       "        <td>8a</td>\n",
       "    </tr>\n",
       "    <tr>\n",
       "        <td>Kuba Pe</td>\n",
       "        <td>POL</td>\n",
       "        <td>6</td>\n",
       "        <td>7a</td>\n",
       "        <td>7b+</td>\n",
       "    </tr>\n",
       "    <tr>\n",
       "        <td>Gabriel Korbiel</td>\n",
       "        <td>POL</td>\n",
       "        <td>6</td>\n",
       "        <td>7a+/7b</td>\n",
       "        <td>7c</td>\n",
       "    </tr>\n",
       "    <tr>\n",
       "        <td>Amber Thornton</td>\n",
       "        <td>GBR</td>\n",
       "        <td>6</td>\n",
       "        <td>5c</td>\n",
       "        <td>6c</td>\n",
       "    </tr>\n",
       "    <tr>\n",
       "        <td>Benjamin Thomas</td>\n",
       "        <td>FRA</td>\n",
       "        <td>6</td>\n",
       "        <td>7a</td>\n",
       "        <td>7c+</td>\n",
       "    </tr>\n",
       "</table>"
      ],
      "text/plain": [
       "[[u'Nuno Henriques', u'PRT', 14, u'6a+', u'7a'],\n",
       " [u'Grzegorz \"Bu\\u0142a\" Golowczyk', u'POL', 9, u'7b+', u'8b+'],\n",
       " [u'philipp kieffer', u'DEU', 7, u'6c+/7a', u'7c'],\n",
       " [u'Wojtek Pe\\u0142ka', u'POL', 7, u'7c+/8a', u'8b'],\n",
       " [u'Gon\\xe7alo \"Gongas\" Coutinho', u'PRT', 6, u'5a', u'6a'],\n",
       " [u'Tieme van Veen', u'NLD', 6, u'6c+/7a', u'8a'],\n",
       " [u'Kuba Pe', u'POL', 6, u'7a', u'7b+'],\n",
       " [u'Gabriel Korbiel', u'POL', 6, u'7a+/7b', u'7c'],\n",
       " [u'Amber Thornton', u'GBR', 6, u'5c', u'6c'],\n",
       " [u'Benjamin Thomas', u'FRA', 6, u'7a', u'7c+']]"
      ]
     },
     "execution_count": 9,
     "metadata": {},
     "output_type": "execute_result"
    }
   ],
   "source": [
    "%%cypher \n",
    "\n",
    "MATCH (escalador:Escalador)-[:REALIZA]-(ascenso:Ascenso)-[:TIENE]-(dif:Dificultad)\n",
    "WHERE escalador.pais <> 'ESP' AND ascenso.pais = 'ESP'\n",
    "WITH escalador, round(avg(dif.valor)) as dif_valor_medio, max(dif.valor) as dif_valor_max, count(ascenso) as num_ascensos\n",
    "ORDER BY num_ascensos DESC, escalador.id ASC\n",
    "LIMIT 10\n",
    "\n",
    "MATCH (dif_media:Dificultad{valor:dif_valor_medio}), (dif_max:Dificultad{valor:dif_valor_max})\n",
    "RETURN escalador.nombre, escalador.pais,\n",
    "       num_ascensos,\n",
    "       dif_media.grado_frances as grado_medio,\n",
    "       dif_max.grado_frances as grado_maximo\n",
    "\n",
    "\n",
    "\n"
   ]
  },
  {
   "cell_type": "markdown",
   "metadata": {},
   "source": [
    "### 5.b) Grado medio y maximo de los ascensos en España de los 10 escaladores ESPAÑOLES con mas ascensos en España"
   ]
  },
  {
   "cell_type": "code",
   "execution_count": 10,
   "metadata": {
    "collapsed": false
   },
   "outputs": [
    {
     "name": "stdout",
     "output_type": "stream",
     "text": [
      "10 rows affected.\n"
     ]
    },
    {
     "data": {
      "text/html": [
       "<table>\n",
       "    <tr>\n",
       "        <th>escalador.nombre</th>\n",
       "        <th>escalador.pais</th>\n",
       "        <th>num_ascensos</th>\n",
       "        <th>grado_medio</th>\n",
       "        <th>grado_maximo</th>\n",
       "    </tr>\n",
       "    <tr>\n",
       "        <td>Raúl Crespo</td>\n",
       "        <td>ESP</td>\n",
       "        <td>18</td>\n",
       "        <td>6a+/6b</td>\n",
       "        <td>7b</td>\n",
       "    </tr>\n",
       "    <tr>\n",
       "        <td>Chaken Gómez conde</td>\n",
       "        <td>ESP</td>\n",
       "        <td>16</td>\n",
       "        <td>7c+</td>\n",
       "        <td>8b</td>\n",
       "    </tr>\n",
       "    <tr>\n",
       "        <td>Adrian Alameda</td>\n",
       "        <td>ESP</td>\n",
       "        <td>14</td>\n",
       "        <td>6c+</td>\n",
       "        <td>8a+</td>\n",
       "    </tr>\n",
       "    <tr>\n",
       "        <td>Alex Garriga</td>\n",
       "        <td>ESP</td>\n",
       "        <td>13</td>\n",
       "        <td>7b+/7c</td>\n",
       "        <td>8a+</td>\n",
       "    </tr>\n",
       "    <tr>\n",
       "        <td>Xavier Gatell Romero</td>\n",
       "        <td>ESP</td>\n",
       "        <td>12</td>\n",
       "        <td>7b+</td>\n",
       "        <td>8a</td>\n",
       "    </tr>\n",
       "    <tr>\n",
       "        <td>jose luis palao</td>\n",
       "        <td>ESP</td>\n",
       "        <td>12</td>\n",
       "        <td>8a+/8b</td>\n",
       "        <td>8b+</td>\n",
       "    </tr>\n",
       "    <tr>\n",
       "        <td>Jose Agustí</td>\n",
       "        <td>ESP</td>\n",
       "        <td>10</td>\n",
       "        <td>7c+</td>\n",
       "        <td>8a</td>\n",
       "    </tr>\n",
       "    <tr>\n",
       "        <td>Gonzalo Larrocha</td>\n",
       "        <td>ESP</td>\n",
       "        <td>10</td>\n",
       "        <td>8a+/8b</td>\n",
       "        <td>9a</td>\n",
       "    </tr>\n",
       "    <tr>\n",
       "        <td>Tomata Tomata</td>\n",
       "        <td>ESP</td>\n",
       "        <td>10</td>\n",
       "        <td>6c+</td>\n",
       "        <td>7a+</td>\n",
       "    </tr>\n",
       "    <tr>\n",
       "        <td>luis rodriguez martin</td>\n",
       "        <td>ESP</td>\n",
       "        <td>10</td>\n",
       "        <td>8a/+</td>\n",
       "        <td>8b+</td>\n",
       "    </tr>\n",
       "</table>"
      ],
      "text/plain": [
       "[[u'Ra\\xfal Crespo', u'ESP', 18, u'6a+/6b', u'7b'],\n",
       " [u'Chaken G\\xf3mez conde', u'ESP', 16, u'7c+', u'8b'],\n",
       " [u'Adrian Alameda', u'ESP', 14, u'6c+', u'8a+'],\n",
       " [u'Alex Garriga', u'ESP', 13, u'7b+/7c', u'8a+'],\n",
       " [u'Xavier Gatell Romero', u'ESP', 12, u'7b+', u'8a'],\n",
       " [u'jose luis palao', u'ESP', 12, u'8a+/8b', u'8b+'],\n",
       " [u'Jose Agust\\xed', u'ESP', 10, u'7c+', u'8a'],\n",
       " [u'Gonzalo Larrocha', u'ESP', 10, u'8a+/8b', u'9a'],\n",
       " [u'Tomata Tomata', u'ESP', 10, u'6c+', u'7a+'],\n",
       " [u'luis rodriguez martin', u'ESP', 10, u'8a/+', u'8b+']]"
      ]
     },
     "execution_count": 10,
     "metadata": {},
     "output_type": "execute_result"
    }
   ],
   "source": [
    "%%cypher \n",
    "\n",
    "MATCH (escalador:Escalador)-[:REALIZA]-(ascenso:Ascenso)-[:TIENE]-(dif:Dificultad)\n",
    "WHERE escalador.pais = 'ESP' AND ascenso.pais = 'ESP'\n",
    "WITH escalador, round(avg(dif.valor)) as dif_valor_medio, max(dif.valor) as dif_valor_max, count(ascenso) as num_ascensos\n",
    "ORDER BY num_ascensos DESC, escalador.id ASC\n",
    "LIMIT 10\n",
    "\n",
    "MATCH (dif_media:Dificultad{valor:dif_valor_medio}), (dif_max:Dificultad{valor:dif_valor_max})\n",
    "RETURN escalador.nombre, escalador.pais,\n",
    "       num_ascensos,\n",
    "       dif_media.grado_frances as grado_medio,\n",
    "       dif_max.grado_frances as grado_maximo"
   ]
  },
  {
   "cell_type": "markdown",
   "metadata": {},
   "source": [
    "### 6.a) Dificultad media y maxima de los ascensos NO \"Top Rope\" de los escaladores con menos de 3 años de experiencia"
   ]
  },
  {
   "cell_type": "markdown",
   "metadata": {},
   "source": [
    "Por desgracia no he encontrado funciones nativas de cypher para el tratamiento de las fechas, y he escrito el año actual hard-coded. Una opcion para ello es el uso de la libreria APOC https://github.com/neo4j-contrib/neo4j-apoc-procedures pero requiere preinstalación..."
   ]
  },
  {
   "cell_type": "code",
   "execution_count": 21,
   "metadata": {
    "collapsed": false,
    "scrolled": true
   },
   "outputs": [
    {
     "name": "stdout",
     "output_type": "stream",
     "text": [
      "1 rows affected.\n"
     ]
    },
    {
     "data": {
      "text/html": [
       "<table>\n",
       "    <tr>\n",
       "        <th>num_ascensos</th>\n",
       "        <th>grado_medio</th>\n",
       "        <th>grado_maximo</th>\n",
       "    </tr>\n",
       "    <tr>\n",
       "        <td>590</td>\n",
       "        <td>6a/+</td>\n",
       "        <td>8a</td>\n",
       "    </tr>\n",
       "</table>"
      ],
      "text/plain": [
       "[[590, u'6a/+', u'8a']]"
      ]
     },
     "execution_count": 21,
     "metadata": {},
     "output_type": "execute_result"
    }
   ],
   "source": [
    "%%cypher \n",
    "\n",
    "MATCH (escalador:Escalador)\n",
    "WHERE (2017 - escalador.anio_comienzo)>=0 AND\n",
    "      (2017 - escalador.anio_comienzo)<3\n",
    "WITH escalador\n",
    "\n",
    "MATCH (escalador:Escalador)-[:REALIZA]-(ascenso:Ascenso)-[:TIENE]-(dificultad:Dificultad)\n",
    "WHERE ascenso.tipo_encadenamiento<>'Toprope'\n",
    "WITH count(ascenso) as num_ascensos, round(avg(dificultad.valor)) as dif_valor_medio, max(dificultad.valor) as dif_valor_max\n",
    "\n",
    "MATCH (dif_media:Dificultad{valor:dif_valor_medio}), (dif_max:Dificultad{valor:dif_valor_max})\n",
    "RETURN num_ascensos,\n",
    "       dif_media.grado_frances as grado_medio,\n",
    "       dif_max.grado_frances as grado_maximo\n"
   ]
  },
  {
   "cell_type": "markdown",
   "metadata": {},
   "source": [
    "### 6.b) Dificultad media y maxima de los ascensos NO \"Top Rope\" de los escaladores con entre 10 y 30 años de experiencia"
   ]
  },
  {
   "cell_type": "code",
   "execution_count": 22,
   "metadata": {
    "collapsed": false,
    "scrolled": true
   },
   "outputs": [
    {
     "name": "stdout",
     "output_type": "stream",
     "text": [
      "1 rows affected.\n"
     ]
    },
    {
     "data": {
      "text/html": [
       "<table>\n",
       "    <tr>\n",
       "        <th>num_ascensos</th>\n",
       "        <th>grado_medio</th>\n",
       "        <th>grado_maximo</th>\n",
       "    </tr>\n",
       "    <tr>\n",
       "        <td>3818</td>\n",
       "        <td>7a</td>\n",
       "        <td>9c</td>\n",
       "    </tr>\n",
       "</table>"
      ],
      "text/plain": [
       "[[3818, u'7a', u'9c']]"
      ]
     },
     "execution_count": 22,
     "metadata": {},
     "output_type": "execute_result"
    }
   ],
   "source": [
    "%%cypher \n",
    "\n",
    "MATCH (escalador:Escalador)\n",
    "WHERE (2017 - escalador.anio_comienzo)>=10 AND\n",
    "      (2017 - escalador.anio_comienzo)<30\n",
    "WITH escalador\n",
    "\n",
    "MATCH (escalador:Escalador)-[:REALIZA]-(ascenso:Ascenso)-[:TIENE]-(dificultad:Dificultad)\n",
    "WHERE ascenso.tipo_encadenamiento<>'Toprope'\n",
    "WITH count(ascenso) as num_ascensos, round(avg(dificultad.valor)) as dif_valor_medio, max(dificultad.valor) as dif_valor_max\n",
    "\n",
    "MATCH (dif_media:Dificultad{valor:dif_valor_medio}), (dif_max:Dificultad{valor:dif_valor_max})\n",
    "RETURN num_ascensos,\n",
    "       dif_media.grado_frances as grado_medio,\n",
    "       dif_max.grado_frances as grado_maximo\n"
   ]
  },
  {
   "cell_type": "markdown",
   "metadata": {},
   "source": [
    "### 7. Los 10 riscos españoles (o zonas) con mas ascensos por orden decreciente de numero de ascensos"
   ]
  },
  {
   "cell_type": "code",
   "execution_count": 30,
   "metadata": {
    "collapsed": false
   },
   "outputs": [
    {
     "name": "stdout",
     "output_type": "stream",
     "text": [
      "10 rows affected.\n"
     ]
    },
    {
     "data": {
      "text/html": [
       "<table>\n",
       "    <tr>\n",
       "        <th>ascenso.risco</th>\n",
       "        <th>num_ascensos</th>\n",
       "    </tr>\n",
       "    <tr>\n",
       "        <td>MARGALEF</td>\n",
       "        <td>194</td>\n",
       "    </tr>\n",
       "    <tr>\n",
       "        <td>CUENCA</td>\n",
       "        <td>148</td>\n",
       "    </tr>\n",
       "    <tr>\n",
       "        <td>SIURANA</td>\n",
       "        <td>147</td>\n",
       "    </tr>\n",
       "    <tr>\n",
       "        <td>ALBARRACíN</td>\n",
       "        <td>137</td>\n",
       "    </tr>\n",
       "    <tr>\n",
       "        <td>RODELLAR</td>\n",
       "        <td>136</td>\n",
       "    </tr>\n",
       "    <tr>\n",
       "        <td>CHULILLA</td>\n",
       "        <td>134</td>\n",
       "    </tr>\n",
       "    <tr>\n",
       "        <td>MALLORCA</td>\n",
       "        <td>63</td>\n",
       "    </tr>\n",
       "    <tr>\n",
       "        <td>LA PEDRIZA</td>\n",
       "        <td>61</td>\n",
       "    </tr>\n",
       "    <tr>\n",
       "        <td>MONTSERRAT</td>\n",
       "        <td>58</td>\n",
       "    </tr>\n",
       "    <tr>\n",
       "        <td>EL CHORRO</td>\n",
       "        <td>44</td>\n",
       "    </tr>\n",
       "</table>"
      ],
      "text/plain": [
       "[[u'MARGALEF', 194],\n",
       " [u'CUENCA', 148],\n",
       " [u'SIURANA', 147],\n",
       " [u'ALBARRAC\\xedN', 137],\n",
       " [u'RODELLAR', 136],\n",
       " [u'CHULILLA', 134],\n",
       " [u'MALLORCA', 63],\n",
       " [u'LA PEDRIZA', 61],\n",
       " [u'MONTSERRAT', 58],\n",
       " [u'EL CHORRO', 44]]"
      ]
     },
     "execution_count": 30,
     "metadata": {},
     "output_type": "execute_result"
    }
   ],
   "source": [
    "%%cypher\n",
    "MATCH (ascenso:Ascenso)\n",
    "WHERE ascenso.pais ='ESP'\n",
    "RETURN ascenso.risco, count(ascenso.risco) as num_ascensos\n",
    "ORDER BY num_ascensos DESC\n",
    "LIMIT 10"
   ]
  },
  {
   "cell_type": "markdown",
   "metadata": {},
   "source": [
    "### 8.a) Los 10 sectores españoles con mayor nivel de difcultad media de ascensos ordenadas por orden decreciente de dificultad y por numero de ascensos decreciente"
   ]
  },
  {
   "cell_type": "code",
   "execution_count": 38,
   "metadata": {
    "collapsed": false
   },
   "outputs": [
    {
     "name": "stdout",
     "output_type": "stream",
     "text": [
      "10 rows affected.\n"
     ]
    },
    {
     "data": {
      "text/html": [
       "<table>\n",
       "    <tr>\n",
       "        <th>nombre_risco</th>\n",
       "        <th>dif_valor_medio</th>\n",
       "        <th>grado_medio</th>\n",
       "        <th>num_ascensos</th>\n",
       "    </tr>\n",
       "    <tr>\n",
       "        <td>LA COVA DE L'OCELL</td>\n",
       "        <td>71.0</td>\n",
       "        <td>8c/+</td>\n",
       "        <td>2</td>\n",
       "    </tr>\n",
       "    <tr>\n",
       "        <td>POLORIA</td>\n",
       "        <td>66.0</td>\n",
       "        <td>8b</td>\n",
       "        <td>2</td>\n",
       "    </tr>\n",
       "    <tr>\n",
       "        <td>FIGOLS</td>\n",
       "        <td>66.0</td>\n",
       "        <td>8b</td>\n",
       "        <td>1</td>\n",
       "    </tr>\n",
       "    <tr>\n",
       "        <td>ORIHUELA</td>\n",
       "        <td>65.0</td>\n",
       "        <td>8a+/8b</td>\n",
       "        <td>2</td>\n",
       "    </tr>\n",
       "    <tr>\n",
       "        <td>SANTA LINYA</td>\n",
       "        <td>64.0</td>\n",
       "        <td>8a+</td>\n",
       "        <td>18</td>\n",
       "    </tr>\n",
       "    <tr>\n",
       "        <td>OLIANA</td>\n",
       "        <td>64.0</td>\n",
       "        <td>8a+</td>\n",
       "        <td>14</td>\n",
       "    </tr>\n",
       "    <tr>\n",
       "        <td>FORADA</td>\n",
       "        <td>64.0</td>\n",
       "        <td>8a+</td>\n",
       "        <td>3</td>\n",
       "    </tr>\n",
       "    <tr>\n",
       "        <td>LA MUELA</td>\n",
       "        <td>64.0</td>\n",
       "        <td>8a+</td>\n",
       "        <td>2</td>\n",
       "    </tr>\n",
       "    <tr>\n",
       "        <td>BALTZOLA</td>\n",
       "        <td>64.0</td>\n",
       "        <td>8a+</td>\n",
       "        <td>1</td>\n",
       "    </tr>\n",
       "    <tr>\n",
       "        <td>CACIN</td>\n",
       "        <td>64.0</td>\n",
       "        <td>8a+</td>\n",
       "        <td>1</td>\n",
       "    </tr>\n",
       "</table>"
      ],
      "text/plain": [
       "[[u\"LA COVA DE L'OCELL\", 71.0, u'8c/+', 2],\n",
       " [u'POLORIA', 66.0, u'8b', 2],\n",
       " [u'FIGOLS', 66.0, u'8b', 1],\n",
       " [u'ORIHUELA', 65.0, u'8a+/8b', 2],\n",
       " [u'SANTA LINYA', 64.0, u'8a+', 18],\n",
       " [u'OLIANA', 64.0, u'8a+', 14],\n",
       " [u'FORADA', 64.0, u'8a+', 3],\n",
       " [u'LA MUELA', 64.0, u'8a+', 2],\n",
       " [u'BALTZOLA', 64.0, u'8a+', 1],\n",
       " [u'CACIN', 64.0, u'8a+', 1]]"
      ]
     },
     "execution_count": 38,
     "metadata": {},
     "output_type": "execute_result"
    }
   ],
   "source": [
    "%%cypher\n",
    "\n",
    "MATCH (ascenso:Ascenso)-[:TIENE]-(dif:Dificultad)\n",
    "WHERE ascenso.pais='ESP'\n",
    "WITH ascenso.risco as nombre_risco, round(avg(dif.valor)) as dif_valor_medio, count(ascenso.risco) as num_ascensos\n",
    "ORDER BY dif_valor_medio DESC,num_ascensos DESC, ascenso.risco ASC\n",
    "LIMIT 10\n",
    "\n",
    "MATCH (dif_media:Dificultad{valor:dif_valor_medio})\n",
    "RETURN nombre_risco, dif_valor_medio, dif_media.grado_frances as grado_medio, num_ascensos\n"
   ]
  },
  {
   "cell_type": "markdown",
   "metadata": {},
   "source": [
    "### 8.b) Las 10 sectores españoles con menor nivel de dificultad medio de ascensos ordenadas por orden creciente de dificultad y por numero de ascensos decreciente"
   ]
  },
  {
   "cell_type": "code",
   "execution_count": 39,
   "metadata": {
    "collapsed": false
   },
   "outputs": [
    {
     "name": "stdout",
     "output_type": "stream",
     "text": [
      "10 rows affected.\n"
     ]
    },
    {
     "data": {
      "text/html": [
       "<table>\n",
       "    <tr>\n",
       "        <th>nombre_risco</th>\n",
       "        <th>dif_valor_medio</th>\n",
       "        <th>grado_medio</th>\n",
       "        <th>num_ascensos</th>\n",
       "    </tr>\n",
       "    <tr>\n",
       "        <td>PORTOMARIN</td>\n",
       "        <td>21.0</td>\n",
       "        <td>4a</td>\n",
       "        <td>2</td>\n",
       "    </tr>\n",
       "    <tr>\n",
       "        <td>MONT-RAL</td>\n",
       "        <td>25.0</td>\n",
       "        <td>4c</td>\n",
       "        <td>1</td>\n",
       "    </tr>\n",
       "    <tr>\n",
       "        <td>OTO</td>\n",
       "        <td>25.0</td>\n",
       "        <td>4c</td>\n",
       "        <td>1</td>\n",
       "    </tr>\n",
       "    <tr>\n",
       "        <td>PUERTO ROQUE</td>\n",
       "        <td>26.0</td>\n",
       "        <td>4c+</td>\n",
       "        <td>3</td>\n",
       "    </tr>\n",
       "    <tr>\n",
       "        <td>PUEBLA DE GUZMAN</td>\n",
       "        <td>27.0</td>\n",
       "        <td>4+</td>\n",
       "        <td>5</td>\n",
       "    </tr>\n",
       "    <tr>\n",
       "        <td>BALNEARIO DE PANTICOSA</td>\n",
       "        <td>27.0</td>\n",
       "        <td>4+</td>\n",
       "        <td>2</td>\n",
       "    </tr>\n",
       "    <tr>\n",
       "        <td>SAVASSONA</td>\n",
       "        <td>29.0</td>\n",
       "        <td>5a</td>\n",
       "        <td>2</td>\n",
       "    </tr>\n",
       "    <tr>\n",
       "        <td>LA DEHESA DE LA OLIVA</td>\n",
       "        <td>29.0</td>\n",
       "        <td>5a</td>\n",
       "        <td>1</td>\n",
       "    </tr>\n",
       "    <tr>\n",
       "        <td>LA PUENTE</td>\n",
       "        <td>29.0</td>\n",
       "        <td>5a</td>\n",
       "        <td>1</td>\n",
       "    </tr>\n",
       "    <tr>\n",
       "        <td>MALLORKA</td>\n",
       "        <td>29.0</td>\n",
       "        <td>5a</td>\n",
       "        <td>1</td>\n",
       "    </tr>\n",
       "</table>"
      ],
      "text/plain": [
       "[[u'PORTOMARIN', 21.0, u'4a', 2],\n",
       " [u'MONT-RAL', 25.0, u'4c', 1],\n",
       " [u'OTO', 25.0, u'4c', 1],\n",
       " [u'PUERTO ROQUE', 26.0, u'4c+', 3],\n",
       " [u'PUEBLA DE GUZMAN', 27.0, u'4+', 5],\n",
       " [u'BALNEARIO DE PANTICOSA', 27.0, u'4+', 2],\n",
       " [u'SAVASSONA', 29.0, u'5a', 2],\n",
       " [u'LA DEHESA DE LA OLIVA', 29.0, u'5a', 1],\n",
       " [u'LA PUENTE', 29.0, u'5a', 1],\n",
       " [u'MALLORKA', 29.0, u'5a', 1]]"
      ]
     },
     "execution_count": 39,
     "metadata": {},
     "output_type": "execute_result"
    }
   ],
   "source": [
    "%%cypher\n",
    "\n",
    "MATCH (ascenso:Ascenso)-[:TIENE]-(dif:Dificultad)\n",
    "WHERE ascenso.pais='ESP'\n",
    "WITH ascenso.risco as nombre_risco, round(avg(dif.valor)) as dif_valor_medio, count(ascenso.risco) as num_ascensos\n",
    "ORDER BY dif_valor_medio ASC,num_ascensos DESC, ascenso.risco ASC\n",
    "LIMIT 10\n",
    "\n",
    "MATCH (dif_media:Dificultad{valor:dif_valor_medio})\n",
    "RETURN nombre_risco, dif_valor_medio, dif_media.grado_frances as grado_medio, num_ascensos\n"
   ]
  }
 ],
 "metadata": {
  "kernelspec": {
   "display_name": "Python 2",
   "language": "python",
   "name": "python2"
  },
  "language_info": {
   "codemirror_mode": {
    "name": "ipython",
    "version": 2
   },
   "file_extension": ".py",
   "mimetype": "text/x-python",
   "name": "python",
   "nbconvert_exporter": "python",
   "pygments_lexer": "ipython2",
   "version": "2.7.6"
  }
 },
 "nbformat": 4,
 "nbformat_minor": 0
}
