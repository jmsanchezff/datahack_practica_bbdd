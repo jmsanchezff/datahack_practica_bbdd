{
 "cells": [
  {
   "cell_type": "markdown",
   "metadata": {},
   "source": [
    "# Base de datos neo4j"
   ]
  },
  {
   "cell_type": "markdown",
   "metadata": {},
   "source": [
    "## Lectura de datos"
   ]
  },
  {
   "cell_type": "code",
   "execution_count": 1,
   "metadata": {
    "collapsed": true
   },
   "outputs": [],
   "source": [
    "import pandas as pd\n",
    "\n",
    "df_dificultades = pd.read_csv(\"./data/dificultades.csv\",encoding='utf-8');\n",
    "df_encadenamientos = pd.read_csv(\"./data/tipos_encadenamiento.csv\", encoding='utf-8');\n",
    "df_escaladores = pd.read_csv(\"./data/escaladores_lite_2017.csv\", encoding='utf-8');\n",
    "df_ascensos = pd.read_csv(\"./data/ascensos_lite_2017.csv\", encoding='utf-8');"
   ]
  },
  {
   "cell_type": "markdown",
   "metadata": {},
   "source": [
    "## Conexión con neo4j y borrado de BB.DD."
   ]
  },
  {
   "cell_type": "code",
   "execution_count": 2,
   "metadata": {
    "collapsed": true
   },
   "outputs": [],
   "source": [
    "%load_ext cypher"
   ]
  },
  {
   "cell_type": "code",
   "execution_count": 3,
   "metadata": {
    "collapsed": true
   },
   "outputs": [],
   "source": [
    "from py2neo import Graph, Node, Relationship\n",
    "\n",
    "graph = Graph()\n",
    "\n",
    "# Borrado de todos los nodos y relaciones\n",
    "graph.delete_all()"
   ]
  },
  {
   "cell_type": "markdown",
   "metadata": {},
   "source": [
    "## Carga de datos en neo4j"
   ]
  },
  {
   "cell_type": "markdown",
   "metadata": {},
   "source": [
    " El modelo de nodos y relaciones que voy a considerar es este:\n",
    " \n",
    " ![Nodos y relaciones neo4j](./img/nodosRelacionesNEO.jpg)\n",
    " \n",
    " \n",
    " "
   ]
  },
  {
   "cell_type": "markdown",
   "metadata": {},
   "source": [
    "Desnormalizo los datos de ascensos para facilitar la introducción de nodos y relaciones en la base de datos"
   ]
  },
  {
   "cell_type": "code",
   "execution_count": 4,
   "metadata": {
    "collapsed": true
   },
   "outputs": [],
   "source": [
    "df_ascensos = pd.merge(df_ascensos, df_encadenamientos, on = ['id_tipo_encadenamiento'], how = 'inner')\n",
    "df_ascensos = pd.merge(df_ascensos, df_dificultades, on = ['id_dificultad'], how = 'inner');\n",
    "df_ascensos = pd.merge(df_ascensos, df_escaladores, on = ['id_escalador'], how = 'inner');\n",
    "\n",
    "# Renombrar campos por claridad (el merge auto-asigna nombres a campos repetidos)\n",
    "df_ascensos = df_ascensos.rename(\n",
    "    columns={\n",
    "        'nombre': 'nombre_escalador',\n",
    "        'ciudad':'ciudad_escalador',\n",
    "        'pais_y': 'pais_escalador',\n",
    "        'comienzo': 'anio_comienzo',\n",
    "        'pais_x': 'pais_risco'});"
   ]
  },
  {
   "cell_type": "code",
   "execution_count": 5,
   "metadata": {
    "collapsed": false
   },
   "outputs": [
    {
     "data": {
      "text/html": [
       "<div>\n",
       "<style>\n",
       "    .dataframe thead tr:only-child th {\n",
       "        text-align: right;\n",
       "    }\n",
       "\n",
       "    .dataframe thead th {\n",
       "        text-align: left;\n",
       "    }\n",
       "\n",
       "    .dataframe tbody tr th {\n",
       "        vertical-align: top;\n",
       "    }\n",
       "</style>\n",
       "<table border=\"1\" class=\"dataframe\">\n",
       "  <thead>\n",
       "    <tr style=\"text-align: right;\">\n",
       "      <th></th>\n",
       "      <th>id_escalador</th>\n",
       "      <th>id_dificultad</th>\n",
       "      <th>id_tipo_encadenamiento</th>\n",
       "      <th>nombre_via</th>\n",
       "      <th>risco</th>\n",
       "      <th>sector</th>\n",
       "      <th>fecha</th>\n",
       "      <th>pais_risco</th>\n",
       "      <th>tipo_encadenamiento</th>\n",
       "      <th>grado_frances</th>\n",
       "      <th>grado_usa</th>\n",
       "      <th>grado_bloque_usa</th>\n",
       "      <th>nombre_escalador</th>\n",
       "      <th>sexo</th>\n",
       "      <th>fecha_nacimiento</th>\n",
       "      <th>ciudad_escalador</th>\n",
       "      <th>pais_escalador</th>\n",
       "      <th>anio_comienzo</th>\n",
       "    </tr>\n",
       "  </thead>\n",
       "  <tbody>\n",
       "    <tr>\n",
       "      <th>0</th>\n",
       "      <td>20384</td>\n",
       "      <td>33</td>\n",
       "      <td>2</td>\n",
       "      <td>LE DE</td>\n",
       "      <td>FONTAINEBLEAU</td>\n",
       "      <td>ROCHER CANON</td>\n",
       "      <td>2017-04-17</td>\n",
       "      <td>FRA</td>\n",
       "      <td>Flash</td>\n",
       "      <td>5c</td>\n",
       "      <td>5.9</td>\n",
       "      <td>V2</td>\n",
       "      <td>Clemens Kurth</td>\n",
       "      <td>Hombre</td>\n",
       "      <td>1982-04-24</td>\n",
       "      <td>Alfeld (Leine)</td>\n",
       "      <td>DEU</td>\n",
       "      <td>2003</td>\n",
       "    </tr>\n",
       "    <tr>\n",
       "      <th>1</th>\n",
       "      <td>20384</td>\n",
       "      <td>33</td>\n",
       "      <td>2</td>\n",
       "      <td>SCHMALSEITE DV</td>\n",
       "      <td>ELBSANDSTEIN</td>\n",
       "      <td>KRALLENTURM</td>\n",
       "      <td>2017-06-10</td>\n",
       "      <td>DEU</td>\n",
       "      <td>Flash</td>\n",
       "      <td>5c</td>\n",
       "      <td>5.9</td>\n",
       "      <td>V2</td>\n",
       "      <td>Clemens Kurth</td>\n",
       "      <td>Hombre</td>\n",
       "      <td>1982-04-24</td>\n",
       "      <td>Alfeld (Leine)</td>\n",
       "      <td>DEU</td>\n",
       "      <td>2003</td>\n",
       "    </tr>\n",
       "  </tbody>\n",
       "</table>\n",
       "</div>"
      ],
      "text/plain": [
       "   id_escalador  id_dificultad  id_tipo_encadenamiento      nombre_via  \\\n",
       "0         20384             33                       2           LE DE   \n",
       "1         20384             33                       2  SCHMALSEITE DV   \n",
       "\n",
       "           risco        sector       fecha pais_risco tipo_encadenamiento  \\\n",
       "0  FONTAINEBLEAU  ROCHER CANON  2017-04-17        FRA               Flash   \n",
       "1   ELBSANDSTEIN   KRALLENTURM  2017-06-10        DEU               Flash   \n",
       "\n",
       "  grado_frances grado_usa grado_bloque_usa nombre_escalador    sexo  \\\n",
       "0            5c       5.9               V2    Clemens Kurth  Hombre   \n",
       "1            5c       5.9               V2    Clemens Kurth  Hombre   \n",
       "\n",
       "  fecha_nacimiento ciudad_escalador pais_escalador  anio_comienzo  \n",
       "0       1982-04-24   Alfeld (Leine)            DEU           2003  \n",
       "1       1982-04-24   Alfeld (Leine)            DEU           2003  "
      ]
     },
     "execution_count": 5,
     "metadata": {},
     "output_type": "execute_result"
    }
   ],
   "source": [
    "df_ascensos.head(2)"
   ]
  },
  {
   "cell_type": "markdown",
   "metadata": {},
   "source": [
    "Convierto el data frame de ascensos desnormalizado a JSON para la inserción de información en neo4j"
   ]
  },
  {
   "cell_type": "code",
   "execution_count": 6,
   "metadata": {
    "collapsed": false
   },
   "outputs": [],
   "source": [
    "import json\n",
    "json_string = df_ascensos.to_json(orient = 'records')\n",
    "json_list = json.loads(json_string)"
   ]
  },
  {
   "cell_type": "markdown",
   "metadata": {},
   "source": [
    "Itero en el data frame de ascensos añadiendo los nodos y las relaciones que se generan por cada ascenso:"
   ]
  },
  {
   "cell_type": "code",
   "execution_count": 7,
   "metadata": {
    "collapsed": false
   },
   "outputs": [
    {
     "name": "stdout",
     "output_type": "stream",
     "text": [
      "0\n",
      "500\n",
      "1000\n",
      "1500\n",
      "2000\n",
      "2500\n",
      "3000\n",
      "3500\n",
      "4000\n",
      "4500\n",
      "5000\n",
      "5500\n",
      "6000\n",
      "6500\n",
      "7000\n",
      "7500\n",
      "8000\n",
      "8500\n",
      "9000\n",
      "9500\n",
      "10000\n",
      "10500\n",
      "11000\n",
      "11500\n"
     ]
    }
   ],
   "source": [
    "for index, ascenso_json in enumerate(json_list):\n",
    "    # Nodos\n",
    "    escalador = Node(\"Escalador\", nombre = ascenso_json[\"nombre_escalador\"], anio_comienzo = ascenso_json[\"anio_comienzo\"]) \n",
    "    via = Node(\"Via\", nombre=ascenso_json[\"nombre_via\"])\n",
    "    dificultad = Node(\"Dificultad\", valor = ascenso_json[\"id_dificultad\"], grado_frances = ascenso_json[\"grado_frances\"])\n",
    "    risco = Node(\"Risco\", nombre = ascenso_json[\"risco\"])\n",
    "    pais = Node(\"Pais\", id=ascenso_json[\"pais_risco\"])\n",
    "    \n",
    "  \n",
    "        \n",
    "    # Relaciones  \n",
    "    rel_escalador_via = Relationship(escalador, \"ASCIENDE\", via, tipo_encadenamiento = ascenso_json[\"tipo_encadenamiento\"])\n",
    "    rel_escalador_pais = Relationship(escalador, \"NACE\", pais)\n",
    "    rel_via_dificultad = Relationship(via, \"POSEE\", dificultad)\n",
    "    rel_via_risco = Relationship(via, \"PERTENECE\", risco)   \n",
    "    rel_risco_pais = Relationship(risco, \"SE UBICA EN\", pais)\n",
    "    \n",
    "    graph.merge(escalador|via|dificultad|risco|pais|rel_escalador_pais|rel_via_dificultad|rel_via_risco|rel_risco_pais)\n",
    "    graph.create(rel_escalador_via)\n",
    "    \n",
    "    if index % 500 == 0:\n",
    "        print index"
   ]
  }
 ],
 "metadata": {
  "kernelspec": {
   "display_name": "Python 2",
   "language": "python",
   "name": "python2"
  },
  "language_info": {
   "codemirror_mode": {
    "name": "ipython",
    "version": 2
   },
   "file_extension": ".py",
   "mimetype": "text/x-python",
   "name": "python",
   "nbconvert_exporter": "python",
   "pygments_lexer": "ipython2",
   "version": "2.7.6"
  }
 },
 "nbformat": 4,
 "nbformat_minor": 0
}
