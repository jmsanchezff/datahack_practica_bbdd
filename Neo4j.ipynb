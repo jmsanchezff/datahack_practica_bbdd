{
 "cells": [
  {
   "cell_type": "markdown",
   "metadata": {},
   "source": [
    "# Base de datos neo4j"
   ]
  },
  {
   "cell_type": "markdown",
   "metadata": {},
   "source": [
    "## Lectura de datos"
   ]
  },
  {
   "cell_type": "code",
   "execution_count": 1,
   "metadata": {
    "collapsed": true
   },
   "outputs": [],
   "source": [
    "import pandas as pd\n",
    "\n",
    "df_dificultades = pd.read_csv(\"./data/dificultades.csv\",encoding='utf-8');\n",
    "df_encadenamientos = pd.read_csv(\"./data/tipos_encadenamiento.csv\", encoding='utf-8');\n",
    "df_escaladores = pd.read_csv(\"./data/escaladores_lite_2017.csv\", encoding='utf-8');\n",
    "df_ascensos = pd.read_csv(\"./data/ascensos_lite_2017.csv\", encoding='utf-8');"
   ]
  },
  {
   "cell_type": "markdown",
   "metadata": {},
   "source": [
    "## Conexión con neo4j y borrado de BB.DD."
   ]
  },
  {
   "cell_type": "code",
   "execution_count": 2,
   "metadata": {
    "collapsed": true
   },
   "outputs": [],
   "source": [
    "%load_ext cypher"
   ]
  },
  {
   "cell_type": "code",
   "execution_count": 3,
   "metadata": {
    "collapsed": true
   },
   "outputs": [],
   "source": [
    "from py2neo import Graph, Node, Relationship\n",
    "\n",
    "graph = Graph()\n",
    "\n",
    "# Borrado de todos los nodos y relaciones\n",
    "graph.delete_all()"
   ]
  },
  {
   "cell_type": "markdown",
   "metadata": {},
   "source": [
    "## Carga de datos en neo4j"
   ]
  },
  {
   "cell_type": "markdown",
   "metadata": {},
   "source": [
    " El modelo de nodos y relaciones que voy a considerar es este:\n",
    " \n",
    " ![Nodos y relaciones neo4j](./img/nodosRelacionesNEO.jpg)\n",
    " \n",
    " \n",
    " "
   ]
  },
  {
   "cell_type": "markdown",
   "metadata": {},
   "source": [
    "Desnormalizo los datos de ascensos para facilitar la introducción de nodos y relaciones en la base de datos"
   ]
  },
  {
   "cell_type": "code",
   "execution_count": 4,
   "metadata": {
    "collapsed": true
   },
   "outputs": [],
   "source": [
    "df_ascensos = pd.merge(df_ascensos, df_encadenamientos, on = ['id_tipo_encadenamiento'], how = 'inner')\n",
    "df_ascensos = pd.merge(df_ascensos, df_dificultades, on = ['id_dificultad'], how = 'inner');\n",
    "df_ascensos = pd.merge(df_ascensos, df_escaladores, on = ['id_escalador'], how = 'inner');\n",
    "\n",
    "# Renombrar campos por claridad (el merge auto-asigna nombres a campos repetidos)\n",
    "df_ascensos = df_ascensos.rename(\n",
    "    columns={\n",
    "        'nombre': 'nombre_escalador',\n",
    "        'ciudad':'ciudad_escalador',\n",
    "        'pais_y': 'pais_escalador',\n",
    "        'comienzo': 'anio_comienzo',\n",
    "        'pais_x': 'pais_risco'});"
   ]
  },
  {
   "cell_type": "code",
   "execution_count": 5,
   "metadata": {
    "collapsed": false
   },
   "outputs": [
    {
     "data": {
      "text/html": [
       "<div>\n",
       "<style>\n",
       "    .dataframe thead tr:only-child th {\n",
       "        text-align: right;\n",
       "    }\n",
       "\n",
       "    .dataframe thead th {\n",
       "        text-align: left;\n",
       "    }\n",
       "\n",
       "    .dataframe tbody tr th {\n",
       "        vertical-align: top;\n",
       "    }\n",
       "</style>\n",
       "<table border=\"1\" class=\"dataframe\">\n",
       "  <thead>\n",
       "    <tr style=\"text-align: right;\">\n",
       "      <th></th>\n",
       "      <th>id_escalador</th>\n",
       "      <th>id_dificultad</th>\n",
       "      <th>id_tipo_encadenamiento</th>\n",
       "      <th>nombre_via</th>\n",
       "      <th>risco</th>\n",
       "      <th>sector</th>\n",
       "      <th>fecha</th>\n",
       "      <th>pais_risco</th>\n",
       "      <th>tipo_encadenamiento</th>\n",
       "      <th>grado_frances</th>\n",
       "      <th>grado_usa</th>\n",
       "      <th>grado_bloque_usa</th>\n",
       "      <th>nombre_escalador</th>\n",
       "      <th>sexo</th>\n",
       "      <th>fecha_nacimiento</th>\n",
       "      <th>ciudad_escalador</th>\n",
       "      <th>pais_escalador</th>\n",
       "      <th>anio_comienzo</th>\n",
       "    </tr>\n",
       "  </thead>\n",
       "  <tbody>\n",
       "    <tr>\n",
       "      <th>0</th>\n",
       "      <td>20384</td>\n",
       "      <td>33</td>\n",
       "      <td>2</td>\n",
       "      <td>LE DE</td>\n",
       "      <td>FONTAINEBLEAU</td>\n",
       "      <td>ROCHER CANON</td>\n",
       "      <td>2017-04-17</td>\n",
       "      <td>FRA</td>\n",
       "      <td>Flash</td>\n",
       "      <td>5c</td>\n",
       "      <td>5.9</td>\n",
       "      <td>V2</td>\n",
       "      <td>Clemens Kurth</td>\n",
       "      <td>Hombre</td>\n",
       "      <td>1982-04-24</td>\n",
       "      <td>Alfeld (Leine)</td>\n",
       "      <td>DEU</td>\n",
       "      <td>2003</td>\n",
       "    </tr>\n",
       "    <tr>\n",
       "      <th>1</th>\n",
       "      <td>20384</td>\n",
       "      <td>33</td>\n",
       "      <td>2</td>\n",
       "      <td>SCHMALSEITE DV</td>\n",
       "      <td>ELBSANDSTEIN</td>\n",
       "      <td>KRALLENTURM</td>\n",
       "      <td>2017-06-10</td>\n",
       "      <td>DEU</td>\n",
       "      <td>Flash</td>\n",
       "      <td>5c</td>\n",
       "      <td>5.9</td>\n",
       "      <td>V2</td>\n",
       "      <td>Clemens Kurth</td>\n",
       "      <td>Hombre</td>\n",
       "      <td>1982-04-24</td>\n",
       "      <td>Alfeld (Leine)</td>\n",
       "      <td>DEU</td>\n",
       "      <td>2003</td>\n",
       "    </tr>\n",
       "  </tbody>\n",
       "</table>\n",
       "</div>"
      ],
      "text/plain": [
       "   id_escalador  id_dificultad  id_tipo_encadenamiento      nombre_via  \\\n",
       "0         20384             33                       2           LE DE   \n",
       "1         20384             33                       2  SCHMALSEITE DV   \n",
       "\n",
       "           risco        sector       fecha pais_risco tipo_encadenamiento  \\\n",
       "0  FONTAINEBLEAU  ROCHER CANON  2017-04-17        FRA               Flash   \n",
       "1   ELBSANDSTEIN   KRALLENTURM  2017-06-10        DEU               Flash   \n",
       "\n",
       "  grado_frances grado_usa grado_bloque_usa nombre_escalador    sexo  \\\n",
       "0            5c       5.9               V2    Clemens Kurth  Hombre   \n",
       "1            5c       5.9               V2    Clemens Kurth  Hombre   \n",
       "\n",
       "  fecha_nacimiento ciudad_escalador pais_escalador  anio_comienzo  \n",
       "0       1982-04-24   Alfeld (Leine)            DEU           2003  \n",
       "1       1982-04-24   Alfeld (Leine)            DEU           2003  "
      ]
     },
     "execution_count": 5,
     "metadata": {},
     "output_type": "execute_result"
    }
   ],
   "source": [
    "df_ascensos.head(2)"
   ]
  },
  {
   "cell_type": "markdown",
   "metadata": {},
   "source": [
    "Convierto el data frame de ascensos desnormalizado a JSON para la inserción de información en neo4j"
   ]
  },
  {
   "cell_type": "code",
   "execution_count": 6,
   "metadata": {
    "collapsed": false
   },
   "outputs": [],
   "source": [
    "import json\n",
    "json_string = df_ascensos.to_json(orient = 'records')\n",
    "json_list = json.loads(json_string)"
   ]
  },
  {
   "cell_type": "markdown",
   "metadata": {},
   "source": [
    "Iterando en el data frame de ascensos, voy añadiendo los nodos y las relaciones que se generan por cada ascenso:"
   ]
  },
  {
   "cell_type": "code",
   "execution_count": 7,
   "metadata": {
    "collapsed": false
   },
   "outputs": [
    {
     "name": "stdout",
     "output_type": "stream",
     "text": [
      "0\n",
      "500\n",
      "1000\n",
      "1500\n",
      "2000\n",
      "2500\n",
      "3000\n",
      "3500\n",
      "4000\n",
      "4500\n",
      "5000\n",
      "5500\n",
      "6000\n",
      "6500\n",
      "7000\n",
      "7500\n",
      "8000\n",
      "8500\n",
      "9000\n",
      "9500\n",
      "10000\n",
      "10500\n",
      "11000\n",
      "11500\n"
     ]
    }
   ],
   "source": [
    "for index, ascenso_json in enumerate(json_list):\n",
    "    # Nodos\n",
    "    escalador = Node(\"Escalador\", nombre = ascenso_json[\"nombre_escalador\"], anio_comienzo = ascenso_json[\"anio_comienzo\"]) \n",
    "    via = Node(\"Via\", nombre=ascenso_json[\"nombre_via\"])\n",
    "    dificultad = Node(\"Dificultad\", valor = ascenso_json[\"id_dificultad\"], grado_frances = ascenso_json[\"grado_frances\"])\n",
    "    risco = Node(\"Risco\", nombre = ascenso_json[\"risco\"])\n",
    "    pais = Node(\"Pais\", id=ascenso_json[\"pais_risco\"])\n",
    "    \n",
    "  \n",
    "        \n",
    "    # Relaciones  \n",
    "    rel_escalador_via = Relationship(escalador, \"ASCIENDE\", via, tipo_encadenamiento = ascenso_json[\"tipo_encadenamiento\"])\n",
    "    rel_escalador_pais = Relationship(escalador, \"NACE\", pais)\n",
    "    rel_via_dificultad = Relationship(via, \"POSEE\", dificultad)\n",
    "    rel_via_risco = Relationship(via, \"PERTENECE\", risco)   \n",
    "    rel_risco_pais = Relationship(risco, \"SE UBICA EN\", pais)\n",
    "    \n",
    "    graph.merge(escalador|via|dificultad|risco|pais|rel_escalador_pais|rel_via_dificultad|rel_via_risco|rel_risco_pais)\n",
    "    graph.create(rel_escalador_via)\n",
    "    \n",
    "    if index % 500 == 0:\n",
    "        print index"
   ]
  },
  {
   "cell_type": "markdown",
   "metadata": {
    "collapsed": true
   },
   "source": [
    "Además, como voy a tener que hacer calculos de dificultad media, necesito que los todos los nodos dificultad existan, aunque no hayan existido ascensos con esa dificultad. Por ello, los añado siguiendo una estrategia de unicidad (merge) iterando sobre el data frame de dificultades:"
   ]
  },
  {
   "cell_type": "code",
   "execution_count": 8,
   "metadata": {
    "collapsed": false
   },
   "outputs": [
    {
     "name": "stdout",
     "output_type": "stream",
     "text": [
      "0\n",
      "10\n",
      "20\n",
      "30\n",
      "40\n",
      "50\n",
      "60\n",
      "70\n",
      "80\n"
     ]
    }
   ],
   "source": [
    "import json\n",
    "json_string = df_dificultades.to_json(orient = 'records')\n",
    "json_list = json.loads(json_string)\n",
    "\n",
    "for index, dificultad_json in enumerate(json_list):\n",
    "    dificultad = Node(\"Dificultad\", valor = dificultad_json[\"id_dificultad\"],\n",
    "                                    grado_frances = dificultad_json[\"grado_frances\"])\n",
    "    graph.merge(dificultad)\n",
    "    \n",
    "    if index % 10 == 0:\n",
    "        print index"
   ]
  },
  {
   "cell_type": "code",
   "execution_count": 19,
   "metadata": {
    "collapsed": false
   },
   "outputs": [
    {
     "data": {
      "text/plain": [
       "NO NAME                          13\n",
       "CROSTA PANIC                      8\n",
       "MOBY DICK                         7\n",
       "RED BULL                          7\n",
       "NN                                6\n",
       "PANIC ROOM                        6\n",
       "UNKNOWN                           5\n",
       "THE FIN                           5\n",
       "-                                 5\n",
       "KIEDY KOBIETA PłACZE              5\n",
       "ANDROMEDA                         5\n",
       "ASTERIX                           5\n",
       "GOLDEN BOY                        5\n",
       "BEATLE JUICE                      5\n",
       "BOSNA GENIAL                      5\n",
       "PRIMAVERA                         5\n",
       "FIRST                             5\n",
       "THE RHINO                         5\n",
       "ECLIPSE                           5\n",
       "EMANUELLE                         4\n",
       "MAGNETOWID                        4\n",
       "THEY CALL HIM JORDAN              4\n",
       "NORMALWEG                         4\n",
       "ZARZAMORA                         4\n",
       "ANDRZEJ LEPPER                    4\n",
       "CARPE DIEM                        4\n",
       "UNDERGROUND                       4\n",
       "CARNAGE                           4\n",
       "PRALNIA INTERNETOWA               4\n",
       "GLOBETROTTER                      4\n",
       "                                 ..\n",
       "JUPI'S DREAM                      1\n",
       "NIEMY CYK                         1\n",
       "LAL BAB                           1\n",
       "CHO, TRES CHO, CARBO !            1\n",
       "FLYING BIRDIE                     1\n",
       "FLECK                             1\n",
       "SEMENTAL                          1\n",
       "ESPOLóN LIMABáN HASTA LA CIMA     1\n",
       "EL SORRO                          1\n",
       "SCHMIRGELS KRAFTAKT               1\n",
       "PRESODROMO                        1\n",
       "WIRTSCHAFTSKRISE                  1\n",
       "DITUSUAIEN                        1\n",
       "EN ATTENDANT LES BARBARES         1\n",
       "HARY FOTR                         1\n",
       "LA GUIDA NON E GELOSA             1\n",
       "BIENVENIDO                        1\n",
       "CHACAS                            1\n",
       "DIENTES DE COCODRILO              1\n",
       "GRAN EVASIóN                      1\n",
       "NAO POROSO                        1\n",
       "PILAS HACENDADO                   1\n",
       "ALPENKöNIG                        1\n",
       "EL PSIKANALISTA                   1\n",
       "GòTIC                             1\n",
       "MORGAN                            1\n",
       "CAMPFIRE ARêTE SIT                1\n",
       "ALBAND FILS DE CRAPAUD            1\n",
       "ASTRAL TRAVELLER                  1\n",
       "TALWEG                            1\n",
       "Name: nombre_via, Length: 10429, dtype: int64"
      ]
     },
     "execution_count": 19,
     "metadata": {},
     "output_type": "execute_result"
    }
   ],
   "source": [
    "df_ascensos['nombre_via'].value_counts()"
   ]
  },
  {
   "cell_type": "code",
   "execution_count": 28,
   "metadata": {
    "collapsed": false
   },
   "outputs": [
    {
     "data": {
      "text/html": [
       "<div>\n",
       "<style>\n",
       "    .dataframe thead tr:only-child th {\n",
       "        text-align: right;\n",
       "    }\n",
       "\n",
       "    .dataframe thead th {\n",
       "        text-align: left;\n",
       "    }\n",
       "\n",
       "    .dataframe tbody tr th {\n",
       "        vertical-align: top;\n",
       "    }\n",
       "</style>\n",
       "<table border=\"1\" class=\"dataframe\">\n",
       "  <thead>\n",
       "    <tr style=\"text-align: right;\">\n",
       "      <th></th>\n",
       "      <th>id_escalador</th>\n",
       "      <th>id_dificultad</th>\n",
       "      <th>id_tipo_encadenamiento</th>\n",
       "      <th>nombre_via</th>\n",
       "      <th>risco</th>\n",
       "      <th>sector</th>\n",
       "      <th>fecha</th>\n",
       "      <th>pais_risco</th>\n",
       "      <th>tipo_encadenamiento</th>\n",
       "      <th>grado_frances</th>\n",
       "      <th>grado_usa</th>\n",
       "      <th>grado_bloque_usa</th>\n",
       "      <th>nombre_escalador</th>\n",
       "      <th>sexo</th>\n",
       "      <th>fecha_nacimiento</th>\n",
       "      <th>ciudad_escalador</th>\n",
       "      <th>pais_escalador</th>\n",
       "      <th>anio_comienzo</th>\n",
       "    </tr>\n",
       "  </thead>\n",
       "  <tbody>\n",
       "    <tr>\n",
       "      <th>5996</th>\n",
       "      <td>28151</td>\n",
       "      <td>55</td>\n",
       "      <td>1</td>\n",
       "      <td>RED BULL</td>\n",
       "      <td>HOHE WAND</td>\n",
       "      <td>HOCHKOGEL</td>\n",
       "      <td>2017-03-01</td>\n",
       "      <td>AUT</td>\n",
       "      <td>Redpoint</td>\n",
       "      <td>7b+</td>\n",
       "      <td>5.12c</td>\n",
       "      <td>V8/9</td>\n",
       "      <td>michael moser</td>\n",
       "      <td>Hombre</td>\n",
       "      <td>1982-10-30</td>\n",
       "      <td>vienna</td>\n",
       "      <td>AUT</td>\n",
       "      <td>2007</td>\n",
       "    </tr>\n",
       "    <tr>\n",
       "      <th>6629</th>\n",
       "      <td>4650</td>\n",
       "      <td>44</td>\n",
       "      <td>3</td>\n",
       "      <td>RED BULL</td>\n",
       "      <td>YANGSHUO</td>\n",
       "      <td>THE THUMB</td>\n",
       "      <td>2017-06-08</td>\n",
       "      <td>CHN</td>\n",
       "      <td>Onsight</td>\n",
       "      <td>6c</td>\n",
       "      <td>5.11a</td>\n",
       "      <td>V5</td>\n",
       "      <td>Tj Ovesen</td>\n",
       "      <td>Hombre</td>\n",
       "      <td>1971-10-30</td>\n",
       "      <td>---</td>\n",
       "      <td>NOR</td>\n",
       "      <td>1998</td>\n",
       "    </tr>\n",
       "    <tr>\n",
       "      <th>6803</th>\n",
       "      <td>45182</td>\n",
       "      <td>55</td>\n",
       "      <td>1</td>\n",
       "      <td>RED BULL</td>\n",
       "      <td>HOHE WAND</td>\n",
       "      <td>HOCHKOGEL</td>\n",
       "      <td>2017-02-23</td>\n",
       "      <td>AUT</td>\n",
       "      <td>Redpoint</td>\n",
       "      <td>7b+</td>\n",
       "      <td>5.12c</td>\n",
       "      <td>V8/9</td>\n",
       "      <td>Andreas Moser</td>\n",
       "      <td>Hombre</td>\n",
       "      <td>1985-07-01</td>\n",
       "      <td>Vienna</td>\n",
       "      <td>AUT</td>\n",
       "      <td>0</td>\n",
       "    </tr>\n",
       "    <tr>\n",
       "      <th>8728</th>\n",
       "      <td>44871</td>\n",
       "      <td>53</td>\n",
       "      <td>1</td>\n",
       "      <td>RED BULL</td>\n",
       "      <td>MOZET</td>\n",
       "      <td>ARENDSMASSIEF</td>\n",
       "      <td>2017-08-13</td>\n",
       "      <td>BEL</td>\n",
       "      <td>Redpoint</td>\n",
       "      <td>7b</td>\n",
       "      <td>5.12b</td>\n",
       "      <td>V8</td>\n",
       "      <td>Dennis Muys</td>\n",
       "      <td>Hombre</td>\n",
       "      <td>1988-06-30</td>\n",
       "      <td>Brecht</td>\n",
       "      <td>BEL</td>\n",
       "      <td>2004</td>\n",
       "    </tr>\n",
       "    <tr>\n",
       "      <th>9512</th>\n",
       "      <td>66925</td>\n",
       "      <td>59</td>\n",
       "      <td>1</td>\n",
       "      <td>RED BULL</td>\n",
       "      <td>OLIANA</td>\n",
       "      <td>OLIANA</td>\n",
       "      <td>2017-04-01</td>\n",
       "      <td>ESP</td>\n",
       "      <td>Redpoint</td>\n",
       "      <td>7c+</td>\n",
       "      <td>5.13a</td>\n",
       "      <td>V10</td>\n",
       "      <td>Chaken Gómez conde</td>\n",
       "      <td>Hombre</td>\n",
       "      <td>2555-12-31</td>\n",
       "      <td>Badalona</td>\n",
       "      <td>ESP</td>\n",
       "      <td>0</td>\n",
       "    </tr>\n",
       "    <tr>\n",
       "      <th>11143</th>\n",
       "      <td>49021</td>\n",
       "      <td>59</td>\n",
       "      <td>3</td>\n",
       "      <td>RED BULL</td>\n",
       "      <td>TERRADETS</td>\n",
       "      <td>BRUIXES</td>\n",
       "      <td>2017-02-09</td>\n",
       "      <td>ESP</td>\n",
       "      <td>Onsight</td>\n",
       "      <td>7c+</td>\n",
       "      <td>5.13a</td>\n",
       "      <td>V10</td>\n",
       "      <td>Maciej Dobrzański</td>\n",
       "      <td>Hombre</td>\n",
       "      <td>2555-12-31</td>\n",
       "      <td>KrK</td>\n",
       "      <td>POL</td>\n",
       "      <td>0</td>\n",
       "    </tr>\n",
       "    <tr>\n",
       "      <th>11312</th>\n",
       "      <td>2604</td>\n",
       "      <td>64</td>\n",
       "      <td>2</td>\n",
       "      <td>RED BULL</td>\n",
       "      <td>OLIANA</td>\n",
       "      <td>CONTRAFORT DE RUMBAU</td>\n",
       "      <td>2017-02-10</td>\n",
       "      <td>ESP</td>\n",
       "      <td>Flash</td>\n",
       "      <td>8a+</td>\n",
       "      <td>5.13c</td>\n",
       "      <td>V12</td>\n",
       "      <td>Pierre Délas</td>\n",
       "      <td>Hombre</td>\n",
       "      <td>1980-12-05</td>\n",
       "      <td>Massy</td>\n",
       "      <td>FRA</td>\n",
       "      <td>1991</td>\n",
       "    </tr>\n",
       "  </tbody>\n",
       "</table>\n",
       "</div>"
      ],
      "text/plain": [
       "       id_escalador  id_dificultad  id_tipo_encadenamiento nombre_via  \\\n",
       "5996          28151             55                       1   RED BULL   \n",
       "6629           4650             44                       3   RED BULL   \n",
       "6803          45182             55                       1   RED BULL   \n",
       "8728          44871             53                       1   RED BULL   \n",
       "9512          66925             59                       1   RED BULL   \n",
       "11143         49021             59                       3   RED BULL   \n",
       "11312          2604             64                       2   RED BULL   \n",
       "\n",
       "           risco                sector       fecha pais_risco  \\\n",
       "5996   HOHE WAND             HOCHKOGEL  2017-03-01        AUT   \n",
       "6629    YANGSHUO             THE THUMB  2017-06-08        CHN   \n",
       "6803   HOHE WAND             HOCHKOGEL  2017-02-23        AUT   \n",
       "8728       MOZET         ARENDSMASSIEF  2017-08-13        BEL   \n",
       "9512      OLIANA                OLIANA  2017-04-01        ESP   \n",
       "11143  TERRADETS               BRUIXES  2017-02-09        ESP   \n",
       "11312     OLIANA  CONTRAFORT DE RUMBAU  2017-02-10        ESP   \n",
       "\n",
       "      tipo_encadenamiento grado_frances grado_usa grado_bloque_usa  \\\n",
       "5996             Redpoint           7b+     5.12c             V8/9   \n",
       "6629              Onsight            6c     5.11a               V5   \n",
       "6803             Redpoint           7b+     5.12c             V8/9   \n",
       "8728             Redpoint            7b     5.12b               V8   \n",
       "9512             Redpoint           7c+     5.13a              V10   \n",
       "11143             Onsight           7c+     5.13a              V10   \n",
       "11312               Flash           8a+     5.13c              V12   \n",
       "\n",
       "         nombre_escalador    sexo fecha_nacimiento ciudad_escalador  \\\n",
       "5996        michael moser  Hombre       1982-10-30           vienna   \n",
       "6629            Tj Ovesen  Hombre       1971-10-30              ---   \n",
       "6803        Andreas Moser  Hombre       1985-07-01           Vienna   \n",
       "8728          Dennis Muys  Hombre       1988-06-30           Brecht   \n",
       "9512   Chaken Gómez conde  Hombre       2555-12-31         Badalona   \n",
       "11143   Maciej Dobrzański  Hombre       2555-12-31              KrK   \n",
       "11312        Pierre Délas  Hombre       1980-12-05            Massy   \n",
       "\n",
       "      pais_escalador  anio_comienzo  \n",
       "5996             AUT           2007  \n",
       "6629             NOR           1998  \n",
       "6803             AUT              0  \n",
       "8728             BEL           2004  \n",
       "9512             ESP              0  \n",
       "11143            POL              0  \n",
       "11312            FRA           1991  "
      ]
     },
     "execution_count": 28,
     "metadata": {},
     "output_type": "execute_result"
    }
   ],
   "source": [
    "df_ascensos[df_ascensos['nombre_via']=='RED BULL']"
   ]
  }
 ],
 "metadata": {
  "kernelspec": {
   "display_name": "Python 2",
   "language": "python",
   "name": "python2"
  },
  "language_info": {
   "codemirror_mode": {
    "name": "ipython",
    "version": 2
   },
   "file_extension": ".py",
   "mimetype": "text/x-python",
   "name": "python",
   "nbconvert_exporter": "python",
   "pygments_lexer": "ipython2",
   "version": "2.7.6"
  }
 },
 "nbformat": 4,
 "nbformat_minor": 0
}
