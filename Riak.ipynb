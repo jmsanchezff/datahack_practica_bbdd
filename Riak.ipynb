{
 "cells": [
  {
   "cell_type": "markdown",
   "metadata": {},
   "source": [
    "# Base de datos Riak"
   ]
  },
  {
   "cell_type": "code",
   "execution_count": 1,
   "metadata": {
    "collapsed": true
   },
   "outputs": [],
   "source": [
    "import riak\n",
    "from pprintpp import pprint as pp\n",
    "import json\n",
    "import pandas as pd\n",
    "\n",
    "import uuid\n",
    "import hashlib"
   ]
  },
  {
   "cell_type": "markdown",
   "metadata": {},
   "source": [
    "## Conexion a RIAK"
   ]
  },
  {
   "cell_type": "code",
   "execution_count": 2,
   "metadata": {
    "collapsed": false
   },
   "outputs": [
    {
     "data": {
      "text/plain": [
       "True"
      ]
     },
     "execution_count": 2,
     "metadata": {},
     "output_type": "execute_result"
    }
   ],
   "source": [
    "# connect to database\n",
    "cliente = riak.RiakClient()\n",
    "cliente.ping()"
   ]
  },
  {
   "cell_type": "markdown",
   "metadata": {},
   "source": [
    "## Funciones utiles para el desarrollo de la práctica"
   ]
  },
  {
   "cell_type": "code",
   "execution_count": 3,
   "metadata": {
    "collapsed": true
   },
   "outputs": [],
   "source": [
    "# ELimina datos de un Bucket\n",
    "def drop_keys(bucket):\n",
    "    for keys in bucket.stream_keys():\n",
    "        # print(keys)\n",
    "        for keys in bucket.stream_keys():\n",
    "            for key in keys:\n",
    "                bucket.delete(key)"
   ]
  },
  {
   "cell_type": "code",
   "execution_count": 4,
   "metadata": {
    "collapsed": true
   },
   "outputs": [],
   "source": [
    "# Devuelve el hash de un string\n",
    "def hash_string(s):\n",
    "    s_utf8 = s.encode('utf-8')\n",
    "    return hashlib.md5(s_utf8).hexdigest()"
   ]
  },
  {
   "cell_type": "code",
   "execution_count": 5,
   "metadata": {
    "collapsed": true
   },
   "outputs": [],
   "source": [
    "# Convertimos el objeto JSON en un objeto pandas \n",
    "def json_to_pandas(jsonObj):\n",
    "    return pd.read_json(json.dumps(jsonObj))"
   ]
  },
  {
   "cell_type": "markdown",
   "metadata": {},
   "source": [
    "## Lectura de la informacion en Pandas"
   ]
  },
  {
   "cell_type": "code",
   "execution_count": 6,
   "metadata": {
    "collapsed": false
   },
   "outputs": [],
   "source": [
    "df_dificultades = pd.read_csv(\"./data/dificultades.csv\",encoding='utf-8');\n",
    "df_encadenamientos = pd.read_csv(\"./data/tipos_encadenamiento.csv\", encoding='utf-8');\n",
    "df_escaladores = pd.read_csv(\"./data/escaladores_lite_2017.csv\", encoding='utf-8');\n",
    "df_ascensos = pd.read_csv(\"./data/ascensos_lite_2017.csv\", encoding='utf-8');"
   ]
  },
  {
   "cell_type": "code",
   "execution_count": 7,
   "metadata": {
    "collapsed": true
   },
   "outputs": [],
   "source": [
    "# 'merge' del tipo de encadenamiento en el data frame de ascensos\n",
    "df_ascensos = pd.merge(df_ascensos, df_encadenamientos, on = ['id_tipo_encadenamiento'], how = 'inner')\n",
    "df_ascensos = df_ascensos[['id_escalador','id_dificultad', 'tipo_encadenamiento', 'nombre_via', 'risco', 'sector', 'pais']];\n"
   ]
  },
  {
   "cell_type": "markdown",
   "metadata": {},
   "source": [
    "## Desnormalización del data frame de ascensos\n",
    "\n",
    "Voy a incluir la información del usuario en cada registro de ascenso, para ir creando los buckets que van interesando según las preguntas a resolver\n"
   ]
  },
  {
   "cell_type": "code",
   "execution_count": 8,
   "metadata": {
    "collapsed": false,
    "scrolled": false
   },
   "outputs": [
    {
     "data": {
      "text/html": [
       "<div>\n",
       "<style>\n",
       "    .dataframe thead tr:only-child th {\n",
       "        text-align: right;\n",
       "    }\n",
       "\n",
       "    .dataframe thead th {\n",
       "        text-align: left;\n",
       "    }\n",
       "\n",
       "    .dataframe tbody tr th {\n",
       "        vertical-align: top;\n",
       "    }\n",
       "</style>\n",
       "<table border=\"1\" class=\"dataframe\">\n",
       "  <thead>\n",
       "    <tr style=\"text-align: right;\">\n",
       "      <th></th>\n",
       "      <th>id_escalador</th>\n",
       "      <th>id_dificultad</th>\n",
       "      <th>tipo_encadenamiento</th>\n",
       "      <th>nombre_via</th>\n",
       "      <th>risco</th>\n",
       "      <th>sector</th>\n",
       "      <th>pais_risco</th>\n",
       "      <th>nombre</th>\n",
       "      <th>sexo</th>\n",
       "      <th>fecha_nacimiento</th>\n",
       "      <th>ciudad_escalador</th>\n",
       "      <th>pais_escalador</th>\n",
       "      <th>comienzo</th>\n",
       "    </tr>\n",
       "  </thead>\n",
       "  <tbody>\n",
       "    <tr>\n",
       "      <th>0</th>\n",
       "      <td>19961</td>\n",
       "      <td>33</td>\n",
       "      <td>Onsight</td>\n",
       "      <td>MEGA DIRETTORE</td>\n",
       "      <td>ARCO</td>\n",
       "      <td>NAGO</td>\n",
       "      <td>ITA</td>\n",
       "      <td>Jos Dehaes</td>\n",
       "      <td>Hombre</td>\n",
       "      <td>1973-05-08</td>\n",
       "      <td>Leuven</td>\n",
       "      <td>BEL</td>\n",
       "      <td>2008</td>\n",
       "    </tr>\n",
       "    <tr>\n",
       "      <th>1</th>\n",
       "      <td>19961</td>\n",
       "      <td>29</td>\n",
       "      <td>Onsight</td>\n",
       "      <td>SUPER MAZOUT</td>\n",
       "      <td>BOMAL</td>\n",
       "      <td>LE CROIX</td>\n",
       "      <td>BEL</td>\n",
       "      <td>Jos Dehaes</td>\n",
       "      <td>Hombre</td>\n",
       "      <td>1973-05-08</td>\n",
       "      <td>Leuven</td>\n",
       "      <td>BEL</td>\n",
       "      <td>2008</td>\n",
       "    </tr>\n",
       "    <tr>\n",
       "      <th>2</th>\n",
       "      <td>19961</td>\n",
       "      <td>33</td>\n",
       "      <td>Onsight</td>\n",
       "      <td>PICCOLA CHIMERA</td>\n",
       "      <td>ARCO</td>\n",
       "      <td>BELVEDERE</td>\n",
       "      <td>ITA</td>\n",
       "      <td>Jos Dehaes</td>\n",
       "      <td>Hombre</td>\n",
       "      <td>1973-05-08</td>\n",
       "      <td>Leuven</td>\n",
       "      <td>BEL</td>\n",
       "      <td>2008</td>\n",
       "    </tr>\n",
       "    <tr>\n",
       "      <th>3</th>\n",
       "      <td>19961</td>\n",
       "      <td>33</td>\n",
       "      <td>Onsight</td>\n",
       "      <td>LES MUGUETS</td>\n",
       "      <td>ROCHERS DE LA VIERGE</td>\n",
       "      <td>ARéTE DE CHIRMONT - FACE SUD</td>\n",
       "      <td>BEL</td>\n",
       "      <td>Jos Dehaes</td>\n",
       "      <td>Hombre</td>\n",
       "      <td>1973-05-08</td>\n",
       "      <td>Leuven</td>\n",
       "      <td>BEL</td>\n",
       "      <td>2008</td>\n",
       "    </tr>\n",
       "    <tr>\n",
       "      <th>4</th>\n",
       "      <td>19961</td>\n",
       "      <td>36</td>\n",
       "      <td>Onsight</td>\n",
       "      <td>JACQUOUILLE LA FRIPOUILLE</td>\n",
       "      <td>FREYR</td>\n",
       "      <td>AL LEGNE</td>\n",
       "      <td>BEL</td>\n",
       "      <td>Jos Dehaes</td>\n",
       "      <td>Hombre</td>\n",
       "      <td>1973-05-08</td>\n",
       "      <td>Leuven</td>\n",
       "      <td>BEL</td>\n",
       "      <td>2008</td>\n",
       "    </tr>\n",
       "  </tbody>\n",
       "</table>\n",
       "</div>"
      ],
      "text/plain": [
       "   id_escalador  id_dificultad tipo_encadenamiento                 nombre_via  \\\n",
       "0         19961             33             Onsight             MEGA DIRETTORE   \n",
       "1         19961             29             Onsight               SUPER MAZOUT   \n",
       "2         19961             33             Onsight            PICCOLA CHIMERA   \n",
       "3         19961             33             Onsight                LES MUGUETS   \n",
       "4         19961             36             Onsight  JACQUOUILLE LA FRIPOUILLE   \n",
       "\n",
       "                  risco                        sector pais_risco      nombre  \\\n",
       "0                  ARCO                          NAGO        ITA  Jos Dehaes   \n",
       "1                 BOMAL                      LE CROIX        BEL  Jos Dehaes   \n",
       "2                  ARCO                     BELVEDERE        ITA  Jos Dehaes   \n",
       "3  ROCHERS DE LA VIERGE  ARéTE DE CHIRMONT - FACE SUD        BEL  Jos Dehaes   \n",
       "4                 FREYR                      AL LEGNE        BEL  Jos Dehaes   \n",
       "\n",
       "     sexo fecha_nacimiento ciudad_escalador pais_escalador  comienzo  \n",
       "0  Hombre       1973-05-08           Leuven            BEL      2008  \n",
       "1  Hombre       1973-05-08           Leuven            BEL      2008  \n",
       "2  Hombre       1973-05-08           Leuven            BEL      2008  \n",
       "3  Hombre       1973-05-08           Leuven            BEL      2008  \n",
       "4  Hombre       1973-05-08           Leuven            BEL      2008  "
      ]
     },
     "execution_count": 8,
     "metadata": {},
     "output_type": "execute_result"
    }
   ],
   "source": [
    "df_ascensos_desnormalizado = pd.merge(df_ascensos, df_escaladores, on = ['id_escalador'], how = 'inner');\n",
    "df_ascensos_desnormalizado = df_ascensos_desnormalizado.rename(\n",
    "    columns={\n",
    "        'pais_x' : 'pais_risco',\n",
    "        'ciudad':'ciudad_escalador',\n",
    "        'pais_y':'pais_escalador'});\n",
    "\n",
    "df_ascensos_desnormalizado.head()"
   ]
  },
  {
   "cell_type": "code",
   "execution_count": 9,
   "metadata": {
    "collapsed": false
   },
   "outputs": [],
   "source": [
    "ascensosJsonString = df_ascensos_desnormalizado.to_json(orient = 'records')\n",
    "ascensosJson = json.loads(ascensosJsonString)"
   ]
  },
  {
   "cell_type": "markdown",
   "metadata": {},
   "source": [
    "## Estructura RIAK en función de las preguntas"
   ]
  },
  {
   "cell_type": "markdown",
   "metadata": {},
   "source": [
    "### 1.a) Los 10 escaladores (hombres) más activos.\n",
    "### 1.b) Los 10 escaladoras (mujeres) más activas."
   ]
  },
  {
   "cell_type": "markdown",
   "metadata": {},
   "source": [
    "Para resolver estas preguntas me interesa tener un bucket especifico con los ascensos acumulados por escalador:\n",
    "\n",
    "|bucket|clave|Contenido|\n",
    "|-|-|-|\n",
    "|ascensos_acum|id_escalador|Mapa con el nombre, sexo, pais y ascensos_acumulados|\n",
    "\n",
    "\n"
   ]
  },
  {
   "cell_type": "markdown",
   "metadata": {},
   "source": [
    "**Creacion de buckets e insercion de datos en RIAK**"
   ]
  },
  {
   "cell_type": "code",
   "execution_count": 10,
   "metadata": {
    "collapsed": false
   },
   "outputs": [],
   "source": [
    "BUCKET_ACUM_ASCENSOS = 'acum_ascensos'\n",
    "bucket_acum_ascensos = cliente.bucket_type('maps').bucket(BUCKET_ACUM_ASCENSOS)\n",
    "drop_keys(bucket_acum_ascensos)"
   ]
  },
  {
   "cell_type": "code",
   "execution_count": 11,
   "metadata": {
    "collapsed": false,
    "scrolled": true
   },
   "outputs": [],
   "source": [
    "# Bucle de carga de datos ascensos acumulados ...\n",
    "for ascensoJson in ascensosJson:\n",
    "    # construcción de ascensos acumulados por persona\n",
    "    acumulador_ascensos = bucket_acum_ascensos.new(str(ascensoJson[\"id_escalador\"]))\n",
    "    acumulador_ascensos.registers['nombre'].assign(ascensoJson[\"nombre\"].encode('utf-8'))\n",
    "    acumulador_ascensos.registers['sexo'].assign(ascensoJson[\"sexo\"].encode('utf-8'))\n",
    "    acumulador_ascensos.registers['pais'].assign(ascensoJson[\"pais_escalador\"].encode('utf-8'))\n",
    "    acumulador_ascensos.counters['numero_vias'].increment(1)\n",
    "    acumulador_ascensos.store()"
   ]
  },
  {
   "cell_type": "markdown",
   "metadata": {},
   "source": [
    "Para obtener la información de cuantos ascensos se han realizado por escalador recurriré a consultar el mapa que acabamos de crear en RIAK:"
   ]
  },
  {
   "cell_type": "code",
   "execution_count": 12,
   "metadata": {
    "collapsed": false
   },
   "outputs": [],
   "source": [
    "ascensosAcumuladosJson = []\n",
    "for streamKeys in bucket_acum_ascensos.stream_keys():\n",
    "    for streamKey in streamKeys:\n",
    "        acumulador_ascensos = bucket_acum_ascensos.get(streamKey)\n",
    "        ascensosAcumuladosJson.append({\"id_escalador\" : streamKey,\n",
    "                                       \"nombre\" : acumulador_ascensos.registers['nombre'].value,\n",
    "                                       \"sexo\" : acumulador_ascensos.registers['sexo'].value,\n",
    "                                       \"pais\" : acumulador_ascensos.registers['pais'].value,\n",
    "                                       \"numero_vias\" : acumulador_ascensos.counters['numero_vias'].value})\n",
    "        \n",
    "# Convertimos el objeto json en un objeto pandas \n",
    "df_ascensosAcumulados = json_to_pandas(ascensosAcumuladosJson)"
   ]
  },
  {
   "cell_type": "markdown",
   "metadata": {},
   "source": [
    "**RESPUESTA 1.a)**"
   ]
  },
  {
   "cell_type": "code",
   "execution_count": 13,
   "metadata": {
    "collapsed": false
   },
   "outputs": [
    {
     "data": {
      "text/html": [
       "<div>\n",
       "<style>\n",
       "    .dataframe thead tr:only-child th {\n",
       "        text-align: right;\n",
       "    }\n",
       "\n",
       "    .dataframe thead th {\n",
       "        text-align: left;\n",
       "    }\n",
       "\n",
       "    .dataframe tbody tr th {\n",
       "        vertical-align: top;\n",
       "    }\n",
       "</style>\n",
       "<table border=\"1\" class=\"dataframe\">\n",
       "  <thead>\n",
       "    <tr style=\"text-align: right;\">\n",
       "      <th></th>\n",
       "      <th>id_escalador</th>\n",
       "      <th>nombre</th>\n",
       "      <th>numero_vias</th>\n",
       "      <th>pais</th>\n",
       "      <th>sexo</th>\n",
       "    </tr>\n",
       "  </thead>\n",
       "  <tbody>\n",
       "    <tr>\n",
       "      <th>1595</th>\n",
       "      <td>50884</td>\n",
       "      <td>Christopher Leonetti</td>\n",
       "      <td>50</td>\n",
       "      <td>USA</td>\n",
       "      <td>Hombre</td>\n",
       "    </tr>\n",
       "    <tr>\n",
       "      <th>1785</th>\n",
       "      <td>20095</td>\n",
       "      <td>Matthias Schuster</td>\n",
       "      <td>37</td>\n",
       "      <td>DEU</td>\n",
       "      <td>Hombre</td>\n",
       "    </tr>\n",
       "    <tr>\n",
       "      <th>3740</th>\n",
       "      <td>62639</td>\n",
       "      <td>Artur Gryt</td>\n",
       "      <td>20</td>\n",
       "      <td>POL</td>\n",
       "      <td>Hombre</td>\n",
       "    </tr>\n",
       "    <tr>\n",
       "      <th>4134</th>\n",
       "      <td>9171</td>\n",
       "      <td>Laurenz Trawnicek</td>\n",
       "      <td>20</td>\n",
       "      <td>AUT</td>\n",
       "      <td>Hombre</td>\n",
       "    </tr>\n",
       "    <tr>\n",
       "      <th>1025</th>\n",
       "      <td>42086</td>\n",
       "      <td>Marcin Opozda</td>\n",
       "      <td>19</td>\n",
       "      <td>POL</td>\n",
       "      <td>Hombre</td>\n",
       "    </tr>\n",
       "    <tr>\n",
       "      <th>1343</th>\n",
       "      <td>35082</td>\n",
       "      <td>Filip Notebaert</td>\n",
       "      <td>17</td>\n",
       "      <td>BEL</td>\n",
       "      <td>Hombre</td>\n",
       "    </tr>\n",
       "    <tr>\n",
       "      <th>262</th>\n",
       "      <td>28498</td>\n",
       "      <td>Lukasz Harazin</td>\n",
       "      <td>17</td>\n",
       "      <td>POL</td>\n",
       "      <td>Hombre</td>\n",
       "    </tr>\n",
       "    <tr>\n",
       "      <th>282</th>\n",
       "      <td>20384</td>\n",
       "      <td>Clemens Kurth</td>\n",
       "      <td>17</td>\n",
       "      <td>DEU</td>\n",
       "      <td>Hombre</td>\n",
       "    </tr>\n",
       "    <tr>\n",
       "      <th>2501</th>\n",
       "      <td>66250</td>\n",
       "      <td>Kuba Kaminski</td>\n",
       "      <td>16</td>\n",
       "      <td>POL</td>\n",
       "      <td>Hombre</td>\n",
       "    </tr>\n",
       "    <tr>\n",
       "      <th>1368</th>\n",
       "      <td>26155</td>\n",
       "      <td>Valentin Sattek</td>\n",
       "      <td>16</td>\n",
       "      <td>AUT</td>\n",
       "      <td>Hombre</td>\n",
       "    </tr>\n",
       "  </tbody>\n",
       "</table>\n",
       "</div>"
      ],
      "text/plain": [
       "      id_escalador                nombre  numero_vias pais    sexo\n",
       "1595         50884  Christopher Leonetti           50  USA  Hombre\n",
       "1785         20095     Matthias Schuster           37  DEU  Hombre\n",
       "3740         62639            Artur Gryt           20  POL  Hombre\n",
       "4134          9171     Laurenz Trawnicek           20  AUT  Hombre\n",
       "1025         42086         Marcin Opozda           19  POL  Hombre\n",
       "1343         35082       Filip Notebaert           17  BEL  Hombre\n",
       "262          28498        Lukasz Harazin           17  POL  Hombre\n",
       "282          20384         Clemens Kurth           17  DEU  Hombre\n",
       "2501         66250         Kuba Kaminski           16  POL  Hombre\n",
       "1368         26155       Valentin Sattek           16  AUT  Hombre"
      ]
     },
     "execution_count": 13,
     "metadata": {},
     "output_type": "execute_result"
    }
   ],
   "source": [
    "df_ascensosAcumuladosHombres = df_ascensosAcumulados[df_ascensosAcumulados['sexo']=='Hombre'];\n",
    "df_ascensosAcumuladosHombres = df_ascensosAcumuladosHombres.sort_values(['numero_vias', 'id_escalador'],ascending=[False, False]);\n",
    "df_ascensosAcumuladosHombres.head(10)"
   ]
  },
  {
   "cell_type": "markdown",
   "metadata": {},
   "source": [
    "**RESPUESTA 1.b)**"
   ]
  },
  {
   "cell_type": "code",
   "execution_count": 14,
   "metadata": {
    "collapsed": false
   },
   "outputs": [
    {
     "data": {
      "text/html": [
       "<div>\n",
       "<style>\n",
       "    .dataframe thead tr:only-child th {\n",
       "        text-align: right;\n",
       "    }\n",
       "\n",
       "    .dataframe thead th {\n",
       "        text-align: left;\n",
       "    }\n",
       "\n",
       "    .dataframe tbody tr th {\n",
       "        vertical-align: top;\n",
       "    }\n",
       "</style>\n",
       "<table border=\"1\" class=\"dataframe\">\n",
       "  <thead>\n",
       "    <tr style=\"text-align: right;\">\n",
       "      <th></th>\n",
       "      <th>id_escalador</th>\n",
       "      <th>nombre</th>\n",
       "      <th>numero_vias</th>\n",
       "      <th>pais</th>\n",
       "      <th>sexo</th>\n",
       "    </tr>\n",
       "  </thead>\n",
       "  <tbody>\n",
       "    <tr>\n",
       "      <th>2374</th>\n",
       "      <td>53983</td>\n",
       "      <td>Daniela Bärtschi</td>\n",
       "      <td>15</td>\n",
       "      <td>CHE</td>\n",
       "      <td>Mujer</td>\n",
       "    </tr>\n",
       "    <tr>\n",
       "      <th>3383</th>\n",
       "      <td>21011</td>\n",
       "      <td>Roxane DURAND</td>\n",
       "      <td>13</td>\n",
       "      <td>FRA</td>\n",
       "      <td>Mujer</td>\n",
       "    </tr>\n",
       "    <tr>\n",
       "      <th>3939</th>\n",
       "      <td>65502</td>\n",
       "      <td>Ksenia Targosz</td>\n",
       "      <td>11</td>\n",
       "      <td>POL</td>\n",
       "      <td>Mujer</td>\n",
       "    </tr>\n",
       "    <tr>\n",
       "      <th>4274</th>\n",
       "      <td>65194</td>\n",
       "      <td>Kater Karlo</td>\n",
       "      <td>11</td>\n",
       "      <td>DEU</td>\n",
       "      <td>Mujer</td>\n",
       "    </tr>\n",
       "    <tr>\n",
       "      <th>2311</th>\n",
       "      <td>65069</td>\n",
       "      <td>Mania Mania A.</td>\n",
       "      <td>11</td>\n",
       "      <td>POL</td>\n",
       "      <td>Mujer</td>\n",
       "    </tr>\n",
       "    <tr>\n",
       "      <th>2429</th>\n",
       "      <td>60087</td>\n",
       "      <td>Ivana Balic</td>\n",
       "      <td>11</td>\n",
       "      <td>HRV</td>\n",
       "      <td>Mujer</td>\n",
       "    </tr>\n",
       "    <tr>\n",
       "      <th>906</th>\n",
       "      <td>49569</td>\n",
       "      <td>Karina Kosiorek</td>\n",
       "      <td>11</td>\n",
       "      <td>POL</td>\n",
       "      <td>Mujer</td>\n",
       "    </tr>\n",
       "    <tr>\n",
       "      <th>3902</th>\n",
       "      <td>48798</td>\n",
       "      <td>Ba Lu</td>\n",
       "      <td>10</td>\n",
       "      <td>POL</td>\n",
       "      <td>Mujer</td>\n",
       "    </tr>\n",
       "    <tr>\n",
       "      <th>258</th>\n",
       "      <td>29821</td>\n",
       "      <td>Wilma Thurkow</td>\n",
       "      <td>10</td>\n",
       "      <td>NLD</td>\n",
       "      <td>Mujer</td>\n",
       "    </tr>\n",
       "    <tr>\n",
       "      <th>571</th>\n",
       "      <td>22291</td>\n",
       "      <td>Stella Mascari</td>\n",
       "      <td>10</td>\n",
       "      <td>USA</td>\n",
       "      <td>Mujer</td>\n",
       "    </tr>\n",
       "  </tbody>\n",
       "</table>\n",
       "</div>"
      ],
      "text/plain": [
       "      id_escalador            nombre  numero_vias pais   sexo\n",
       "2374         53983  Daniela Bärtschi           15  CHE  Mujer\n",
       "3383         21011     Roxane DURAND           13  FRA  Mujer\n",
       "3939         65502    Ksenia Targosz           11  POL  Mujer\n",
       "4274         65194       Kater Karlo           11  DEU  Mujer\n",
       "2311         65069    Mania Mania A.           11  POL  Mujer\n",
       "2429         60087       Ivana Balic           11  HRV  Mujer\n",
       "906          49569   Karina Kosiorek           11  POL  Mujer\n",
       "3902         48798             Ba Lu           10  POL  Mujer\n",
       "258          29821     Wilma Thurkow           10  NLD  Mujer\n",
       "571          22291    Stella Mascari           10  USA  Mujer"
      ]
     },
     "execution_count": 14,
     "metadata": {},
     "output_type": "execute_result"
    }
   ],
   "source": [
    "df_ascensosAcumuladosMujeres = df_ascensosAcumulados[df_ascensosAcumulados['sexo']=='Mujer'];\n",
    "df_ascensosAcumuladosMujeres = df_ascensosAcumuladosMujeres.sort_values(['numero_vias', 'id_escalador'],ascending=[False, False]);\n",
    "df_ascensosAcumuladosMujeres.head(10)"
   ]
  },
  {
   "cell_type": "markdown",
   "metadata": {},
   "source": [
    "### 2. Lista de los 10 ascensos \"On sight\" de la escaladora más activa en orden decreciente de dificultad\n"
   ]
  },
  {
   "cell_type": "code",
   "execution_count": 15,
   "metadata": {
    "collapsed": true
   },
   "outputs": [],
   "source": [
    "BUCKET_ASCENSOS = 'ascensos'\n",
    "bucket_ascensos = cliente.bucket(BUCKET_ASCENSOS)\n",
    "drop_keys(bucket_ascensos)\n"
   ]
  },
  {
   "cell_type": "code",
   "execution_count": 17,
   "metadata": {
    "collapsed": false
   },
   "outputs": [],
   "source": [
    "# Bucle de carga de datos de ascensos ...\n",
    "for ascensoJson in ascensosJson:\n",
    "    key = uuid.uuid1().hex\n",
    "    ascenso = bucket_ascensos.new(key, ascensoJson)\n",
    "    ascenso.add_index('idx_escalador_int', ascensoJson[\"id_escalador\"])\n",
    "    ascenso.store()\n"
   ]
  },
  {
   "cell_type": "markdown",
   "metadata": {},
   "source": [
    "### 3. Dificultad media de los ascensos del escalador más activo"
   ]
  },
  {
   "cell_type": "markdown",
   "metadata": {},
   "source": [
    "### 4.a) Los 10 ascensos mas dificiles"
   ]
  },
  {
   "cell_type": "markdown",
   "metadata": {},
   "source": [
    "### 4.b) Los 10 ascensos mas dificiles a vista (On sight)"
   ]
  },
  {
   "cell_type": "markdown",
   "metadata": {},
   "source": [
    "### 5.a) Grado medio y maximo de los ascensos en España de los 10 escaladores NO ESPAÑOLES con mas ascensos en España"
   ]
  },
  {
   "cell_type": "markdown",
   "metadata": {},
   "source": [
    "### 5.b) Grado medio y maximo de los ascensos en España de los 10 escaladores ESPAÑOLES con mas ascensos en España"
   ]
  },
  {
   "cell_type": "markdown",
   "metadata": {},
   "source": [
    "### 6.a) Dificultad media y maxima de los ascensos NO \"Top Rope\" de los escaladores con menos de 3 años de experiencia"
   ]
  },
  {
   "cell_type": "markdown",
   "metadata": {},
   "source": [
    "### 6.b) Dificultad media y maxima de los ascensos NO \"Top Rope\" de los escaladores con entre 10 y 30 años de experiencia"
   ]
  },
  {
   "cell_type": "markdown",
   "metadata": {},
   "source": [
    "### 7. Los 10 riscos españoles (o zonas) con mas ascensos por orden decreciente de numero de ascensos"
   ]
  },
  {
   "cell_type": "markdown",
   "metadata": {},
   "source": [
    "### 8.a) Los 10 sectores españoles con mayor nivel de difcultad media de ascensos ordenadas por orden decreciente de dificultad y por numero de ascensos decreciente"
   ]
  },
  {
   "cell_type": "markdown",
   "metadata": {},
   "source": [
    "### 8.b) Las 10 sectores españoles con menor nivel de dificultad medio de ascensos ordenadas por orden creciente de dificultad y por numero de ascensos decreciente"
   ]
  }
 ],
 "metadata": {
  "kernelspec": {
   "display_name": "Python 2",
   "language": "python",
   "name": "python2"
  },
  "language_info": {
   "codemirror_mode": {
    "name": "ipython",
    "version": 2
   },
   "file_extension": ".py",
   "mimetype": "text/x-python",
   "name": "python",
   "nbconvert_exporter": "python",
   "pygments_lexer": "ipython2",
   "version": "2.7.6"
  }
 },
 "nbformat": 4,
 "nbformat_minor": 0
}
