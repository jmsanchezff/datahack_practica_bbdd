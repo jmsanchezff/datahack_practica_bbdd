{
 "cells": [
  {
   "cell_type": "markdown",
   "metadata": {},
   "source": [
    "# Base de datos Riak"
   ]
  },
  {
   "cell_type": "code",
   "execution_count": 1,
   "metadata": {
    "collapsed": true
   },
   "outputs": [],
   "source": [
    "import riak\n",
    "from pprintpp import pprint as pp\n",
    "import json\n",
    "import pandas as pd\n",
    "\n",
    "import uuid\n",
    "import hashlib"
   ]
  },
  {
   "cell_type": "markdown",
   "metadata": {},
   "source": [
    "## Conexion a RIAK"
   ]
  },
  {
   "cell_type": "code",
   "execution_count": 2,
   "metadata": {
    "collapsed": false
   },
   "outputs": [
    {
     "data": {
      "text/plain": [
       "True"
      ]
     },
     "execution_count": 2,
     "metadata": {},
     "output_type": "execute_result"
    }
   ],
   "source": [
    "# connect to database\n",
    "cliente = riak.RiakClient()\n",
    "cliente.ping()"
   ]
  },
  {
   "cell_type": "markdown",
   "metadata": {},
   "source": [
    "## Funciones utiles para el desarrollo de la práctica"
   ]
  },
  {
   "cell_type": "code",
   "execution_count": 3,
   "metadata": {
    "collapsed": true
   },
   "outputs": [],
   "source": [
    "# ELimina datos de un Bucket\n",
    "def drop_keys(bucket):\n",
    "    for keys in bucket.stream_keys():\n",
    "        # print(keys)\n",
    "        for keys in bucket.stream_keys():\n",
    "            for key in keys:\n",
    "                bucket.delete(key)"
   ]
  },
  {
   "cell_type": "code",
   "execution_count": 4,
   "metadata": {
    "collapsed": true
   },
   "outputs": [],
   "source": [
    "# Devuelve el hash de un string\n",
    "def hash_string(s):\n",
    "    s_utf8 = s.encode('utf-8')\n",
    "    return hashlib.md5(s_utf8).hexdigest()"
   ]
  },
  {
   "cell_type": "code",
   "execution_count": 5,
   "metadata": {
    "collapsed": true
   },
   "outputs": [],
   "source": [
    "# Convertimos el objeto JSON en un objeto pandas \n",
    "def json_to_pandas(jsonObj):\n",
    "    return pd.read_json(json.dumps(jsonObj))"
   ]
  },
  {
   "cell_type": "markdown",
   "metadata": {},
   "source": [
    "## Lectura de la informacion en Pandas"
   ]
  },
  {
   "cell_type": "code",
   "execution_count": 6,
   "metadata": {
    "collapsed": false
   },
   "outputs": [],
   "source": [
    "df_dificultades = pd.read_csv(\"./data/dificultades.csv\",encoding='utf-8');\n",
    "df_encadenamientos = pd.read_csv(\"./data/tipos_encadenamiento.csv\", encoding='utf-8');\n",
    "df_escaladores = pd.read_csv(\"./data/escaladores_lite_2017.csv\", encoding='utf-8');\n",
    "df_ascensos = pd.read_csv(\"./data/ascensos_lite_2017.csv\", encoding='utf-8');"
   ]
  },
  {
   "cell_type": "code",
   "execution_count": 7,
   "metadata": {
    "collapsed": true
   },
   "outputs": [],
   "source": [
    "# 'merge' del tipo de encadenamiento en el data frame de ascensos\n",
    "df_ascensos = pd.merge(df_ascensos, df_encadenamientos, on = ['id_tipo_encadenamiento'], how = 'inner')\n",
    "df_ascensos = df_ascensos[['id_escalador','id_dificultad', 'tipo_encadenamiento', 'nombre_via', 'risco', 'sector', 'pais']];\n"
   ]
  },
  {
   "cell_type": "markdown",
   "metadata": {},
   "source": [
    "## Desnormalización del data frame de ascensos\n",
    "\n",
    "Voy a incluir la información del usuario en cada registro de ascenso, para ir creando los buckets que van interesando según las preguntas a resolver\n"
   ]
  },
  {
   "cell_type": "code",
   "execution_count": 8,
   "metadata": {
    "collapsed": false,
    "scrolled": false
   },
   "outputs": [
    {
     "data": {
      "text/html": [
       "<div>\n",
       "<style>\n",
       "    .dataframe thead tr:only-child th {\n",
       "        text-align: right;\n",
       "    }\n",
       "\n",
       "    .dataframe thead th {\n",
       "        text-align: left;\n",
       "    }\n",
       "\n",
       "    .dataframe tbody tr th {\n",
       "        vertical-align: top;\n",
       "    }\n",
       "</style>\n",
       "<table border=\"1\" class=\"dataframe\">\n",
       "  <thead>\n",
       "    <tr style=\"text-align: right;\">\n",
       "      <th></th>\n",
       "      <th>id_escalador</th>\n",
       "      <th>id_dificultad</th>\n",
       "      <th>tipo_encadenamiento</th>\n",
       "      <th>nombre_via</th>\n",
       "      <th>risco</th>\n",
       "      <th>sector</th>\n",
       "      <th>pais_risco</th>\n",
       "      <th>nombre</th>\n",
       "      <th>sexo</th>\n",
       "      <th>fecha_nacimiento</th>\n",
       "      <th>ciudad_escalador</th>\n",
       "      <th>pais_escalador</th>\n",
       "      <th>comienzo</th>\n",
       "      <th>grado_frances</th>\n",
       "      <th>grado_usa</th>\n",
       "      <th>grado_bloque_usa</th>\n",
       "    </tr>\n",
       "  </thead>\n",
       "  <tbody>\n",
       "    <tr>\n",
       "      <th>0</th>\n",
       "      <td>66274</td>\n",
       "      <td>25</td>\n",
       "      <td>Toprope</td>\n",
       "      <td>KVARTETTEN</td>\n",
       "      <td>LASSEHAGA</td>\n",
       "      <td>BôNN</td>\n",
       "      <td>SWE</td>\n",
       "      <td>Sara Herrmann</td>\n",
       "      <td>Hombre</td>\n",
       "      <td>2555-12-31</td>\n",
       "      <td>Lysekil</td>\n",
       "      <td>SWE</td>\n",
       "      <td>0</td>\n",
       "      <td>4c</td>\n",
       "      <td>5.6</td>\n",
       "      <td>V0</td>\n",
       "    </tr>\n",
       "    <tr>\n",
       "      <th>1</th>\n",
       "      <td>29844</td>\n",
       "      <td>25</td>\n",
       "      <td>Toprope</td>\n",
       "      <td>FORGIVE ME AMY, FOR I HAVE SENT</td>\n",
       "      <td>RED RIVER GORGE</td>\n",
       "      <td>GOLD COAST</td>\n",
       "      <td>USA</td>\n",
       "      <td>Tom Burton</td>\n",
       "      <td>Hombre</td>\n",
       "      <td>1962-04-21</td>\n",
       "      <td>Ogden</td>\n",
       "      <td>USA</td>\n",
       "      <td>1992</td>\n",
       "      <td>4c</td>\n",
       "      <td>5.6</td>\n",
       "      <td>V0</td>\n",
       "    </tr>\n",
       "    <tr>\n",
       "      <th>2</th>\n",
       "      <td>56407</td>\n",
       "      <td>25</td>\n",
       "      <td>Toprope</td>\n",
       "      <td>EL TIó LILA</td>\n",
       "      <td>MONT-RAL</td>\n",
       "      <td>TERRANEGRA</td>\n",
       "      <td>ESP</td>\n",
       "      <td>Susana Barrera Vilarmau</td>\n",
       "      <td>Mujer</td>\n",
       "      <td>1978-01-19</td>\n",
       "      <td>Manresa</td>\n",
       "      <td>ESP</td>\n",
       "      <td>0</td>\n",
       "      <td>4c</td>\n",
       "      <td>5.6</td>\n",
       "      <td>V0</td>\n",
       "    </tr>\n",
       "    <tr>\n",
       "      <th>3</th>\n",
       "      <td>66273</td>\n",
       "      <td>25</td>\n",
       "      <td>Toprope</td>\n",
       "      <td>GUNNENG</td>\n",
       "      <td>KOLSåS</td>\n",
       "      <td>ØVRE SYDSTUP</td>\n",
       "      <td>NOR</td>\n",
       "      <td>Erling Fasting</td>\n",
       "      <td>Hombre</td>\n",
       "      <td>1988-01-08</td>\n",
       "      <td>Trondheim</td>\n",
       "      <td>NOR</td>\n",
       "      <td>2016</td>\n",
       "      <td>4c</td>\n",
       "      <td>5.6</td>\n",
       "      <td>V0</td>\n",
       "    </tr>\n",
       "    <tr>\n",
       "      <th>4</th>\n",
       "      <td>65841</td>\n",
       "      <td>25</td>\n",
       "      <td>Toprope</td>\n",
       "      <td>MYRZEBIAKI</td>\n",
       "      <td>DOLINA SZKLARKI</td>\n",
       "      <td>SLONECZNE SKALY</td>\n",
       "      <td>POL</td>\n",
       "      <td>Justyna Wosik</td>\n",
       "      <td>Mujer</td>\n",
       "      <td>2555-12-31</td>\n",
       "      <td>Sosnowiec</td>\n",
       "      <td>POL</td>\n",
       "      <td>0</td>\n",
       "      <td>4c</td>\n",
       "      <td>5.6</td>\n",
       "      <td>V0</td>\n",
       "    </tr>\n",
       "  </tbody>\n",
       "</table>\n",
       "</div>"
      ],
      "text/plain": [
       "   id_escalador  id_dificultad tipo_encadenamiento  \\\n",
       "0         66274             25             Toprope   \n",
       "1         29844             25             Toprope   \n",
       "2         56407             25             Toprope   \n",
       "3         66273             25             Toprope   \n",
       "4         65841             25             Toprope   \n",
       "\n",
       "                        nombre_via            risco           sector  \\\n",
       "0                       KVARTETTEN        LASSEHAGA             BôNN   \n",
       "1  FORGIVE ME AMY, FOR I HAVE SENT  RED RIVER GORGE       GOLD COAST   \n",
       "2                      EL TIó LILA         MONT-RAL       TERRANEGRA   \n",
       "3                          GUNNENG           KOLSåS     ØVRE SYDSTUP   \n",
       "4                       MYRZEBIAKI  DOLINA SZKLARKI  SLONECZNE SKALY   \n",
       "\n",
       "  pais_risco                   nombre    sexo fecha_nacimiento  \\\n",
       "0        SWE            Sara Herrmann  Hombre       2555-12-31   \n",
       "1        USA               Tom Burton  Hombre       1962-04-21   \n",
       "2        ESP  Susana Barrera Vilarmau   Mujer       1978-01-19   \n",
       "3        NOR           Erling Fasting  Hombre       1988-01-08   \n",
       "4        POL            Justyna Wosik   Mujer       2555-12-31   \n",
       "\n",
       "  ciudad_escalador pais_escalador  comienzo grado_frances grado_usa  \\\n",
       "0          Lysekil            SWE         0            4c       5.6   \n",
       "1            Ogden            USA      1992            4c       5.6   \n",
       "2          Manresa            ESP         0            4c       5.6   \n",
       "3        Trondheim            NOR      2016            4c       5.6   \n",
       "4        Sosnowiec            POL         0            4c       5.6   \n",
       "\n",
       "  grado_bloque_usa  \n",
       "0               V0  \n",
       "1               V0  \n",
       "2               V0  \n",
       "3               V0  \n",
       "4               V0  "
      ]
     },
     "execution_count": 8,
     "metadata": {},
     "output_type": "execute_result"
    }
   ],
   "source": [
    "df_ascensos_desnormalizado = pd.merge(df_ascensos, df_escaladores, on = ['id_escalador'], how = 'inner');\n",
    "df_ascensos_desnormalizado = pd.merge(df_ascensos_desnormalizado, df_dificultades, on = ['id_dificultad'], how = 'inner');\n",
    "\n",
    "#renombrar campos autonombrados por merge\n",
    "df_ascensos_desnormalizado = df_ascensos_desnormalizado.rename(\n",
    "    columns={\n",
    "        'pais_x' : 'pais_risco',\n",
    "        'ciudad':'ciudad_escalador',\n",
    "        'pais_y':'pais_escalador'});\n",
    "\n",
    "df_ascensos_desnormalizado.head()"
   ]
  },
  {
   "cell_type": "markdown",
   "metadata": {},
   "source": [
    "## PREPARACIÓN DE LA BASE DE DATOS"
   ]
  },
  {
   "cell_type": "markdown",
   "metadata": {},
   "source": [
    "Para resolver las preguntas me interesará tener los siguientes buckets:\n",
    "\n",
    "|bucket|tipo|clave|Contenido del bucket|\n",
    "|-|-|-|\n",
    "|dificultades|default|id_dificultad|dificicultad en grado frances, usa y bloque-usa|\n",
    "|ascensos|default|generada con identificador unico|Información desnormalizada de cada ascenso|\n",
    "|ascensos_acum|'map'|id_escalador|Un mapa por escalador con: nombre, sexo, pais, ascensos_acumulados, suma_dificultades|\n",
    "\n",
    "** Indices por bucket **\n",
    "\n",
    "|Bucket|Nombre del índice|Contenido|¿Que busquedas permite hacer?|\n",
    "|-|-|-|-|\n",
    "|ascensos|idx_IdEscalador_int|Id del escalador|Localizar movimientos de un escalador concreto|\n",
    "\n"
   ]
  },
  {
   "cell_type": "markdown",
   "metadata": {},
   "source": [
    "**CREACIÓN DE JSON CON LA INFORMACIÓN QUE IRÁ A LOS BUCKETS**"
   ]
  },
  {
   "cell_type": "code",
   "execution_count": 9,
   "metadata": {
    "collapsed": false
   },
   "outputs": [],
   "source": [
    "ascensosJsonString = df_ascensos_desnormalizado.to_json(orient = 'records')\n",
    "ascensosJson = json.loads(ascensosJsonString)"
   ]
  },
  {
   "cell_type": "code",
   "execution_count": 10,
   "metadata": {
    "collapsed": false
   },
   "outputs": [],
   "source": [
    "dificultadesJsonString = df_dificultades.to_json(orient = 'records')\n",
    "dificultadesJson = json.loads(dificultadesJsonString)"
   ]
  },
  {
   "cell_type": "markdown",
   "metadata": {},
   "source": [
    "**CREACIÓN DE BUCKET ASCENSOS ACUMULADOS**"
   ]
  },
  {
   "cell_type": "code",
   "execution_count": 11,
   "metadata": {
    "collapsed": false
   },
   "outputs": [],
   "source": [
    "BUCKET_ACUM_ASCENSOS = 'acum_ascensos'\n",
    "bucket_acum_ascensos = cliente.bucket_type('maps').bucket(BUCKET_ACUM_ASCENSOS)\n",
    "drop_keys(bucket_acum_ascensos)\n",
    "\n",
    "for ascensoJson in ascensosJson:\n",
    "    # construcción de ascensos acumulados por persona\n",
    "    acumulador_ascensos = bucket_acum_ascensos.new(str(ascensoJson['id_escalador']))\n",
    "    acumulador_ascensos.registers['nombre'].assign(ascensoJson['nombre'].encode('utf-8'))\n",
    "    acumulador_ascensos.registers['sexo'].assign(ascensoJson['sexo'].encode('utf-8'))\n",
    "    acumulador_ascensos.registers['pais'].assign(ascensoJson['pais_escalador'].encode('utf-8'))\n",
    "    acumulador_ascensos.counters['numero_vias'].increment()\n",
    "    acumulador_ascensos.counters['suma_dificultades'].increment(ascensoJson['id_dificultad'])\n",
    "    acumulador_ascensos.store()"
   ]
  },
  {
   "cell_type": "markdown",
   "metadata": {},
   "source": [
    "**CREACIÓN DE BUCKET ASCENSOS**"
   ]
  },
  {
   "cell_type": "code",
   "execution_count": 12,
   "metadata": {
    "collapsed": false,
    "scrolled": true
   },
   "outputs": [],
   "source": [
    "BUCKET_ASCENSOS = 'ascensos'\n",
    "bucket_ascensos = cliente.bucket(BUCKET_ASCENSOS)\n",
    "drop_keys(bucket_ascensos)\n",
    "\n",
    "for ascensoJson in ascensosJson:\n",
    "    key = uuid.uuid1().hex\n",
    "    ascenso = bucket_ascensos.new(key, ascensoJson)\n",
    "    ascenso.add_index('idx_IdEscalador_int', ascensoJson[\"id_escalador\"])\n",
    "    ascenso.store()"
   ]
  },
  {
   "cell_type": "markdown",
   "metadata": {},
   "source": [
    "**CREACIÓN DE BUCKET DIFICULTADES**"
   ]
  },
  {
   "cell_type": "code",
   "execution_count": 13,
   "metadata": {
    "collapsed": false,
    "scrolled": true
   },
   "outputs": [],
   "source": [
    "BUCKET_DIFICULTADES = 'dificultades'\n",
    "bucket_dificultades = cliente.bucket(BUCKET_DIFICULTADES)\n",
    "drop_keys(bucket_dificultades)\n",
    "\n",
    "for dificultadJson in dificultadesJson:\n",
    "    dificultad = bucket_dificultades.new(str(dificultadJson[\"id_dificultad\"]), dificultadJson)\n",
    "    dificultad.store()"
   ]
  },
  {
   "cell_type": "markdown",
   "metadata": {},
   "source": [
    "## LECTURA DE LOS BUCKETS RIAK"
   ]
  },
  {
   "cell_type": "markdown",
   "metadata": {},
   "source": [
    "**DATA FRAME ASCENSOS ACUMULADOS**"
   ]
  },
  {
   "cell_type": "code",
   "execution_count": 14,
   "metadata": {
    "collapsed": false
   },
   "outputs": [
    {
     "data": {
      "text/html": [
       "<div>\n",
       "<style>\n",
       "    .dataframe thead tr:only-child th {\n",
       "        text-align: right;\n",
       "    }\n",
       "\n",
       "    .dataframe thead th {\n",
       "        text-align: left;\n",
       "    }\n",
       "\n",
       "    .dataframe tbody tr th {\n",
       "        vertical-align: top;\n",
       "    }\n",
       "</style>\n",
       "<table border=\"1\" class=\"dataframe\">\n",
       "  <thead>\n",
       "    <tr style=\"text-align: right;\">\n",
       "      <th></th>\n",
       "      <th>id_escalador</th>\n",
       "      <th>nombre</th>\n",
       "      <th>numero_vias</th>\n",
       "      <th>pais</th>\n",
       "      <th>sexo</th>\n",
       "      <th>suma_dificultades</th>\n",
       "    </tr>\n",
       "  </thead>\n",
       "  <tbody>\n",
       "    <tr>\n",
       "      <th>0</th>\n",
       "      <td>49416</td>\n",
       "      <td>Oliver Gonzalez Betancourt</td>\n",
       "      <td>1</td>\n",
       "      <td>DEU</td>\n",
       "      <td>Hombre</td>\n",
       "      <td>40</td>\n",
       "    </tr>\n",
       "    <tr>\n",
       "      <th>1</th>\n",
       "      <td>49229</td>\n",
       "      <td>Matthias Meilick</td>\n",
       "      <td>7</td>\n",
       "      <td>DEU</td>\n",
       "      <td>Hombre</td>\n",
       "      <td>316</td>\n",
       "    </tr>\n",
       "    <tr>\n",
       "      <th>2</th>\n",
       "      <td>49003</td>\n",
       "      <td>Enea Bionda</td>\n",
       "      <td>6</td>\n",
       "      <td>CHE</td>\n",
       "      <td>Hombre</td>\n",
       "      <td>267</td>\n",
       "    </tr>\n",
       "  </tbody>\n",
       "</table>\n",
       "</div>"
      ],
      "text/plain": [
       "   id_escalador                      nombre  numero_vias pais    sexo  \\\n",
       "0         49416  Oliver Gonzalez Betancourt            1  DEU  Hombre   \n",
       "1         49229            Matthias Meilick            7  DEU  Hombre   \n",
       "2         49003                 Enea Bionda            6  CHE  Hombre   \n",
       "\n",
       "   suma_dificultades  \n",
       "0                 40  \n",
       "1                316  \n",
       "2                267  "
      ]
     },
     "execution_count": 14,
     "metadata": {},
     "output_type": "execute_result"
    }
   ],
   "source": [
    "ascensosAcumuladosJson = []\n",
    "for streamKeys in bucket_acum_ascensos.stream_keys():\n",
    "    for streamKey in streamKeys:\n",
    "        acumulador_ascensos = bucket_acum_ascensos.get(streamKey)\n",
    "        ascensosAcumuladosJson.append({'id_escalador' : streamKey,\n",
    "                                       'nombre' : acumulador_ascensos.registers['nombre'].value,\n",
    "                                       'sexo' : acumulador_ascensos.registers['sexo'].value,\n",
    "                                       'pais' : acumulador_ascensos.registers['pais'].value,\n",
    "                                       'numero_vias' : acumulador_ascensos.counters['numero_vias'].value,\n",
    "                                       'suma_dificultades' : acumulador_ascensos.counters['suma_dificultades'].value})\n",
    "        \n",
    "# Convertimos el objeto json en un objeto pandas \n",
    "df_bucket_ascensosAcumulados = json_to_pandas(ascensosAcumuladosJson)\n",
    "df_bucket_ascensosAcumulados.head(3)"
   ]
  },
  {
   "cell_type": "markdown",
   "metadata": {},
   "source": [
    "**DATA FRAME DIFICULTADES**"
   ]
  },
  {
   "cell_type": "code",
   "execution_count": 15,
   "metadata": {
    "collapsed": false
   },
   "outputs": [
    {
     "data": {
      "text/html": [
       "<div>\n",
       "<style>\n",
       "    .dataframe thead tr:only-child th {\n",
       "        text-align: right;\n",
       "    }\n",
       "\n",
       "    .dataframe thead th {\n",
       "        text-align: left;\n",
       "    }\n",
       "\n",
       "    .dataframe tbody tr th {\n",
       "        vertical-align: top;\n",
       "    }\n",
       "</style>\n",
       "<table border=\"1\" class=\"dataframe\">\n",
       "  <thead>\n",
       "    <tr style=\"text-align: right;\">\n",
       "      <th></th>\n",
       "      <th>grado_bloque_usa</th>\n",
       "      <th>grado_frances</th>\n",
       "      <th>grado_usa</th>\n",
       "      <th>id_dificultad</th>\n",
       "    </tr>\n",
       "  </thead>\n",
       "  <tbody>\n",
       "    <tr>\n",
       "      <th>0</th>\n",
       "      <td>VB</td>\n",
       "      <td>2b</td>\n",
       "      <td>5.1</td>\n",
       "      <td>9</td>\n",
       "    </tr>\n",
       "    <tr>\n",
       "      <th>1</th>\n",
       "      <td>V11</td>\n",
       "      <td>8a</td>\n",
       "      <td>5.13b</td>\n",
       "      <td>62</td>\n",
       "    </tr>\n",
       "    <tr>\n",
       "      <th>2</th>\n",
       "      <td>V5/V6</td>\n",
       "      <td>6c+</td>\n",
       "      <td>5.11b</td>\n",
       "      <td>46</td>\n",
       "    </tr>\n",
       "  </tbody>\n",
       "</table>\n",
       "</div>"
      ],
      "text/plain": [
       "  grado_bloque_usa grado_frances grado_usa  id_dificultad\n",
       "0               VB            2b       5.1              9\n",
       "1              V11            8a     5.13b             62\n",
       "2            V5/V6           6c+     5.11b             46"
      ]
     },
     "execution_count": 15,
     "metadata": {},
     "output_type": "execute_result"
    }
   ],
   "source": [
    "filasDificultades = []\n",
    "for keys in bucket_dificultades.stream_keys():\n",
    "    for key in keys:\n",
    "        filasDificultades.append(bucket_dificultades.get(key).data)\n",
    "    \n",
    "df_bucket_dificultades = json_to_pandas(filasDificultades);\n",
    "df_bucket_dificultades.head(3)"
   ]
  },
  {
   "cell_type": "markdown",
   "metadata": {},
   "source": [
    "## RESPUESTAS A LAS PREGUNTAS"
   ]
  },
  {
   "cell_type": "markdown",
   "metadata": {},
   "source": [
    "### 1.a) Los 10 escaladores (hombres) más activos. (orden auxiliar por Id)"
   ]
  },
  {
   "cell_type": "code",
   "execution_count": 17,
   "metadata": {
    "collapsed": false
   },
   "outputs": [
    {
     "data": {
      "text/html": [
       "<div>\n",
       "<style>\n",
       "    .dataframe thead tr:only-child th {\n",
       "        text-align: right;\n",
       "    }\n",
       "\n",
       "    .dataframe thead th {\n",
       "        text-align: left;\n",
       "    }\n",
       "\n",
       "    .dataframe tbody tr th {\n",
       "        vertical-align: top;\n",
       "    }\n",
       "</style>\n",
       "<table border=\"1\" class=\"dataframe\">\n",
       "  <thead>\n",
       "    <tr style=\"text-align: right;\">\n",
       "      <th></th>\n",
       "      <th>id_escalador</th>\n",
       "      <th>nombre</th>\n",
       "      <th>sexo</th>\n",
       "      <th>pais</th>\n",
       "      <th>numero_vias</th>\n",
       "    </tr>\n",
       "  </thead>\n",
       "  <tbody>\n",
       "    <tr>\n",
       "      <th>2818</th>\n",
       "      <td>50884</td>\n",
       "      <td>Christopher Leonetti</td>\n",
       "      <td>Hombre</td>\n",
       "      <td>USA</td>\n",
       "      <td>43</td>\n",
       "    </tr>\n",
       "    <tr>\n",
       "      <th>2418</th>\n",
       "      <td>20095</td>\n",
       "      <td>Matthias Schuster</td>\n",
       "      <td>Hombre</td>\n",
       "      <td>DEU</td>\n",
       "      <td>33</td>\n",
       "    </tr>\n",
       "    <tr>\n",
       "      <th>4568</th>\n",
       "      <td>9171</td>\n",
       "      <td>Laurenz Trawnicek</td>\n",
       "      <td>Hombre</td>\n",
       "      <td>AUT</td>\n",
       "      <td>33</td>\n",
       "    </tr>\n",
       "    <tr>\n",
       "      <th>1285</th>\n",
       "      <td>20384</td>\n",
       "      <td>Clemens Kurth</td>\n",
       "      <td>Hombre</td>\n",
       "      <td>DEU</td>\n",
       "      <td>24</td>\n",
       "    </tr>\n",
       "    <tr>\n",
       "      <th>1277</th>\n",
       "      <td>23550</td>\n",
       "      <td>Moritz Perwitzschky</td>\n",
       "      <td>Hombre</td>\n",
       "      <td>DEU</td>\n",
       "      <td>22</td>\n",
       "    </tr>\n",
       "    <tr>\n",
       "      <th>2042</th>\n",
       "      <td>62639</td>\n",
       "      <td>Artur Gryt</td>\n",
       "      <td>Hombre</td>\n",
       "      <td>POL</td>\n",
       "      <td>21</td>\n",
       "    </tr>\n",
       "    <tr>\n",
       "      <th>548</th>\n",
       "      <td>30439</td>\n",
       "      <td>Nuno Henriques</td>\n",
       "      <td>Hombre</td>\n",
       "      <td>PRT</td>\n",
       "      <td>20</td>\n",
       "    </tr>\n",
       "    <tr>\n",
       "      <th>1337</th>\n",
       "      <td>37830</td>\n",
       "      <td>Rodrigo Pessoa</td>\n",
       "      <td>Hombre</td>\n",
       "      <td>BRA</td>\n",
       "      <td>19</td>\n",
       "    </tr>\n",
       "    <tr>\n",
       "      <th>2584</th>\n",
       "      <td>60616</td>\n",
       "      <td>Alex Garriga</td>\n",
       "      <td>Hombre</td>\n",
       "      <td>ESP</td>\n",
       "      <td>17</td>\n",
       "    </tr>\n",
       "    <tr>\n",
       "      <th>514</th>\n",
       "      <td>40521</td>\n",
       "      <td>Brandon Gezel</td>\n",
       "      <td>Hombre</td>\n",
       "      <td>USA</td>\n",
       "      <td>17</td>\n",
       "    </tr>\n",
       "  </tbody>\n",
       "</table>\n",
       "</div>"
      ],
      "text/plain": [
       "      id_escalador                nombre    sexo pais  numero_vias\n",
       "2818         50884  Christopher Leonetti  Hombre  USA           43\n",
       "2418         20095     Matthias Schuster  Hombre  DEU           33\n",
       "4568          9171     Laurenz Trawnicek  Hombre  AUT           33\n",
       "1285         20384         Clemens Kurth  Hombre  DEU           24\n",
       "1277         23550   Moritz Perwitzschky  Hombre  DEU           22\n",
       "2042         62639            Artur Gryt  Hombre  POL           21\n",
       "548          30439        Nuno Henriques  Hombre  PRT           20\n",
       "1337         37830        Rodrigo Pessoa  Hombre  BRA           19\n",
       "2584         60616          Alex Garriga  Hombre  ESP           17\n",
       "514          40521         Brandon Gezel  Hombre  USA           17"
      ]
     },
     "execution_count": 17,
     "metadata": {},
     "output_type": "execute_result"
    }
   ],
   "source": [
    "df = df_bucket_ascensosAcumulados[df_bucket_ascensosAcumulados['sexo']=='Hombre'];\n",
    "df = df.sort_values(['numero_vias', 'id_escalador'],ascending=[False, False]);\n",
    "df[['id_escalador', 'nombre', 'sexo', 'pais', 'numero_vias']].head(10)"
   ]
  },
  {
   "cell_type": "markdown",
   "metadata": {},
   "source": [
    "### 1.b) Los 10 escaladoras (mujeres) más activas. (orden auxiliar por Id)"
   ]
  },
  {
   "cell_type": "code",
   "execution_count": 18,
   "metadata": {
    "collapsed": false
   },
   "outputs": [
    {
     "data": {
      "text/html": [
       "<div>\n",
       "<style>\n",
       "    .dataframe thead tr:only-child th {\n",
       "        text-align: right;\n",
       "    }\n",
       "\n",
       "    .dataframe thead th {\n",
       "        text-align: left;\n",
       "    }\n",
       "\n",
       "    .dataframe tbody tr th {\n",
       "        vertical-align: top;\n",
       "    }\n",
       "</style>\n",
       "<table border=\"1\" class=\"dataframe\">\n",
       "  <thead>\n",
       "    <tr style=\"text-align: right;\">\n",
       "      <th></th>\n",
       "      <th>id_escalador</th>\n",
       "      <th>nombre</th>\n",
       "      <th>sexo</th>\n",
       "      <th>pais</th>\n",
       "      <th>numero_vias</th>\n",
       "    </tr>\n",
       "  </thead>\n",
       "  <tbody>\n",
       "    <tr>\n",
       "      <th>2806</th>\n",
       "      <td>53983</td>\n",
       "      <td>Daniela Bärtschi</td>\n",
       "      <td>Mujer</td>\n",
       "      <td>CHE</td>\n",
       "      <td>16</td>\n",
       "    </tr>\n",
       "    <tr>\n",
       "      <th>2089</th>\n",
       "      <td>54695</td>\n",
       "      <td>Elfi Hasler</td>\n",
       "      <td>Mujer</td>\n",
       "      <td>AUT</td>\n",
       "      <td>13</td>\n",
       "    </tr>\n",
       "    <tr>\n",
       "      <th>2857</th>\n",
       "      <td>65502</td>\n",
       "      <td>Ksenia Targosz</td>\n",
       "      <td>Mujer</td>\n",
       "      <td>POL</td>\n",
       "      <td>12</td>\n",
       "    </tr>\n",
       "    <tr>\n",
       "      <th>3950</th>\n",
       "      <td>51142</td>\n",
       "      <td>Isabelle Kölle</td>\n",
       "      <td>Mujer</td>\n",
       "      <td>AUT</td>\n",
       "      <td>12</td>\n",
       "    </tr>\n",
       "    <tr>\n",
       "      <th>2357</th>\n",
       "      <td>44050</td>\n",
       "      <td>Betka Galicic</td>\n",
       "      <td>Mujer</td>\n",
       "      <td>SVN</td>\n",
       "      <td>12</td>\n",
       "    </tr>\n",
       "    <tr>\n",
       "      <th>1338</th>\n",
       "      <td>37559</td>\n",
       "      <td>Magdalena Trzemzalska</td>\n",
       "      <td>Mujer</td>\n",
       "      <td>POL</td>\n",
       "      <td>11</td>\n",
       "    </tr>\n",
       "    <tr>\n",
       "      <th>4513</th>\n",
       "      <td>60268</td>\n",
       "      <td>Annemarie Van den Berg</td>\n",
       "      <td>Mujer</td>\n",
       "      <td>NLD</td>\n",
       "      <td>10</td>\n",
       "    </tr>\n",
       "    <tr>\n",
       "      <th>3809</th>\n",
       "      <td>55467</td>\n",
       "      <td>Katrin Gründler</td>\n",
       "      <td>Mujer</td>\n",
       "      <td>DEU</td>\n",
       "      <td>10</td>\n",
       "    </tr>\n",
       "    <tr>\n",
       "      <th>2118</th>\n",
       "      <td>49469</td>\n",
       "      <td>Line Tveter</td>\n",
       "      <td>Mujer</td>\n",
       "      <td>NOR</td>\n",
       "      <td>10</td>\n",
       "    </tr>\n",
       "    <tr>\n",
       "      <th>1766</th>\n",
       "      <td>22291</td>\n",
       "      <td>Stella Mascari</td>\n",
       "      <td>Mujer</td>\n",
       "      <td>USA</td>\n",
       "      <td>10</td>\n",
       "    </tr>\n",
       "  </tbody>\n",
       "</table>\n",
       "</div>"
      ],
      "text/plain": [
       "      id_escalador                  nombre   sexo pais  numero_vias\n",
       "2806         53983        Daniela Bärtschi  Mujer  CHE           16\n",
       "2089         54695             Elfi Hasler  Mujer  AUT           13\n",
       "2857         65502          Ksenia Targosz  Mujer  POL           12\n",
       "3950         51142          Isabelle Kölle  Mujer  AUT           12\n",
       "2357         44050           Betka Galicic  Mujer  SVN           12\n",
       "1338         37559   Magdalena Trzemzalska  Mujer  POL           11\n",
       "4513         60268  Annemarie Van den Berg  Mujer  NLD           10\n",
       "3809         55467         Katrin Gründler  Mujer  DEU           10\n",
       "2118         49469             Line Tveter  Mujer  NOR           10\n",
       "1766         22291          Stella Mascari  Mujer  USA           10"
      ]
     },
     "execution_count": 18,
     "metadata": {},
     "output_type": "execute_result"
    }
   ],
   "source": [
    "df = df_bucket_ascensosAcumulados[df_bucket_ascensosAcumulados['sexo']=='Mujer'];\n",
    "df = df.sort_values(['numero_vias', 'id_escalador'],ascending=[False, False]);\n",
    "df[['id_escalador', 'nombre', 'sexo', 'pais', 'numero_vias']].head(10)"
   ]
  },
  {
   "cell_type": "markdown",
   "metadata": {},
   "source": [
    "### 2. Lista de los 10 ascensos \"On sight\" de la escaladora más activa en orden decreciente de dificultad (y por nombre ascendete)"
   ]
  },
  {
   "cell_type": "markdown",
   "metadata": {},
   "source": [
    "En este caso voy a obtener los **ascensos de la escaladora más activa** (de la pregunta anterior se que id_escalador=53983) **accediendo por el indice al bucket de ascensos**:"
   ]
  },
  {
   "cell_type": "code",
   "execution_count": 21,
   "metadata": {
    "collapsed": false
   },
   "outputs": [],
   "source": [
    "filasAscensos = []\n",
    "streamIndex = bucket_ascensos.stream_index(\"idx_IdEscalador_int\", 53983)\n",
    "for keys in streamIndex.results:\n",
    "    for key in keys:\n",
    "        filasAscensos.append(bucket_ascensos.get(key).data)\n",
    "    \n",
    "df_ascensos = json_to_pandas(filasAscensos);\n",
    "#df_ascensos.head(3)"
   ]
  },
  {
   "cell_type": "code",
   "execution_count": 22,
   "metadata": {
    "collapsed": false
   },
   "outputs": [
    {
     "data": {
      "text/html": [
       "<div>\n",
       "<style>\n",
       "    .dataframe thead tr:only-child th {\n",
       "        text-align: right;\n",
       "    }\n",
       "\n",
       "    .dataframe thead th {\n",
       "        text-align: left;\n",
       "    }\n",
       "\n",
       "    .dataframe tbody tr th {\n",
       "        vertical-align: top;\n",
       "    }\n",
       "</style>\n",
       "<table border=\"1\" class=\"dataframe\">\n",
       "  <thead>\n",
       "    <tr style=\"text-align: right;\">\n",
       "      <th></th>\n",
       "      <th>nombre_via</th>\n",
       "      <th>grado_frances</th>\n",
       "      <th>risco</th>\n",
       "      <th>pais_risco</th>\n",
       "    </tr>\n",
       "  </thead>\n",
       "  <tbody>\n",
       "    <tr>\n",
       "      <th>5</th>\n",
       "      <td>UNDA NIEDDA</td>\n",
       "      <td>6b+</td>\n",
       "      <td>GUTTURU CARDAXIUS</td>\n",
       "      <td>ITA</td>\n",
       "    </tr>\n",
       "    <tr>\n",
       "      <th>10</th>\n",
       "      <td>TIRO GHIRO</td>\n",
       "      <td>6a+</td>\n",
       "      <td>BRONTALLO</td>\n",
       "      <td>CHE</td>\n",
       "    </tr>\n",
       "    <tr>\n",
       "      <th>11</th>\n",
       "      <td>BRIDGE</td>\n",
       "      <td>6a</td>\n",
       "      <td>CALA FUILI</td>\n",
       "      <td>ITA</td>\n",
       "    </tr>\n",
       "    <tr>\n",
       "      <th>6</th>\n",
       "      <td>DOLCE EDERA</td>\n",
       "      <td>6a</td>\n",
       "      <td>ISELLE</td>\n",
       "      <td>CHE</td>\n",
       "    </tr>\n",
       "    <tr>\n",
       "      <th>13</th>\n",
       "      <td>MATèRIA FOSCA</td>\n",
       "      <td>6a</td>\n",
       "      <td>SIURANA</td>\n",
       "      <td>ESP</td>\n",
       "    </tr>\n",
       "    <tr>\n",
       "      <th>15</th>\n",
       "      <td>QUIDAM</td>\n",
       "      <td>5c</td>\n",
       "      <td>JOLIMONT</td>\n",
       "      <td>CHE</td>\n",
       "    </tr>\n",
       "    <tr>\n",
       "      <th>0</th>\n",
       "      <td>MATEDO</td>\n",
       "      <td>5b</td>\n",
       "      <td>SAN NICOLò</td>\n",
       "      <td>ITA</td>\n",
       "    </tr>\n",
       "    <tr>\n",
       "      <th>9</th>\n",
       "      <td>MOIJE.COM</td>\n",
       "      <td>5b</td>\n",
       "      <td>LE RIF D'ORIOL</td>\n",
       "      <td>FRA</td>\n",
       "    </tr>\n",
       "    <tr>\n",
       "      <th>1</th>\n",
       "      <td>BOLA DE DRAP</td>\n",
       "      <td>5a</td>\n",
       "      <td>ARBOLI</td>\n",
       "      <td>ESP</td>\n",
       "    </tr>\n",
       "  </tbody>\n",
       "</table>\n",
       "</div>"
      ],
      "text/plain": [
       "       nombre_via grado_frances              risco pais_risco\n",
       "5     UNDA NIEDDA           6b+  GUTTURU CARDAXIUS        ITA\n",
       "10     TIRO GHIRO           6a+          BRONTALLO        CHE\n",
       "11         BRIDGE            6a         CALA FUILI        ITA\n",
       "6     DOLCE EDERA            6a             ISELLE        CHE\n",
       "13  MATèRIA FOSCA            6a            SIURANA        ESP\n",
       "15         QUIDAM            5c           JOLIMONT        CHE\n",
       "0          MATEDO            5b         SAN NICOLò        ITA\n",
       "9       MOIJE.COM            5b     LE RIF D'ORIOL        FRA\n",
       "1    BOLA DE DRAP            5a             ARBOLI        ESP"
      ]
     },
     "execution_count": 22,
     "metadata": {},
     "output_type": "execute_result"
    }
   ],
   "source": [
    "df_ascensos = df_ascensos[df_ascensos['tipo_encadenamiento']=='Onsight']\n",
    "df_ascensos = df_ascensos.sort_values(['id_dificultad', 'nombre_via'],ascending=[False, True])\n",
    "df_ascensos[['nombre_via', 'grado_frances', 'risco', 'pais_risco']].head(10)\n"
   ]
  },
  {
   "cell_type": "markdown",
   "metadata": {},
   "source": [
    "### 3. Dificultad media de los ascensos del escalador más activo"
   ]
  },
  {
   "cell_type": "markdown",
   "metadata": {},
   "source": [
    "De la pregunta 1 ya tenemos un data frame con los datos acumulados por escalador. Utilizandolo podemos obtener la media de los ascensos del escalador más activo (id_escalador = 50884):"
   ]
  },
  {
   "cell_type": "code",
   "execution_count": 41,
   "metadata": {
    "collapsed": false
   },
   "outputs": [
    {
     "data": {
      "text/html": [
       "<div>\n",
       "<style>\n",
       "    .dataframe thead tr:only-child th {\n",
       "        text-align: right;\n",
       "    }\n",
       "\n",
       "    .dataframe thead th {\n",
       "        text-align: left;\n",
       "    }\n",
       "\n",
       "    .dataframe tbody tr th {\n",
       "        vertical-align: top;\n",
       "    }\n",
       "</style>\n",
       "<table border=\"1\" class=\"dataframe\">\n",
       "  <thead>\n",
       "    <tr style=\"text-align: right;\">\n",
       "      <th></th>\n",
       "      <th>Dificultad media de ascensos escalador mas activo</th>\n",
       "    </tr>\n",
       "  </thead>\n",
       "  <tbody>\n",
       "    <tr>\n",
       "      <th>37</th>\n",
       "      <td>6</td>\n",
       "    </tr>\n",
       "  </tbody>\n",
       "</table>\n",
       "</div>"
      ],
      "text/plain": [
       "   Dificultad media de ascensos escalador mas activo\n",
       "37                                                 6"
      ]
     },
     "execution_count": 41,
     "metadata": {},
     "output_type": "execute_result"
    }
   ],
   "source": [
    "df=df_bucket_ascensosAcumulados[df_bucket_ascensosAcumulados['id_escalador']==50884]\n",
    "id_dificultad_media = int(round(df['suma_dificultades']/df['numero_vias'],0))\n",
    "\n",
    "df = df_bucket_dificultades[df_bucket_dificultades['id_dificultad']==id_dificultad_media];\n",
    "df = df[['grado_frances']]\n",
    "df.columns=['Dificultad media de ascensos escalador mas activo']\n",
    "df"
   ]
  },
  {
   "cell_type": "markdown",
   "metadata": {},
   "source": [
    "### 4.a) Los 10 ascensos mas dificiles"
   ]
  },
  {
   "cell_type": "markdown",
   "metadata": {},
   "source": [
    "### 4.b) Los 10 ascensos mas dificiles a vista (On sight)"
   ]
  },
  {
   "cell_type": "markdown",
   "metadata": {},
   "source": [
    "### 5.a) Grado medio y maximo de los ascensos en España de los 10 escaladores NO ESPAÑOLES con mas ascensos en España"
   ]
  },
  {
   "cell_type": "markdown",
   "metadata": {},
   "source": [
    "### 5.b) Grado medio y maximo de los ascensos en España de los 10 escaladores ESPAÑOLES con mas ascensos en España"
   ]
  },
  {
   "cell_type": "markdown",
   "metadata": {},
   "source": [
    "### 6.a) Dificultad media y maxima de los ascensos NO \"Top Rope\" de los escaladores con menos de 3 años de experiencia"
   ]
  },
  {
   "cell_type": "markdown",
   "metadata": {},
   "source": [
    "### 6.b) Dificultad media y maxima de los ascensos NO \"Top Rope\" de los escaladores con entre 10 y 30 años de experiencia"
   ]
  },
  {
   "cell_type": "markdown",
   "metadata": {},
   "source": [
    "### 7. Los 10 riscos españoles (o zonas) con mas ascensos por orden decreciente de numero de ascensos"
   ]
  },
  {
   "cell_type": "markdown",
   "metadata": {},
   "source": [
    "### 8.a) Los 10 sectores españoles con mayor nivel de difcultad media de ascensos ordenadas por orden decreciente de dificultad y por numero de ascensos decreciente"
   ]
  },
  {
   "cell_type": "markdown",
   "metadata": {},
   "source": [
    "### 8.b) Las 10 sectores españoles con menor nivel de dificultad medio de ascensos ordenadas por orden creciente de dificultad y por numero de ascensos decreciente"
   ]
  }
 ],
 "metadata": {
  "kernelspec": {
   "display_name": "Python 2",
   "language": "python",
   "name": "python2"
  },
  "language_info": {
   "codemirror_mode": {
    "name": "ipython",
    "version": 2
   },
   "file_extension": ".py",
   "mimetype": "text/x-python",
   "name": "python",
   "nbconvert_exporter": "python",
   "pygments_lexer": "ipython2",
   "version": "2.7.6"
  }
 },
 "nbformat": 4,
 "nbformat_minor": 0
}
