{
 "cells": [
  {
   "cell_type": "markdown",
   "metadata": {},
   "source": [
    "# Base de datos Riak"
   ]
  },
  {
   "cell_type": "code",
   "execution_count": 1,
   "metadata": {
    "collapsed": true
   },
   "outputs": [],
   "source": [
    "import riak\n",
    "from pprintpp import pprint as pp\n",
    "import json\n",
    "import pandas as pd\n",
    "\n",
    "import uuid\n",
    "import hashlib"
   ]
  },
  {
   "cell_type": "markdown",
   "metadata": {},
   "source": [
    "## Conexion a RIAK"
   ]
  },
  {
   "cell_type": "code",
   "execution_count": 2,
   "metadata": {
    "collapsed": false
   },
   "outputs": [
    {
     "data": {
      "text/plain": [
       "True"
      ]
     },
     "execution_count": 2,
     "metadata": {},
     "output_type": "execute_result"
    }
   ],
   "source": [
    "# connect to database\n",
    "cliente = riak.RiakClient()\n",
    "cliente.ping()"
   ]
  },
  {
   "cell_type": "markdown",
   "metadata": {},
   "source": [
    "## Funciones utiles para el desarrollo de la práctica"
   ]
  },
  {
   "cell_type": "code",
   "execution_count": 3,
   "metadata": {
    "collapsed": true
   },
   "outputs": [],
   "source": [
    "# ELimina datos de un Bucket\n",
    "def drop_keys(bucket):\n",
    "    for keys in bucket.stream_keys():\n",
    "        # print(keys)\n",
    "        for keys in bucket.stream_keys():\n",
    "            for key in keys:\n",
    "                bucket.delete(key)"
   ]
  },
  {
   "cell_type": "code",
   "execution_count": 4,
   "metadata": {
    "collapsed": true
   },
   "outputs": [],
   "source": [
    "# Devuelve el hash de un string\n",
    "def hash_string(s):\n",
    "    s_utf8 = s.encode('utf-8')\n",
    "    return hashlib.md5(s_utf8).hexdigest()"
   ]
  },
  {
   "cell_type": "code",
   "execution_count": 5,
   "metadata": {
    "collapsed": true
   },
   "outputs": [],
   "source": [
    "# Convertimos el objeto JSON en un objeto pandas \n",
    "def json_to_pandas(jsonObj):\n",
    "    return pd.read_json(json.dumps(jsonObj))"
   ]
  },
  {
   "cell_type": "markdown",
   "metadata": {},
   "source": [
    "## Lectura de la informacion en Pandas"
   ]
  },
  {
   "cell_type": "code",
   "execution_count": 6,
   "metadata": {
    "collapsed": false
   },
   "outputs": [],
   "source": [
    "df_dificultades = pd.read_csv(\"./data/dificultades.csv\",encoding='utf-8');\n",
    "df_encadenamientos = pd.read_csv(\"./data/tipos_encadenamiento.csv\", encoding='utf-8');\n",
    "df_escaladores = pd.read_csv(\"./data/escaladores_lite_2017.csv\", encoding='utf-8');\n",
    "df_ascensos = pd.read_csv(\"./data/ascensos_lite_2017.csv\", encoding='utf-8');"
   ]
  },
  {
   "cell_type": "code",
   "execution_count": 7,
   "metadata": {
    "collapsed": true
   },
   "outputs": [],
   "source": [
    "# 'merge' del tipo de encadenamiento en el data frame de ascensos\n",
    "df_ascensos = pd.merge(df_ascensos, df_encadenamientos, on = ['id_tipo_encadenamiento'], how = 'inner')\n",
    "df_ascensos = df_ascensos[['id_escalador','id_dificultad', 'tipo_encadenamiento', 'nombre_via', 'risco', 'sector', 'pais']];\n"
   ]
  },
  {
   "cell_type": "markdown",
   "metadata": {},
   "source": [
    "## Desnormalización del data frame de ascensos\n",
    "\n",
    "Voy a incluir la información del usuario en cada registro de ascenso, para ir creando los buckets que van interesando según las preguntas a resolver\n"
   ]
  },
  {
   "cell_type": "code",
   "execution_count": 8,
   "metadata": {
    "collapsed": false,
    "scrolled": false
   },
   "outputs": [
    {
     "data": {
      "text/html": [
       "<div>\n",
       "<style>\n",
       "    .dataframe thead tr:only-child th {\n",
       "        text-align: right;\n",
       "    }\n",
       "\n",
       "    .dataframe thead th {\n",
       "        text-align: left;\n",
       "    }\n",
       "\n",
       "    .dataframe tbody tr th {\n",
       "        vertical-align: top;\n",
       "    }\n",
       "</style>\n",
       "<table border=\"1\" class=\"dataframe\">\n",
       "  <thead>\n",
       "    <tr style=\"text-align: right;\">\n",
       "      <th></th>\n",
       "      <th>id_escalador</th>\n",
       "      <th>id_dificultad</th>\n",
       "      <th>tipo_encadenamiento</th>\n",
       "      <th>nombre_via</th>\n",
       "      <th>risco</th>\n",
       "      <th>sector</th>\n",
       "      <th>pais_risco</th>\n",
       "      <th>nombre</th>\n",
       "      <th>sexo</th>\n",
       "      <th>fecha_nacimiento</th>\n",
       "      <th>ciudad_escalador</th>\n",
       "      <th>pais_escalador</th>\n",
       "      <th>comienzo</th>\n",
       "      <th>grado_frances</th>\n",
       "    </tr>\n",
       "  </thead>\n",
       "  <tbody>\n",
       "    <tr>\n",
       "      <th>0</th>\n",
       "      <td>20384</td>\n",
       "      <td>33</td>\n",
       "      <td>Flash</td>\n",
       "      <td>LE DE</td>\n",
       "      <td>FONTAINEBLEAU</td>\n",
       "      <td>ROCHER CANON</td>\n",
       "      <td>FRA</td>\n",
       "      <td>Clemens Kurth</td>\n",
       "      <td>Hombre</td>\n",
       "      <td>1982-04-24</td>\n",
       "      <td>Alfeld (Leine)</td>\n",
       "      <td>DEU</td>\n",
       "      <td>2003</td>\n",
       "      <td>5c</td>\n",
       "    </tr>\n",
       "    <tr>\n",
       "      <th>1</th>\n",
       "      <td>20384</td>\n",
       "      <td>33</td>\n",
       "      <td>Flash</td>\n",
       "      <td>SCHMALSEITE DV</td>\n",
       "      <td>ELBSANDSTEIN</td>\n",
       "      <td>KRALLENTURM</td>\n",
       "      <td>DEU</td>\n",
       "      <td>Clemens Kurth</td>\n",
       "      <td>Hombre</td>\n",
       "      <td>1982-04-24</td>\n",
       "      <td>Alfeld (Leine)</td>\n",
       "      <td>DEU</td>\n",
       "      <td>2003</td>\n",
       "      <td>5c</td>\n",
       "    </tr>\n",
       "    <tr>\n",
       "      <th>2</th>\n",
       "      <td>20384</td>\n",
       "      <td>33</td>\n",
       "      <td>Onsight</td>\n",
       "      <td>TALSEITE</td>\n",
       "      <td>ELBSANDSTEIN</td>\n",
       "      <td>FöRSTER</td>\n",
       "      <td>DEU</td>\n",
       "      <td>Clemens Kurth</td>\n",
       "      <td>Hombre</td>\n",
       "      <td>1982-04-24</td>\n",
       "      <td>Alfeld (Leine)</td>\n",
       "      <td>DEU</td>\n",
       "      <td>2003</td>\n",
       "      <td>5c</td>\n",
       "    </tr>\n",
       "    <tr>\n",
       "      <th>3</th>\n",
       "      <td>20384</td>\n",
       "      <td>33</td>\n",
       "      <td>Redpoint</td>\n",
       "      <td>LA DALLE AU PERNOD</td>\n",
       "      <td>FONTAINEBLEAU</td>\n",
       "      <td>BAS CUVIER</td>\n",
       "      <td>FRA</td>\n",
       "      <td>Clemens Kurth</td>\n",
       "      <td>Hombre</td>\n",
       "      <td>1982-04-24</td>\n",
       "      <td>Alfeld (Leine)</td>\n",
       "      <td>DEU</td>\n",
       "      <td>2003</td>\n",
       "      <td>5c</td>\n",
       "    </tr>\n",
       "    <tr>\n",
       "      <th>4</th>\n",
       "      <td>20384</td>\n",
       "      <td>33</td>\n",
       "      <td>Redpoint</td>\n",
       "      <td>TALSEITE</td>\n",
       "      <td>HARZVORLAND / LANGENSTEIN</td>\n",
       "      <td>BLOCK 17</td>\n",
       "      <td>DEU</td>\n",
       "      <td>Clemens Kurth</td>\n",
       "      <td>Hombre</td>\n",
       "      <td>1982-04-24</td>\n",
       "      <td>Alfeld (Leine)</td>\n",
       "      <td>DEU</td>\n",
       "      <td>2003</td>\n",
       "      <td>5c</td>\n",
       "    </tr>\n",
       "  </tbody>\n",
       "</table>\n",
       "</div>"
      ],
      "text/plain": [
       "   id_escalador  id_dificultad tipo_encadenamiento          nombre_via  \\\n",
       "0         20384             33               Flash               LE DE   \n",
       "1         20384             33               Flash      SCHMALSEITE DV   \n",
       "2         20384             33             Onsight            TALSEITE   \n",
       "3         20384             33            Redpoint  LA DALLE AU PERNOD   \n",
       "4         20384             33            Redpoint            TALSEITE   \n",
       "\n",
       "                       risco        sector pais_risco         nombre    sexo  \\\n",
       "0              FONTAINEBLEAU  ROCHER CANON        FRA  Clemens Kurth  Hombre   \n",
       "1               ELBSANDSTEIN   KRALLENTURM        DEU  Clemens Kurth  Hombre   \n",
       "2               ELBSANDSTEIN       FöRSTER        DEU  Clemens Kurth  Hombre   \n",
       "3              FONTAINEBLEAU    BAS CUVIER        FRA  Clemens Kurth  Hombre   \n",
       "4  HARZVORLAND / LANGENSTEIN      BLOCK 17        DEU  Clemens Kurth  Hombre   \n",
       "\n",
       "  fecha_nacimiento ciudad_escalador pais_escalador  comienzo grado_frances  \n",
       "0       1982-04-24   Alfeld (Leine)            DEU      2003            5c  \n",
       "1       1982-04-24   Alfeld (Leine)            DEU      2003            5c  \n",
       "2       1982-04-24   Alfeld (Leine)            DEU      2003            5c  \n",
       "3       1982-04-24   Alfeld (Leine)            DEU      2003            5c  \n",
       "4       1982-04-24   Alfeld (Leine)            DEU      2003            5c  "
      ]
     },
     "execution_count": 8,
     "metadata": {},
     "output_type": "execute_result"
    }
   ],
   "source": [
    "df_ascensos_desnormalizado = pd.merge(df_ascensos, df_escaladores, on = ['id_escalador'], how = 'inner');\n",
    "df_ascensos_desnormalizado = pd.merge(df_ascensos_desnormalizado, df_dificultades, on = ['id_dificultad'], how = 'inner');\n",
    "\n",
    "#renombrar campos autonombrados por merge\n",
    "df_ascensos_desnormalizado = df_ascensos_desnormalizado.rename(\n",
    "    columns={\n",
    "        'pais_x' : 'pais_risco',\n",
    "        'ciudad':'ciudad_escalador',\n",
    "        'pais_y':'pais_escalador'});\n",
    "\n",
    "df_ascensos_desnormalizado.head()"
   ]
  },
  {
   "cell_type": "markdown",
   "metadata": {},
   "source": [
    "## PREPARACIÓN DE LA BASE DE DATOS"
   ]
  },
  {
   "cell_type": "markdown",
   "metadata": {},
   "source": [
    "Para resolver las preguntas me interesará tener los siguientes buckets:\n",
    "\n",
    "|bucket|tipo|clave|Contenido del bucket|\n",
    "|-|-|-|\n",
    "|dificultades|default|id_dificultad|dificicultad en grado frances, usa y bloque-usa|\n",
    "|ascensos|default|generada con identificador unico|Información desnormalizada de cada ascenso|\n",
    "|ascensos_acum|'map'|id_escalador|Un mapa por escalador con: nombre, sexo, pais, ascensos_acumulados, suma_dificultades, , dificultad maxima en españa, ascensos acumulados en españa y suma dificultad en España|\n",
    "|riscos_acum|'map'|hash del nombre del risco|Un mapa por risco: nombre, pais, suma_ascensos, suma_dificultades, dificultad maxima|\n",
    "\n",
    "** Indices por bucket **\n",
    "\n",
    "|Bucket|Nombre del índice|Contenido|¿Que busquedas permite hacer?|\n",
    "|-|-|-|-|\n",
    "|ascensos|idx_IdEscalador_int|Id del escalador|Localizar movimientos de un escalador concreto|\n",
    "\n"
   ]
  },
  {
   "cell_type": "markdown",
   "metadata": {},
   "source": [
    "**CREACIÓN DE JSON CON LA INFORMACIÓN QUE IRÁ A LOS BUCKETS**"
   ]
  },
  {
   "cell_type": "code",
   "execution_count": 9,
   "metadata": {
    "collapsed": false
   },
   "outputs": [],
   "source": [
    "ascensosJsonString = df_ascensos_desnormalizado.to_json(orient = 'records')\n",
    "ascensosJson = json.loads(ascensosJsonString)"
   ]
  },
  {
   "cell_type": "code",
   "execution_count": 10,
   "metadata": {
    "collapsed": false
   },
   "outputs": [],
   "source": [
    "dificultadesJsonString = df_dificultades.to_json(orient = 'records')\n",
    "dificultadesJson = json.loads(dificultadesJsonString)"
   ]
  },
  {
   "cell_type": "markdown",
   "metadata": {},
   "source": [
    "**CREACIÓN DE BUCKET ASCENSOS ACUMULADOS**"
   ]
  },
  {
   "cell_type": "code",
   "execution_count": 11,
   "metadata": {
    "collapsed": false
   },
   "outputs": [],
   "source": [
    "BUCKET_ACUM_ASCENSOS = 'acum_ascensos'\n",
    "bucket_acum_ascensos = cliente.bucket_type('maps').bucket(BUCKET_ACUM_ASCENSOS)\n",
    "drop_keys(bucket_acum_ascensos)\n",
    "\n",
    "\n",
    "\n",
    "for ascensoJson in ascensosJson:\n",
    "    # construcción de ascensos acumulados por escalador\n",
    "    acumulador_ascensos = bucket_acum_ascensos.new(str(ascensoJson['id_escalador']))\n",
    "    acumulador_ascensos.registers['nombre'].assign(ascensoJson['nombre'].encode('utf-8'))\n",
    "    acumulador_ascensos.registers['sexo'].assign(ascensoJson['sexo'].encode('utf-8'))\n",
    "    acumulador_ascensos.registers['pais'].assign(ascensoJson['pais_escalador'].encode('utf-8'))\n",
    "    acumulador_ascensos.counters['numero_ascensos'].increment()      \n",
    "    acumulador_ascensos.counters['suma_dificultades'].increment(ascensoJson['id_dificultad'])\n",
    "    \n",
    "    if (ascensoJson['pais_risco'] == 'ESP') :\n",
    "        \n",
    "        str_dificultad_maxima_registrada = acumulador_ascensos.registers['id_dificultad_max'].value  \n",
    "        dificultad_maxima = ascensoJson['id_dificultad']\n",
    "        \n",
    "        if (str_dificultad_maxima_registrada != ''):\n",
    "            dificultad_maxima = max(int(str_dificultad_maxima_registrada), ascensoJson['id_dificultad'])\n",
    "            \n",
    "        acumulador_ascensos.registers['id_dificultad_max_esp'].assign(str(dificultad_maxima))\n",
    "        acumulador_ascensos.counters['numero_ascensos_esp'].increment()\n",
    "        acumulador_ascensos.counters['suma_dificultades_esp'].increment(ascensoJson['id_dificultad'])\n",
    "        \n",
    "    acumulador_ascensos.store()\n",
    "    \n",
    "    \n",
    "    "
   ]
  },
  {
   "cell_type": "markdown",
   "metadata": {},
   "source": [
    "**CREACIÓN DE BUCKET RISCOS ACUMULADOS**"
   ]
  },
  {
   "cell_type": "code",
   "execution_count": 12,
   "metadata": {
    "collapsed": false
   },
   "outputs": [],
   "source": [
    "BUCKET_ACUM_RISCOS = 'acum_riscos'\n",
    "bucket_acum_riscos = cliente.bucket_type('maps').bucket(BUCKET_ACUM_RISCOS)\n",
    "drop_keys(bucket_acum_riscos)\n",
    "\n",
    "\n",
    "for ascensoJson in ascensosJson:\n",
    "    acumulador_risco = bucket_acum_riscos.new(hash_string(ascensoJson['risco']))\n",
    "    \n",
    "    str_dificultad_maxima_registrada = acumulador_risco.registers['id_dificultad_max'].value\n",
    "    dificultad_maxima = ascensoJson['id_dificultad']\n",
    "    if (str_dificultad_maxima_registrada != ''):\n",
    "        dificultad_maxima = max(int(str_dificultad_maxima_registrada), ascensoJson['id_dificultad'])\n",
    "    \n",
    "    acumulador_risco.registers['risco'].assign(ascensoJson['risco'].encode('utf-8'))\n",
    "    acumulador_risco.registers['pais'].assign(ascensoJson['pais_risco'].encode('utf-8'))\n",
    "    acumulador_risco.registers['id_dificultad_max'].assign(str(dificultad_maxima))\n",
    "        \n",
    "    acumulador_risco.counters['numero_ascensos'].increment()\n",
    "    acumulador_risco.counters['suma_dificultades'].increment(ascensoJson['id_dificultad'])\n",
    "        \n",
    "    acumulador_risco.store()"
   ]
  },
  {
   "cell_type": "markdown",
   "metadata": {},
   "source": [
    "**CREACIÓN DE BUCKET ASCENSOS**"
   ]
  },
  {
   "cell_type": "code",
   "execution_count": 13,
   "metadata": {
    "collapsed": false,
    "scrolled": true
   },
   "outputs": [],
   "source": [
    "BUCKET_ASCENSOS = 'ascensos'\n",
    "bucket_ascensos = cliente.bucket(BUCKET_ASCENSOS)\n",
    "drop_keys(bucket_ascensos)\n",
    "\n",
    "for ascensoJson in ascensosJson:\n",
    "    key = uuid.uuid1().hex\n",
    "    ascenso = bucket_ascensos.new(key, ascensoJson)\n",
    "    ascenso.add_index('idx_IdEscalador_int', ascensoJson[\"id_escalador\"])\n",
    "    ascenso.store()"
   ]
  },
  {
   "cell_type": "markdown",
   "metadata": {},
   "source": [
    "**CREACIÓN DE BUCKET DIFICULTADES**"
   ]
  },
  {
   "cell_type": "code",
   "execution_count": 14,
   "metadata": {
    "collapsed": false,
    "scrolled": true
   },
   "outputs": [],
   "source": [
    "BUCKET_DIFICULTADES = 'dificultades'\n",
    "bucket_dificultades = cliente.bucket(BUCKET_DIFICULTADES)\n",
    "drop_keys(bucket_dificultades)\n",
    "\n",
    "for dificultadJson in dificultadesJson:\n",
    "    dificultad = bucket_dificultades.new(str(dificultadJson[\"id_dificultad\"]), dificultadJson)\n",
    "    dificultad.store()"
   ]
  },
  {
   "cell_type": "markdown",
   "metadata": {},
   "source": [
    "## LECTURA DE LOS BUCKETS RIAK"
   ]
  },
  {
   "cell_type": "markdown",
   "metadata": {},
   "source": [
    "**DATA FRAME RISCOS ACUMULADOS**"
   ]
  },
  {
   "cell_type": "code",
   "execution_count": 15,
   "metadata": {
    "collapsed": false
   },
   "outputs": [],
   "source": [
    "listaJson = []\n",
    "for streamKeys in bucket_acum_riscos.stream_keys():\n",
    "    for streamKey in streamKeys:\n",
    "        acumulador_riscos = bucket_acum_riscos.get(streamKey)\n",
    "        listaJson.append({'risco' : acumulador_riscos.registers['risco'].value,\n",
    "                          'pais' : acumulador_riscos.registers['pais'].value,\n",
    "                          'id_dificultad_max' : acumulador_riscos.registers['id_dificultad_max'].value,\n",
    "                          'numero_ascensos' : acumulador_riscos.counters['numero_ascensos'].value,\n",
    "                          'suma_dificultades' : acumulador_riscos.counters['suma_dificultades'].value})\n",
    "        \n",
    "# Convertimos el objeto json en un objeto pandas \n",
    "df_bucket_riscos_acumulados = json_to_pandas(listaJson)"
   ]
  },
  {
   "cell_type": "markdown",
   "metadata": {},
   "source": [
    "La columna de identificacion de dificultad maxima viene de un registro por lo que es un string. Debemos convertirlo en una columna de enteros:"
   ]
  },
  {
   "cell_type": "code",
   "execution_count": 16,
   "metadata": {
    "collapsed": false
   },
   "outputs": [
    {
     "data": {
      "text/html": [
       "<div>\n",
       "<style>\n",
       "    .dataframe thead tr:only-child th {\n",
       "        text-align: right;\n",
       "    }\n",
       "\n",
       "    .dataframe thead th {\n",
       "        text-align: left;\n",
       "    }\n",
       "\n",
       "    .dataframe tbody tr th {\n",
       "        vertical-align: top;\n",
       "    }\n",
       "</style>\n",
       "<table border=\"1\" class=\"dataframe\">\n",
       "  <thead>\n",
       "    <tr style=\"text-align: right;\">\n",
       "      <th></th>\n",
       "      <th>id_dificultad_max</th>\n",
       "      <th>numero_ascensos</th>\n",
       "      <th>pais</th>\n",
       "      <th>risco</th>\n",
       "      <th>suma_dificultades</th>\n",
       "    </tr>\n",
       "  </thead>\n",
       "  <tbody>\n",
       "    <tr>\n",
       "      <th>0</th>\n",
       "      <td>38</td>\n",
       "      <td>2</td>\n",
       "      <td>UKR</td>\n",
       "      <td>VINNITSA</td>\n",
       "      <td>84</td>\n",
       "    </tr>\n",
       "    <tr>\n",
       "      <th>1</th>\n",
       "      <td>53</td>\n",
       "      <td>1</td>\n",
       "      <td>NZL</td>\n",
       "      <td>CASTLE HILL</td>\n",
       "      <td>53</td>\n",
       "    </tr>\n",
       "    <tr>\n",
       "      <th>2</th>\n",
       "      <td>62</td>\n",
       "      <td>1</td>\n",
       "      <td>ITA</td>\n",
       "      <td>CAPRE AL SOLE</td>\n",
       "      <td>62</td>\n",
       "    </tr>\n",
       "    <tr>\n",
       "      <th>3</th>\n",
       "      <td>53</td>\n",
       "      <td>1</td>\n",
       "      <td>MLT</td>\n",
       "      <td>GHAR LAPSI</td>\n",
       "      <td>53</td>\n",
       "    </tr>\n",
       "    <tr>\n",
       "      <th>4</th>\n",
       "      <td>31</td>\n",
       "      <td>2</td>\n",
       "      <td>POL</td>\n",
       "      <td>NIELEPICE</td>\n",
       "      <td>64</td>\n",
       "    </tr>\n",
       "    <tr>\n",
       "      <th>5</th>\n",
       "      <td>40</td>\n",
       "      <td>1</td>\n",
       "      <td>BRA</td>\n",
       "      <td>PLATô DA LAGOA</td>\n",
       "      <td>40</td>\n",
       "    </tr>\n",
       "    <tr>\n",
       "      <th>6</th>\n",
       "      <td>51</td>\n",
       "      <td>1</td>\n",
       "      <td>CHE</td>\n",
       "      <td>GORGES DU COURT</td>\n",
       "      <td>51</td>\n",
       "    </tr>\n",
       "    <tr>\n",
       "      <th>7</th>\n",
       "      <td>49</td>\n",
       "      <td>3</td>\n",
       "      <td>HRV</td>\n",
       "      <td>KARIN</td>\n",
       "      <td>118</td>\n",
       "    </tr>\n",
       "    <tr>\n",
       "      <th>8</th>\n",
       "      <td>57</td>\n",
       "      <td>1</td>\n",
       "      <td>AUT</td>\n",
       "      <td>GöLTSCHACH</td>\n",
       "      <td>57</td>\n",
       "    </tr>\n",
       "    <tr>\n",
       "      <th>9</th>\n",
       "      <td>44</td>\n",
       "      <td>1</td>\n",
       "      <td>ESP</td>\n",
       "      <td>OGASSA</td>\n",
       "      <td>44</td>\n",
       "    </tr>\n",
       "  </tbody>\n",
       "</table>\n",
       "</div>"
      ],
      "text/plain": [
       "   id_dificultad_max  numero_ascensos pais            risco  suma_dificultades\n",
       "0                 38                2  UKR         VINNITSA                 84\n",
       "1                 53                1  NZL      CASTLE HILL                 53\n",
       "2                 62                1  ITA    CAPRE AL SOLE                 62\n",
       "3                 53                1  MLT       GHAR LAPSI                 53\n",
       "4                 31                2  POL        NIELEPICE                 64\n",
       "5                 40                1  BRA   PLATô DA LAGOA                 40\n",
       "6                 51                1  CHE  GORGES DU COURT                 51\n",
       "7                 49                3  HRV            KARIN                118\n",
       "8                 57                1  AUT       GöLTSCHACH                 57\n",
       "9                 44                1  ESP           OGASSA                 44"
      ]
     },
     "execution_count": 16,
     "metadata": {},
     "output_type": "execute_result"
    }
   ],
   "source": [
    "df_bucket_riscos_acumulados['id_dificultad_max'] = pd.to_numeric(df_bucket_riscos_acumulados['id_dificultad_max'])\n",
    "df_bucket_riscos_acumulados['id_dificultad_max'].fillna(value=0, inplace =True)\n",
    "df_bucket_riscos_acumulados['id_dificultad_max'] = df_bucket_riscos_acumulados['id_dificultad_max'].astype(int)\n",
    "df_bucket_riscos_acumulados.head(10)"
   ]
  },
  {
   "cell_type": "markdown",
   "metadata": {},
   "source": [
    "**DATA FRAME ASCENSOS ACUMULADOS**"
   ]
  },
  {
   "cell_type": "code",
   "execution_count": 17,
   "metadata": {
    "collapsed": false
   },
   "outputs": [],
   "source": [
    "listaJson = []\n",
    "for streamKeys in bucket_acum_ascensos.stream_keys():\n",
    "    for streamKey in streamKeys:\n",
    "        acumulador_ascensos = bucket_acum_ascensos.get(streamKey)\n",
    "        listaJson.append({'id_escalador' : streamKey,\n",
    "                          'nombre' : acumulador_ascensos.registers['nombre'].value,\n",
    "                          'sexo' : acumulador_ascensos.registers['sexo'].value,\n",
    "                          'pais' : acumulador_ascensos.registers['pais'].value,\n",
    "                          'numero_ascensos' : acumulador_ascensos.counters['numero_ascensos'].value,\n",
    "                          'suma_dificultades' : acumulador_ascensos.counters['suma_dificultades'].value,\n",
    "                          'numero_ascensos_esp' : acumulador_ascensos.counters['numero_ascensos_esp'].value,\n",
    "                          'suma_dificultades_esp' : acumulador_ascensos.counters['suma_dificultades_esp'].value,\n",
    "                          'id_dificultad_max_esp' : acumulador_ascensos.registers['id_dificultad_max_esp'].value})\n",
    "        \n",
    "# Convertimos el objeto json en un objeto pandas \n",
    "df_bucket_ascensos_acumulados = json_to_pandas(listaJson)\n"
   ]
  },
  {
   "cell_type": "markdown",
   "metadata": {},
   "source": [
    "La columna de identificacion de dificultad maxima viene de un registro por lo que es un string. Debemos convertirlo en una columna de enteros:"
   ]
  },
  {
   "cell_type": "code",
   "execution_count": 18,
   "metadata": {
    "collapsed": false
   },
   "outputs": [],
   "source": [
    "df_bucket_ascensos_acumulados['id_dificultad_max_esp'] = pd.to_numeric(df_bucket_ascensos_acumulados['id_dificultad_max_esp'])\n",
    "df_bucket_ascensos_acumulados['id_dificultad_max_esp'].fillna(value=0, inplace =True)\n",
    "df_bucket_ascensos_acumulados['id_dificultad_max_esp'] = df_bucket_ascensos_acumulados['id_dificultad_max_esp'].astype(int)\n",
    "#df_bucket_ascensos_acumulados.head(10)"
   ]
  },
  {
   "cell_type": "markdown",
   "metadata": {},
   "source": [
    "**DATA FRAME DIFICULTADES**"
   ]
  },
  {
   "cell_type": "code",
   "execution_count": 19,
   "metadata": {
    "collapsed": false
   },
   "outputs": [
    {
     "data": {
      "text/html": [
       "<div>\n",
       "<style>\n",
       "    .dataframe thead tr:only-child th {\n",
       "        text-align: right;\n",
       "    }\n",
       "\n",
       "    .dataframe thead th {\n",
       "        text-align: left;\n",
       "    }\n",
       "\n",
       "    .dataframe tbody tr th {\n",
       "        vertical-align: top;\n",
       "    }\n",
       "</style>\n",
       "<table border=\"1\" class=\"dataframe\">\n",
       "  <thead>\n",
       "    <tr style=\"text-align: right;\">\n",
       "      <th></th>\n",
       "      <th>grado_frances</th>\n",
       "      <th>id_dificultad</th>\n",
       "    </tr>\n",
       "  </thead>\n",
       "  <tbody>\n",
       "    <tr>\n",
       "      <th>0</th>\n",
       "      <td>8a/+</td>\n",
       "      <td>63</td>\n",
       "    </tr>\n",
       "    <tr>\n",
       "      <th>1</th>\n",
       "      <td>5c</td>\n",
       "      <td>33</td>\n",
       "    </tr>\n",
       "    <tr>\n",
       "      <th>2</th>\n",
       "      <td>4c</td>\n",
       "      <td>25</td>\n",
       "    </tr>\n",
       "  </tbody>\n",
       "</table>\n",
       "</div>"
      ],
      "text/plain": [
       "  grado_frances  id_dificultad\n",
       "0          8a/+             63\n",
       "1            5c             33\n",
       "2            4c             25"
      ]
     },
     "execution_count": 19,
     "metadata": {},
     "output_type": "execute_result"
    }
   ],
   "source": [
    "filasDificultades = []\n",
    "for keys in bucket_dificultades.stream_keys():\n",
    "    for key in keys:\n",
    "        filasDificultades.append(bucket_dificultades.get(key).data) \n",
    "df_bucket_dificultades = json_to_pandas(filasDificultades);\n",
    "df_bucket_dificultades.head(3)"
   ]
  },
  {
   "cell_type": "markdown",
   "metadata": {},
   "source": [
    "Como se observa, RIAK no devuelve orden, pero en nuestro caso el orden de dificultad viene dado por id_dificultad. Para facilitar posteriores mapeos, es interesante ordenar este data frame y restablecer el indice"
   ]
  },
  {
   "cell_type": "code",
   "execution_count": 20,
   "metadata": {
    "collapsed": false
   },
   "outputs": [
    {
     "data": {
      "text/html": [
       "<div>\n",
       "<style>\n",
       "    .dataframe thead tr:only-child th {\n",
       "        text-align: right;\n",
       "    }\n",
       "\n",
       "    .dataframe thead th {\n",
       "        text-align: left;\n",
       "    }\n",
       "\n",
       "    .dataframe tbody tr th {\n",
       "        vertical-align: top;\n",
       "    }\n",
       "</style>\n",
       "<table border=\"1\" class=\"dataframe\">\n",
       "  <thead>\n",
       "    <tr style=\"text-align: right;\">\n",
       "      <th></th>\n",
       "      <th>grado_frances</th>\n",
       "    </tr>\n",
       "    <tr>\n",
       "      <th>id_dificultad</th>\n",
       "      <th></th>\n",
       "    </tr>\n",
       "  </thead>\n",
       "  <tbody>\n",
       "    <tr>\n",
       "      <th>1</th>\n",
       "      <td>-</td>\n",
       "    </tr>\n",
       "    <tr>\n",
       "      <th>2</th>\n",
       "      <td>1</td>\n",
       "    </tr>\n",
       "    <tr>\n",
       "      <th>3</th>\n",
       "      <td>1a</td>\n",
       "    </tr>\n",
       "  </tbody>\n",
       "</table>\n",
       "</div>"
      ],
      "text/plain": [
       "              grado_frances\n",
       "id_dificultad              \n",
       "1                         -\n",
       "2                         1\n",
       "3                        1a"
      ]
     },
     "execution_count": 20,
     "metadata": {},
     "output_type": "execute_result"
    }
   ],
   "source": [
    "df_bucket_dificultades = df_bucket_dificultades.sort_values('id_dificultad',ascending=True);\n",
    "df_bucket_dificultades=df_bucket_dificultades.set_index('id_dificultad');\n",
    "df_bucket_dificultades.head(3)"
   ]
  },
  {
   "cell_type": "markdown",
   "metadata": {},
   "source": [
    "## RESPUESTAS A LAS PREGUNTAS"
   ]
  },
  {
   "cell_type": "markdown",
   "metadata": {},
   "source": [
    "### 1.a) Los 10 escaladores (hombres) más activos. (orden auxiliar por Id)"
   ]
  },
  {
   "cell_type": "code",
   "execution_count": 21,
   "metadata": {
    "collapsed": false
   },
   "outputs": [
    {
     "data": {
      "text/html": [
       "<div>\n",
       "<style>\n",
       "    .dataframe thead tr:only-child th {\n",
       "        text-align: right;\n",
       "    }\n",
       "\n",
       "    .dataframe thead th {\n",
       "        text-align: left;\n",
       "    }\n",
       "\n",
       "    .dataframe tbody tr th {\n",
       "        vertical-align: top;\n",
       "    }\n",
       "</style>\n",
       "<table border=\"1\" class=\"dataframe\">\n",
       "  <thead>\n",
       "    <tr style=\"text-align: right;\">\n",
       "      <th></th>\n",
       "      <th>id_escalador</th>\n",
       "      <th>nombre</th>\n",
       "      <th>sexo</th>\n",
       "      <th>pais</th>\n",
       "      <th>numero_ascensos</th>\n",
       "    </tr>\n",
       "  </thead>\n",
       "  <tbody>\n",
       "    <tr>\n",
       "      <th>3020</th>\n",
       "      <td>50884</td>\n",
       "      <td>Christopher Leonetti</td>\n",
       "      <td>Hombre</td>\n",
       "      <td>USA</td>\n",
       "      <td>47</td>\n",
       "    </tr>\n",
       "    <tr>\n",
       "      <th>2527</th>\n",
       "      <td>20384</td>\n",
       "      <td>Clemens Kurth</td>\n",
       "      <td>Hombre</td>\n",
       "      <td>DEU</td>\n",
       "      <td>26</td>\n",
       "    </tr>\n",
       "    <tr>\n",
       "      <th>2022</th>\n",
       "      <td>20095</td>\n",
       "      <td>Matthias Schuster</td>\n",
       "      <td>Hombre</td>\n",
       "      <td>DEU</td>\n",
       "      <td>26</td>\n",
       "    </tr>\n",
       "    <tr>\n",
       "      <th>4063</th>\n",
       "      <td>66250</td>\n",
       "      <td>Kuba Kaminski</td>\n",
       "      <td>Hombre</td>\n",
       "      <td>POL</td>\n",
       "      <td>24</td>\n",
       "    </tr>\n",
       "    <tr>\n",
       "      <th>4391</th>\n",
       "      <td>9171</td>\n",
       "      <td>Laurenz Trawnicek</td>\n",
       "      <td>Hombre</td>\n",
       "      <td>AUT</td>\n",
       "      <td>23</td>\n",
       "    </tr>\n",
       "    <tr>\n",
       "      <th>1636</th>\n",
       "      <td>46622</td>\n",
       "      <td>Raúl Crespo</td>\n",
       "      <td>Hombre</td>\n",
       "      <td>ESP</td>\n",
       "      <td>19</td>\n",
       "    </tr>\n",
       "    <tr>\n",
       "      <th>530</th>\n",
       "      <td>42086</td>\n",
       "      <td>Marcin Opozda</td>\n",
       "      <td>Hombre</td>\n",
       "      <td>POL</td>\n",
       "      <td>19</td>\n",
       "    </tr>\n",
       "    <tr>\n",
       "      <th>4550</th>\n",
       "      <td>66466</td>\n",
       "      <td>Christian Boehme</td>\n",
       "      <td>Hombre</td>\n",
       "      <td>DEU</td>\n",
       "      <td>18</td>\n",
       "    </tr>\n",
       "    <tr>\n",
       "      <th>1007</th>\n",
       "      <td>47732</td>\n",
       "      <td>Thomas de Fleurian</td>\n",
       "      <td>Hombre</td>\n",
       "      <td>FRA</td>\n",
       "      <td>18</td>\n",
       "    </tr>\n",
       "    <tr>\n",
       "      <th>1374</th>\n",
       "      <td>35847</td>\n",
       "      <td>Zack Bum</td>\n",
       "      <td>Hombre</td>\n",
       "      <td>DEU</td>\n",
       "      <td>18</td>\n",
       "    </tr>\n",
       "  </tbody>\n",
       "</table>\n",
       "</div>"
      ],
      "text/plain": [
       "      id_escalador                nombre    sexo pais  numero_ascensos\n",
       "3020         50884  Christopher Leonetti  Hombre  USA               47\n",
       "2527         20384         Clemens Kurth  Hombre  DEU               26\n",
       "2022         20095     Matthias Schuster  Hombre  DEU               26\n",
       "4063         66250         Kuba Kaminski  Hombre  POL               24\n",
       "4391          9171     Laurenz Trawnicek  Hombre  AUT               23\n",
       "1636         46622           Raúl Crespo  Hombre  ESP               19\n",
       "530          42086         Marcin Opozda  Hombre  POL               19\n",
       "4550         66466      Christian Boehme  Hombre  DEU               18\n",
       "1007         47732    Thomas de Fleurian  Hombre  FRA               18\n",
       "1374         35847              Zack Bum  Hombre  DEU               18"
      ]
     },
     "execution_count": 21,
     "metadata": {},
     "output_type": "execute_result"
    }
   ],
   "source": [
    "df = df_bucket_ascensos_acumulados[df_bucket_ascensos_acumulados['sexo']=='Hombre'];\n",
    "df = df.sort_values(['numero_ascensos', 'id_escalador'],ascending=[False, False]);\n",
    "df[['id_escalador', 'nombre', 'sexo', 'pais', 'numero_ascensos']].head(10)"
   ]
  },
  {
   "cell_type": "code",
   "execution_count": 22,
   "metadata": {
    "collapsed": false
   },
   "outputs": [
    {
     "name": "stdout",
     "output_type": "stream",
     "text": [
      "('Id del escalador mas activo', 50884)\n"
     ]
    }
   ],
   "source": [
    "escalador_mas_activo = df['id_escalador'].iloc[0]\n",
    "print ('Id del escalador mas activo', escalador_mas_activo)"
   ]
  },
  {
   "cell_type": "markdown",
   "metadata": {},
   "source": [
    "### 1.b) Los 10 escaladoras (mujeres) más activas. (orden auxiliar por Id)"
   ]
  },
  {
   "cell_type": "code",
   "execution_count": 23,
   "metadata": {
    "collapsed": false
   },
   "outputs": [
    {
     "data": {
      "text/html": [
       "<div>\n",
       "<style>\n",
       "    .dataframe thead tr:only-child th {\n",
       "        text-align: right;\n",
       "    }\n",
       "\n",
       "    .dataframe thead th {\n",
       "        text-align: left;\n",
       "    }\n",
       "\n",
       "    .dataframe tbody tr th {\n",
       "        vertical-align: top;\n",
       "    }\n",
       "</style>\n",
       "<table border=\"1\" class=\"dataframe\">\n",
       "  <thead>\n",
       "    <tr style=\"text-align: right;\">\n",
       "      <th></th>\n",
       "      <th>id_escalador</th>\n",
       "      <th>nombre</th>\n",
       "      <th>sexo</th>\n",
       "      <th>pais</th>\n",
       "      <th>numero_ascensos</th>\n",
       "    </tr>\n",
       "  </thead>\n",
       "  <tbody>\n",
       "    <tr>\n",
       "      <th>3546</th>\n",
       "      <td>65502</td>\n",
       "      <td>Ksenia Targosz</td>\n",
       "      <td>Mujer</td>\n",
       "      <td>POL</td>\n",
       "      <td>13</td>\n",
       "    </tr>\n",
       "    <tr>\n",
       "      <th>3744</th>\n",
       "      <td>65069</td>\n",
       "      <td>Mania Mania A.</td>\n",
       "      <td>Mujer</td>\n",
       "      <td>POL</td>\n",
       "      <td>12</td>\n",
       "    </tr>\n",
       "    <tr>\n",
       "      <th>3339</th>\n",
       "      <td>65707</td>\n",
       "      <td>Ewelina Cienkus</td>\n",
       "      <td>Mujer</td>\n",
       "      <td>POL</td>\n",
       "      <td>11</td>\n",
       "    </tr>\n",
       "    <tr>\n",
       "      <th>2998</th>\n",
       "      <td>54695</td>\n",
       "      <td>Elfi Hasler</td>\n",
       "      <td>Mujer</td>\n",
       "      <td>AUT</td>\n",
       "      <td>11</td>\n",
       "    </tr>\n",
       "    <tr>\n",
       "      <th>3273</th>\n",
       "      <td>62354</td>\n",
       "      <td>La Shoune</td>\n",
       "      <td>Mujer</td>\n",
       "      <td>FRA</td>\n",
       "      <td>10</td>\n",
       "    </tr>\n",
       "    <tr>\n",
       "      <th>3794</th>\n",
       "      <td>58835</td>\n",
       "      <td>Dominika Sołtys</td>\n",
       "      <td>Mujer</td>\n",
       "      <td>POL</td>\n",
       "      <td>10</td>\n",
       "    </tr>\n",
       "    <tr>\n",
       "      <th>1497</th>\n",
       "      <td>57447</td>\n",
       "      <td>Sue Murphy</td>\n",
       "      <td>Mujer</td>\n",
       "      <td>CAN</td>\n",
       "      <td>10</td>\n",
       "    </tr>\n",
       "    <tr>\n",
       "      <th>3811</th>\n",
       "      <td>53983</td>\n",
       "      <td>Daniela Bärtschi</td>\n",
       "      <td>Mujer</td>\n",
       "      <td>CHE</td>\n",
       "      <td>10</td>\n",
       "    </tr>\n",
       "    <tr>\n",
       "      <th>4286</th>\n",
       "      <td>49569</td>\n",
       "      <td>Karina Kosiorek</td>\n",
       "      <td>Mujer</td>\n",
       "      <td>POL</td>\n",
       "      <td>10</td>\n",
       "    </tr>\n",
       "    <tr>\n",
       "      <th>2295</th>\n",
       "      <td>32043</td>\n",
       "      <td>Reidun M. Romundstad</td>\n",
       "      <td>Mujer</td>\n",
       "      <td>NOR</td>\n",
       "      <td>10</td>\n",
       "    </tr>\n",
       "  </tbody>\n",
       "</table>\n",
       "</div>"
      ],
      "text/plain": [
       "      id_escalador                nombre   sexo pais  numero_ascensos\n",
       "3546         65502        Ksenia Targosz  Mujer  POL               13\n",
       "3744         65069        Mania Mania A.  Mujer  POL               12\n",
       "3339         65707       Ewelina Cienkus  Mujer  POL               11\n",
       "2998         54695           Elfi Hasler  Mujer  AUT               11\n",
       "3273         62354             La Shoune  Mujer  FRA               10\n",
       "3794         58835       Dominika Sołtys  Mujer  POL               10\n",
       "1497         57447            Sue Murphy  Mujer  CAN               10\n",
       "3811         53983      Daniela Bärtschi  Mujer  CHE               10\n",
       "4286         49569       Karina Kosiorek  Mujer  POL               10\n",
       "2295         32043  Reidun M. Romundstad  Mujer  NOR               10"
      ]
     },
     "execution_count": 23,
     "metadata": {},
     "output_type": "execute_result"
    }
   ],
   "source": [
    "df = df_bucket_ascensos_acumulados[df_bucket_ascensos_acumulados['sexo']=='Mujer'];\n",
    "df = df.sort_values(['numero_ascensos', 'id_escalador'],ascending=[False, False]);\n",
    "df[['id_escalador', 'nombre', 'sexo', 'pais', 'numero_ascensos']].head(10)"
   ]
  },
  {
   "cell_type": "code",
   "execution_count": 24,
   "metadata": {
    "collapsed": false
   },
   "outputs": [
    {
     "name": "stdout",
     "output_type": "stream",
     "text": [
      "('Id de la escaladora mas activa', 65502)\n"
     ]
    }
   ],
   "source": [
    "escaladora_mas_activa = df['id_escalador'].iloc[0]\n",
    "print ('Id de la escaladora mas activa', escaladora_mas_activa)"
   ]
  },
  {
   "cell_type": "markdown",
   "metadata": {},
   "source": [
    "### 2. Lista de los 10 ascensos \"On sight\" de la escaladora más activa en orden decreciente de dificultad (y por nombre de vía ascendete)"
   ]
  },
  {
   "cell_type": "markdown",
   "metadata": {},
   "source": [
    "En este caso voy a obtener los **ascensos de la escaladora más activa** (de la pregunta anterior se que id_escalador=53983) **accediendo por el indice al bucket de ascensos**:"
   ]
  },
  {
   "cell_type": "code",
   "execution_count": 25,
   "metadata": {
    "collapsed": false
   },
   "outputs": [],
   "source": [
    "filasAscensos = []\n",
    "streamIndex = bucket_ascensos.stream_index(\"idx_IdEscalador_int\", escaladora_mas_activa)\n",
    "for keys in streamIndex.results:\n",
    "    for key in keys:\n",
    "        filasAscensos.append(bucket_ascensos.get(key).data)\n",
    "    \n",
    "df_bucket_ascensos = json_to_pandas(filasAscensos);"
   ]
  },
  {
   "cell_type": "code",
   "execution_count": 26,
   "metadata": {
    "collapsed": false
   },
   "outputs": [
    {
     "data": {
      "text/html": [
       "<div>\n",
       "<style>\n",
       "    .dataframe thead tr:only-child th {\n",
       "        text-align: right;\n",
       "    }\n",
       "\n",
       "    .dataframe thead th {\n",
       "        text-align: left;\n",
       "    }\n",
       "\n",
       "    .dataframe tbody tr th {\n",
       "        vertical-align: top;\n",
       "    }\n",
       "</style>\n",
       "<table border=\"1\" class=\"dataframe\">\n",
       "  <thead>\n",
       "    <tr style=\"text-align: right;\">\n",
       "      <th></th>\n",
       "      <th>nombre_via</th>\n",
       "      <th>grado_frances</th>\n",
       "      <th>risco</th>\n",
       "      <th>pais_risco</th>\n",
       "    </tr>\n",
       "  </thead>\n",
       "  <tbody>\n",
       "    <tr>\n",
       "      <th>0</th>\n",
       "      <td>LEWIZNA</td>\n",
       "      <td>5c</td>\n",
       "      <td>DOLINA KOBYLANSKA</td>\n",
       "      <td>POL</td>\n",
       "    </tr>\n",
       "    <tr>\n",
       "      <th>1</th>\n",
       "      <td>MOJA KOKAINA</td>\n",
       "      <td>5c</td>\n",
       "      <td>DOLINA KOBYLANSKA</td>\n",
       "      <td>POL</td>\n",
       "    </tr>\n",
       "    <tr>\n",
       "      <th>8</th>\n",
       "      <td>RUCHY MASOWE</td>\n",
       "      <td>5c</td>\n",
       "      <td>DOLINA BEDKOWSKA</td>\n",
       "      <td>POL</td>\n",
       "    </tr>\n",
       "    <tr>\n",
       "      <th>7</th>\n",
       "      <td>FISCHER-LAPINSKI</td>\n",
       "      <td>5b</td>\n",
       "      <td>DOLINA BEDKOWSKA</td>\n",
       "      <td>POL</td>\n",
       "    </tr>\n",
       "    <tr>\n",
       "      <th>11</th>\n",
       "      <td>GRZBIET ZUBRA</td>\n",
       "      <td>5b</td>\n",
       "      <td>SOKOLIKI</td>\n",
       "      <td>POL</td>\n",
       "    </tr>\n",
       "    <tr>\n",
       "      <th>6</th>\n",
       "      <td>RYSKOWIEC</td>\n",
       "      <td>5b</td>\n",
       "      <td>DOLINA BEDKOWSKA</td>\n",
       "      <td>POL</td>\n",
       "    </tr>\n",
       "    <tr>\n",
       "      <th>10</th>\n",
       "      <td>ZAGłADA TRADA</td>\n",
       "      <td>4c</td>\n",
       "      <td>DOLINA KOBYLANSKA</td>\n",
       "      <td>POL</td>\n",
       "    </tr>\n",
       "    <tr>\n",
       "      <th>4</th>\n",
       "      <td>KIKUT</td>\n",
       "      <td>4b</td>\n",
       "      <td>DOLINA SZKLARKI</td>\n",
       "      <td>POL</td>\n",
       "    </tr>\n",
       "  </tbody>\n",
       "</table>\n",
       "</div>"
      ],
      "text/plain": [
       "          nombre_via grado_frances              risco pais_risco\n",
       "0            LEWIZNA            5c  DOLINA KOBYLANSKA        POL\n",
       "1       MOJA KOKAINA            5c  DOLINA KOBYLANSKA        POL\n",
       "8       RUCHY MASOWE            5c   DOLINA BEDKOWSKA        POL\n",
       "7   FISCHER-LAPINSKI            5b   DOLINA BEDKOWSKA        POL\n",
       "11     GRZBIET ZUBRA            5b           SOKOLIKI        POL\n",
       "6          RYSKOWIEC            5b   DOLINA BEDKOWSKA        POL\n",
       "10     ZAGłADA TRADA            4c  DOLINA KOBYLANSKA        POL\n",
       "4              KIKUT            4b    DOLINA SZKLARKI        POL"
      ]
     },
     "execution_count": 26,
     "metadata": {},
     "output_type": "execute_result"
    }
   ],
   "source": [
    "df_bucket_ascensos = df_bucket_ascensos[df_bucket_ascensos['tipo_encadenamiento']=='Onsight']\n",
    "df_bucket_ascensos = df_bucket_ascensos.sort_values(['id_dificultad', 'nombre_via'],ascending=[False, True])\n",
    "df_bucket_ascensos[['nombre_via', 'grado_frances', 'risco', 'pais_risco']].head(10)\n"
   ]
  },
  {
   "cell_type": "markdown",
   "metadata": {},
   "source": [
    "### 3. Dificultad media de los ascensos del escalador más activo"
   ]
  },
  {
   "cell_type": "markdown",
   "metadata": {},
   "source": [
    "De la pregunta 1 ya tenemos un data frame con los datos acumulados por escalador. Utilizandolo podemos obtener la media de los ascensos del escalador más activo (id_escalador = 50884):"
   ]
  },
  {
   "cell_type": "code",
   "execution_count": 27,
   "metadata": {
    "collapsed": false
   },
   "outputs": [
    {
     "name": "stdout",
     "output_type": "stream",
     "text": [
      "Dificultad media de ascensos escalador mas activo:\n"
     ]
    },
    {
     "data": {
      "text/plain": [
       "u'5c+'"
      ]
     },
     "execution_count": 27,
     "metadata": {},
     "output_type": "execute_result"
    }
   ],
   "source": [
    "df=df_bucket_ascensos_acumulados[df_bucket_ascensos_acumulados['id_escalador']==escalador_mas_activo]\n",
    "id_dificultad_media = int(round(df['suma_dificultades']/df['numero_ascensos'],0))\n",
    "\n",
    "print('Dificultad media de ascensos escalador mas activo:')\n",
    "df_bucket_dificultades['grado_frances'][id_dificultad_media]\n"
   ]
  },
  {
   "cell_type": "markdown",
   "metadata": {},
   "source": [
    "### 4.a) Los 10 ascensos mas dificiles\n",
    "\n",
    "**Esta pregunta no la podemos respoder con la base de datos**. No obstante, si podemos hacerla mediante un proceso de python. La pega que tiene es que debemos construir un data frame con todos los ascensos, lo que puede suponer traer mucha información desde la base de datos. Una posible solución es paralelizar la clasificación en trozos y despues unirlos.\n",
    "\n",
    "El proceso de python para responder esta pregunta es:"
   ]
  },
  {
   "cell_type": "code",
   "execution_count": 28,
   "metadata": {
    "collapsed": true
   },
   "outputs": [],
   "source": [
    "filasAscensos = []\n",
    "\n",
    "for keys in bucket_ascensos.stream_keys():\n",
    "    for key in keys:\n",
    "        filasAscensos.append(bucket_ascensos.get(key).data)\n",
    "    \n",
    "df_bucket_ascensos = json_to_pandas(filasAscensos);"
   ]
  },
  {
   "cell_type": "code",
   "execution_count": 29,
   "metadata": {
    "collapsed": false
   },
   "outputs": [
    {
     "data": {
      "text/html": [
       "<div>\n",
       "<style>\n",
       "    .dataframe thead tr:only-child th {\n",
       "        text-align: right;\n",
       "    }\n",
       "\n",
       "    .dataframe thead th {\n",
       "        text-align: left;\n",
       "    }\n",
       "\n",
       "    .dataframe tbody tr th {\n",
       "        vertical-align: top;\n",
       "    }\n",
       "</style>\n",
       "<table border=\"1\" class=\"dataframe\">\n",
       "  <thead>\n",
       "    <tr style=\"text-align: right;\">\n",
       "      <th></th>\n",
       "      <th>id_escalador</th>\n",
       "      <th>nombre</th>\n",
       "      <th>pais_escalador</th>\n",
       "      <th>nombre_via</th>\n",
       "      <th>grado_frances</th>\n",
       "      <th>tipo_encadenamiento</th>\n",
       "      <th>risco</th>\n",
       "      <th>pais_risco</th>\n",
       "    </tr>\n",
       "  </thead>\n",
       "  <tbody>\n",
       "    <tr>\n",
       "      <th>10775</th>\n",
       "      <td>1476</td>\n",
       "      <td>Adam Ondra</td>\n",
       "      <td>CZE</td>\n",
       "      <td>SILENCE</td>\n",
       "      <td>9c</td>\n",
       "      <td>Redpoint</td>\n",
       "      <td>FLATANGER</td>\n",
       "      <td>NOR</td>\n",
       "    </tr>\n",
       "    <tr>\n",
       "      <th>10045</th>\n",
       "      <td>1476</td>\n",
       "      <td>Adam Ondra</td>\n",
       "      <td>CZE</td>\n",
       "      <td>MOVE HARD</td>\n",
       "      <td>9b</td>\n",
       "      <td>Redpoint</td>\n",
       "      <td>FLATANGER</td>\n",
       "      <td>NOR</td>\n",
       "    </tr>\n",
       "    <tr>\n",
       "      <th>8477</th>\n",
       "      <td>22437</td>\n",
       "      <td>Stefano Ghisolfi</td>\n",
       "      <td>ITA</td>\n",
       "      <td>FIRST ROUND FIRST MINUTE</td>\n",
       "      <td>9b</td>\n",
       "      <td>Redpoint</td>\n",
       "      <td>MARGALEF</td>\n",
       "      <td>ESP</td>\n",
       "    </tr>\n",
       "    <tr>\n",
       "      <th>8479</th>\n",
       "      <td>1476</td>\n",
       "      <td>Adam Ondra</td>\n",
       "      <td>CZE</td>\n",
       "      <td>ULTIMATUM</td>\n",
       "      <td>9a+</td>\n",
       "      <td>Redpoint</td>\n",
       "      <td>ARCO</td>\n",
       "      <td>ITA</td>\n",
       "    </tr>\n",
       "    <tr>\n",
       "      <th>10032</th>\n",
       "      <td>1476</td>\n",
       "      <td>Adam Ondra</td>\n",
       "      <td>CZE</td>\n",
       "      <td>NATURALMENTE</td>\n",
       "      <td>9a+</td>\n",
       "      <td>Redpoint</td>\n",
       "      <td>CAMAIORE</td>\n",
       "      <td>ITA</td>\n",
       "    </tr>\n",
       "    <tr>\n",
       "      <th>10290</th>\n",
       "      <td>8707</td>\n",
       "      <td>Daniel Fuertes</td>\n",
       "      <td>ESP</td>\n",
       "      <td>NO PAIN NO GAIN</td>\n",
       "      <td>9a+</td>\n",
       "      <td>Redpoint</td>\n",
       "      <td>RODELLAR</td>\n",
       "      <td>ESP</td>\n",
       "    </tr>\n",
       "    <tr>\n",
       "      <th>11339</th>\n",
       "      <td>14130</td>\n",
       "      <td>David Firnenburg</td>\n",
       "      <td>DEU</td>\n",
       "      <td>LA RAMBLA</td>\n",
       "      <td>9a+</td>\n",
       "      <td>Redpoint</td>\n",
       "      <td>SIURANA</td>\n",
       "      <td>ESP</td>\n",
       "    </tr>\n",
       "    <tr>\n",
       "      <th>8478</th>\n",
       "      <td>18008</td>\n",
       "      <td>Piotr Schab</td>\n",
       "      <td>POL</td>\n",
       "      <td>THOR'S HAMMER</td>\n",
       "      <td>9a+</td>\n",
       "      <td>Redpoint</td>\n",
       "      <td>FLATANGER</td>\n",
       "      <td>NOR</td>\n",
       "    </tr>\n",
       "    <tr>\n",
       "      <th>10031</th>\n",
       "      <td>22437</td>\n",
       "      <td>Stefano Ghisolfi</td>\n",
       "      <td>ITA</td>\n",
       "      <td>LA RAMBLA</td>\n",
       "      <td>9a+</td>\n",
       "      <td>Redpoint</td>\n",
       "      <td>SIURANA</td>\n",
       "      <td>ESP</td>\n",
       "    </tr>\n",
       "    <tr>\n",
       "      <th>10848</th>\n",
       "      <td>22437</td>\n",
       "      <td>Stefano Ghisolfi</td>\n",
       "      <td>ITA</td>\n",
       "      <td>FIRST LEY</td>\n",
       "      <td>9a+</td>\n",
       "      <td>Redpoint</td>\n",
       "      <td>MARGALEF</td>\n",
       "      <td>ESP</td>\n",
       "    </tr>\n",
       "  </tbody>\n",
       "</table>\n",
       "</div>"
      ],
      "text/plain": [
       "       id_escalador            nombre pais_escalador  \\\n",
       "10775          1476        Adam Ondra            CZE   \n",
       "10045          1476        Adam Ondra            CZE   \n",
       "8477          22437  Stefano Ghisolfi            ITA   \n",
       "8479           1476        Adam Ondra            CZE   \n",
       "10032          1476        Adam Ondra            CZE   \n",
       "10290          8707    Daniel Fuertes            ESP   \n",
       "11339         14130  David Firnenburg            DEU   \n",
       "8478          18008       Piotr Schab            POL   \n",
       "10031         22437  Stefano Ghisolfi            ITA   \n",
       "10848         22437  Stefano Ghisolfi            ITA   \n",
       "\n",
       "                     nombre_via grado_frances tipo_encadenamiento      risco  \\\n",
       "10775                   SILENCE            9c            Redpoint  FLATANGER   \n",
       "10045                 MOVE HARD            9b            Redpoint  FLATANGER   \n",
       "8477   FIRST ROUND FIRST MINUTE            9b            Redpoint   MARGALEF   \n",
       "8479                  ULTIMATUM           9a+            Redpoint       ARCO   \n",
       "10032              NATURALMENTE           9a+            Redpoint   CAMAIORE   \n",
       "10290           NO PAIN NO GAIN           9a+            Redpoint   RODELLAR   \n",
       "11339                 LA RAMBLA           9a+            Redpoint    SIURANA   \n",
       "8478              THOR'S HAMMER           9a+            Redpoint  FLATANGER   \n",
       "10031                 LA RAMBLA           9a+            Redpoint    SIURANA   \n",
       "10848                 FIRST LEY           9a+            Redpoint   MARGALEF   \n",
       "\n",
       "      pais_risco  \n",
       "10775        NOR  \n",
       "10045        NOR  \n",
       "8477         ESP  \n",
       "8479         ITA  \n",
       "10032        ITA  \n",
       "10290        ESP  \n",
       "11339        ESP  \n",
       "8478         NOR  \n",
       "10031        ESP  \n",
       "10848        ESP  "
      ]
     },
     "execution_count": 29,
     "metadata": {},
     "output_type": "execute_result"
    }
   ],
   "source": [
    "df_bucket_ascensos = df_bucket_ascensos.sort_values(['id_dificultad', 'id_escalador'], ascending=[False, True]);\n",
    "columnas = ['id_escalador','nombre','pais_escalador','nombre_via','grado_frances','tipo_encadenamiento','risco','pais_risco'];\n",
    "df_bucket_ascensos[columnas].head(10)"
   ]
  },
  {
   "cell_type": "markdown",
   "metadata": {},
   "source": [
    "### 4.b) Los 10 ascensos mas dificiles a vista (On sight)"
   ]
  },
  {
   "cell_type": "markdown",
   "metadata": {},
   "source": [
    "Aprovechando el data frame ordenado anterior, si hacemos uno nuevo cuyas filas tengan los elementos con tipo_encadenamiento igual a Onsight, hemos respondido a esta pregunta facilmente:"
   ]
  },
  {
   "cell_type": "code",
   "execution_count": 30,
   "metadata": {
    "collapsed": false
   },
   "outputs": [
    {
     "data": {
      "text/html": [
       "<div>\n",
       "<style>\n",
       "    .dataframe thead tr:only-child th {\n",
       "        text-align: right;\n",
       "    }\n",
       "\n",
       "    .dataframe thead th {\n",
       "        text-align: left;\n",
       "    }\n",
       "\n",
       "    .dataframe tbody tr th {\n",
       "        vertical-align: top;\n",
       "    }\n",
       "</style>\n",
       "<table border=\"1\" class=\"dataframe\">\n",
       "  <thead>\n",
       "    <tr style=\"text-align: right;\">\n",
       "      <th></th>\n",
       "      <th>id_escalador</th>\n",
       "      <th>nombre</th>\n",
       "      <th>pais_escalador</th>\n",
       "      <th>nombre_via</th>\n",
       "      <th>grado_frances</th>\n",
       "      <th>tipo_encadenamiento</th>\n",
       "      <th>risco</th>\n",
       "      <th>pais_risco</th>\n",
       "    </tr>\n",
       "  </thead>\n",
       "  <tbody>\n",
       "    <tr>\n",
       "      <th>11095</th>\n",
       "      <td>22437</td>\n",
       "      <td>Stefano Ghisolfi</td>\n",
       "      <td>ITA</td>\n",
       "      <td>FISH EYE</td>\n",
       "      <td>8c</td>\n",
       "      <td>Onsight</td>\n",
       "      <td>OLIANA</td>\n",
       "      <td>ESP</td>\n",
       "    </tr>\n",
       "    <tr>\n",
       "      <th>10046</th>\n",
       "      <td>18008</td>\n",
       "      <td>Piotr Schab</td>\n",
       "      <td>POL</td>\n",
       "      <td>PEQUENA ESTRELLA</td>\n",
       "      <td>8b+</td>\n",
       "      <td>Onsight</td>\n",
       "      <td>RODELLAR</td>\n",
       "      <td>ESP</td>\n",
       "    </tr>\n",
       "    <tr>\n",
       "      <th>10708</th>\n",
       "      <td>6726</td>\n",
       "      <td>Manu Lopez</td>\n",
       "      <td>FRA</td>\n",
       "      <td>WHAT</td>\n",
       "      <td>8b</td>\n",
       "      <td>Onsight</td>\n",
       "      <td>LEONIDIO</td>\n",
       "      <td>GRC</td>\n",
       "    </tr>\n",
       "    <tr>\n",
       "      <th>11315</th>\n",
       "      <td>38626</td>\n",
       "      <td>luis rodriguez martin</td>\n",
       "      <td>ESP</td>\n",
       "      <td>BRUJO</td>\n",
       "      <td>8b</td>\n",
       "      <td>Onsight</td>\n",
       "      <td>SADERNES</td>\n",
       "      <td>ESP</td>\n",
       "    </tr>\n",
       "    <tr>\n",
       "      <th>10643</th>\n",
       "      <td>1476</td>\n",
       "      <td>Adam Ondra</td>\n",
       "      <td>CZE</td>\n",
       "      <td>MATA HARI</td>\n",
       "      <td>8a+</td>\n",
       "      <td>Onsight</td>\n",
       "      <td>FRANKENJURA</td>\n",
       "      <td>DEU</td>\n",
       "    </tr>\n",
       "    <tr>\n",
       "      <th>11435</th>\n",
       "      <td>4424</td>\n",
       "      <td>Marcin Wszolek</td>\n",
       "      <td>POL</td>\n",
       "      <td>NUEVE ZETA</td>\n",
       "      <td>8a+</td>\n",
       "      <td>Onsight</td>\n",
       "      <td>CHULILLA</td>\n",
       "      <td>ESP</td>\n",
       "    </tr>\n",
       "    <tr>\n",
       "      <th>10844</th>\n",
       "      <td>16672</td>\n",
       "      <td>Gonzalo Larrocha</td>\n",
       "      <td>ESP</td>\n",
       "      <td>DNA EXTENSION</td>\n",
       "      <td>8a+</td>\n",
       "      <td>Onsight</td>\n",
       "      <td>KALYMNOS</td>\n",
       "      <td>GRC</td>\n",
       "    </tr>\n",
       "    <tr>\n",
       "      <th>10300</th>\n",
       "      <td>27822</td>\n",
       "      <td>Michaela Kiersch</td>\n",
       "      <td>USA</td>\n",
       "      <td>LA FEMME BLANCHE</td>\n",
       "      <td>8a+</td>\n",
       "      <td>Onsight</td>\n",
       "      <td>CéüSE</td>\n",
       "      <td>FRA</td>\n",
       "    </tr>\n",
       "    <tr>\n",
       "      <th>7992</th>\n",
       "      <td>34114</td>\n",
       "      <td>jose luis palao</td>\n",
       "      <td>ESP</td>\n",
       "      <td>TEAM BTR</td>\n",
       "      <td>8a+</td>\n",
       "      <td>Onsight</td>\n",
       "      <td>BIELSA</td>\n",
       "      <td>ESP</td>\n",
       "    </tr>\n",
       "    <tr>\n",
       "      <th>10781</th>\n",
       "      <td>34114</td>\n",
       "      <td>jose luis palao</td>\n",
       "      <td>ESP</td>\n",
       "      <td>REALIDAD VIRTUAL</td>\n",
       "      <td>8a+</td>\n",
       "      <td>Onsight</td>\n",
       "      <td>POLORIA</td>\n",
       "      <td>ESP</td>\n",
       "    </tr>\n",
       "  </tbody>\n",
       "</table>\n",
       "</div>"
      ],
      "text/plain": [
       "       id_escalador                 nombre pais_escalador        nombre_via  \\\n",
       "11095         22437       Stefano Ghisolfi            ITA          FISH EYE   \n",
       "10046         18008            Piotr Schab            POL  PEQUENA ESTRELLA   \n",
       "10708          6726             Manu Lopez            FRA              WHAT   \n",
       "11315         38626  luis rodriguez martin            ESP             BRUJO   \n",
       "10643          1476             Adam Ondra            CZE         MATA HARI   \n",
       "11435          4424         Marcin Wszolek            POL        NUEVE ZETA   \n",
       "10844         16672       Gonzalo Larrocha            ESP     DNA EXTENSION   \n",
       "10300         27822       Michaela Kiersch            USA  LA FEMME BLANCHE   \n",
       "7992          34114        jose luis palao            ESP          TEAM BTR   \n",
       "10781         34114        jose luis palao            ESP  REALIDAD VIRTUAL   \n",
       "\n",
       "      grado_frances tipo_encadenamiento        risco pais_risco  \n",
       "11095            8c             Onsight       OLIANA        ESP  \n",
       "10046           8b+             Onsight     RODELLAR        ESP  \n",
       "10708            8b             Onsight     LEONIDIO        GRC  \n",
       "11315            8b             Onsight     SADERNES        ESP  \n",
       "10643           8a+             Onsight  FRANKENJURA        DEU  \n",
       "11435           8a+             Onsight     CHULILLA        ESP  \n",
       "10844           8a+             Onsight     KALYMNOS        GRC  \n",
       "10300           8a+             Onsight        CéüSE        FRA  \n",
       "7992            8a+             Onsight       BIELSA        ESP  \n",
       "10781           8a+             Onsight      POLORIA        ESP  "
      ]
     },
     "execution_count": 30,
     "metadata": {},
     "output_type": "execute_result"
    }
   ],
   "source": [
    "df_ascensos_onsight = df_bucket_ascensos[df_bucket_ascensos['tipo_encadenamiento']=='Onsight']\n",
    "df_ascensos_onsight[columnas].head(10)"
   ]
  },
  {
   "cell_type": "markdown",
   "metadata": {},
   "source": [
    "### 5.a) Grado medio y maximo de los ascensos en España de los 10 escaladores NO ESPAÑOLES con mas ascensos en España"
   ]
  },
  {
   "cell_type": "markdown",
   "metadata": {},
   "source": [
    "La base de datos no da funcionalidad para resolver esta pregunta de manera directa. Para responder a la pregunta, o se procesan los ascensos del bucket de ascensos o se registra a priori información en el bucket de ascensos acumulados que permita calculos posteriore.\n",
    "\n",
    "En este caso yo he elegido registrar información en el bucket de ascensos acumulados la información necesaria ello se debe haber registrado en el bucket de acumulados informacion a priori acerca del numero de vias escaladas en España por los escaladores. En este caso, esa información la he construido en la creación del bucket anteriormente"
   ]
  },
  {
   "cell_type": "code",
   "execution_count": 31,
   "metadata": {
    "collapsed": false
   },
   "outputs": [],
   "source": [
    "#del data frame de ascensos acumulados me quedo solo con los escaladores que tienen ascensos en españa\n",
    "df = df_bucket_ascensos_acumulados[df_bucket_ascensos_acumulados['numero_ascensos_esp']>0]\n",
    "df['id_dificultad_media_esp'] = (df['suma_dificultades_esp']/df['numero_ascensos_esp']).round().astype(int);\n",
    "\n",
    "df['grado_medio_esp']=df['id_dificultad_media_esp'].map(df_bucket_dificultades['grado_frances']);\n",
    "\n",
    "df['grado_maximo_esp']=df['id_dificultad_max_esp'].map(df_bucket_dificultades['grado_frances']);\n",
    "\n",
    "#ordeno el data frame del bucket de acumulados por numero de ascensos y por nombre\n",
    "df = df.sort_values(['numero_ascensos_esp', 'id_escalador'], ascending=[False, True]);\n"
   ]
  },
  {
   "cell_type": "code",
   "execution_count": 32,
   "metadata": {
    "collapsed": false
   },
   "outputs": [
    {
     "data": {
      "text/html": [
       "<div>\n",
       "<style>\n",
       "    .dataframe thead tr:only-child th {\n",
       "        text-align: right;\n",
       "    }\n",
       "\n",
       "    .dataframe thead th {\n",
       "        text-align: left;\n",
       "    }\n",
       "\n",
       "    .dataframe tbody tr th {\n",
       "        vertical-align: top;\n",
       "    }\n",
       "</style>\n",
       "<table border=\"1\" class=\"dataframe\">\n",
       "  <thead>\n",
       "    <tr style=\"text-align: right;\">\n",
       "      <th></th>\n",
       "      <th>nombre</th>\n",
       "      <th>pais</th>\n",
       "      <th>numero_ascensos_esp</th>\n",
       "      <th>grado_medio_esp</th>\n",
       "      <th>grado_maximo_esp</th>\n",
       "    </tr>\n",
       "  </thead>\n",
       "  <tbody>\n",
       "    <tr>\n",
       "      <th>1162</th>\n",
       "      <td>Nuno Henriques</td>\n",
       "      <td>PRT</td>\n",
       "      <td>14</td>\n",
       "      <td>6a+</td>\n",
       "      <td>6a+</td>\n",
       "    </tr>\n",
       "    <tr>\n",
       "      <th>2712</th>\n",
       "      <td>Grzegorz \"Buła\" Golowczyk</td>\n",
       "      <td>POL</td>\n",
       "      <td>9</td>\n",
       "      <td>7b+</td>\n",
       "      <td>8b+</td>\n",
       "    </tr>\n",
       "    <tr>\n",
       "      <th>1973</th>\n",
       "      <td>philipp kieffer</td>\n",
       "      <td>DEU</td>\n",
       "      <td>7</td>\n",
       "      <td>6c+/7a</td>\n",
       "      <td>6c</td>\n",
       "    </tr>\n",
       "    <tr>\n",
       "      <th>4191</th>\n",
       "      <td>Wojtek Pełka</td>\n",
       "      <td>POL</td>\n",
       "      <td>7</td>\n",
       "      <td>7c+/8a</td>\n",
       "      <td>8a</td>\n",
       "    </tr>\n",
       "    <tr>\n",
       "      <th>1411</th>\n",
       "      <td>Gonçalo \"Gongas\" Coutinho</td>\n",
       "      <td>PRT</td>\n",
       "      <td>6</td>\n",
       "      <td>5</td>\n",
       "      <td>4a</td>\n",
       "    </tr>\n",
       "    <tr>\n",
       "      <th>1078</th>\n",
       "      <td>Tieme van Veen</td>\n",
       "      <td>NLD</td>\n",
       "      <td>6</td>\n",
       "      <td>6c+/7a</td>\n",
       "      <td>8a</td>\n",
       "    </tr>\n",
       "    <tr>\n",
       "      <th>4293</th>\n",
       "      <td>Kuba Pe</td>\n",
       "      <td>POL</td>\n",
       "      <td>6</td>\n",
       "      <td>7a</td>\n",
       "      <td>6c</td>\n",
       "    </tr>\n",
       "    <tr>\n",
       "      <th>3820</th>\n",
       "      <td>Gabriel Korbiel</td>\n",
       "      <td>POL</td>\n",
       "      <td>6</td>\n",
       "      <td>7a+/7b</td>\n",
       "      <td>7a+</td>\n",
       "    </tr>\n",
       "    <tr>\n",
       "      <th>3278</th>\n",
       "      <td>Amber Thornton</td>\n",
       "      <td>GBR</td>\n",
       "      <td>6</td>\n",
       "      <td>5c</td>\n",
       "      <td>6c</td>\n",
       "    </tr>\n",
       "    <tr>\n",
       "      <th>3561</th>\n",
       "      <td>Benjamin Thomas</td>\n",
       "      <td>FRA</td>\n",
       "      <td>6</td>\n",
       "      <td>7a</td>\n",
       "      <td>7c+</td>\n",
       "    </tr>\n",
       "  </tbody>\n",
       "</table>\n",
       "</div>"
      ],
      "text/plain": [
       "                         nombre pais  numero_ascensos_esp grado_medio_esp  \\\n",
       "1162             Nuno Henriques  PRT                   14             6a+   \n",
       "2712  Grzegorz \"Buła\" Golowczyk  POL                    9             7b+   \n",
       "1973            philipp kieffer  DEU                    7          6c+/7a   \n",
       "4191               Wojtek Pełka  POL                    7          7c+/8a   \n",
       "1411  Gonçalo \"Gongas\" Coutinho  PRT                    6               5   \n",
       "1078             Tieme van Veen  NLD                    6          6c+/7a   \n",
       "4293                    Kuba Pe  POL                    6              7a   \n",
       "3820            Gabriel Korbiel  POL                    6          7a+/7b   \n",
       "3278             Amber Thornton  GBR                    6              5c   \n",
       "3561            Benjamin Thomas  FRA                    6              7a   \n",
       "\n",
       "     grado_maximo_esp  \n",
       "1162              6a+  \n",
       "2712              8b+  \n",
       "1973               6c  \n",
       "4191               8a  \n",
       "1411               4a  \n",
       "1078               8a  \n",
       "4293               6c  \n",
       "3820              7a+  \n",
       "3278               6c  \n",
       "3561              7c+  "
      ]
     },
     "execution_count": 32,
     "metadata": {},
     "output_type": "execute_result"
    }
   ],
   "source": [
    "columnas = ['nombre', 'pais', 'numero_ascensos_esp', 'grado_medio_esp', 'grado_maximo_esp']\n",
    "df_NO_ESP = df[df['pais']!='ESP'];\n",
    "df_NO_ESP[columnas].head(10)"
   ]
  },
  {
   "cell_type": "markdown",
   "metadata": {},
   "source": [
    "### 5.b) Grado medio y maximo de los ascensos en España de los 10 escaladores ESPAÑOLES con mas ascensos en España"
   ]
  },
  {
   "cell_type": "code",
   "execution_count": 33,
   "metadata": {
    "collapsed": false
   },
   "outputs": [
    {
     "data": {
      "text/html": [
       "<div>\n",
       "<style>\n",
       "    .dataframe thead tr:only-child th {\n",
       "        text-align: right;\n",
       "    }\n",
       "\n",
       "    .dataframe thead th {\n",
       "        text-align: left;\n",
       "    }\n",
       "\n",
       "    .dataframe tbody tr th {\n",
       "        vertical-align: top;\n",
       "    }\n",
       "</style>\n",
       "<table border=\"1\" class=\"dataframe\">\n",
       "  <thead>\n",
       "    <tr style=\"text-align: right;\">\n",
       "      <th></th>\n",
       "      <th>nombre</th>\n",
       "      <th>pais</th>\n",
       "      <th>numero_ascensos_esp</th>\n",
       "      <th>grado_medio_esp</th>\n",
       "      <th>grado_maximo_esp</th>\n",
       "    </tr>\n",
       "  </thead>\n",
       "  <tbody>\n",
       "    <tr>\n",
       "      <th>1636</th>\n",
       "      <td>Raúl Crespo</td>\n",
       "      <td>ESP</td>\n",
       "      <td>18</td>\n",
       "      <td>6a+/6b</td>\n",
       "      <td>7a+</td>\n",
       "    </tr>\n",
       "    <tr>\n",
       "      <th>4377</th>\n",
       "      <td>Chaken Gómez conde</td>\n",
       "      <td>ESP</td>\n",
       "      <td>16</td>\n",
       "      <td>7c+</td>\n",
       "      <td>8a+</td>\n",
       "    </tr>\n",
       "    <tr>\n",
       "      <th>320</th>\n",
       "      <td>Adrian Alameda</td>\n",
       "      <td>ESP</td>\n",
       "      <td>14</td>\n",
       "      <td>6c+</td>\n",
       "      <td>8a+</td>\n",
       "    </tr>\n",
       "    <tr>\n",
       "      <th>3282</th>\n",
       "      <td>Alex Garriga</td>\n",
       "      <td>ESP</td>\n",
       "      <td>13</td>\n",
       "      <td>7b+/7c</td>\n",
       "      <td>8a+</td>\n",
       "    </tr>\n",
       "    <tr>\n",
       "      <th>262</th>\n",
       "      <td>Xavier Gatell Romero</td>\n",
       "      <td>ESP</td>\n",
       "      <td>12</td>\n",
       "      <td>7b+</td>\n",
       "      <td>8a</td>\n",
       "    </tr>\n",
       "    <tr>\n",
       "      <th>2874</th>\n",
       "      <td>jose luis palao</td>\n",
       "      <td>ESP</td>\n",
       "      <td>12</td>\n",
       "      <td>8a+</td>\n",
       "      <td>8b+</td>\n",
       "    </tr>\n",
       "    <tr>\n",
       "      <th>239</th>\n",
       "      <td>Jose Agustí</td>\n",
       "      <td>ESP</td>\n",
       "      <td>10</td>\n",
       "      <td>7c+</td>\n",
       "      <td>8a</td>\n",
       "    </tr>\n",
       "    <tr>\n",
       "      <th>1315</th>\n",
       "      <td>Gonzalo Larrocha</td>\n",
       "      <td>ESP</td>\n",
       "      <td>10</td>\n",
       "      <td>8a+/8b</td>\n",
       "      <td>8b+</td>\n",
       "    </tr>\n",
       "    <tr>\n",
       "      <th>2387</th>\n",
       "      <td>Tomata Tomata</td>\n",
       "      <td>ESP</td>\n",
       "      <td>10</td>\n",
       "      <td>6c+</td>\n",
       "      <td>7a+</td>\n",
       "    </tr>\n",
       "    <tr>\n",
       "      <th>1571</th>\n",
       "      <td>luis rodriguez martin</td>\n",
       "      <td>ESP</td>\n",
       "      <td>10</td>\n",
       "      <td>8a/+</td>\n",
       "      <td>8b+</td>\n",
       "    </tr>\n",
       "  </tbody>\n",
       "</table>\n",
       "</div>"
      ],
      "text/plain": [
       "                     nombre pais  numero_ascensos_esp grado_medio_esp  \\\n",
       "1636            Raúl Crespo  ESP                   18          6a+/6b   \n",
       "4377     Chaken Gómez conde  ESP                   16             7c+   \n",
       "320          Adrian Alameda  ESP                   14             6c+   \n",
       "3282           Alex Garriga  ESP                   13          7b+/7c   \n",
       "262    Xavier Gatell Romero  ESP                   12             7b+   \n",
       "2874        jose luis palao  ESP                   12             8a+   \n",
       "239             Jose Agustí  ESP                   10             7c+   \n",
       "1315       Gonzalo Larrocha  ESP                   10          8a+/8b   \n",
       "2387          Tomata Tomata  ESP                   10             6c+   \n",
       "1571  luis rodriguez martin  ESP                   10            8a/+   \n",
       "\n",
       "     grado_maximo_esp  \n",
       "1636              7a+  \n",
       "4377              8a+  \n",
       "320               8a+  \n",
       "3282              8a+  \n",
       "262                8a  \n",
       "2874              8b+  \n",
       "239                8a  \n",
       "1315              8b+  \n",
       "2387              7a+  \n",
       "1571              8b+  "
      ]
     },
     "execution_count": 33,
     "metadata": {},
     "output_type": "execute_result"
    }
   ],
   "source": [
    "columnas = ['nombre', 'pais', 'numero_ascensos_esp', 'grado_medio_esp', 'grado_maximo_esp']\n",
    "df_ESP = df[df['pais']=='ESP'];\n",
    "df_ESP[columnas].head(10)"
   ]
  },
  {
   "cell_type": "markdown",
   "metadata": {},
   "source": [
    "### 6.a) Dificultad media y maxima de los ascensos NO \"Top Rope\" de los escaladores con menos de 3 años de experiencia"
   ]
  },
  {
   "cell_type": "markdown",
   "metadata": {},
   "source": [
    "### 6.b) Dificultad media y maxima de los ascensos NO \"Top Rope\" de los escaladores con entre 10 y 30 años de experiencia"
   ]
  },
  {
   "cell_type": "markdown",
   "metadata": {},
   "source": [
    "Estas dos preguntas **no se pueden responder de manera directa con la base de datos RIAK**. Requiere procesamiento, ya sea previo a la hora de introducir la información en la base de datos, ya sea a la hora de llevar información a la base de datos como después de su obtención.\n",
    "\n",
    "Una **posible solución alternativa a trabajar intensivamente en el lado de python con el Data Frame de todos los datos de ascensos** podría ser:\n",
    "\n",
    "- Plantear dos nuevos buckets tipo mapa con acumuladores, uno para los escaladores de menos de 3 años y otro para los escaladores de entre 10 y 30 años de experiencia.\n",
    "\n",
    "- En cada bucket tener por cada escalador, registros de su información y acumuladores que permitan llevar el total de ascensos no TopRope asi como la suma de las dificultades de estos ascensos.\n",
    "\n",
    "- Rellenariamos esos buckets recorriendo el DataFrame como hemos hecho anteriormente.\n",
    "\n",
    "- Con esos dos nuevos buckets hariamos un proceso similar al realizado en las anteriores preguntas:\n",
    "    - Leeriamos el contenido del bucket llevandolo a un pandas\n",
    "    - Calculariamos las medias con los valores acumulados de los buckets\n",
    "    - Ordenariamos y filtrariamos en base a los requerimientos de la pregunta.\n",
    "\n"
   ]
  },
  {
   "cell_type": "markdown",
   "metadata": {},
   "source": [
    "### 7. Los 10 riscos españoles (o zonas) con mas ascensos por orden decreciente de numero de ascensos"
   ]
  },
  {
   "cell_type": "markdown",
   "metadata": {},
   "source": [
    "Utilizando el data frame obtenido del bucket de riscos_acumulados:"
   ]
  },
  {
   "cell_type": "code",
   "execution_count": 34,
   "metadata": {
    "collapsed": false
   },
   "outputs": [
    {
     "data": {
      "text/html": [
       "<div>\n",
       "<style>\n",
       "    .dataframe thead tr:only-child th {\n",
       "        text-align: right;\n",
       "    }\n",
       "\n",
       "    .dataframe thead th {\n",
       "        text-align: left;\n",
       "    }\n",
       "\n",
       "    .dataframe tbody tr th {\n",
       "        vertical-align: top;\n",
       "    }\n",
       "</style>\n",
       "<table border=\"1\" class=\"dataframe\">\n",
       "  <thead>\n",
       "    <tr style=\"text-align: right;\">\n",
       "      <th></th>\n",
       "      <th>risco</th>\n",
       "      <th>numero_ascensos</th>\n",
       "    </tr>\n",
       "  </thead>\n",
       "  <tbody>\n",
       "    <tr>\n",
       "      <th>1243</th>\n",
       "      <td>MARGALEF</td>\n",
       "      <td>194</td>\n",
       "    </tr>\n",
       "    <tr>\n",
       "      <th>1184</th>\n",
       "      <td>CUENCA</td>\n",
       "      <td>148</td>\n",
       "    </tr>\n",
       "    <tr>\n",
       "      <th>1573</th>\n",
       "      <td>SIURANA</td>\n",
       "      <td>147</td>\n",
       "    </tr>\n",
       "    <tr>\n",
       "      <th>448</th>\n",
       "      <td>ALBARRACíN</td>\n",
       "      <td>137</td>\n",
       "    </tr>\n",
       "    <tr>\n",
       "      <th>1851</th>\n",
       "      <td>RODELLAR</td>\n",
       "      <td>136</td>\n",
       "    </tr>\n",
       "    <tr>\n",
       "      <th>323</th>\n",
       "      <td>CHULILLA</td>\n",
       "      <td>134</td>\n",
       "    </tr>\n",
       "    <tr>\n",
       "      <th>63</th>\n",
       "      <td>MALLORCA</td>\n",
       "      <td>63</td>\n",
       "    </tr>\n",
       "    <tr>\n",
       "      <th>1315</th>\n",
       "      <td>LA PEDRIZA</td>\n",
       "      <td>61</td>\n",
       "    </tr>\n",
       "    <tr>\n",
       "      <th>340</th>\n",
       "      <td>MONTSERRAT</td>\n",
       "      <td>58</td>\n",
       "    </tr>\n",
       "    <tr>\n",
       "      <th>459</th>\n",
       "      <td>EL CHORRO</td>\n",
       "      <td>44</td>\n",
       "    </tr>\n",
       "  </tbody>\n",
       "</table>\n",
       "</div>"
      ],
      "text/plain": [
       "           risco  numero_ascensos\n",
       "1243    MARGALEF              194\n",
       "1184      CUENCA              148\n",
       "1573     SIURANA              147\n",
       "448   ALBARRACíN              137\n",
       "1851    RODELLAR              136\n",
       "323     CHULILLA              134\n",
       "63      MALLORCA               63\n",
       "1315  LA PEDRIZA               61\n",
       "340   MONTSERRAT               58\n",
       "459    EL CHORRO               44"
      ]
     },
     "execution_count": 34,
     "metadata": {},
     "output_type": "execute_result"
    }
   ],
   "source": [
    "df_bucket_riscos_acumulados = df_bucket_riscos_acumulados.sort_values(['numero_ascensos', 'risco'], ascending=[False,True])\n",
    "\n",
    "df_riscos_esp = df_bucket_riscos_acumulados[df_bucket_riscos_acumulados['pais']=='ESP'];\n",
    "\n",
    "columnas = ['risco', 'numero_ascensos']\n",
    "df_riscos_esp.head(10)[columnas]"
   ]
  },
  {
   "cell_type": "markdown",
   "metadata": {},
   "source": [
    "### 8.a) Los 10 sectores españoles con mayor nivel de difcultad media de ascensos ordenadas por orden decreciente de dificultad y por numero de ascensos decreciente\n",
    "\n",
    "Con el data frame obtenido del bucket de riscos acumulados podemos construir esta informacion media que se solicita. El procesamiento de construccion de la media, seleccion y filtrado se debe hacer fuera ya que no es funcionalidad que de la base de datos:"
   ]
  },
  {
   "cell_type": "code",
   "execution_count": 35,
   "metadata": {
    "collapsed": false
   },
   "outputs": [],
   "source": [
    "df_riscos_esp['id_dificultad_media'] = (df_riscos_esp['suma_dificultades']/df_riscos_esp['numero_ascensos']).round().astype(int);\n",
    "df_riscos_esp['dificultad_media']=df_riscos_esp['id_dificultad_media'].map(df_bucket_dificultades['grado_frances']);\n",
    "#df_riscos_esp.head()"
   ]
  },
  {
   "cell_type": "code",
   "execution_count": 36,
   "metadata": {
    "collapsed": false
   },
   "outputs": [
    {
     "data": {
      "text/html": [
       "<div>\n",
       "<style>\n",
       "    .dataframe thead tr:only-child th {\n",
       "        text-align: right;\n",
       "    }\n",
       "\n",
       "    .dataframe thead th {\n",
       "        text-align: left;\n",
       "    }\n",
       "\n",
       "    .dataframe tbody tr th {\n",
       "        vertical-align: top;\n",
       "    }\n",
       "</style>\n",
       "<table border=\"1\" class=\"dataframe\">\n",
       "  <thead>\n",
       "    <tr style=\"text-align: right;\">\n",
       "      <th></th>\n",
       "      <th>risco</th>\n",
       "      <th>id_dificultad_media</th>\n",
       "      <th>dificultad_media</th>\n",
       "      <th>numero_ascensos</th>\n",
       "    </tr>\n",
       "  </thead>\n",
       "  <tbody>\n",
       "    <tr>\n",
       "      <th>1726</th>\n",
       "      <td>LA COVA DE L'OCELL</td>\n",
       "      <td>70</td>\n",
       "      <td>8c</td>\n",
       "      <td>2</td>\n",
       "    </tr>\n",
       "    <tr>\n",
       "      <th>1564</th>\n",
       "      <td>POLORIA</td>\n",
       "      <td>66</td>\n",
       "      <td>8b</td>\n",
       "      <td>2</td>\n",
       "    </tr>\n",
       "    <tr>\n",
       "      <th>1516</th>\n",
       "      <td>FIGOLS</td>\n",
       "      <td>66</td>\n",
       "      <td>8b</td>\n",
       "      <td>1</td>\n",
       "    </tr>\n",
       "    <tr>\n",
       "      <th>967</th>\n",
       "      <td>ORIHUELA</td>\n",
       "      <td>65</td>\n",
       "      <td>8a+/8b</td>\n",
       "      <td>2</td>\n",
       "    </tr>\n",
       "    <tr>\n",
       "      <th>1123</th>\n",
       "      <td>SANTA LINYA</td>\n",
       "      <td>64</td>\n",
       "      <td>8a+</td>\n",
       "      <td>18</td>\n",
       "    </tr>\n",
       "    <tr>\n",
       "      <th>1375</th>\n",
       "      <td>OLIANA</td>\n",
       "      <td>64</td>\n",
       "      <td>8a+</td>\n",
       "      <td>14</td>\n",
       "    </tr>\n",
       "    <tr>\n",
       "      <th>536</th>\n",
       "      <td>FORADA</td>\n",
       "      <td>64</td>\n",
       "      <td>8a+</td>\n",
       "      <td>3</td>\n",
       "    </tr>\n",
       "    <tr>\n",
       "      <th>1794</th>\n",
       "      <td>LA MUELA</td>\n",
       "      <td>64</td>\n",
       "      <td>8a+</td>\n",
       "      <td>2</td>\n",
       "    </tr>\n",
       "    <tr>\n",
       "      <th>1739</th>\n",
       "      <td>BALTZOLA</td>\n",
       "      <td>64</td>\n",
       "      <td>8a+</td>\n",
       "      <td>1</td>\n",
       "    </tr>\n",
       "    <tr>\n",
       "      <th>300</th>\n",
       "      <td>CACIN</td>\n",
       "      <td>64</td>\n",
       "      <td>8a+</td>\n",
       "      <td>1</td>\n",
       "    </tr>\n",
       "  </tbody>\n",
       "</table>\n",
       "</div>"
      ],
      "text/plain": [
       "                   risco  id_dificultad_media dificultad_media  \\\n",
       "1726  LA COVA DE L'OCELL                   70               8c   \n",
       "1564             POLORIA                   66               8b   \n",
       "1516              FIGOLS                   66               8b   \n",
       "967             ORIHUELA                   65           8a+/8b   \n",
       "1123         SANTA LINYA                   64              8a+   \n",
       "1375              OLIANA                   64              8a+   \n",
       "536               FORADA                   64              8a+   \n",
       "1794            LA MUELA                   64              8a+   \n",
       "1739            BALTZOLA                   64              8a+   \n",
       "300                CACIN                   64              8a+   \n",
       "\n",
       "      numero_ascensos  \n",
       "1726                2  \n",
       "1564                2  \n",
       "1516                1  \n",
       "967                 2  \n",
       "1123               18  \n",
       "1375               14  \n",
       "536                 3  \n",
       "1794                2  \n",
       "1739                1  \n",
       "300                 1  "
      ]
     },
     "execution_count": 36,
     "metadata": {},
     "output_type": "execute_result"
    }
   ],
   "source": [
    "columnas = ['risco', 'id_dificultad_media', 'dificultad_media', 'numero_ascensos']\n",
    "df_riscos_esp.sort_values(['id_dificultad_media', 'numero_ascensos', 'risco'], ascending=[False, False, True]).head(10)[columnas]"
   ]
  },
  {
   "cell_type": "markdown",
   "metadata": {},
   "source": [
    "### 8.b) Las 10 sectores españoles con menor nivel de dificultad medio de ascensos ordenadas por orden creciente de dificultad y por numero de ascensos decreciente"
   ]
  },
  {
   "cell_type": "code",
   "execution_count": 37,
   "metadata": {
    "collapsed": false
   },
   "outputs": [
    {
     "data": {
      "text/html": [
       "<div>\n",
       "<style>\n",
       "    .dataframe thead tr:only-child th {\n",
       "        text-align: right;\n",
       "    }\n",
       "\n",
       "    .dataframe thead th {\n",
       "        text-align: left;\n",
       "    }\n",
       "\n",
       "    .dataframe tbody tr th {\n",
       "        vertical-align: top;\n",
       "    }\n",
       "</style>\n",
       "<table border=\"1\" class=\"dataframe\">\n",
       "  <thead>\n",
       "    <tr style=\"text-align: right;\">\n",
       "      <th></th>\n",
       "      <th>risco</th>\n",
       "      <th>id_dificultad_media</th>\n",
       "      <th>dificultad_media</th>\n",
       "      <th>numero_ascensos</th>\n",
       "    </tr>\n",
       "  </thead>\n",
       "  <tbody>\n",
       "    <tr>\n",
       "      <th>379</th>\n",
       "      <td>PORTOMARIN</td>\n",
       "      <td>21</td>\n",
       "      <td>4a</td>\n",
       "      <td>2</td>\n",
       "    </tr>\n",
       "    <tr>\n",
       "      <th>1747</th>\n",
       "      <td>MONT-RAL</td>\n",
       "      <td>25</td>\n",
       "      <td>4c</td>\n",
       "      <td>1</td>\n",
       "    </tr>\n",
       "    <tr>\n",
       "      <th>1529</th>\n",
       "      <td>OTO</td>\n",
       "      <td>25</td>\n",
       "      <td>4c</td>\n",
       "      <td>1</td>\n",
       "    </tr>\n",
       "    <tr>\n",
       "      <th>671</th>\n",
       "      <td>PUERTO ROQUE</td>\n",
       "      <td>26</td>\n",
       "      <td>4c+</td>\n",
       "      <td>3</td>\n",
       "    </tr>\n",
       "    <tr>\n",
       "      <th>352</th>\n",
       "      <td>PUEBLA DE GUZMAN</td>\n",
       "      <td>27</td>\n",
       "      <td>4+</td>\n",
       "      <td>5</td>\n",
       "    </tr>\n",
       "    <tr>\n",
       "      <th>325</th>\n",
       "      <td>BALNEARIO DE PANTICOSA</td>\n",
       "      <td>27</td>\n",
       "      <td>4+</td>\n",
       "      <td>2</td>\n",
       "    </tr>\n",
       "    <tr>\n",
       "      <th>552</th>\n",
       "      <td>SAVASSONA</td>\n",
       "      <td>28</td>\n",
       "      <td>5</td>\n",
       "      <td>2</td>\n",
       "    </tr>\n",
       "    <tr>\n",
       "      <th>1766</th>\n",
       "      <td>LA DEHESA DE LA OLIVA</td>\n",
       "      <td>29</td>\n",
       "      <td>5a</td>\n",
       "      <td>1</td>\n",
       "    </tr>\n",
       "    <tr>\n",
       "      <th>1927</th>\n",
       "      <td>LA PUENTE</td>\n",
       "      <td>29</td>\n",
       "      <td>5a</td>\n",
       "      <td>1</td>\n",
       "    </tr>\n",
       "    <tr>\n",
       "      <th>678</th>\n",
       "      <td>MALLORKA</td>\n",
       "      <td>29</td>\n",
       "      <td>5a</td>\n",
       "      <td>1</td>\n",
       "    </tr>\n",
       "  </tbody>\n",
       "</table>\n",
       "</div>"
      ],
      "text/plain": [
       "                       risco  id_dificultad_media dificultad_media  \\\n",
       "379               PORTOMARIN                   21               4a   \n",
       "1747                MONT-RAL                   25               4c   \n",
       "1529                     OTO                   25               4c   \n",
       "671             PUERTO ROQUE                   26              4c+   \n",
       "352         PUEBLA DE GUZMAN                   27               4+   \n",
       "325   BALNEARIO DE PANTICOSA                   27               4+   \n",
       "552                SAVASSONA                   28                5   \n",
       "1766   LA DEHESA DE LA OLIVA                   29               5a   \n",
       "1927               LA PUENTE                   29               5a   \n",
       "678                 MALLORKA                   29               5a   \n",
       "\n",
       "      numero_ascensos  \n",
       "379                 2  \n",
       "1747                1  \n",
       "1529                1  \n",
       "671                 3  \n",
       "352                 5  \n",
       "325                 2  \n",
       "552                 2  \n",
       "1766                1  \n",
       "1927                1  \n",
       "678                 1  "
      ]
     },
     "execution_count": 37,
     "metadata": {},
     "output_type": "execute_result"
    }
   ],
   "source": [
    "df_riscos_esp.sort_values(['id_dificultad_media', 'numero_ascensos', 'risco'], ascending=[True, False, True]).head(10)[columnas]"
   ]
  }
 ],
 "metadata": {
  "kernelspec": {
   "display_name": "Python 2",
   "language": "python",
   "name": "python2"
  },
  "language_info": {
   "codemirror_mode": {
    "name": "ipython",
    "version": 2
   },
   "file_extension": ".py",
   "mimetype": "text/x-python",
   "name": "python",
   "nbconvert_exporter": "python",
   "pygments_lexer": "ipython2",
   "version": "2.7.6"
  }
 },
 "nbformat": 4,
 "nbformat_minor": 0
}
