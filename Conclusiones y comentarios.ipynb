{
 "cells": [
  {
   "cell_type": "markdown",
   "metadata": {},
   "source": [
    "# Conclusiones sobre la práctica\n",
    "\n",
    "## Comentarios a cada una de las bases de datos\n",
    "\n",
    "### Riak\n",
    "\n",
    "Esta base de datos me ha parecido muy limitada en cuanto a funcionalidad que el caso de requiere. Particularmente, las preguntas que se hacen son muy variadas y requieren ordenaciones, agrupaciones y agregaciones que se deben hacer fuera. Esto, en una base de datos mediana (como en la que se basa el caso de uso elegido) ya supone un problema, ya que hay una descarga de información muy grande.\n",
    "\n",
    "Creo que no se adapta a este caso de uso, sin embargo me parece muy interesante para almacenamientos de información en sistemas de monitorización de variables o similares. Por otro lado, la potencia de guardar cualquier cosa como valor, quizá lo haga interesante para ingestar información procesada binaria.\n",
    "\n",
    "Respecto al resto, claramente es la que menos funcionalidad ofrece, y, apesar de ofrecer cosas como los buckets de acumulación y los mapas, requiere más programación en python para responder a las preguntas. De hecho para la pregunta 6 la unica manera que se me ocurria de resolverla requería la creación de tablas tan especificas que tenían una validez dudosa en si mismas, ya que eran tablas años de experiencia, que habria que cambiar anualmente.\n",
    "\n",
    "### Cassandra\n",
    "\n",
    "Esta base de datos, pese a ser la que más me ha costado, es, sin duda una de las que me ha parecido más interesantes, y también de las que mas me ha hecho leer (tanto informacion de DataStax como de otras fuentes). Me parece que es una base de datos muy potente, muy bien pensada ya que la desnormalización y duplicación de la información no supone un problema ya se parte de la base de que se tiene que hacer:\n",
    "\n",
    "https://www.datastax.com/dev/blog/basic-rules-of-cassandra-data-modeling\n",
    "\n",
    "Creo que me parece una base de datos muy pontente porque ofrece funcionalidad interesante (yo me esperaba menos funcionalidad). Por contra, hay que tener mucho cuidado como se modela y orientar bien el modelo a la arquitectura que subyace. Hay que estar pendiente de qué partition keys se crean y qué balanceo de carga supone para los nodos, ya que si se elige mal, algunos nodos del anillo del cluster de cassandra pueden sobrecargarse mientras que otros no tiene casi carga.\n",
    "\n",
    "Es evidente que tiene mucha mas funcionalidad que RIAK, ya que no he tenido que hacer una descarga de una tabla completa susceptible de ser larga para resolver niguna de las preguntas (la de dificultadas no la cuento ya que es por definición una tabla pequeña). Es importante elegir bien las particiones, ya que su eficiencia se puede poner en entre dicho pero las vistas materializadas facilitan mucho la labor. Respecto a Mongo o a Neo está más limitada, y aunque se puede responder a casi todo, hay que recurrir a esas tablas de acumulación o vistas materializadas con frecuencia, hasta incluso llegar a la necesidad de hacer tablas con mucha informaciñon duplicada que hay que mantener de manera externa.\n",
    "\n",
    "Me ha parecido muy interesante y muy potente el concepto de vista materializada, como tabla real que se mantiene automaticamente por la base de datos en función de aquella sobre la que se monta. De hecho, esa funcionalidad me ha venido muy bien para resolver preguntas que, pese a basarse en información de la tabla de ascensos requerian un clave primara de acceso y/o una ordenación diferente a la que se habia configurado en la tabla original.\n",
    "\n",
    "En cuanto a su adaptación al caso de uso, no creo que sea muy adecuada, sobre todo dada la gran cantidad de preguntas planteadas y su heterogeneidad. Sin embargo, cada vez estoy más convencido de que es una base de datos que puede ser muy potente en temas de monitorización e historico de redes de sensores e IoT. Incluso en un caso de uso como el de twiter no me parece descabellado el uso de una base de datos como cassandra, aunque otras como monmgo quizá sean mejor opción.\n",
    "\n",
    "\n",
    "### MongoDB\n",
    "\n",
    "Esta base de datos me ha parecido quizá la más interesante para un caso de uso como el que he planteado, que basicamente es un caso de uso de una red social de escaladodes. Claramente se nota que está desarrollada en java-script ya que hasta en python parece que estás inyectando objetos java-script (si es que no lo estamos haciendo realmente). La unica funcionalidad de la que adolece es del Join de coleciones, pero para mi caso de uso no era muy necesario, y se podia resolver con un mapping de la tabla de dificultades nada costoso en código python. \n",
    "\n",
    "Me ha parecido muy interesante el concepto de Pipe de acciones en las funcioens de agregación, que permite definir un flujo de transformación de la información para poder realizar agregaciones y agrupaciones de información. Es una funcionalidad muy versatil.\n",
    "\n",
    "Aunque Cassandra me haya resultado más interesante, quizá por las aplicaciones en las que trabajo dia a dia, esta me parece tambien una base de datos muy interesante debido a su gran flexibilidad en cuanto a la hora de establecer un modelo de datos, sin necesidad de hacer una desnormalización muy grande de la información. La opcion de arrays de objetos embebidos es una opcion muy potente que permite manejar moldelos de datos compuestos muy complejos, con relativa facilidad y sin necesidad de mucha repetición de información.\n",
    "\n",
    "\n",
    "Respecto al Riak y Cassandra, claramente se adapta mejor a este caso de uso, ya que con poco esfuerzo se pueden resolver todas la preguntas. Pocas cosas hay que resolver fuera de la funcionalidad de la base de datos.\n",
    "\n",
    "\n",
    "### neo4j\n",
    "\n",
    "Sin duda alguna la base de datos más funcional de todas, se adapta casi tanto como una SQL a casi cualquier modelo, y en particular al caso de uso que he elegido. Sin embargo, siendo una base de datos tan potente en la obtencion de relaciones entre nodos  de cualquier tipo dentro de un modelo complejo, me parece que no se saca todo el potencial para lo planteado. \n",
    "\n",
    "Me parece una base de datos muy intenresante para analisis de redes sociales. Pero respecto a las anteriores, veo el principal punto a tener en cuenta es que es una BBDD no distribuida y el analisis de la infroamción no es distrible.\n",
    "\n",
    "## Comentarios generales de la practica\n",
    "\n",
    "La verdad es que en esta practica se aprende mucho ya que es una práctica de \"mancharse las manos\" y trabajar con los conceptos que cada una de las bases de datos utiliza. Me parece una práctica dura, en el sentido de que es fácil caer en problemas cuya resolución se llevan mucho tiempo de indagación, y muchas veces son problemas en los propios datos. Es llamativo que cada base de datos es más o menos susceptible a diferentes puntos de limpieza de la base de datos. Cosas que para la funcionalidad de algunas bases de datos no es un problema, en otras te pueden llegar a poner en serios aprietos. \n",
    "\n",
    "Si se quiere profundizar (lo cual ha sido mi caso) es una buena práctica, pero hay que dedicarle mucho tiempo. Por ello me parece muy buena idea dar dos opciones de complejidad: una en la que el caso de uso se da plateado, y otro en el que no.\n",
    "\n",
    "Por otro lado, me he dado cuenta de cuan dificil es encontrar un caso de uso con un nivel de complejidad razonable: ni con un modelo muy complicado ni con un modelo excesivamente sencillo. Y por otro lado, se añade la dificultad de encontrar datos razonablemente preconstruidos. En mi caso, era una base de datos sqlite, y a pesar de ello, he tenido que realizar un labor de limpieza, filtrado y diezmado que me ha llevado muchas horas de tiempo a algo que no creo que fuera el objetivo de la práctica.\n",
    "\n",
    "En resumen, creo que es una práctica con un nivel de exigencia alto, del cual se saca mucho partido desde el punto de vista didáctico. Creo que, dependiendo del tipo de perfil de la persoana que realiza la práctica, esa complejidad puede un problema serio y se puede interpretar negativamente el objetivo de la misma, ya que con mucha facilidad se puede caer en problemas que requieren profundizar en temas transversales a la propia base de datos.\n",
    "\n"
   ]
  }
 ],
 "metadata": {
  "kernelspec": {
   "display_name": "Python 2",
   "language": "python",
   "name": "python2"
  },
  "language_info": {
   "codemirror_mode": {
    "name": "ipython",
    "version": 2
   },
   "file_extension": ".py",
   "mimetype": "text/x-python",
   "name": "python",
   "nbconvert_exporter": "python",
   "pygments_lexer": "ipython2",
   "version": "2.7.6"
  }
 },
 "nbformat": 4,
 "nbformat_minor": 0
}
